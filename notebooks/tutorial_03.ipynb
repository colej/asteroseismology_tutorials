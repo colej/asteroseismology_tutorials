{
 "cells": [
  {
   "cell_type": "markdown",
   "id": "18312695",
   "metadata": {},
   "source": [
    "## Iterative pre-whitening examples\n",
    "### KIC 7760680\n",
    "\n",
    "In this notebook, we'll run the full Iterative pre-whitening (IPW) analysis of the Slowly Puslating B-type stars KIC 7760680 and then do some asteroseismolog with the results.\n",
    "\n",
    "We'll just load up the data, and start the IPW, using a running window of $2~{\\rm d^{-1}}$, and we'll extract the frequencies in order of highest SNR.\n",
    "\n",
    "For this notebook, you'll need to download: [kic7760680_lc.dat](https://iacerasmus.github.io/ERASMUS2022/data/kic7760680_lc.dat)"
   ]
  },
  {
   "cell_type": "code",
   "execution_count": 1,
   "id": "f98ba9c8",
   "metadata": {},
   "outputs": [],
   "source": [
    "%matplotlib notebook\n",
    "\n",
    "import numpy as np\n",
    "import matplotlib.pyplot as plt\n",
    "\n",
    "from pythia.utils.resampling import run_mean_smooth\n",
    "from pythia.timeseries.periodograms import LS_periodogram\n",
    "from pythia.timeseries.iterative_prewhitening import run_ipw\n",
    "\n",
    "import matplotlib\n",
    "matplotlib.use('nbagg')\n",
    "\n",
    "plt.rcParams.update({\n",
    "    \"text.usetex\": True,\n",
    "        \"font.family\": \"sans-serif\",\n",
    "    \"font.sans-serif\": [\"Helvetica\"]})\n",
    "plt.rcParams.update({\n",
    "    \"pgf.rcfonts\": False,\n",
    "    \"pgf.texsystem\": \"pdflatex\",\n",
    "    \"pgf.preamble\": \"\\n\".join([\n",
    "         r\"\\usepackage{amsmath}\",\n",
    "         r\"\\usepackage[utf8x]{inputenc}\",\n",
    "         r\"\\usepackage[T1]{fontenc}\",\n",
    "         r\"\\usepackage{cmbright}\",\n",
    "    ]),\n",
    "})\n",
    "\n",
    "plt.rcParams['xtick.labelsize']=18\n",
    "plt.rcParams['ytick.labelsize']=18"
   ]
  },
  {
   "cell_type": "code",
   "execution_count": 2,
   "id": "f0c2ad1e",
   "metadata": {},
   "outputs": [
    {
     "data": {
      "application/javascript": [
       "/* Put everything inside the global mpl namespace */\n",
       "/* global mpl */\n",
       "window.mpl = {};\n",
       "\n",
       "mpl.get_websocket_type = function () {\n",
       "    if (typeof WebSocket !== 'undefined') {\n",
       "        return WebSocket;\n",
       "    } else if (typeof MozWebSocket !== 'undefined') {\n",
       "        return MozWebSocket;\n",
       "    } else {\n",
       "        alert(\n",
       "            'Your browser does not have WebSocket support. ' +\n",
       "                'Please try Chrome, Safari or Firefox ≥ 6. ' +\n",
       "                'Firefox 4 and 5 are also supported but you ' +\n",
       "                'have to enable WebSockets in about:config.'\n",
       "        );\n",
       "    }\n",
       "};\n",
       "\n",
       "mpl.figure = function (figure_id, websocket, ondownload, parent_element) {\n",
       "    this.id = figure_id;\n",
       "\n",
       "    this.ws = websocket;\n",
       "\n",
       "    this.supports_binary = this.ws.binaryType !== undefined;\n",
       "\n",
       "    if (!this.supports_binary) {\n",
       "        var warnings = document.getElementById('mpl-warnings');\n",
       "        if (warnings) {\n",
       "            warnings.style.display = 'block';\n",
       "            warnings.textContent =\n",
       "                'This browser does not support binary websocket messages. ' +\n",
       "                'Performance may be slow.';\n",
       "        }\n",
       "    }\n",
       "\n",
       "    this.imageObj = new Image();\n",
       "\n",
       "    this.context = undefined;\n",
       "    this.message = undefined;\n",
       "    this.canvas = undefined;\n",
       "    this.rubberband_canvas = undefined;\n",
       "    this.rubberband_context = undefined;\n",
       "    this.format_dropdown = undefined;\n",
       "\n",
       "    this.image_mode = 'full';\n",
       "\n",
       "    this.root = document.createElement('div');\n",
       "    this.root.setAttribute('style', 'display: inline-block');\n",
       "    this._root_extra_style(this.root);\n",
       "\n",
       "    parent_element.appendChild(this.root);\n",
       "\n",
       "    this._init_header(this);\n",
       "    this._init_canvas(this);\n",
       "    this._init_toolbar(this);\n",
       "\n",
       "    var fig = this;\n",
       "\n",
       "    this.waiting = false;\n",
       "\n",
       "    this.ws.onopen = function () {\n",
       "        fig.send_message('supports_binary', { value: fig.supports_binary });\n",
       "        fig.send_message('send_image_mode', {});\n",
       "        if (fig.ratio !== 1) {\n",
       "            fig.send_message('set_device_pixel_ratio', {\n",
       "                device_pixel_ratio: fig.ratio,\n",
       "            });\n",
       "        }\n",
       "        fig.send_message('refresh', {});\n",
       "    };\n",
       "\n",
       "    this.imageObj.onload = function () {\n",
       "        if (fig.image_mode === 'full') {\n",
       "            // Full images could contain transparency (where diff images\n",
       "            // almost always do), so we need to clear the canvas so that\n",
       "            // there is no ghosting.\n",
       "            fig.context.clearRect(0, 0, fig.canvas.width, fig.canvas.height);\n",
       "        }\n",
       "        fig.context.drawImage(fig.imageObj, 0, 0);\n",
       "    };\n",
       "\n",
       "    this.imageObj.onunload = function () {\n",
       "        fig.ws.close();\n",
       "    };\n",
       "\n",
       "    this.ws.onmessage = this._make_on_message_function(this);\n",
       "\n",
       "    this.ondownload = ondownload;\n",
       "};\n",
       "\n",
       "mpl.figure.prototype._init_header = function () {\n",
       "    var titlebar = document.createElement('div');\n",
       "    titlebar.classList =\n",
       "        'ui-dialog-titlebar ui-widget-header ui-corner-all ui-helper-clearfix';\n",
       "    var titletext = document.createElement('div');\n",
       "    titletext.classList = 'ui-dialog-title';\n",
       "    titletext.setAttribute(\n",
       "        'style',\n",
       "        'width: 100%; text-align: center; padding: 3px;'\n",
       "    );\n",
       "    titlebar.appendChild(titletext);\n",
       "    this.root.appendChild(titlebar);\n",
       "    this.header = titletext;\n",
       "};\n",
       "\n",
       "mpl.figure.prototype._canvas_extra_style = function (_canvas_div) {};\n",
       "\n",
       "mpl.figure.prototype._root_extra_style = function (_canvas_div) {};\n",
       "\n",
       "mpl.figure.prototype._init_canvas = function () {\n",
       "    var fig = this;\n",
       "\n",
       "    var canvas_div = (this.canvas_div = document.createElement('div'));\n",
       "    canvas_div.setAttribute(\n",
       "        'style',\n",
       "        'border: 1px solid #ddd;' +\n",
       "            'box-sizing: content-box;' +\n",
       "            'clear: both;' +\n",
       "            'min-height: 1px;' +\n",
       "            'min-width: 1px;' +\n",
       "            'outline: 0;' +\n",
       "            'overflow: hidden;' +\n",
       "            'position: relative;' +\n",
       "            'resize: both;'\n",
       "    );\n",
       "\n",
       "    function on_keyboard_event_closure(name) {\n",
       "        return function (event) {\n",
       "            return fig.key_event(event, name);\n",
       "        };\n",
       "    }\n",
       "\n",
       "    canvas_div.addEventListener(\n",
       "        'keydown',\n",
       "        on_keyboard_event_closure('key_press')\n",
       "    );\n",
       "    canvas_div.addEventListener(\n",
       "        'keyup',\n",
       "        on_keyboard_event_closure('key_release')\n",
       "    );\n",
       "\n",
       "    this._canvas_extra_style(canvas_div);\n",
       "    this.root.appendChild(canvas_div);\n",
       "\n",
       "    var canvas = (this.canvas = document.createElement('canvas'));\n",
       "    canvas.classList.add('mpl-canvas');\n",
       "    canvas.setAttribute('style', 'box-sizing: content-box;');\n",
       "\n",
       "    this.context = canvas.getContext('2d');\n",
       "\n",
       "    var backingStore =\n",
       "        this.context.backingStorePixelRatio ||\n",
       "        this.context.webkitBackingStorePixelRatio ||\n",
       "        this.context.mozBackingStorePixelRatio ||\n",
       "        this.context.msBackingStorePixelRatio ||\n",
       "        this.context.oBackingStorePixelRatio ||\n",
       "        this.context.backingStorePixelRatio ||\n",
       "        1;\n",
       "\n",
       "    this.ratio = (window.devicePixelRatio || 1) / backingStore;\n",
       "\n",
       "    var rubberband_canvas = (this.rubberband_canvas = document.createElement(\n",
       "        'canvas'\n",
       "    ));\n",
       "    rubberband_canvas.setAttribute(\n",
       "        'style',\n",
       "        'box-sizing: content-box; position: absolute; left: 0; top: 0; z-index: 1;'\n",
       "    );\n",
       "\n",
       "    // Apply a ponyfill if ResizeObserver is not implemented by browser.\n",
       "    if (this.ResizeObserver === undefined) {\n",
       "        if (window.ResizeObserver !== undefined) {\n",
       "            this.ResizeObserver = window.ResizeObserver;\n",
       "        } else {\n",
       "            var obs = _JSXTOOLS_RESIZE_OBSERVER({});\n",
       "            this.ResizeObserver = obs.ResizeObserver;\n",
       "        }\n",
       "    }\n",
       "\n",
       "    this.resizeObserverInstance = new this.ResizeObserver(function (entries) {\n",
       "        var nentries = entries.length;\n",
       "        for (var i = 0; i < nentries; i++) {\n",
       "            var entry = entries[i];\n",
       "            var width, height;\n",
       "            if (entry.contentBoxSize) {\n",
       "                if (entry.contentBoxSize instanceof Array) {\n",
       "                    // Chrome 84 implements new version of spec.\n",
       "                    width = entry.contentBoxSize[0].inlineSize;\n",
       "                    height = entry.contentBoxSize[0].blockSize;\n",
       "                } else {\n",
       "                    // Firefox implements old version of spec.\n",
       "                    width = entry.contentBoxSize.inlineSize;\n",
       "                    height = entry.contentBoxSize.blockSize;\n",
       "                }\n",
       "            } else {\n",
       "                // Chrome <84 implements even older version of spec.\n",
       "                width = entry.contentRect.width;\n",
       "                height = entry.contentRect.height;\n",
       "            }\n",
       "\n",
       "            // Keep the size of the canvas and rubber band canvas in sync with\n",
       "            // the canvas container.\n",
       "            if (entry.devicePixelContentBoxSize) {\n",
       "                // Chrome 84 implements new version of spec.\n",
       "                canvas.setAttribute(\n",
       "                    'width',\n",
       "                    entry.devicePixelContentBoxSize[0].inlineSize\n",
       "                );\n",
       "                canvas.setAttribute(\n",
       "                    'height',\n",
       "                    entry.devicePixelContentBoxSize[0].blockSize\n",
       "                );\n",
       "            } else {\n",
       "                canvas.setAttribute('width', width * fig.ratio);\n",
       "                canvas.setAttribute('height', height * fig.ratio);\n",
       "            }\n",
       "            canvas.setAttribute(\n",
       "                'style',\n",
       "                'width: ' + width + 'px; height: ' + height + 'px;'\n",
       "            );\n",
       "\n",
       "            rubberband_canvas.setAttribute('width', width);\n",
       "            rubberband_canvas.setAttribute('height', height);\n",
       "\n",
       "            // And update the size in Python. We ignore the initial 0/0 size\n",
       "            // that occurs as the element is placed into the DOM, which should\n",
       "            // otherwise not happen due to the minimum size styling.\n",
       "            if (fig.ws.readyState == 1 && width != 0 && height != 0) {\n",
       "                fig.request_resize(width, height);\n",
       "            }\n",
       "        }\n",
       "    });\n",
       "    this.resizeObserverInstance.observe(canvas_div);\n",
       "\n",
       "    function on_mouse_event_closure(name) {\n",
       "        return function (event) {\n",
       "            return fig.mouse_event(event, name);\n",
       "        };\n",
       "    }\n",
       "\n",
       "    rubberband_canvas.addEventListener(\n",
       "        'mousedown',\n",
       "        on_mouse_event_closure('button_press')\n",
       "    );\n",
       "    rubberband_canvas.addEventListener(\n",
       "        'mouseup',\n",
       "        on_mouse_event_closure('button_release')\n",
       "    );\n",
       "    rubberband_canvas.addEventListener(\n",
       "        'dblclick',\n",
       "        on_mouse_event_closure('dblclick')\n",
       "    );\n",
       "    // Throttle sequential mouse events to 1 every 20ms.\n",
       "    rubberband_canvas.addEventListener(\n",
       "        'mousemove',\n",
       "        on_mouse_event_closure('motion_notify')\n",
       "    );\n",
       "\n",
       "    rubberband_canvas.addEventListener(\n",
       "        'mouseenter',\n",
       "        on_mouse_event_closure('figure_enter')\n",
       "    );\n",
       "    rubberband_canvas.addEventListener(\n",
       "        'mouseleave',\n",
       "        on_mouse_event_closure('figure_leave')\n",
       "    );\n",
       "\n",
       "    canvas_div.addEventListener('wheel', function (event) {\n",
       "        if (event.deltaY < 0) {\n",
       "            event.step = 1;\n",
       "        } else {\n",
       "            event.step = -1;\n",
       "        }\n",
       "        on_mouse_event_closure('scroll')(event);\n",
       "    });\n",
       "\n",
       "    canvas_div.appendChild(canvas);\n",
       "    canvas_div.appendChild(rubberband_canvas);\n",
       "\n",
       "    this.rubberband_context = rubberband_canvas.getContext('2d');\n",
       "    this.rubberband_context.strokeStyle = '#000000';\n",
       "\n",
       "    this._resize_canvas = function (width, height, forward) {\n",
       "        if (forward) {\n",
       "            canvas_div.style.width = width + 'px';\n",
       "            canvas_div.style.height = height + 'px';\n",
       "        }\n",
       "    };\n",
       "\n",
       "    // Disable right mouse context menu.\n",
       "    this.rubberband_canvas.addEventListener('contextmenu', function (_e) {\n",
       "        event.preventDefault();\n",
       "        return false;\n",
       "    });\n",
       "\n",
       "    function set_focus() {\n",
       "        canvas.focus();\n",
       "        canvas_div.focus();\n",
       "    }\n",
       "\n",
       "    window.setTimeout(set_focus, 100);\n",
       "};\n",
       "\n",
       "mpl.figure.prototype._init_toolbar = function () {\n",
       "    var fig = this;\n",
       "\n",
       "    var toolbar = document.createElement('div');\n",
       "    toolbar.classList = 'mpl-toolbar';\n",
       "    this.root.appendChild(toolbar);\n",
       "\n",
       "    function on_click_closure(name) {\n",
       "        return function (_event) {\n",
       "            return fig.toolbar_button_onclick(name);\n",
       "        };\n",
       "    }\n",
       "\n",
       "    function on_mouseover_closure(tooltip) {\n",
       "        return function (event) {\n",
       "            if (!event.currentTarget.disabled) {\n",
       "                return fig.toolbar_button_onmouseover(tooltip);\n",
       "            }\n",
       "        };\n",
       "    }\n",
       "\n",
       "    fig.buttons = {};\n",
       "    var buttonGroup = document.createElement('div');\n",
       "    buttonGroup.classList = 'mpl-button-group';\n",
       "    for (var toolbar_ind in mpl.toolbar_items) {\n",
       "        var name = mpl.toolbar_items[toolbar_ind][0];\n",
       "        var tooltip = mpl.toolbar_items[toolbar_ind][1];\n",
       "        var image = mpl.toolbar_items[toolbar_ind][2];\n",
       "        var method_name = mpl.toolbar_items[toolbar_ind][3];\n",
       "\n",
       "        if (!name) {\n",
       "            /* Instead of a spacer, we start a new button group. */\n",
       "            if (buttonGroup.hasChildNodes()) {\n",
       "                toolbar.appendChild(buttonGroup);\n",
       "            }\n",
       "            buttonGroup = document.createElement('div');\n",
       "            buttonGroup.classList = 'mpl-button-group';\n",
       "            continue;\n",
       "        }\n",
       "\n",
       "        var button = (fig.buttons[name] = document.createElement('button'));\n",
       "        button.classList = 'mpl-widget';\n",
       "        button.setAttribute('role', 'button');\n",
       "        button.setAttribute('aria-disabled', 'false');\n",
       "        button.addEventListener('click', on_click_closure(method_name));\n",
       "        button.addEventListener('mouseover', on_mouseover_closure(tooltip));\n",
       "\n",
       "        var icon_img = document.createElement('img');\n",
       "        icon_img.src = '_images/' + image + '.png';\n",
       "        icon_img.srcset = '_images/' + image + '_large.png 2x';\n",
       "        icon_img.alt = tooltip;\n",
       "        button.appendChild(icon_img);\n",
       "\n",
       "        buttonGroup.appendChild(button);\n",
       "    }\n",
       "\n",
       "    if (buttonGroup.hasChildNodes()) {\n",
       "        toolbar.appendChild(buttonGroup);\n",
       "    }\n",
       "\n",
       "    var fmt_picker = document.createElement('select');\n",
       "    fmt_picker.classList = 'mpl-widget';\n",
       "    toolbar.appendChild(fmt_picker);\n",
       "    this.format_dropdown = fmt_picker;\n",
       "\n",
       "    for (var ind in mpl.extensions) {\n",
       "        var fmt = mpl.extensions[ind];\n",
       "        var option = document.createElement('option');\n",
       "        option.selected = fmt === mpl.default_extension;\n",
       "        option.innerHTML = fmt;\n",
       "        fmt_picker.appendChild(option);\n",
       "    }\n",
       "\n",
       "    var status_bar = document.createElement('span');\n",
       "    status_bar.classList = 'mpl-message';\n",
       "    toolbar.appendChild(status_bar);\n",
       "    this.message = status_bar;\n",
       "};\n",
       "\n",
       "mpl.figure.prototype.request_resize = function (x_pixels, y_pixels) {\n",
       "    // Request matplotlib to resize the figure. Matplotlib will then trigger a resize in the client,\n",
       "    // which will in turn request a refresh of the image.\n",
       "    this.send_message('resize', { width: x_pixels, height: y_pixels });\n",
       "};\n",
       "\n",
       "mpl.figure.prototype.send_message = function (type, properties) {\n",
       "    properties['type'] = type;\n",
       "    properties['figure_id'] = this.id;\n",
       "    this.ws.send(JSON.stringify(properties));\n",
       "};\n",
       "\n",
       "mpl.figure.prototype.send_draw_message = function () {\n",
       "    if (!this.waiting) {\n",
       "        this.waiting = true;\n",
       "        this.ws.send(JSON.stringify({ type: 'draw', figure_id: this.id }));\n",
       "    }\n",
       "};\n",
       "\n",
       "mpl.figure.prototype.handle_save = function (fig, _msg) {\n",
       "    var format_dropdown = fig.format_dropdown;\n",
       "    var format = format_dropdown.options[format_dropdown.selectedIndex].value;\n",
       "    fig.ondownload(fig, format);\n",
       "};\n",
       "\n",
       "mpl.figure.prototype.handle_resize = function (fig, msg) {\n",
       "    var size = msg['size'];\n",
       "    if (size[0] !== fig.canvas.width || size[1] !== fig.canvas.height) {\n",
       "        fig._resize_canvas(size[0], size[1], msg['forward']);\n",
       "        fig.send_message('refresh', {});\n",
       "    }\n",
       "};\n",
       "\n",
       "mpl.figure.prototype.handle_rubberband = function (fig, msg) {\n",
       "    var x0 = msg['x0'] / fig.ratio;\n",
       "    var y0 = (fig.canvas.height - msg['y0']) / fig.ratio;\n",
       "    var x1 = msg['x1'] / fig.ratio;\n",
       "    var y1 = (fig.canvas.height - msg['y1']) / fig.ratio;\n",
       "    x0 = Math.floor(x0) + 0.5;\n",
       "    y0 = Math.floor(y0) + 0.5;\n",
       "    x1 = Math.floor(x1) + 0.5;\n",
       "    y1 = Math.floor(y1) + 0.5;\n",
       "    var min_x = Math.min(x0, x1);\n",
       "    var min_y = Math.min(y0, y1);\n",
       "    var width = Math.abs(x1 - x0);\n",
       "    var height = Math.abs(y1 - y0);\n",
       "\n",
       "    fig.rubberband_context.clearRect(\n",
       "        0,\n",
       "        0,\n",
       "        fig.canvas.width / fig.ratio,\n",
       "        fig.canvas.height / fig.ratio\n",
       "    );\n",
       "\n",
       "    fig.rubberband_context.strokeRect(min_x, min_y, width, height);\n",
       "};\n",
       "\n",
       "mpl.figure.prototype.handle_figure_label = function (fig, msg) {\n",
       "    // Updates the figure title.\n",
       "    fig.header.textContent = msg['label'];\n",
       "};\n",
       "\n",
       "mpl.figure.prototype.handle_cursor = function (fig, msg) {\n",
       "    fig.rubberband_canvas.style.cursor = msg['cursor'];\n",
       "};\n",
       "\n",
       "mpl.figure.prototype.handle_message = function (fig, msg) {\n",
       "    fig.message.textContent = msg['message'];\n",
       "};\n",
       "\n",
       "mpl.figure.prototype.handle_draw = function (fig, _msg) {\n",
       "    // Request the server to send over a new figure.\n",
       "    fig.send_draw_message();\n",
       "};\n",
       "\n",
       "mpl.figure.prototype.handle_image_mode = function (fig, msg) {\n",
       "    fig.image_mode = msg['mode'];\n",
       "};\n",
       "\n",
       "mpl.figure.prototype.handle_history_buttons = function (fig, msg) {\n",
       "    for (var key in msg) {\n",
       "        if (!(key in fig.buttons)) {\n",
       "            continue;\n",
       "        }\n",
       "        fig.buttons[key].disabled = !msg[key];\n",
       "        fig.buttons[key].setAttribute('aria-disabled', !msg[key]);\n",
       "    }\n",
       "};\n",
       "\n",
       "mpl.figure.prototype.handle_navigate_mode = function (fig, msg) {\n",
       "    if (msg['mode'] === 'PAN') {\n",
       "        fig.buttons['Pan'].classList.add('active');\n",
       "        fig.buttons['Zoom'].classList.remove('active');\n",
       "    } else if (msg['mode'] === 'ZOOM') {\n",
       "        fig.buttons['Pan'].classList.remove('active');\n",
       "        fig.buttons['Zoom'].classList.add('active');\n",
       "    } else {\n",
       "        fig.buttons['Pan'].classList.remove('active');\n",
       "        fig.buttons['Zoom'].classList.remove('active');\n",
       "    }\n",
       "};\n",
       "\n",
       "mpl.figure.prototype.updated_canvas_event = function () {\n",
       "    // Called whenever the canvas gets updated.\n",
       "    this.send_message('ack', {});\n",
       "};\n",
       "\n",
       "// A function to construct a web socket function for onmessage handling.\n",
       "// Called in the figure constructor.\n",
       "mpl.figure.prototype._make_on_message_function = function (fig) {\n",
       "    return function socket_on_message(evt) {\n",
       "        if (evt.data instanceof Blob) {\n",
       "            var img = evt.data;\n",
       "            if (img.type !== 'image/png') {\n",
       "                /* FIXME: We get \"Resource interpreted as Image but\n",
       "                 * transferred with MIME type text/plain:\" errors on\n",
       "                 * Chrome.  But how to set the MIME type?  It doesn't seem\n",
       "                 * to be part of the websocket stream */\n",
       "                img.type = 'image/png';\n",
       "            }\n",
       "\n",
       "            /* Free the memory for the previous frames */\n",
       "            if (fig.imageObj.src) {\n",
       "                (window.URL || window.webkitURL).revokeObjectURL(\n",
       "                    fig.imageObj.src\n",
       "                );\n",
       "            }\n",
       "\n",
       "            fig.imageObj.src = (window.URL || window.webkitURL).createObjectURL(\n",
       "                img\n",
       "            );\n",
       "            fig.updated_canvas_event();\n",
       "            fig.waiting = false;\n",
       "            return;\n",
       "        } else if (\n",
       "            typeof evt.data === 'string' &&\n",
       "            evt.data.slice(0, 21) === 'data:image/png;base64'\n",
       "        ) {\n",
       "            fig.imageObj.src = evt.data;\n",
       "            fig.updated_canvas_event();\n",
       "            fig.waiting = false;\n",
       "            return;\n",
       "        }\n",
       "\n",
       "        var msg = JSON.parse(evt.data);\n",
       "        var msg_type = msg['type'];\n",
       "\n",
       "        // Call the  \"handle_{type}\" callback, which takes\n",
       "        // the figure and JSON message as its only arguments.\n",
       "        try {\n",
       "            var callback = fig['handle_' + msg_type];\n",
       "        } catch (e) {\n",
       "            console.log(\n",
       "                \"No handler for the '\" + msg_type + \"' message type: \",\n",
       "                msg\n",
       "            );\n",
       "            return;\n",
       "        }\n",
       "\n",
       "        if (callback) {\n",
       "            try {\n",
       "                // console.log(\"Handling '\" + msg_type + \"' message: \", msg);\n",
       "                callback(fig, msg);\n",
       "            } catch (e) {\n",
       "                console.log(\n",
       "                    \"Exception inside the 'handler_\" + msg_type + \"' callback:\",\n",
       "                    e,\n",
       "                    e.stack,\n",
       "                    msg\n",
       "                );\n",
       "            }\n",
       "        }\n",
       "    };\n",
       "};\n",
       "\n",
       "// from https://stackoverflow.com/questions/1114465/getting-mouse-location-in-canvas\n",
       "mpl.findpos = function (e) {\n",
       "    //this section is from http://www.quirksmode.org/js/events_properties.html\n",
       "    var targ;\n",
       "    if (!e) {\n",
       "        e = window.event;\n",
       "    }\n",
       "    if (e.target) {\n",
       "        targ = e.target;\n",
       "    } else if (e.srcElement) {\n",
       "        targ = e.srcElement;\n",
       "    }\n",
       "    if (targ.nodeType === 3) {\n",
       "        // defeat Safari bug\n",
       "        targ = targ.parentNode;\n",
       "    }\n",
       "\n",
       "    // pageX,Y are the mouse positions relative to the document\n",
       "    var boundingRect = targ.getBoundingClientRect();\n",
       "    var x = e.pageX - (boundingRect.left + document.body.scrollLeft);\n",
       "    var y = e.pageY - (boundingRect.top + document.body.scrollTop);\n",
       "\n",
       "    return { x: x, y: y };\n",
       "};\n",
       "\n",
       "/*\n",
       " * return a copy of an object with only non-object keys\n",
       " * we need this to avoid circular references\n",
       " * https://stackoverflow.com/a/24161582/3208463\n",
       " */\n",
       "function simpleKeys(original) {\n",
       "    return Object.keys(original).reduce(function (obj, key) {\n",
       "        if (typeof original[key] !== 'object') {\n",
       "            obj[key] = original[key];\n",
       "        }\n",
       "        return obj;\n",
       "    }, {});\n",
       "}\n",
       "\n",
       "mpl.figure.prototype.mouse_event = function (event, name) {\n",
       "    var canvas_pos = mpl.findpos(event);\n",
       "\n",
       "    if (name === 'button_press') {\n",
       "        this.canvas.focus();\n",
       "        this.canvas_div.focus();\n",
       "    }\n",
       "\n",
       "    var x = canvas_pos.x * this.ratio;\n",
       "    var y = canvas_pos.y * this.ratio;\n",
       "\n",
       "    this.send_message(name, {\n",
       "        x: x,\n",
       "        y: y,\n",
       "        button: event.button,\n",
       "        step: event.step,\n",
       "        guiEvent: simpleKeys(event),\n",
       "    });\n",
       "\n",
       "    /* This prevents the web browser from automatically changing to\n",
       "     * the text insertion cursor when the button is pressed.  We want\n",
       "     * to control all of the cursor setting manually through the\n",
       "     * 'cursor' event from matplotlib */\n",
       "    event.preventDefault();\n",
       "    return false;\n",
       "};\n",
       "\n",
       "mpl.figure.prototype._key_event_extra = function (_event, _name) {\n",
       "    // Handle any extra behaviour associated with a key event\n",
       "};\n",
       "\n",
       "mpl.figure.prototype.key_event = function (event, name) {\n",
       "    // Prevent repeat events\n",
       "    if (name === 'key_press') {\n",
       "        if (event.key === this._key) {\n",
       "            return;\n",
       "        } else {\n",
       "            this._key = event.key;\n",
       "        }\n",
       "    }\n",
       "    if (name === 'key_release') {\n",
       "        this._key = null;\n",
       "    }\n",
       "\n",
       "    var value = '';\n",
       "    if (event.ctrlKey && event.key !== 'Control') {\n",
       "        value += 'ctrl+';\n",
       "    }\n",
       "    else if (event.altKey && event.key !== 'Alt') {\n",
       "        value += 'alt+';\n",
       "    }\n",
       "    else if (event.shiftKey && event.key !== 'Shift') {\n",
       "        value += 'shift+';\n",
       "    }\n",
       "\n",
       "    value += 'k' + event.key;\n",
       "\n",
       "    this._key_event_extra(event, name);\n",
       "\n",
       "    this.send_message(name, { key: value, guiEvent: simpleKeys(event) });\n",
       "    return false;\n",
       "};\n",
       "\n",
       "mpl.figure.prototype.toolbar_button_onclick = function (name) {\n",
       "    if (name === 'download') {\n",
       "        this.handle_save(this, null);\n",
       "    } else {\n",
       "        this.send_message('toolbar_button', { name: name });\n",
       "    }\n",
       "};\n",
       "\n",
       "mpl.figure.prototype.toolbar_button_onmouseover = function (tooltip) {\n",
       "    this.message.textContent = tooltip;\n",
       "};\n",
       "\n",
       "///////////////// REMAINING CONTENT GENERATED BY embed_js.py /////////////////\n",
       "// prettier-ignore\n",
       "var _JSXTOOLS_RESIZE_OBSERVER=function(A){var t,i=new WeakMap,n=new WeakMap,a=new WeakMap,r=new WeakMap,o=new Set;function s(e){if(!(this instanceof s))throw new TypeError(\"Constructor requires 'new' operator\");i.set(this,e)}function h(){throw new TypeError(\"Function is not a constructor\")}function c(e,t,i,n){e=0 in arguments?Number(arguments[0]):0,t=1 in arguments?Number(arguments[1]):0,i=2 in arguments?Number(arguments[2]):0,n=3 in arguments?Number(arguments[3]):0,this.right=(this.x=this.left=e)+(this.width=i),this.bottom=(this.y=this.top=t)+(this.height=n),Object.freeze(this)}function d(){t=requestAnimationFrame(d);var s=new WeakMap,p=new Set;o.forEach((function(t){r.get(t).forEach((function(i){var r=t instanceof window.SVGElement,o=a.get(t),d=r?0:parseFloat(o.paddingTop),f=r?0:parseFloat(o.paddingRight),l=r?0:parseFloat(o.paddingBottom),u=r?0:parseFloat(o.paddingLeft),g=r?0:parseFloat(o.borderTopWidth),m=r?0:parseFloat(o.borderRightWidth),w=r?0:parseFloat(o.borderBottomWidth),b=u+f,F=d+l,v=(r?0:parseFloat(o.borderLeftWidth))+m,W=g+w,y=r?0:t.offsetHeight-W-t.clientHeight,E=r?0:t.offsetWidth-v-t.clientWidth,R=b+v,z=F+W,M=r?t.width:parseFloat(o.width)-R-E,O=r?t.height:parseFloat(o.height)-z-y;if(n.has(t)){var k=n.get(t);if(k[0]===M&&k[1]===O)return}n.set(t,[M,O]);var S=Object.create(h.prototype);S.target=t,S.contentRect=new c(u,d,M,O),s.has(i)||(s.set(i,[]),p.add(i)),s.get(i).push(S)}))})),p.forEach((function(e){i.get(e).call(e,s.get(e),e)}))}return s.prototype.observe=function(i){if(i instanceof window.Element){r.has(i)||(r.set(i,new Set),o.add(i),a.set(i,window.getComputedStyle(i)));var n=r.get(i);n.has(this)||n.add(this),cancelAnimationFrame(t),t=requestAnimationFrame(d)}},s.prototype.unobserve=function(i){if(i instanceof window.Element&&r.has(i)){var n=r.get(i);n.has(this)&&(n.delete(this),n.size||(r.delete(i),o.delete(i))),n.size||r.delete(i),o.size||cancelAnimationFrame(t)}},A.DOMRectReadOnly=c,A.ResizeObserver=s,A.ResizeObserverEntry=h,A}; // eslint-disable-line\n",
       "mpl.toolbar_items = [[\"Home\", \"Reset original view\", \"fa fa-home\", \"home\"], [\"Back\", \"Back to previous view\", \"fa fa-arrow-left\", \"back\"], [\"Forward\", \"Forward to next view\", \"fa fa-arrow-right\", \"forward\"], [\"\", \"\", \"\", \"\"], [\"Pan\", \"Left button pans, Right button zooms\\nx/y fixes axis, CTRL fixes aspect\", \"fa fa-arrows\", \"pan\"], [\"Zoom\", \"Zoom to rectangle\\nx/y fixes axis\", \"fa fa-square-o\", \"zoom\"], [\"\", \"\", \"\", \"\"], [\"Download\", \"Download plot\", \"fa fa-floppy-o\", \"download\"]];\n",
       "\n",
       "mpl.extensions = [\"eps\", \"jpeg\", \"pgf\", \"pdf\", \"png\", \"ps\", \"raw\", \"svg\", \"tif\", \"webp\"];\n",
       "\n",
       "mpl.default_extension = \"png\";/* global mpl */\n",
       "\n",
       "var comm_websocket_adapter = function (comm) {\n",
       "    // Create a \"websocket\"-like object which calls the given IPython comm\n",
       "    // object with the appropriate methods. Currently this is a non binary\n",
       "    // socket, so there is still some room for performance tuning.\n",
       "    var ws = {};\n",
       "\n",
       "    ws.binaryType = comm.kernel.ws.binaryType;\n",
       "    ws.readyState = comm.kernel.ws.readyState;\n",
       "    function updateReadyState(_event) {\n",
       "        if (comm.kernel.ws) {\n",
       "            ws.readyState = comm.kernel.ws.readyState;\n",
       "        } else {\n",
       "            ws.readyState = 3; // Closed state.\n",
       "        }\n",
       "    }\n",
       "    comm.kernel.ws.addEventListener('open', updateReadyState);\n",
       "    comm.kernel.ws.addEventListener('close', updateReadyState);\n",
       "    comm.kernel.ws.addEventListener('error', updateReadyState);\n",
       "\n",
       "    ws.close = function () {\n",
       "        comm.close();\n",
       "    };\n",
       "    ws.send = function (m) {\n",
       "        //console.log('sending', m);\n",
       "        comm.send(m);\n",
       "    };\n",
       "    // Register the callback with on_msg.\n",
       "    comm.on_msg(function (msg) {\n",
       "        //console.log('receiving', msg['content']['data'], msg);\n",
       "        var data = msg['content']['data'];\n",
       "        if (data['blob'] !== undefined) {\n",
       "            data = {\n",
       "                data: new Blob(msg['buffers'], { type: data['blob'] }),\n",
       "            };\n",
       "        }\n",
       "        // Pass the mpl event to the overridden (by mpl) onmessage function.\n",
       "        ws.onmessage(data);\n",
       "    });\n",
       "    return ws;\n",
       "};\n",
       "\n",
       "mpl.mpl_figure_comm = function (comm, msg) {\n",
       "    // This is the function which gets called when the mpl process\n",
       "    // starts-up an IPython Comm through the \"matplotlib\" channel.\n",
       "\n",
       "    var id = msg.content.data.id;\n",
       "    // Get hold of the div created by the display call when the Comm\n",
       "    // socket was opened in Python.\n",
       "    var element = document.getElementById(id);\n",
       "    var ws_proxy = comm_websocket_adapter(comm);\n",
       "\n",
       "    function ondownload(figure, _format) {\n",
       "        window.open(figure.canvas.toDataURL());\n",
       "    }\n",
       "\n",
       "    var fig = new mpl.figure(id, ws_proxy, ondownload, element);\n",
       "\n",
       "    // Call onopen now - mpl needs it, as it is assuming we've passed it a real\n",
       "    // web socket which is closed, not our websocket->open comm proxy.\n",
       "    ws_proxy.onopen();\n",
       "\n",
       "    fig.parent_element = element;\n",
       "    fig.cell_info = mpl.find_output_cell(\"<div id='\" + id + \"'></div>\");\n",
       "    if (!fig.cell_info) {\n",
       "        console.error('Failed to find cell for figure', id, fig);\n",
       "        return;\n",
       "    }\n",
       "    fig.cell_info[0].output_area.element.on(\n",
       "        'cleared',\n",
       "        { fig: fig },\n",
       "        fig._remove_fig_handler\n",
       "    );\n",
       "};\n",
       "\n",
       "mpl.figure.prototype.handle_close = function (fig, msg) {\n",
       "    var width = fig.canvas.width / fig.ratio;\n",
       "    fig.cell_info[0].output_area.element.off(\n",
       "        'cleared',\n",
       "        fig._remove_fig_handler\n",
       "    );\n",
       "    fig.resizeObserverInstance.unobserve(fig.canvas_div);\n",
       "\n",
       "    // Update the output cell to use the data from the current canvas.\n",
       "    fig.push_to_output();\n",
       "    var dataURL = fig.canvas.toDataURL();\n",
       "    // Re-enable the keyboard manager in IPython - without this line, in FF,\n",
       "    // the notebook keyboard shortcuts fail.\n",
       "    IPython.keyboard_manager.enable();\n",
       "    fig.parent_element.innerHTML =\n",
       "        '<img src=\"' + dataURL + '\" width=\"' + width + '\">';\n",
       "    fig.close_ws(fig, msg);\n",
       "};\n",
       "\n",
       "mpl.figure.prototype.close_ws = function (fig, msg) {\n",
       "    fig.send_message('closing', msg);\n",
       "    // fig.ws.close()\n",
       "};\n",
       "\n",
       "mpl.figure.prototype.push_to_output = function (_remove_interactive) {\n",
       "    // Turn the data on the canvas into data in the output cell.\n",
       "    var width = this.canvas.width / this.ratio;\n",
       "    var dataURL = this.canvas.toDataURL();\n",
       "    this.cell_info[1]['text/html'] =\n",
       "        '<img src=\"' + dataURL + '\" width=\"' + width + '\">';\n",
       "};\n",
       "\n",
       "mpl.figure.prototype.updated_canvas_event = function () {\n",
       "    // Tell IPython that the notebook contents must change.\n",
       "    IPython.notebook.set_dirty(true);\n",
       "    this.send_message('ack', {});\n",
       "    var fig = this;\n",
       "    // Wait a second, then push the new image to the DOM so\n",
       "    // that it is saved nicely (might be nice to debounce this).\n",
       "    setTimeout(function () {\n",
       "        fig.push_to_output();\n",
       "    }, 1000);\n",
       "};\n",
       "\n",
       "mpl.figure.prototype._init_toolbar = function () {\n",
       "    var fig = this;\n",
       "\n",
       "    var toolbar = document.createElement('div');\n",
       "    toolbar.classList = 'btn-toolbar';\n",
       "    this.root.appendChild(toolbar);\n",
       "\n",
       "    function on_click_closure(name) {\n",
       "        return function (_event) {\n",
       "            return fig.toolbar_button_onclick(name);\n",
       "        };\n",
       "    }\n",
       "\n",
       "    function on_mouseover_closure(tooltip) {\n",
       "        return function (event) {\n",
       "            if (!event.currentTarget.disabled) {\n",
       "                return fig.toolbar_button_onmouseover(tooltip);\n",
       "            }\n",
       "        };\n",
       "    }\n",
       "\n",
       "    fig.buttons = {};\n",
       "    var buttonGroup = document.createElement('div');\n",
       "    buttonGroup.classList = 'btn-group';\n",
       "    var button;\n",
       "    for (var toolbar_ind in mpl.toolbar_items) {\n",
       "        var name = mpl.toolbar_items[toolbar_ind][0];\n",
       "        var tooltip = mpl.toolbar_items[toolbar_ind][1];\n",
       "        var image = mpl.toolbar_items[toolbar_ind][2];\n",
       "        var method_name = mpl.toolbar_items[toolbar_ind][3];\n",
       "\n",
       "        if (!name) {\n",
       "            /* Instead of a spacer, we start a new button group. */\n",
       "            if (buttonGroup.hasChildNodes()) {\n",
       "                toolbar.appendChild(buttonGroup);\n",
       "            }\n",
       "            buttonGroup = document.createElement('div');\n",
       "            buttonGroup.classList = 'btn-group';\n",
       "            continue;\n",
       "        }\n",
       "\n",
       "        button = fig.buttons[name] = document.createElement('button');\n",
       "        button.classList = 'btn btn-default';\n",
       "        button.href = '#';\n",
       "        button.title = name;\n",
       "        button.innerHTML = '<i class=\"fa ' + image + ' fa-lg\"></i>';\n",
       "        button.addEventListener('click', on_click_closure(method_name));\n",
       "        button.addEventListener('mouseover', on_mouseover_closure(tooltip));\n",
       "        buttonGroup.appendChild(button);\n",
       "    }\n",
       "\n",
       "    if (buttonGroup.hasChildNodes()) {\n",
       "        toolbar.appendChild(buttonGroup);\n",
       "    }\n",
       "\n",
       "    // Add the status bar.\n",
       "    var status_bar = document.createElement('span');\n",
       "    status_bar.classList = 'mpl-message pull-right';\n",
       "    toolbar.appendChild(status_bar);\n",
       "    this.message = status_bar;\n",
       "\n",
       "    // Add the close button to the window.\n",
       "    var buttongrp = document.createElement('div');\n",
       "    buttongrp.classList = 'btn-group inline pull-right';\n",
       "    button = document.createElement('button');\n",
       "    button.classList = 'btn btn-mini btn-primary';\n",
       "    button.href = '#';\n",
       "    button.title = 'Stop Interaction';\n",
       "    button.innerHTML = '<i class=\"fa fa-power-off icon-remove icon-large\"></i>';\n",
       "    button.addEventListener('click', function (_evt) {\n",
       "        fig.handle_close(fig, {});\n",
       "    });\n",
       "    button.addEventListener(\n",
       "        'mouseover',\n",
       "        on_mouseover_closure('Stop Interaction')\n",
       "    );\n",
       "    buttongrp.appendChild(button);\n",
       "    var titlebar = this.root.querySelector('.ui-dialog-titlebar');\n",
       "    titlebar.insertBefore(buttongrp, titlebar.firstChild);\n",
       "};\n",
       "\n",
       "mpl.figure.prototype._remove_fig_handler = function (event) {\n",
       "    var fig = event.data.fig;\n",
       "    if (event.target !== this) {\n",
       "        // Ignore bubbled events from children.\n",
       "        return;\n",
       "    }\n",
       "    fig.close_ws(fig, {});\n",
       "};\n",
       "\n",
       "mpl.figure.prototype._root_extra_style = function (el) {\n",
       "    el.style.boxSizing = 'content-box'; // override notebook setting of border-box.\n",
       "};\n",
       "\n",
       "mpl.figure.prototype._canvas_extra_style = function (el) {\n",
       "    // this is important to make the div 'focusable\n",
       "    el.setAttribute('tabindex', 0);\n",
       "    // reach out to IPython and tell the keyboard manager to turn it's self\n",
       "    // off when our div gets focus\n",
       "\n",
       "    // location in version 3\n",
       "    if (IPython.notebook.keyboard_manager) {\n",
       "        IPython.notebook.keyboard_manager.register_events(el);\n",
       "    } else {\n",
       "        // location in version 2\n",
       "        IPython.keyboard_manager.register_events(el);\n",
       "    }\n",
       "};\n",
       "\n",
       "mpl.figure.prototype._key_event_extra = function (event, _name) {\n",
       "    // Check for shift+enter\n",
       "    if (event.shiftKey && event.which === 13) {\n",
       "        this.canvas_div.blur();\n",
       "        // select the cell after this one\n",
       "        var index = IPython.notebook.find_cell_index(this.cell_info[0]);\n",
       "        IPython.notebook.select(index + 1);\n",
       "    }\n",
       "};\n",
       "\n",
       "mpl.figure.prototype.handle_save = function (fig, _msg) {\n",
       "    fig.ondownload(fig, null);\n",
       "};\n",
       "\n",
       "mpl.find_output_cell = function (html_output) {\n",
       "    // Return the cell and output element which can be found *uniquely* in the notebook.\n",
       "    // Note - this is a bit hacky, but it is done because the \"notebook_saving.Notebook\"\n",
       "    // IPython event is triggered only after the cells have been serialised, which for\n",
       "    // our purposes (turning an active figure into a static one), is too late.\n",
       "    var cells = IPython.notebook.get_cells();\n",
       "    var ncells = cells.length;\n",
       "    for (var i = 0; i < ncells; i++) {\n",
       "        var cell = cells[i];\n",
       "        if (cell.cell_type === 'code') {\n",
       "            for (var j = 0; j < cell.output_area.outputs.length; j++) {\n",
       "                var data = cell.output_area.outputs[j];\n",
       "                if (data.data) {\n",
       "                    // IPython >= 3 moved mimebundle to data attribute of output\n",
       "                    data = data.data;\n",
       "                }\n",
       "                if (data['text/html'] === html_output) {\n",
       "                    return [cell, data, j];\n",
       "                }\n",
       "            }\n",
       "        }\n",
       "    }\n",
       "};\n",
       "\n",
       "// Register the function which deals with the matplotlib target/channel.\n",
       "// The kernel may be null if the page has been refreshed.\n",
       "if (IPython.notebook.kernel !== null) {\n",
       "    IPython.notebook.kernel.comm_manager.register_target(\n",
       "        'matplotlib',\n",
       "        mpl.mpl_figure_comm\n",
       "    );\n",
       "}\n"
      ],
      "text/plain": [
       "<IPython.core.display.Javascript object>"
      ]
     },
     "metadata": {},
     "output_type": "display_data"
    },
    {
     "data": {
      "text/html": [
       "<img src=\"data:image/png;base64,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\" width=\"669\">"
      ],
      "text/plain": [
       "<IPython.core.display.HTML object>"
      ]
     },
     "metadata": {},
     "output_type": "display_data"
    }
   ],
   "source": [
    "times, flux = np.loadtxt('kic7760680_lc.dat').T\n",
    "\n",
    "fig, ax = plt.subplots(1,1,figsize=(6.69,6.69),num=1)\n",
    "ax.plot(times, flux, 'k,')\n",
    "ax.set_xlabel(r'${\\rm BJD-2454800}$',fontsize=18)\n",
    "ax.set_ylabel(r'${\\rm Flux~[ppm]}$',fontsize=18)\n",
    "fig.tight_layout()\n"
   ]
  },
  {
   "cell_type": "code",
   "execution_count": 3,
   "id": "c5333c69",
   "metadata": {},
   "outputs": [],
   "source": [
    "nu, amp = LS_periodogram(times,flux-np.mean(flux))"
   ]
  },
  {
   "cell_type": "code",
   "execution_count": 4,
   "id": "d594ca3b",
   "metadata": {},
   "outputs": [
    {
     "data": {
      "application/javascript": [
       "/* Put everything inside the global mpl namespace */\n",
       "/* global mpl */\n",
       "window.mpl = {};\n",
       "\n",
       "mpl.get_websocket_type = function () {\n",
       "    if (typeof WebSocket !== 'undefined') {\n",
       "        return WebSocket;\n",
       "    } else if (typeof MozWebSocket !== 'undefined') {\n",
       "        return MozWebSocket;\n",
       "    } else {\n",
       "        alert(\n",
       "            'Your browser does not have WebSocket support. ' +\n",
       "                'Please try Chrome, Safari or Firefox ≥ 6. ' +\n",
       "                'Firefox 4 and 5 are also supported but you ' +\n",
       "                'have to enable WebSockets in about:config.'\n",
       "        );\n",
       "    }\n",
       "};\n",
       "\n",
       "mpl.figure = function (figure_id, websocket, ondownload, parent_element) {\n",
       "    this.id = figure_id;\n",
       "\n",
       "    this.ws = websocket;\n",
       "\n",
       "    this.supports_binary = this.ws.binaryType !== undefined;\n",
       "\n",
       "    if (!this.supports_binary) {\n",
       "        var warnings = document.getElementById('mpl-warnings');\n",
       "        if (warnings) {\n",
       "            warnings.style.display = 'block';\n",
       "            warnings.textContent =\n",
       "                'This browser does not support binary websocket messages. ' +\n",
       "                'Performance may be slow.';\n",
       "        }\n",
       "    }\n",
       "\n",
       "    this.imageObj = new Image();\n",
       "\n",
       "    this.context = undefined;\n",
       "    this.message = undefined;\n",
       "    this.canvas = undefined;\n",
       "    this.rubberband_canvas = undefined;\n",
       "    this.rubberband_context = undefined;\n",
       "    this.format_dropdown = undefined;\n",
       "\n",
       "    this.image_mode = 'full';\n",
       "\n",
       "    this.root = document.createElement('div');\n",
       "    this.root.setAttribute('style', 'display: inline-block');\n",
       "    this._root_extra_style(this.root);\n",
       "\n",
       "    parent_element.appendChild(this.root);\n",
       "\n",
       "    this._init_header(this);\n",
       "    this._init_canvas(this);\n",
       "    this._init_toolbar(this);\n",
       "\n",
       "    var fig = this;\n",
       "\n",
       "    this.waiting = false;\n",
       "\n",
       "    this.ws.onopen = function () {\n",
       "        fig.send_message('supports_binary', { value: fig.supports_binary });\n",
       "        fig.send_message('send_image_mode', {});\n",
       "        if (fig.ratio !== 1) {\n",
       "            fig.send_message('set_device_pixel_ratio', {\n",
       "                device_pixel_ratio: fig.ratio,\n",
       "            });\n",
       "        }\n",
       "        fig.send_message('refresh', {});\n",
       "    };\n",
       "\n",
       "    this.imageObj.onload = function () {\n",
       "        if (fig.image_mode === 'full') {\n",
       "            // Full images could contain transparency (where diff images\n",
       "            // almost always do), so we need to clear the canvas so that\n",
       "            // there is no ghosting.\n",
       "            fig.context.clearRect(0, 0, fig.canvas.width, fig.canvas.height);\n",
       "        }\n",
       "        fig.context.drawImage(fig.imageObj, 0, 0);\n",
       "    };\n",
       "\n",
       "    this.imageObj.onunload = function () {\n",
       "        fig.ws.close();\n",
       "    };\n",
       "\n",
       "    this.ws.onmessage = this._make_on_message_function(this);\n",
       "\n",
       "    this.ondownload = ondownload;\n",
       "};\n",
       "\n",
       "mpl.figure.prototype._init_header = function () {\n",
       "    var titlebar = document.createElement('div');\n",
       "    titlebar.classList =\n",
       "        'ui-dialog-titlebar ui-widget-header ui-corner-all ui-helper-clearfix';\n",
       "    var titletext = document.createElement('div');\n",
       "    titletext.classList = 'ui-dialog-title';\n",
       "    titletext.setAttribute(\n",
       "        'style',\n",
       "        'width: 100%; text-align: center; padding: 3px;'\n",
       "    );\n",
       "    titlebar.appendChild(titletext);\n",
       "    this.root.appendChild(titlebar);\n",
       "    this.header = titletext;\n",
       "};\n",
       "\n",
       "mpl.figure.prototype._canvas_extra_style = function (_canvas_div) {};\n",
       "\n",
       "mpl.figure.prototype._root_extra_style = function (_canvas_div) {};\n",
       "\n",
       "mpl.figure.prototype._init_canvas = function () {\n",
       "    var fig = this;\n",
       "\n",
       "    var canvas_div = (this.canvas_div = document.createElement('div'));\n",
       "    canvas_div.setAttribute(\n",
       "        'style',\n",
       "        'border: 1px solid #ddd;' +\n",
       "            'box-sizing: content-box;' +\n",
       "            'clear: both;' +\n",
       "            'min-height: 1px;' +\n",
       "            'min-width: 1px;' +\n",
       "            'outline: 0;' +\n",
       "            'overflow: hidden;' +\n",
       "            'position: relative;' +\n",
       "            'resize: both;'\n",
       "    );\n",
       "\n",
       "    function on_keyboard_event_closure(name) {\n",
       "        return function (event) {\n",
       "            return fig.key_event(event, name);\n",
       "        };\n",
       "    }\n",
       "\n",
       "    canvas_div.addEventListener(\n",
       "        'keydown',\n",
       "        on_keyboard_event_closure('key_press')\n",
       "    );\n",
       "    canvas_div.addEventListener(\n",
       "        'keyup',\n",
       "        on_keyboard_event_closure('key_release')\n",
       "    );\n",
       "\n",
       "    this._canvas_extra_style(canvas_div);\n",
       "    this.root.appendChild(canvas_div);\n",
       "\n",
       "    var canvas = (this.canvas = document.createElement('canvas'));\n",
       "    canvas.classList.add('mpl-canvas');\n",
       "    canvas.setAttribute('style', 'box-sizing: content-box;');\n",
       "\n",
       "    this.context = canvas.getContext('2d');\n",
       "\n",
       "    var backingStore =\n",
       "        this.context.backingStorePixelRatio ||\n",
       "        this.context.webkitBackingStorePixelRatio ||\n",
       "        this.context.mozBackingStorePixelRatio ||\n",
       "        this.context.msBackingStorePixelRatio ||\n",
       "        this.context.oBackingStorePixelRatio ||\n",
       "        this.context.backingStorePixelRatio ||\n",
       "        1;\n",
       "\n",
       "    this.ratio = (window.devicePixelRatio || 1) / backingStore;\n",
       "\n",
       "    var rubberband_canvas = (this.rubberband_canvas = document.createElement(\n",
       "        'canvas'\n",
       "    ));\n",
       "    rubberband_canvas.setAttribute(\n",
       "        'style',\n",
       "        'box-sizing: content-box; position: absolute; left: 0; top: 0; z-index: 1;'\n",
       "    );\n",
       "\n",
       "    // Apply a ponyfill if ResizeObserver is not implemented by browser.\n",
       "    if (this.ResizeObserver === undefined) {\n",
       "        if (window.ResizeObserver !== undefined) {\n",
       "            this.ResizeObserver = window.ResizeObserver;\n",
       "        } else {\n",
       "            var obs = _JSXTOOLS_RESIZE_OBSERVER({});\n",
       "            this.ResizeObserver = obs.ResizeObserver;\n",
       "        }\n",
       "    }\n",
       "\n",
       "    this.resizeObserverInstance = new this.ResizeObserver(function (entries) {\n",
       "        var nentries = entries.length;\n",
       "        for (var i = 0; i < nentries; i++) {\n",
       "            var entry = entries[i];\n",
       "            var width, height;\n",
       "            if (entry.contentBoxSize) {\n",
       "                if (entry.contentBoxSize instanceof Array) {\n",
       "                    // Chrome 84 implements new version of spec.\n",
       "                    width = entry.contentBoxSize[0].inlineSize;\n",
       "                    height = entry.contentBoxSize[0].blockSize;\n",
       "                } else {\n",
       "                    // Firefox implements old version of spec.\n",
       "                    width = entry.contentBoxSize.inlineSize;\n",
       "                    height = entry.contentBoxSize.blockSize;\n",
       "                }\n",
       "            } else {\n",
       "                // Chrome <84 implements even older version of spec.\n",
       "                width = entry.contentRect.width;\n",
       "                height = entry.contentRect.height;\n",
       "            }\n",
       "\n",
       "            // Keep the size of the canvas and rubber band canvas in sync with\n",
       "            // the canvas container.\n",
       "            if (entry.devicePixelContentBoxSize) {\n",
       "                // Chrome 84 implements new version of spec.\n",
       "                canvas.setAttribute(\n",
       "                    'width',\n",
       "                    entry.devicePixelContentBoxSize[0].inlineSize\n",
       "                );\n",
       "                canvas.setAttribute(\n",
       "                    'height',\n",
       "                    entry.devicePixelContentBoxSize[0].blockSize\n",
       "                );\n",
       "            } else {\n",
       "                canvas.setAttribute('width', width * fig.ratio);\n",
       "                canvas.setAttribute('height', height * fig.ratio);\n",
       "            }\n",
       "            canvas.setAttribute(\n",
       "                'style',\n",
       "                'width: ' + width + 'px; height: ' + height + 'px;'\n",
       "            );\n",
       "\n",
       "            rubberband_canvas.setAttribute('width', width);\n",
       "            rubberband_canvas.setAttribute('height', height);\n",
       "\n",
       "            // And update the size in Python. We ignore the initial 0/0 size\n",
       "            // that occurs as the element is placed into the DOM, which should\n",
       "            // otherwise not happen due to the minimum size styling.\n",
       "            if (fig.ws.readyState == 1 && width != 0 && height != 0) {\n",
       "                fig.request_resize(width, height);\n",
       "            }\n",
       "        }\n",
       "    });\n",
       "    this.resizeObserverInstance.observe(canvas_div);\n",
       "\n",
       "    function on_mouse_event_closure(name) {\n",
       "        return function (event) {\n",
       "            return fig.mouse_event(event, name);\n",
       "        };\n",
       "    }\n",
       "\n",
       "    rubberband_canvas.addEventListener(\n",
       "        'mousedown',\n",
       "        on_mouse_event_closure('button_press')\n",
       "    );\n",
       "    rubberband_canvas.addEventListener(\n",
       "        'mouseup',\n",
       "        on_mouse_event_closure('button_release')\n",
       "    );\n",
       "    rubberband_canvas.addEventListener(\n",
       "        'dblclick',\n",
       "        on_mouse_event_closure('dblclick')\n",
       "    );\n",
       "    // Throttle sequential mouse events to 1 every 20ms.\n",
       "    rubberband_canvas.addEventListener(\n",
       "        'mousemove',\n",
       "        on_mouse_event_closure('motion_notify')\n",
       "    );\n",
       "\n",
       "    rubberband_canvas.addEventListener(\n",
       "        'mouseenter',\n",
       "        on_mouse_event_closure('figure_enter')\n",
       "    );\n",
       "    rubberband_canvas.addEventListener(\n",
       "        'mouseleave',\n",
       "        on_mouse_event_closure('figure_leave')\n",
       "    );\n",
       "\n",
       "    canvas_div.addEventListener('wheel', function (event) {\n",
       "        if (event.deltaY < 0) {\n",
       "            event.step = 1;\n",
       "        } else {\n",
       "            event.step = -1;\n",
       "        }\n",
       "        on_mouse_event_closure('scroll')(event);\n",
       "    });\n",
       "\n",
       "    canvas_div.appendChild(canvas);\n",
       "    canvas_div.appendChild(rubberband_canvas);\n",
       "\n",
       "    this.rubberband_context = rubberband_canvas.getContext('2d');\n",
       "    this.rubberband_context.strokeStyle = '#000000';\n",
       "\n",
       "    this._resize_canvas = function (width, height, forward) {\n",
       "        if (forward) {\n",
       "            canvas_div.style.width = width + 'px';\n",
       "            canvas_div.style.height = height + 'px';\n",
       "        }\n",
       "    };\n",
       "\n",
       "    // Disable right mouse context menu.\n",
       "    this.rubberband_canvas.addEventListener('contextmenu', function (_e) {\n",
       "        event.preventDefault();\n",
       "        return false;\n",
       "    });\n",
       "\n",
       "    function set_focus() {\n",
       "        canvas.focus();\n",
       "        canvas_div.focus();\n",
       "    }\n",
       "\n",
       "    window.setTimeout(set_focus, 100);\n",
       "};\n",
       "\n",
       "mpl.figure.prototype._init_toolbar = function () {\n",
       "    var fig = this;\n",
       "\n",
       "    var toolbar = document.createElement('div');\n",
       "    toolbar.classList = 'mpl-toolbar';\n",
       "    this.root.appendChild(toolbar);\n",
       "\n",
       "    function on_click_closure(name) {\n",
       "        return function (_event) {\n",
       "            return fig.toolbar_button_onclick(name);\n",
       "        };\n",
       "    }\n",
       "\n",
       "    function on_mouseover_closure(tooltip) {\n",
       "        return function (event) {\n",
       "            if (!event.currentTarget.disabled) {\n",
       "                return fig.toolbar_button_onmouseover(tooltip);\n",
       "            }\n",
       "        };\n",
       "    }\n",
       "\n",
       "    fig.buttons = {};\n",
       "    var buttonGroup = document.createElement('div');\n",
       "    buttonGroup.classList = 'mpl-button-group';\n",
       "    for (var toolbar_ind in mpl.toolbar_items) {\n",
       "        var name = mpl.toolbar_items[toolbar_ind][0];\n",
       "        var tooltip = mpl.toolbar_items[toolbar_ind][1];\n",
       "        var image = mpl.toolbar_items[toolbar_ind][2];\n",
       "        var method_name = mpl.toolbar_items[toolbar_ind][3];\n",
       "\n",
       "        if (!name) {\n",
       "            /* Instead of a spacer, we start a new button group. */\n",
       "            if (buttonGroup.hasChildNodes()) {\n",
       "                toolbar.appendChild(buttonGroup);\n",
       "            }\n",
       "            buttonGroup = document.createElement('div');\n",
       "            buttonGroup.classList = 'mpl-button-group';\n",
       "            continue;\n",
       "        }\n",
       "\n",
       "        var button = (fig.buttons[name] = document.createElement('button'));\n",
       "        button.classList = 'mpl-widget';\n",
       "        button.setAttribute('role', 'button');\n",
       "        button.setAttribute('aria-disabled', 'false');\n",
       "        button.addEventListener('click', on_click_closure(method_name));\n",
       "        button.addEventListener('mouseover', on_mouseover_closure(tooltip));\n",
       "\n",
       "        var icon_img = document.createElement('img');\n",
       "        icon_img.src = '_images/' + image + '.png';\n",
       "        icon_img.srcset = '_images/' + image + '_large.png 2x';\n",
       "        icon_img.alt = tooltip;\n",
       "        button.appendChild(icon_img);\n",
       "\n",
       "        buttonGroup.appendChild(button);\n",
       "    }\n",
       "\n",
       "    if (buttonGroup.hasChildNodes()) {\n",
       "        toolbar.appendChild(buttonGroup);\n",
       "    }\n",
       "\n",
       "    var fmt_picker = document.createElement('select');\n",
       "    fmt_picker.classList = 'mpl-widget';\n",
       "    toolbar.appendChild(fmt_picker);\n",
       "    this.format_dropdown = fmt_picker;\n",
       "\n",
       "    for (var ind in mpl.extensions) {\n",
       "        var fmt = mpl.extensions[ind];\n",
       "        var option = document.createElement('option');\n",
       "        option.selected = fmt === mpl.default_extension;\n",
       "        option.innerHTML = fmt;\n",
       "        fmt_picker.appendChild(option);\n",
       "    }\n",
       "\n",
       "    var status_bar = document.createElement('span');\n",
       "    status_bar.classList = 'mpl-message';\n",
       "    toolbar.appendChild(status_bar);\n",
       "    this.message = status_bar;\n",
       "};\n",
       "\n",
       "mpl.figure.prototype.request_resize = function (x_pixels, y_pixels) {\n",
       "    // Request matplotlib to resize the figure. Matplotlib will then trigger a resize in the client,\n",
       "    // which will in turn request a refresh of the image.\n",
       "    this.send_message('resize', { width: x_pixels, height: y_pixels });\n",
       "};\n",
       "\n",
       "mpl.figure.prototype.send_message = function (type, properties) {\n",
       "    properties['type'] = type;\n",
       "    properties['figure_id'] = this.id;\n",
       "    this.ws.send(JSON.stringify(properties));\n",
       "};\n",
       "\n",
       "mpl.figure.prototype.send_draw_message = function () {\n",
       "    if (!this.waiting) {\n",
       "        this.waiting = true;\n",
       "        this.ws.send(JSON.stringify({ type: 'draw', figure_id: this.id }));\n",
       "    }\n",
       "};\n",
       "\n",
       "mpl.figure.prototype.handle_save = function (fig, _msg) {\n",
       "    var format_dropdown = fig.format_dropdown;\n",
       "    var format = format_dropdown.options[format_dropdown.selectedIndex].value;\n",
       "    fig.ondownload(fig, format);\n",
       "};\n",
       "\n",
       "mpl.figure.prototype.handle_resize = function (fig, msg) {\n",
       "    var size = msg['size'];\n",
       "    if (size[0] !== fig.canvas.width || size[1] !== fig.canvas.height) {\n",
       "        fig._resize_canvas(size[0], size[1], msg['forward']);\n",
       "        fig.send_message('refresh', {});\n",
       "    }\n",
       "};\n",
       "\n",
       "mpl.figure.prototype.handle_rubberband = function (fig, msg) {\n",
       "    var x0 = msg['x0'] / fig.ratio;\n",
       "    var y0 = (fig.canvas.height - msg['y0']) / fig.ratio;\n",
       "    var x1 = msg['x1'] / fig.ratio;\n",
       "    var y1 = (fig.canvas.height - msg['y1']) / fig.ratio;\n",
       "    x0 = Math.floor(x0) + 0.5;\n",
       "    y0 = Math.floor(y0) + 0.5;\n",
       "    x1 = Math.floor(x1) + 0.5;\n",
       "    y1 = Math.floor(y1) + 0.5;\n",
       "    var min_x = Math.min(x0, x1);\n",
       "    var min_y = Math.min(y0, y1);\n",
       "    var width = Math.abs(x1 - x0);\n",
       "    var height = Math.abs(y1 - y0);\n",
       "\n",
       "    fig.rubberband_context.clearRect(\n",
       "        0,\n",
       "        0,\n",
       "        fig.canvas.width / fig.ratio,\n",
       "        fig.canvas.height / fig.ratio\n",
       "    );\n",
       "\n",
       "    fig.rubberband_context.strokeRect(min_x, min_y, width, height);\n",
       "};\n",
       "\n",
       "mpl.figure.prototype.handle_figure_label = function (fig, msg) {\n",
       "    // Updates the figure title.\n",
       "    fig.header.textContent = msg['label'];\n",
       "};\n",
       "\n",
       "mpl.figure.prototype.handle_cursor = function (fig, msg) {\n",
       "    fig.rubberband_canvas.style.cursor = msg['cursor'];\n",
       "};\n",
       "\n",
       "mpl.figure.prototype.handle_message = function (fig, msg) {\n",
       "    fig.message.textContent = msg['message'];\n",
       "};\n",
       "\n",
       "mpl.figure.prototype.handle_draw = function (fig, _msg) {\n",
       "    // Request the server to send over a new figure.\n",
       "    fig.send_draw_message();\n",
       "};\n",
       "\n",
       "mpl.figure.prototype.handle_image_mode = function (fig, msg) {\n",
       "    fig.image_mode = msg['mode'];\n",
       "};\n",
       "\n",
       "mpl.figure.prototype.handle_history_buttons = function (fig, msg) {\n",
       "    for (var key in msg) {\n",
       "        if (!(key in fig.buttons)) {\n",
       "            continue;\n",
       "        }\n",
       "        fig.buttons[key].disabled = !msg[key];\n",
       "        fig.buttons[key].setAttribute('aria-disabled', !msg[key]);\n",
       "    }\n",
       "};\n",
       "\n",
       "mpl.figure.prototype.handle_navigate_mode = function (fig, msg) {\n",
       "    if (msg['mode'] === 'PAN') {\n",
       "        fig.buttons['Pan'].classList.add('active');\n",
       "        fig.buttons['Zoom'].classList.remove('active');\n",
       "    } else if (msg['mode'] === 'ZOOM') {\n",
       "        fig.buttons['Pan'].classList.remove('active');\n",
       "        fig.buttons['Zoom'].classList.add('active');\n",
       "    } else {\n",
       "        fig.buttons['Pan'].classList.remove('active');\n",
       "        fig.buttons['Zoom'].classList.remove('active');\n",
       "    }\n",
       "};\n",
       "\n",
       "mpl.figure.prototype.updated_canvas_event = function () {\n",
       "    // Called whenever the canvas gets updated.\n",
       "    this.send_message('ack', {});\n",
       "};\n",
       "\n",
       "// A function to construct a web socket function for onmessage handling.\n",
       "// Called in the figure constructor.\n",
       "mpl.figure.prototype._make_on_message_function = function (fig) {\n",
       "    return function socket_on_message(evt) {\n",
       "        if (evt.data instanceof Blob) {\n",
       "            var img = evt.data;\n",
       "            if (img.type !== 'image/png') {\n",
       "                /* FIXME: We get \"Resource interpreted as Image but\n",
       "                 * transferred with MIME type text/plain:\" errors on\n",
       "                 * Chrome.  But how to set the MIME type?  It doesn't seem\n",
       "                 * to be part of the websocket stream */\n",
       "                img.type = 'image/png';\n",
       "            }\n",
       "\n",
       "            /* Free the memory for the previous frames */\n",
       "            if (fig.imageObj.src) {\n",
       "                (window.URL || window.webkitURL).revokeObjectURL(\n",
       "                    fig.imageObj.src\n",
       "                );\n",
       "            }\n",
       "\n",
       "            fig.imageObj.src = (window.URL || window.webkitURL).createObjectURL(\n",
       "                img\n",
       "            );\n",
       "            fig.updated_canvas_event();\n",
       "            fig.waiting = false;\n",
       "            return;\n",
       "        } else if (\n",
       "            typeof evt.data === 'string' &&\n",
       "            evt.data.slice(0, 21) === 'data:image/png;base64'\n",
       "        ) {\n",
       "            fig.imageObj.src = evt.data;\n",
       "            fig.updated_canvas_event();\n",
       "            fig.waiting = false;\n",
       "            return;\n",
       "        }\n",
       "\n",
       "        var msg = JSON.parse(evt.data);\n",
       "        var msg_type = msg['type'];\n",
       "\n",
       "        // Call the  \"handle_{type}\" callback, which takes\n",
       "        // the figure and JSON message as its only arguments.\n",
       "        try {\n",
       "            var callback = fig['handle_' + msg_type];\n",
       "        } catch (e) {\n",
       "            console.log(\n",
       "                \"No handler for the '\" + msg_type + \"' message type: \",\n",
       "                msg\n",
       "            );\n",
       "            return;\n",
       "        }\n",
       "\n",
       "        if (callback) {\n",
       "            try {\n",
       "                // console.log(\"Handling '\" + msg_type + \"' message: \", msg);\n",
       "                callback(fig, msg);\n",
       "            } catch (e) {\n",
       "                console.log(\n",
       "                    \"Exception inside the 'handler_\" + msg_type + \"' callback:\",\n",
       "                    e,\n",
       "                    e.stack,\n",
       "                    msg\n",
       "                );\n",
       "            }\n",
       "        }\n",
       "    };\n",
       "};\n",
       "\n",
       "// from https://stackoverflow.com/questions/1114465/getting-mouse-location-in-canvas\n",
       "mpl.findpos = function (e) {\n",
       "    //this section is from http://www.quirksmode.org/js/events_properties.html\n",
       "    var targ;\n",
       "    if (!e) {\n",
       "        e = window.event;\n",
       "    }\n",
       "    if (e.target) {\n",
       "        targ = e.target;\n",
       "    } else if (e.srcElement) {\n",
       "        targ = e.srcElement;\n",
       "    }\n",
       "    if (targ.nodeType === 3) {\n",
       "        // defeat Safari bug\n",
       "        targ = targ.parentNode;\n",
       "    }\n",
       "\n",
       "    // pageX,Y are the mouse positions relative to the document\n",
       "    var boundingRect = targ.getBoundingClientRect();\n",
       "    var x = e.pageX - (boundingRect.left + document.body.scrollLeft);\n",
       "    var y = e.pageY - (boundingRect.top + document.body.scrollTop);\n",
       "\n",
       "    return { x: x, y: y };\n",
       "};\n",
       "\n",
       "/*\n",
       " * return a copy of an object with only non-object keys\n",
       " * we need this to avoid circular references\n",
       " * https://stackoverflow.com/a/24161582/3208463\n",
       " */\n",
       "function simpleKeys(original) {\n",
       "    return Object.keys(original).reduce(function (obj, key) {\n",
       "        if (typeof original[key] !== 'object') {\n",
       "            obj[key] = original[key];\n",
       "        }\n",
       "        return obj;\n",
       "    }, {});\n",
       "}\n",
       "\n",
       "mpl.figure.prototype.mouse_event = function (event, name) {\n",
       "    var canvas_pos = mpl.findpos(event);\n",
       "\n",
       "    if (name === 'button_press') {\n",
       "        this.canvas.focus();\n",
       "        this.canvas_div.focus();\n",
       "    }\n",
       "\n",
       "    var x = canvas_pos.x * this.ratio;\n",
       "    var y = canvas_pos.y * this.ratio;\n",
       "\n",
       "    this.send_message(name, {\n",
       "        x: x,\n",
       "        y: y,\n",
       "        button: event.button,\n",
       "        step: event.step,\n",
       "        guiEvent: simpleKeys(event),\n",
       "    });\n",
       "\n",
       "    /* This prevents the web browser from automatically changing to\n",
       "     * the text insertion cursor when the button is pressed.  We want\n",
       "     * to control all of the cursor setting manually through the\n",
       "     * 'cursor' event from matplotlib */\n",
       "    event.preventDefault();\n",
       "    return false;\n",
       "};\n",
       "\n",
       "mpl.figure.prototype._key_event_extra = function (_event, _name) {\n",
       "    // Handle any extra behaviour associated with a key event\n",
       "};\n",
       "\n",
       "mpl.figure.prototype.key_event = function (event, name) {\n",
       "    // Prevent repeat events\n",
       "    if (name === 'key_press') {\n",
       "        if (event.key === this._key) {\n",
       "            return;\n",
       "        } else {\n",
       "            this._key = event.key;\n",
       "        }\n",
       "    }\n",
       "    if (name === 'key_release') {\n",
       "        this._key = null;\n",
       "    }\n",
       "\n",
       "    var value = '';\n",
       "    if (event.ctrlKey && event.key !== 'Control') {\n",
       "        value += 'ctrl+';\n",
       "    }\n",
       "    else if (event.altKey && event.key !== 'Alt') {\n",
       "        value += 'alt+';\n",
       "    }\n",
       "    else if (event.shiftKey && event.key !== 'Shift') {\n",
       "        value += 'shift+';\n",
       "    }\n",
       "\n",
       "    value += 'k' + event.key;\n",
       "\n",
       "    this._key_event_extra(event, name);\n",
       "\n",
       "    this.send_message(name, { key: value, guiEvent: simpleKeys(event) });\n",
       "    return false;\n",
       "};\n",
       "\n",
       "mpl.figure.prototype.toolbar_button_onclick = function (name) {\n",
       "    if (name === 'download') {\n",
       "        this.handle_save(this, null);\n",
       "    } else {\n",
       "        this.send_message('toolbar_button', { name: name });\n",
       "    }\n",
       "};\n",
       "\n",
       "mpl.figure.prototype.toolbar_button_onmouseover = function (tooltip) {\n",
       "    this.message.textContent = tooltip;\n",
       "};\n",
       "\n",
       "///////////////// REMAINING CONTENT GENERATED BY embed_js.py /////////////////\n",
       "// prettier-ignore\n",
       "var _JSXTOOLS_RESIZE_OBSERVER=function(A){var t,i=new WeakMap,n=new WeakMap,a=new WeakMap,r=new WeakMap,o=new Set;function s(e){if(!(this instanceof s))throw new TypeError(\"Constructor requires 'new' operator\");i.set(this,e)}function h(){throw new TypeError(\"Function is not a constructor\")}function c(e,t,i,n){e=0 in arguments?Number(arguments[0]):0,t=1 in arguments?Number(arguments[1]):0,i=2 in arguments?Number(arguments[2]):0,n=3 in arguments?Number(arguments[3]):0,this.right=(this.x=this.left=e)+(this.width=i),this.bottom=(this.y=this.top=t)+(this.height=n),Object.freeze(this)}function d(){t=requestAnimationFrame(d);var s=new WeakMap,p=new Set;o.forEach((function(t){r.get(t).forEach((function(i){var r=t instanceof window.SVGElement,o=a.get(t),d=r?0:parseFloat(o.paddingTop),f=r?0:parseFloat(o.paddingRight),l=r?0:parseFloat(o.paddingBottom),u=r?0:parseFloat(o.paddingLeft),g=r?0:parseFloat(o.borderTopWidth),m=r?0:parseFloat(o.borderRightWidth),w=r?0:parseFloat(o.borderBottomWidth),b=u+f,F=d+l,v=(r?0:parseFloat(o.borderLeftWidth))+m,W=g+w,y=r?0:t.offsetHeight-W-t.clientHeight,E=r?0:t.offsetWidth-v-t.clientWidth,R=b+v,z=F+W,M=r?t.width:parseFloat(o.width)-R-E,O=r?t.height:parseFloat(o.height)-z-y;if(n.has(t)){var k=n.get(t);if(k[0]===M&&k[1]===O)return}n.set(t,[M,O]);var S=Object.create(h.prototype);S.target=t,S.contentRect=new c(u,d,M,O),s.has(i)||(s.set(i,[]),p.add(i)),s.get(i).push(S)}))})),p.forEach((function(e){i.get(e).call(e,s.get(e),e)}))}return s.prototype.observe=function(i){if(i instanceof window.Element){r.has(i)||(r.set(i,new Set),o.add(i),a.set(i,window.getComputedStyle(i)));var n=r.get(i);n.has(this)||n.add(this),cancelAnimationFrame(t),t=requestAnimationFrame(d)}},s.prototype.unobserve=function(i){if(i instanceof window.Element&&r.has(i)){var n=r.get(i);n.has(this)&&(n.delete(this),n.size||(r.delete(i),o.delete(i))),n.size||r.delete(i),o.size||cancelAnimationFrame(t)}},A.DOMRectReadOnly=c,A.ResizeObserver=s,A.ResizeObserverEntry=h,A}; // eslint-disable-line\n",
       "mpl.toolbar_items = [[\"Home\", \"Reset original view\", \"fa fa-home\", \"home\"], [\"Back\", \"Back to previous view\", \"fa fa-arrow-left\", \"back\"], [\"Forward\", \"Forward to next view\", \"fa fa-arrow-right\", \"forward\"], [\"\", \"\", \"\", \"\"], [\"Pan\", \"Left button pans, Right button zooms\\nx/y fixes axis, CTRL fixes aspect\", \"fa fa-arrows\", \"pan\"], [\"Zoom\", \"Zoom to rectangle\\nx/y fixes axis\", \"fa fa-square-o\", \"zoom\"], [\"\", \"\", \"\", \"\"], [\"Download\", \"Download plot\", \"fa fa-floppy-o\", \"download\"]];\n",
       "\n",
       "mpl.extensions = [\"eps\", \"jpeg\", \"pgf\", \"pdf\", \"png\", \"ps\", \"raw\", \"svg\", \"tif\", \"webp\"];\n",
       "\n",
       "mpl.default_extension = \"png\";/* global mpl */\n",
       "\n",
       "var comm_websocket_adapter = function (comm) {\n",
       "    // Create a \"websocket\"-like object which calls the given IPython comm\n",
       "    // object with the appropriate methods. Currently this is a non binary\n",
       "    // socket, so there is still some room for performance tuning.\n",
       "    var ws = {};\n",
       "\n",
       "    ws.binaryType = comm.kernel.ws.binaryType;\n",
       "    ws.readyState = comm.kernel.ws.readyState;\n",
       "    function updateReadyState(_event) {\n",
       "        if (comm.kernel.ws) {\n",
       "            ws.readyState = comm.kernel.ws.readyState;\n",
       "        } else {\n",
       "            ws.readyState = 3; // Closed state.\n",
       "        }\n",
       "    }\n",
       "    comm.kernel.ws.addEventListener('open', updateReadyState);\n",
       "    comm.kernel.ws.addEventListener('close', updateReadyState);\n",
       "    comm.kernel.ws.addEventListener('error', updateReadyState);\n",
       "\n",
       "    ws.close = function () {\n",
       "        comm.close();\n",
       "    };\n",
       "    ws.send = function (m) {\n",
       "        //console.log('sending', m);\n",
       "        comm.send(m);\n",
       "    };\n",
       "    // Register the callback with on_msg.\n",
       "    comm.on_msg(function (msg) {\n",
       "        //console.log('receiving', msg['content']['data'], msg);\n",
       "        var data = msg['content']['data'];\n",
       "        if (data['blob'] !== undefined) {\n",
       "            data = {\n",
       "                data: new Blob(msg['buffers'], { type: data['blob'] }),\n",
       "            };\n",
       "        }\n",
       "        // Pass the mpl event to the overridden (by mpl) onmessage function.\n",
       "        ws.onmessage(data);\n",
       "    });\n",
       "    return ws;\n",
       "};\n",
       "\n",
       "mpl.mpl_figure_comm = function (comm, msg) {\n",
       "    // This is the function which gets called when the mpl process\n",
       "    // starts-up an IPython Comm through the \"matplotlib\" channel.\n",
       "\n",
       "    var id = msg.content.data.id;\n",
       "    // Get hold of the div created by the display call when the Comm\n",
       "    // socket was opened in Python.\n",
       "    var element = document.getElementById(id);\n",
       "    var ws_proxy = comm_websocket_adapter(comm);\n",
       "\n",
       "    function ondownload(figure, _format) {\n",
       "        window.open(figure.canvas.toDataURL());\n",
       "    }\n",
       "\n",
       "    var fig = new mpl.figure(id, ws_proxy, ondownload, element);\n",
       "\n",
       "    // Call onopen now - mpl needs it, as it is assuming we've passed it a real\n",
       "    // web socket which is closed, not our websocket->open comm proxy.\n",
       "    ws_proxy.onopen();\n",
       "\n",
       "    fig.parent_element = element;\n",
       "    fig.cell_info = mpl.find_output_cell(\"<div id='\" + id + \"'></div>\");\n",
       "    if (!fig.cell_info) {\n",
       "        console.error('Failed to find cell for figure', id, fig);\n",
       "        return;\n",
       "    }\n",
       "    fig.cell_info[0].output_area.element.on(\n",
       "        'cleared',\n",
       "        { fig: fig },\n",
       "        fig._remove_fig_handler\n",
       "    );\n",
       "};\n",
       "\n",
       "mpl.figure.prototype.handle_close = function (fig, msg) {\n",
       "    var width = fig.canvas.width / fig.ratio;\n",
       "    fig.cell_info[0].output_area.element.off(\n",
       "        'cleared',\n",
       "        fig._remove_fig_handler\n",
       "    );\n",
       "    fig.resizeObserverInstance.unobserve(fig.canvas_div);\n",
       "\n",
       "    // Update the output cell to use the data from the current canvas.\n",
       "    fig.push_to_output();\n",
       "    var dataURL = fig.canvas.toDataURL();\n",
       "    // Re-enable the keyboard manager in IPython - without this line, in FF,\n",
       "    // the notebook keyboard shortcuts fail.\n",
       "    IPython.keyboard_manager.enable();\n",
       "    fig.parent_element.innerHTML =\n",
       "        '<img src=\"' + dataURL + '\" width=\"' + width + '\">';\n",
       "    fig.close_ws(fig, msg);\n",
       "};\n",
       "\n",
       "mpl.figure.prototype.close_ws = function (fig, msg) {\n",
       "    fig.send_message('closing', msg);\n",
       "    // fig.ws.close()\n",
       "};\n",
       "\n",
       "mpl.figure.prototype.push_to_output = function (_remove_interactive) {\n",
       "    // Turn the data on the canvas into data in the output cell.\n",
       "    var width = this.canvas.width / this.ratio;\n",
       "    var dataURL = this.canvas.toDataURL();\n",
       "    this.cell_info[1]['text/html'] =\n",
       "        '<img src=\"' + dataURL + '\" width=\"' + width + '\">';\n",
       "};\n",
       "\n",
       "mpl.figure.prototype.updated_canvas_event = function () {\n",
       "    // Tell IPython that the notebook contents must change.\n",
       "    IPython.notebook.set_dirty(true);\n",
       "    this.send_message('ack', {});\n",
       "    var fig = this;\n",
       "    // Wait a second, then push the new image to the DOM so\n",
       "    // that it is saved nicely (might be nice to debounce this).\n",
       "    setTimeout(function () {\n",
       "        fig.push_to_output();\n",
       "    }, 1000);\n",
       "};\n",
       "\n",
       "mpl.figure.prototype._init_toolbar = function () {\n",
       "    var fig = this;\n",
       "\n",
       "    var toolbar = document.createElement('div');\n",
       "    toolbar.classList = 'btn-toolbar';\n",
       "    this.root.appendChild(toolbar);\n",
       "\n",
       "    function on_click_closure(name) {\n",
       "        return function (_event) {\n",
       "            return fig.toolbar_button_onclick(name);\n",
       "        };\n",
       "    }\n",
       "\n",
       "    function on_mouseover_closure(tooltip) {\n",
       "        return function (event) {\n",
       "            if (!event.currentTarget.disabled) {\n",
       "                return fig.toolbar_button_onmouseover(tooltip);\n",
       "            }\n",
       "        };\n",
       "    }\n",
       "\n",
       "    fig.buttons = {};\n",
       "    var buttonGroup = document.createElement('div');\n",
       "    buttonGroup.classList = 'btn-group';\n",
       "    var button;\n",
       "    for (var toolbar_ind in mpl.toolbar_items) {\n",
       "        var name = mpl.toolbar_items[toolbar_ind][0];\n",
       "        var tooltip = mpl.toolbar_items[toolbar_ind][1];\n",
       "        var image = mpl.toolbar_items[toolbar_ind][2];\n",
       "        var method_name = mpl.toolbar_items[toolbar_ind][3];\n",
       "\n",
       "        if (!name) {\n",
       "            /* Instead of a spacer, we start a new button group. */\n",
       "            if (buttonGroup.hasChildNodes()) {\n",
       "                toolbar.appendChild(buttonGroup);\n",
       "            }\n",
       "            buttonGroup = document.createElement('div');\n",
       "            buttonGroup.classList = 'btn-group';\n",
       "            continue;\n",
       "        }\n",
       "\n",
       "        button = fig.buttons[name] = document.createElement('button');\n",
       "        button.classList = 'btn btn-default';\n",
       "        button.href = '#';\n",
       "        button.title = name;\n",
       "        button.innerHTML = '<i class=\"fa ' + image + ' fa-lg\"></i>';\n",
       "        button.addEventListener('click', on_click_closure(method_name));\n",
       "        button.addEventListener('mouseover', on_mouseover_closure(tooltip));\n",
       "        buttonGroup.appendChild(button);\n",
       "    }\n",
       "\n",
       "    if (buttonGroup.hasChildNodes()) {\n",
       "        toolbar.appendChild(buttonGroup);\n",
       "    }\n",
       "\n",
       "    // Add the status bar.\n",
       "    var status_bar = document.createElement('span');\n",
       "    status_bar.classList = 'mpl-message pull-right';\n",
       "    toolbar.appendChild(status_bar);\n",
       "    this.message = status_bar;\n",
       "\n",
       "    // Add the close button to the window.\n",
       "    var buttongrp = document.createElement('div');\n",
       "    buttongrp.classList = 'btn-group inline pull-right';\n",
       "    button = document.createElement('button');\n",
       "    button.classList = 'btn btn-mini btn-primary';\n",
       "    button.href = '#';\n",
       "    button.title = 'Stop Interaction';\n",
       "    button.innerHTML = '<i class=\"fa fa-power-off icon-remove icon-large\"></i>';\n",
       "    button.addEventListener('click', function (_evt) {\n",
       "        fig.handle_close(fig, {});\n",
       "    });\n",
       "    button.addEventListener(\n",
       "        'mouseover',\n",
       "        on_mouseover_closure('Stop Interaction')\n",
       "    );\n",
       "    buttongrp.appendChild(button);\n",
       "    var titlebar = this.root.querySelector('.ui-dialog-titlebar');\n",
       "    titlebar.insertBefore(buttongrp, titlebar.firstChild);\n",
       "};\n",
       "\n",
       "mpl.figure.prototype._remove_fig_handler = function (event) {\n",
       "    var fig = event.data.fig;\n",
       "    if (event.target !== this) {\n",
       "        // Ignore bubbled events from children.\n",
       "        return;\n",
       "    }\n",
       "    fig.close_ws(fig, {});\n",
       "};\n",
       "\n",
       "mpl.figure.prototype._root_extra_style = function (el) {\n",
       "    el.style.boxSizing = 'content-box'; // override notebook setting of border-box.\n",
       "};\n",
       "\n",
       "mpl.figure.prototype._canvas_extra_style = function (el) {\n",
       "    // this is important to make the div 'focusable\n",
       "    el.setAttribute('tabindex', 0);\n",
       "    // reach out to IPython and tell the keyboard manager to turn it's self\n",
       "    // off when our div gets focus\n",
       "\n",
       "    // location in version 3\n",
       "    if (IPython.notebook.keyboard_manager) {\n",
       "        IPython.notebook.keyboard_manager.register_events(el);\n",
       "    } else {\n",
       "        // location in version 2\n",
       "        IPython.keyboard_manager.register_events(el);\n",
       "    }\n",
       "};\n",
       "\n",
       "mpl.figure.prototype._key_event_extra = function (event, _name) {\n",
       "    // Check for shift+enter\n",
       "    if (event.shiftKey && event.which === 13) {\n",
       "        this.canvas_div.blur();\n",
       "        // select the cell after this one\n",
       "        var index = IPython.notebook.find_cell_index(this.cell_info[0]);\n",
       "        IPython.notebook.select(index + 1);\n",
       "    }\n",
       "};\n",
       "\n",
       "mpl.figure.prototype.handle_save = function (fig, _msg) {\n",
       "    fig.ondownload(fig, null);\n",
       "};\n",
       "\n",
       "mpl.find_output_cell = function (html_output) {\n",
       "    // Return the cell and output element which can be found *uniquely* in the notebook.\n",
       "    // Note - this is a bit hacky, but it is done because the \"notebook_saving.Notebook\"\n",
       "    // IPython event is triggered only after the cells have been serialised, which for\n",
       "    // our purposes (turning an active figure into a static one), is too late.\n",
       "    var cells = IPython.notebook.get_cells();\n",
       "    var ncells = cells.length;\n",
       "    for (var i = 0; i < ncells; i++) {\n",
       "        var cell = cells[i];\n",
       "        if (cell.cell_type === 'code') {\n",
       "            for (var j = 0; j < cell.output_area.outputs.length; j++) {\n",
       "                var data = cell.output_area.outputs[j];\n",
       "                if (data.data) {\n",
       "                    // IPython >= 3 moved mimebundle to data attribute of output\n",
       "                    data = data.data;\n",
       "                }\n",
       "                if (data['text/html'] === html_output) {\n",
       "                    return [cell, data, j];\n",
       "                }\n",
       "            }\n",
       "        }\n",
       "    }\n",
       "};\n",
       "\n",
       "// Register the function which deals with the matplotlib target/channel.\n",
       "// The kernel may be null if the page has been refreshed.\n",
       "if (IPython.notebook.kernel !== null) {\n",
       "    IPython.notebook.kernel.comm_manager.register_target(\n",
       "        'matplotlib',\n",
       "        mpl.mpl_figure_comm\n",
       "    );\n",
       "}\n"
      ],
      "text/plain": [
       "<IPython.core.display.Javascript object>"
      ]
     },
     "metadata": {},
     "output_type": "display_data"
    },
    {
     "data": {
      "text/html": [
       "<img src=\"data:image/png;base64,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\" width=\"670\">"
      ],
      "text/plain": [
       "<IPython.core.display.HTML object>"
      ]
     },
     "metadata": {},
     "output_type": "display_data"
    }
   ],
   "source": [
    "fig,ax = plt.subplots(1,1,figsize=(6.6957,6.6957),num=2)\n",
    "ax.plot(nu,amp,'k-')\n",
    "ax.set_xlabel(r'$\\nu\\,\\,{\\rm [d^{-1}]}$',fontsize=14)\n",
    "ax.set_ylabel(r'${\\rm Amplitude\\,\\,[ppm]}$',fontsize=14)\n",
    "ax.set_xlim(0.,24.4)\n",
    "fig.tight_layout()"
   ]
  },
  {
   "cell_type": "markdown",
   "id": "6d36848d",
   "metadata": {},
   "source": [
    "As we can see from the light curve, there's a lot of beating going on. Seeing this, we know to expect at least a few closely separated frequencies!"
   ]
  },
  {
   "cell_type": "code",
   "execution_count": 6,
   "id": "6a785013",
   "metadata": {
    "scrolled": true
   },
   "outputs": [
    {
     "name": "stderr",
     "output_type": "stream",
     "text": [
      "optimizing logp for variables: [phase]\n"
     ]
    },
    {
     "data": {
      "text/html": [
       "\n",
       "<style>\n",
       "    /* Turns off some styling */\n",
       "    progress {\n",
       "        /* gets rid of default border in Firefox and Opera. */\n",
       "        border: none;\n",
       "        /* Needs to be in here for Safari polyfill so background images work as expected. */\n",
       "        background-size: auto;\n",
       "    }\n",
       "    progress:not([value]), progress:not([value])::-webkit-progress-bar {\n",
       "        background: repeating-linear-gradient(45deg, #7e7e7e, #7e7e7e 10px, #5c5c5c 10px, #5c5c5c 20px);\n",
       "    }\n",
       "    .progress-bar-interrupted, .progress-bar-interrupted::-webkit-progress-bar {\n",
       "        background: #F44336;\n",
       "    }\n",
       "</style>\n"
      ],
      "text/plain": [
       "<IPython.core.display.HTML object>"
      ]
     },
     "metadata": {},
     "output_type": "display_data"
    },
    {
     "data": {
      "text/html": [
       "\n",
       "    <div>\n",
       "      <progress value='10' class='' max='10' style='width:300px; height:20px; vertical-align: middle;'></progress>\n",
       "      100.00% [10/10 00:00&lt;00:00 logp = -1.672e+06]\n",
       "    </div>\n",
       "    "
      ],
      "text/plain": [
       "<IPython.core.display.HTML object>"
      ]
     },
     "metadata": {},
     "output_type": "display_data"
    },
    {
     "name": "stdout",
     "output_type": "stream",
     "text": [
      "\n"
     ]
    },
    {
     "name": "stderr",
     "output_type": "stream",
     "text": [
      "message: Desired error not necessarily achieved due to precision loss.\n",
      "logp: -7260872.297874538 -> -1671924.995068082\n",
      "optimizing logp for variables: [offset, phase, amp, nu]\n"
     ]
    },
    {
     "data": {
      "text/html": [
       "\n",
       "<style>\n",
       "    /* Turns off some styling */\n",
       "    progress {\n",
       "        /* gets rid of default border in Firefox and Opera. */\n",
       "        border: none;\n",
       "        /* Needs to be in here for Safari polyfill so background images work as expected. */\n",
       "        background-size: auto;\n",
       "    }\n",
       "    progress:not([value]), progress:not([value])::-webkit-progress-bar {\n",
       "        background: repeating-linear-gradient(45deg, #7e7e7e, #7e7e7e 10px, #5c5c5c 10px, #5c5c5c 20px);\n",
       "    }\n",
       "    .progress-bar-interrupted, .progress-bar-interrupted::-webkit-progress-bar {\n",
       "        background: #F44336;\n",
       "    }\n",
       "</style>\n"
      ],
      "text/plain": [
       "<IPython.core.display.HTML object>"
      ]
     },
     "metadata": {},
     "output_type": "display_data"
    },
    {
     "data": {
      "text/html": [
       "\n",
       "    <div>\n",
       "      <progress value='44' class='' max='44' style='width:300px; height:20px; vertical-align: middle;'></progress>\n",
       "      100.00% [44/44 00:00&lt;00:00 logp = -1.670e+06]\n",
       "    </div>\n",
       "    "
      ],
      "text/plain": [
       "<IPython.core.display.HTML object>"
      ]
     },
     "metadata": {},
     "output_type": "display_data"
    },
    {
     "name": "stdout",
     "output_type": "stream",
     "text": [
      "\n"
     ]
    },
    {
     "name": "stderr",
     "output_type": "stream",
     "text": [
      "message: Desired error not necessarily achieved due to precision loss.\n",
      "logp: -1671924.995068082 -> -1669778.3902996588\n",
      "optimizing logp for variables: [phase]\n"
     ]
    },
    {
     "data": {
      "text/html": [
       "\n",
       "<style>\n",
       "    /* Turns off some styling */\n",
       "    progress {\n",
       "        /* gets rid of default border in Firefox and Opera. */\n",
       "        border: none;\n",
       "        /* Needs to be in here for Safari polyfill so background images work as expected. */\n",
       "        background-size: auto;\n",
       "    }\n",
       "    progress:not([value]), progress:not([value])::-webkit-progress-bar {\n",
       "        background: repeating-linear-gradient(45deg, #7e7e7e, #7e7e7e 10px, #5c5c5c 10px, #5c5c5c 20px);\n",
       "    }\n",
       "    .progress-bar-interrupted, .progress-bar-interrupted::-webkit-progress-bar {\n",
       "        background: #F44336;\n",
       "    }\n",
       "</style>\n"
      ],
      "text/plain": [
       "<IPython.core.display.HTML object>"
      ]
     },
     "metadata": {},
     "output_type": "display_data"
    },
    {
     "data": {
      "text/html": [
       "\n",
       "    <div>\n",
       "      <progress value='18' class='' max='18' style='width:300px; height:20px; vertical-align: middle;'></progress>\n",
       "      100.00% [18/18 00:00&lt;00:00 logp = -1.019e+06]\n",
       "    </div>\n",
       "    "
      ],
      "text/plain": [
       "<IPython.core.display.HTML object>"
      ]
     },
     "metadata": {},
     "output_type": "display_data"
    },
    {
     "name": "stderr",
     "output_type": "stream",
     "text": [
      "message: Desired error not necessarily achieved due to precision loss.\n",
      "logp: -2629240.008119801 -> -1019200.5716668499\n"
     ]
    },
    {
     "name": "stdout",
     "output_type": "stream",
     "text": [
      "\n"
     ]
    },
    {
     "name": "stderr",
     "output_type": "stream",
     "text": [
      "optimizing logp for variables: [phase, amp, nu]\n"
     ]
    },
    {
     "data": {
      "text/html": [
       "\n",
       "<style>\n",
       "    /* Turns off some styling */\n",
       "    progress {\n",
       "        /* gets rid of default border in Firefox and Opera. */\n",
       "        border: none;\n",
       "        /* Needs to be in here for Safari polyfill so background images work as expected. */\n",
       "        background-size: auto;\n",
       "    }\n",
       "    progress:not([value]), progress:not([value])::-webkit-progress-bar {\n",
       "        background: repeating-linear-gradient(45deg, #7e7e7e, #7e7e7e 10px, #5c5c5c 10px, #5c5c5c 20px);\n",
       "    }\n",
       "    .progress-bar-interrupted, .progress-bar-interrupted::-webkit-progress-bar {\n",
       "        background: #F44336;\n",
       "    }\n",
       "</style>\n"
      ],
      "text/plain": [
       "<IPython.core.display.HTML object>"
      ]
     },
     "metadata": {},
     "output_type": "display_data"
    },
    {
     "data": {
      "text/html": [
       "\n",
       "    <div>\n",
       "      <progress value='69' class='' max='69' style='width:300px; height:20px; vertical-align: middle;'></progress>\n",
       "      100.00% [69/69 00:00&lt;00:00 logp = -1.018e+06]\n",
       "    </div>\n",
       "    "
      ],
      "text/plain": [
       "<IPython.core.display.HTML object>"
      ]
     },
     "metadata": {},
     "output_type": "display_data"
    },
    {
     "name": "stdout",
     "output_type": "stream",
     "text": [
      "\n"
     ]
    },
    {
     "name": "stderr",
     "output_type": "stream",
     "text": [
      "message: Desired error not necessarily achieved due to precision loss.\n",
      "logp: -1019200.5716668499 -> -1018167.7931593189\n",
      "optimizing logp for variables: [phase]\n"
     ]
    },
    {
     "data": {
      "text/html": [
       "\n",
       "<style>\n",
       "    /* Turns off some styling */\n",
       "    progress {\n",
       "        /* gets rid of default border in Firefox and Opera. */\n",
       "        border: none;\n",
       "        /* Needs to be in here for Safari polyfill so background images work as expected. */\n",
       "        background-size: auto;\n",
       "    }\n",
       "    progress:not([value]), progress:not([value])::-webkit-progress-bar {\n",
       "        background: repeating-linear-gradient(45deg, #7e7e7e, #7e7e7e 10px, #5c5c5c 10px, #5c5c5c 20px);\n",
       "    }\n",
       "    .progress-bar-interrupted, .progress-bar-interrupted::-webkit-progress-bar {\n",
       "        background: #F44336;\n",
       "    }\n",
       "</style>\n"
      ],
      "text/plain": [
       "<IPython.core.display.HTML object>"
      ]
     },
     "metadata": {},
     "output_type": "display_data"
    },
    {
     "data": {
      "text/html": [
       "\n",
       "    <div>\n",
       "      <progress value='8' class='' max='8' style='width:300px; height:20px; vertical-align: middle;'></progress>\n",
       "      100.00% [8/8 00:00&lt;00:00 logp = -7.221e+05]\n",
       "    </div>\n",
       "    "
      ],
      "text/plain": [
       "<IPython.core.display.HTML object>"
      ]
     },
     "metadata": {},
     "output_type": "display_data"
    },
    {
     "name": "stderr",
     "output_type": "stream",
     "text": [
      "message: Desired error not necessarily achieved due to precision loss.\n",
      "logp: -723758.8379458919 -> -722092.2408319736\n"
     ]
    },
    {
     "name": "stdout",
     "output_type": "stream",
     "text": [
      "\n"
     ]
    },
    {
     "name": "stderr",
     "output_type": "stream",
     "text": [
      "optimizing logp for variables: [phase, amp, nu]\n"
     ]
    },
    {
     "data": {
      "text/html": [
       "\n",
       "<style>\n",
       "    /* Turns off some styling */\n",
       "    progress {\n",
       "        /* gets rid of default border in Firefox and Opera. */\n",
       "        border: none;\n",
       "        /* Needs to be in here for Safari polyfill so background images work as expected. */\n",
       "        background-size: auto;\n",
       "    }\n",
       "    progress:not([value]), progress:not([value])::-webkit-progress-bar {\n",
       "        background: repeating-linear-gradient(45deg, #7e7e7e, #7e7e7e 10px, #5c5c5c 10px, #5c5c5c 20px);\n",
       "    }\n",
       "    .progress-bar-interrupted, .progress-bar-interrupted::-webkit-progress-bar {\n",
       "        background: #F44336;\n",
       "    }\n",
       "</style>\n"
      ],
      "text/plain": [
       "<IPython.core.display.HTML object>"
      ]
     },
     "metadata": {},
     "output_type": "display_data"
    },
    {
     "data": {
      "text/html": [
       "\n",
       "    <div>\n",
       "      <progress value='32' class='' max='32' style='width:300px; height:20px; vertical-align: middle;'></progress>\n",
       "      100.00% [32/32 00:00&lt;00:00 logp = -7.206e+05]\n",
       "    </div>\n",
       "    "
      ],
      "text/plain": [
       "<IPython.core.display.HTML object>"
      ]
     },
     "metadata": {},
     "output_type": "display_data"
    },
    {
     "name": "stdout",
     "output_type": "stream",
     "text": [
      "\n"
     ]
    },
    {
     "name": "stderr",
     "output_type": "stream",
     "text": [
      "message: Desired error not necessarily achieved due to precision loss.\n",
      "logp: -722092.2408319736 -> -720551.8804129795\n",
      "optimizing logp for variables: [phase]\n"
     ]
    },
    {
     "data": {
      "text/html": [
       "\n",
       "<style>\n",
       "    /* Turns off some styling */\n",
       "    progress {\n",
       "        /* gets rid of default border in Firefox and Opera. */\n",
       "        border: none;\n",
       "        /* Needs to be in here for Safari polyfill so background images work as expected. */\n",
       "        background-size: auto;\n",
       "    }\n",
       "    progress:not([value]), progress:not([value])::-webkit-progress-bar {\n",
       "        background: repeating-linear-gradient(45deg, #7e7e7e, #7e7e7e 10px, #5c5c5c 10px, #5c5c5c 20px);\n",
       "    }\n",
       "    .progress-bar-interrupted, .progress-bar-interrupted::-webkit-progress-bar {\n",
       "        background: #F44336;\n",
       "    }\n",
       "</style>\n"
      ],
      "text/plain": [
       "<IPython.core.display.HTML object>"
      ]
     },
     "metadata": {},
     "output_type": "display_data"
    },
    {
     "data": {
      "text/html": [
       "\n",
       "    <div>\n",
       "      <progress value='11' class='' max='11' style='width:300px; height:20px; vertical-align: middle;'></progress>\n",
       "      100.00% [11/11 00:00&lt;00:00 logp = -6.406e+05]\n",
       "    </div>\n",
       "    "
      ],
      "text/plain": [
       "<IPython.core.display.HTML object>"
      ]
     },
     "metadata": {},
     "output_type": "display_data"
    },
    {
     "name": "stderr",
     "output_type": "stream",
     "text": [
      "message: Optimization terminated successfully.\n",
      "logp: -958031.940446697 -> -640644.2495088229\n"
     ]
    },
    {
     "name": "stdout",
     "output_type": "stream",
     "text": [
      "\n"
     ]
    },
    {
     "name": "stderr",
     "output_type": "stream",
     "text": [
      "optimizing logp for variables: [phase, amp, nu]\n"
     ]
    },
    {
     "data": {
      "text/html": [
       "\n",
       "<style>\n",
       "    /* Turns off some styling */\n",
       "    progress {\n",
       "        /* gets rid of default border in Firefox and Opera. */\n",
       "        border: none;\n",
       "        /* Needs to be in here for Safari polyfill so background images work as expected. */\n",
       "        background-size: auto;\n",
       "    }\n",
       "    progress:not([value]), progress:not([value])::-webkit-progress-bar {\n",
       "        background: repeating-linear-gradient(45deg, #7e7e7e, #7e7e7e 10px, #5c5c5c 10px, #5c5c5c 20px);\n",
       "    }\n",
       "    .progress-bar-interrupted, .progress-bar-interrupted::-webkit-progress-bar {\n",
       "        background: #F44336;\n",
       "    }\n",
       "</style>\n"
      ],
      "text/plain": [
       "<IPython.core.display.HTML object>"
      ]
     },
     "metadata": {},
     "output_type": "display_data"
    },
    {
     "data": {
      "text/html": [
       "\n",
       "    <div>\n",
       "      <progress value='28' class='' max='28' style='width:300px; height:20px; vertical-align: middle;'></progress>\n",
       "      100.00% [28/28 00:00&lt;00:00 logp = -6.405e+05]\n",
       "    </div>\n",
       "    "
      ],
      "text/plain": [
       "<IPython.core.display.HTML object>"
      ]
     },
     "metadata": {},
     "output_type": "display_data"
    },
    {
     "name": "stdout",
     "output_type": "stream",
     "text": [
      "\n"
     ]
    },
    {
     "name": "stderr",
     "output_type": "stream",
     "text": [
      "message: Desired error not necessarily achieved due to precision loss.\n",
      "logp: -640644.2495088229 -> -640520.0918446616\n",
      "optimizing logp for variables: [phase]\n"
     ]
    },
    {
     "data": {
      "text/html": [
       "\n",
       "<style>\n",
       "    /* Turns off some styling */\n",
       "    progress {\n",
       "        /* gets rid of default border in Firefox and Opera. */\n",
       "        border: none;\n",
       "        /* Needs to be in here for Safari polyfill so background images work as expected. */\n",
       "        background-size: auto;\n",
       "    }\n",
       "    progress:not([value]), progress:not([value])::-webkit-progress-bar {\n",
       "        background: repeating-linear-gradient(45deg, #7e7e7e, #7e7e7e 10px, #5c5c5c 10px, #5c5c5c 20px);\n",
       "    }\n",
       "    .progress-bar-interrupted, .progress-bar-interrupted::-webkit-progress-bar {\n",
       "        background: #F44336;\n",
       "    }\n",
       "</style>\n"
      ],
      "text/plain": [
       "<IPython.core.display.HTML object>"
      ]
     },
     "metadata": {},
     "output_type": "display_data"
    },
    {
     "data": {
      "text/html": [
       "\n",
       "    <div>\n",
       "      <progress value='8' class='' max='8' style='width:300px; height:20px; vertical-align: middle;'></progress>\n",
       "      100.00% [8/8 00:00&lt;00:00 logp = -5.906e+05]\n",
       "    </div>\n",
       "    "
      ],
      "text/plain": [
       "<IPython.core.display.HTML object>"
      ]
     },
     "metadata": {},
     "output_type": "display_data"
    },
    {
     "name": "stderr",
     "output_type": "stream",
     "text": [
      "message: Optimization terminated successfully.\n",
      "logp: -605741.4034953549 -> -590615.5222008128\n"
     ]
    },
    {
     "name": "stdout",
     "output_type": "stream",
     "text": [
      "\n"
     ]
    },
    {
     "name": "stderr",
     "output_type": "stream",
     "text": [
      "optimizing logp for variables: [phase, amp, nu]\n"
     ]
    },
    {
     "data": {
      "text/html": [
       "\n",
       "<style>\n",
       "    /* Turns off some styling */\n",
       "    progress {\n",
       "        /* gets rid of default border in Firefox and Opera. */\n",
       "        border: none;\n",
       "        /* Needs to be in here for Safari polyfill so background images work as expected. */\n",
       "        background-size: auto;\n",
       "    }\n",
       "    progress:not([value]), progress:not([value])::-webkit-progress-bar {\n",
       "        background: repeating-linear-gradient(45deg, #7e7e7e, #7e7e7e 10px, #5c5c5c 10px, #5c5c5c 20px);\n",
       "    }\n",
       "    .progress-bar-interrupted, .progress-bar-interrupted::-webkit-progress-bar {\n",
       "        background: #F44336;\n",
       "    }\n",
       "</style>\n"
      ],
      "text/plain": [
       "<IPython.core.display.HTML object>"
      ]
     },
     "metadata": {},
     "output_type": "display_data"
    },
    {
     "data": {
      "text/html": [
       "\n",
       "    <div>\n",
       "      <progress value='35' class='' max='35' style='width:300px; height:20px; vertical-align: middle;'></progress>\n",
       "      100.00% [35/35 00:00&lt;00:00 logp = -5.906e+05]\n",
       "    </div>\n",
       "    "
      ],
      "text/plain": [
       "<IPython.core.display.HTML object>"
      ]
     },
     "metadata": {},
     "output_type": "display_data"
    },
    {
     "name": "stdout",
     "output_type": "stream",
     "text": [
      "\n"
     ]
    },
    {
     "name": "stderr",
     "output_type": "stream",
     "text": [
      "message: Desired error not necessarily achieved due to precision loss.\n",
      "logp: -590615.5222008128 -> -590552.0340929527\n",
      "optimizing logp for variables: [phase]\n"
     ]
    },
    {
     "data": {
      "text/html": [
       "\n",
       "<style>\n",
       "    /* Turns off some styling */\n",
       "    progress {\n",
       "        /* gets rid of default border in Firefox and Opera. */\n",
       "        border: none;\n",
       "        /* Needs to be in here for Safari polyfill so background images work as expected. */\n",
       "        background-size: auto;\n",
       "    }\n",
       "    progress:not([value]), progress:not([value])::-webkit-progress-bar {\n",
       "        background: repeating-linear-gradient(45deg, #7e7e7e, #7e7e7e 10px, #5c5c5c 10px, #5c5c5c 20px);\n",
       "    }\n",
       "    .progress-bar-interrupted, .progress-bar-interrupted::-webkit-progress-bar {\n",
       "        background: #F44336;\n",
       "    }\n",
       "</style>\n"
      ],
      "text/plain": [
       "<IPython.core.display.HTML object>"
      ]
     },
     "metadata": {},
     "output_type": "display_data"
    },
    {
     "data": {
      "text/html": [
       "\n",
       "    <div>\n",
       "      <progress value='7' class='' max='7' style='width:300px; height:20px; vertical-align: middle;'></progress>\n",
       "      100.00% [7/7 00:00&lt;00:00 logp = -5.681e+05]\n",
       "    </div>\n",
       "    "
      ],
      "text/plain": [
       "<IPython.core.display.HTML object>"
      ]
     },
     "metadata": {},
     "output_type": "display_data"
    },
    {
     "name": "stderr",
     "output_type": "stream",
     "text": [
      "message: Optimization terminated successfully.\n",
      "logp: -571015.6509549952 -> -568117.00210612\n"
     ]
    },
    {
     "name": "stdout",
     "output_type": "stream",
     "text": [
      "\n"
     ]
    },
    {
     "name": "stderr",
     "output_type": "stream",
     "text": [
      "optimizing logp for variables: [phase, amp, nu]\n"
     ]
    },
    {
     "data": {
      "text/html": [
       "\n",
       "<style>\n",
       "    /* Turns off some styling */\n",
       "    progress {\n",
       "        /* gets rid of default border in Firefox and Opera. */\n",
       "        border: none;\n",
       "        /* Needs to be in here for Safari polyfill so background images work as expected. */\n",
       "        background-size: auto;\n",
       "    }\n",
       "    progress:not([value]), progress:not([value])::-webkit-progress-bar {\n",
       "        background: repeating-linear-gradient(45deg, #7e7e7e, #7e7e7e 10px, #5c5c5c 10px, #5c5c5c 20px);\n",
       "    }\n",
       "    .progress-bar-interrupted, .progress-bar-interrupted::-webkit-progress-bar {\n",
       "        background: #F44336;\n",
       "    }\n",
       "</style>\n"
      ],
      "text/plain": [
       "<IPython.core.display.HTML object>"
      ]
     },
     "metadata": {},
     "output_type": "display_data"
    },
    {
     "data": {
      "text/html": [
       "\n",
       "    <div>\n",
       "      <progress value='58' class='' max='58' style='width:300px; height:20px; vertical-align: middle;'></progress>\n",
       "      100.00% [58/58 00:00&lt;00:00 logp = -5.681e+05]\n",
       "    </div>\n",
       "    "
      ],
      "text/plain": [
       "<IPython.core.display.HTML object>"
      ]
     },
     "metadata": {},
     "output_type": "display_data"
    },
    {
     "name": "stdout",
     "output_type": "stream",
     "text": [
      "\n"
     ]
    },
    {
     "name": "stderr",
     "output_type": "stream",
     "text": [
      "message: Desired error not necessarily achieved due to precision loss.\n",
      "logp: -568117.00210612 -> -568113.7957271716\n",
      "optimizing logp for variables: [phase]\n"
     ]
    },
    {
     "data": {
      "text/html": [
       "\n",
       "<style>\n",
       "    /* Turns off some styling */\n",
       "    progress {\n",
       "        /* gets rid of default border in Firefox and Opera. */\n",
       "        border: none;\n",
       "        /* Needs to be in here for Safari polyfill so background images work as expected. */\n",
       "        background-size: auto;\n",
       "    }\n",
       "    progress:not([value]), progress:not([value])::-webkit-progress-bar {\n",
       "        background: repeating-linear-gradient(45deg, #7e7e7e, #7e7e7e 10px, #5c5c5c 10px, #5c5c5c 20px);\n",
       "    }\n",
       "    .progress-bar-interrupted, .progress-bar-interrupted::-webkit-progress-bar {\n",
       "        background: #F44336;\n",
       "    }\n",
       "</style>\n"
      ],
      "text/plain": [
       "<IPython.core.display.HTML object>"
      ]
     },
     "metadata": {},
     "output_type": "display_data"
    },
    {
     "data": {
      "text/html": [
       "\n",
       "    <div>\n",
       "      <progress value='97' class='' max='97' style='width:300px; height:20px; vertical-align: middle;'></progress>\n",
       "      100.00% [97/97 00:00&lt;00:00 logp = -5.626e+05]\n",
       "    </div>\n",
       "    "
      ],
      "text/plain": [
       "<IPython.core.display.HTML object>"
      ]
     },
     "metadata": {},
     "output_type": "display_data"
    },
    {
     "name": "stdout",
     "output_type": "stream",
     "text": [
      "\n"
     ]
    },
    {
     "name": "stderr",
     "output_type": "stream",
     "text": [
      "message: Desired error not necessarily achieved due to precision loss.\n",
      "logp: -581728.0508242999 -> -562631.1501428802\n",
      "optimizing logp for variables: [phase, amp, nu]\n"
     ]
    },
    {
     "data": {
      "text/html": [
       "\n",
       "<style>\n",
       "    /* Turns off some styling */\n",
       "    progress {\n",
       "        /* gets rid of default border in Firefox and Opera. */\n",
       "        border: none;\n",
       "        /* Needs to be in here for Safari polyfill so background images work as expected. */\n",
       "        background-size: auto;\n",
       "    }\n",
       "    progress:not([value]), progress:not([value])::-webkit-progress-bar {\n",
       "        background: repeating-linear-gradient(45deg, #7e7e7e, #7e7e7e 10px, #5c5c5c 10px, #5c5c5c 20px);\n",
       "    }\n",
       "    .progress-bar-interrupted, .progress-bar-interrupted::-webkit-progress-bar {\n",
       "        background: #F44336;\n",
       "    }\n",
       "</style>\n"
      ],
      "text/plain": [
       "<IPython.core.display.HTML object>"
      ]
     },
     "metadata": {},
     "output_type": "display_data"
    },
    {
     "data": {
      "text/html": [
       "\n",
       "    <div>\n",
       "      <progress value='36' class='' max='36' style='width:300px; height:20px; vertical-align: middle;'></progress>\n",
       "      100.00% [36/36 00:00&lt;00:00 logp = -5.626e+05]\n",
       "    </div>\n",
       "    "
      ],
      "text/plain": [
       "<IPython.core.display.HTML object>"
      ]
     },
     "metadata": {},
     "output_type": "display_data"
    },
    {
     "name": "stdout",
     "output_type": "stream",
     "text": [
      "\n"
     ]
    },
    {
     "name": "stderr",
     "output_type": "stream",
     "text": [
      "message: Desired error not necessarily achieved due to precision loss.\n",
      "logp: -562631.1501428802 -> -562613.5319931646\n",
      "optimizing logp for variables: [phase]\n"
     ]
    },
    {
     "data": {
      "text/html": [
       "\n",
       "<style>\n",
       "    /* Turns off some styling */\n",
       "    progress {\n",
       "        /* gets rid of default border in Firefox and Opera. */\n",
       "        border: none;\n",
       "        /* Needs to be in here for Safari polyfill so background images work as expected. */\n",
       "        background-size: auto;\n",
       "    }\n",
       "    progress:not([value]), progress:not([value])::-webkit-progress-bar {\n",
       "        background: repeating-linear-gradient(45deg, #7e7e7e, #7e7e7e 10px, #5c5c5c 10px, #5c5c5c 20px);\n",
       "    }\n",
       "    .progress-bar-interrupted, .progress-bar-interrupted::-webkit-progress-bar {\n",
       "        background: #F44336;\n",
       "    }\n",
       "</style>\n"
      ],
      "text/plain": [
       "<IPython.core.display.HTML object>"
      ]
     },
     "metadata": {},
     "output_type": "display_data"
    },
    {
     "data": {
      "text/html": [
       "\n",
       "    <div>\n",
       "      <progress value='10' class='' max='10' style='width:300px; height:20px; vertical-align: middle;'></progress>\n",
       "      100.00% [10/10 00:00&lt;00:00 logp = -5.529e+05]\n",
       "    </div>\n",
       "    "
      ],
      "text/plain": [
       "<IPython.core.display.HTML object>"
      ]
     },
     "metadata": {},
     "output_type": "display_data"
    },
    {
     "name": "stderr",
     "output_type": "stream",
     "text": [
      "message: Optimization terminated successfully.\n",
      "logp: -591080.3080560573 -> -552869.2502105074\n"
     ]
    },
    {
     "name": "stdout",
     "output_type": "stream",
     "text": [
      "\n"
     ]
    },
    {
     "name": "stderr",
     "output_type": "stream",
     "text": [
      "optimizing logp for variables: [phase, amp, nu]\n"
     ]
    },
    {
     "data": {
      "text/html": [
       "\n",
       "<style>\n",
       "    /* Turns off some styling */\n",
       "    progress {\n",
       "        /* gets rid of default border in Firefox and Opera. */\n",
       "        border: none;\n",
       "        /* Needs to be in here for Safari polyfill so background images work as expected. */\n",
       "        background-size: auto;\n",
       "    }\n",
       "    progress:not([value]), progress:not([value])::-webkit-progress-bar {\n",
       "        background: repeating-linear-gradient(45deg, #7e7e7e, #7e7e7e 10px, #5c5c5c 10px, #5c5c5c 20px);\n",
       "    }\n",
       "    .progress-bar-interrupted, .progress-bar-interrupted::-webkit-progress-bar {\n",
       "        background: #F44336;\n",
       "    }\n",
       "</style>\n"
      ],
      "text/plain": [
       "<IPython.core.display.HTML object>"
      ]
     },
     "metadata": {},
     "output_type": "display_data"
    },
    {
     "data": {
      "text/html": [
       "\n",
       "    <div>\n",
       "      <progress value='65' class='' max='65' style='width:300px; height:20px; vertical-align: middle;'></progress>\n",
       "      100.00% [65/65 00:00&lt;00:00 logp = -5.529e+05]\n",
       "    </div>\n",
       "    "
      ],
      "text/plain": [
       "<IPython.core.display.HTML object>"
      ]
     },
     "metadata": {},
     "output_type": "display_data"
    },
    {
     "name": "stdout",
     "output_type": "stream",
     "text": [
      "\n"
     ]
    },
    {
     "name": "stderr",
     "output_type": "stream",
     "text": [
      "message: Desired error not necessarily achieved due to precision loss.\n",
      "logp: -552869.2502105074 -> -552864.4883334044\n",
      "optimizing logp for variables: [phase]\n"
     ]
    },
    {
     "data": {
      "text/html": [
       "\n",
       "<style>\n",
       "    /* Turns off some styling */\n",
       "    progress {\n",
       "        /* gets rid of default border in Firefox and Opera. */\n",
       "        border: none;\n",
       "        /* Needs to be in here for Safari polyfill so background images work as expected. */\n",
       "        background-size: auto;\n",
       "    }\n",
       "    progress:not([value]), progress:not([value])::-webkit-progress-bar {\n",
       "        background: repeating-linear-gradient(45deg, #7e7e7e, #7e7e7e 10px, #5c5c5c 10px, #5c5c5c 20px);\n",
       "    }\n",
       "    .progress-bar-interrupted, .progress-bar-interrupted::-webkit-progress-bar {\n",
       "        background: #F44336;\n",
       "    }\n",
       "</style>\n"
      ],
      "text/plain": [
       "<IPython.core.display.HTML object>"
      ]
     },
     "metadata": {},
     "output_type": "display_data"
    },
    {
     "data": {
      "text/html": [
       "\n",
       "    <div>\n",
       "      <progress value='11' class='' max='11' style='width:300px; height:20px; vertical-align: middle;'></progress>\n",
       "      100.00% [11/11 00:00&lt;00:00 logp = -5.453e+05]\n",
       "    </div>\n",
       "    "
      ],
      "text/plain": [
       "<IPython.core.display.HTML object>"
      ]
     },
     "metadata": {},
     "output_type": "display_data"
    },
    {
     "name": "stderr",
     "output_type": "stream",
     "text": [
      "message: Optimization terminated successfully.\n",
      "logp: -574176.1049680853 -> -545344.6181616096\n"
     ]
    },
    {
     "name": "stdout",
     "output_type": "stream",
     "text": [
      "\n"
     ]
    },
    {
     "name": "stderr",
     "output_type": "stream",
     "text": [
      "optimizing logp for variables: [phase, amp, nu]\n"
     ]
    },
    {
     "data": {
      "text/html": [
       "\n",
       "<style>\n",
       "    /* Turns off some styling */\n",
       "    progress {\n",
       "        /* gets rid of default border in Firefox and Opera. */\n",
       "        border: none;\n",
       "        /* Needs to be in here for Safari polyfill so background images work as expected. */\n",
       "        background-size: auto;\n",
       "    }\n",
       "    progress:not([value]), progress:not([value])::-webkit-progress-bar {\n",
       "        background: repeating-linear-gradient(45deg, #7e7e7e, #7e7e7e 10px, #5c5c5c 10px, #5c5c5c 20px);\n",
       "    }\n",
       "    .progress-bar-interrupted, .progress-bar-interrupted::-webkit-progress-bar {\n",
       "        background: #F44336;\n",
       "    }\n",
       "</style>\n"
      ],
      "text/plain": [
       "<IPython.core.display.HTML object>"
      ]
     },
     "metadata": {},
     "output_type": "display_data"
    },
    {
     "data": {
      "text/html": [
       "\n",
       "    <div>\n",
       "      <progress value='31' class='' max='31' style='width:300px; height:20px; vertical-align: middle;'></progress>\n",
       "      100.00% [31/31 00:00&lt;00:00 logp = -5.453e+05]\n",
       "    </div>\n",
       "    "
      ],
      "text/plain": [
       "<IPython.core.display.HTML object>"
      ]
     },
     "metadata": {},
     "output_type": "display_data"
    },
    {
     "name": "stdout",
     "output_type": "stream",
     "text": [
      "\n"
     ]
    },
    {
     "name": "stderr",
     "output_type": "stream",
     "text": [
      "message: Desired error not necessarily achieved due to precision loss.\n",
      "logp: -545344.6181616096 -> -545341.8825149833\n",
      "optimizing logp for variables: [phase]\n"
     ]
    },
    {
     "data": {
      "text/html": [
       "\n",
       "<style>\n",
       "    /* Turns off some styling */\n",
       "    progress {\n",
       "        /* gets rid of default border in Firefox and Opera. */\n",
       "        border: none;\n",
       "        /* Needs to be in here for Safari polyfill so background images work as expected. */\n",
       "        background-size: auto;\n",
       "    }\n",
       "    progress:not([value]), progress:not([value])::-webkit-progress-bar {\n",
       "        background: repeating-linear-gradient(45deg, #7e7e7e, #7e7e7e 10px, #5c5c5c 10px, #5c5c5c 20px);\n",
       "    }\n",
       "    .progress-bar-interrupted, .progress-bar-interrupted::-webkit-progress-bar {\n",
       "        background: #F44336;\n",
       "    }\n",
       "</style>\n"
      ],
      "text/plain": [
       "<IPython.core.display.HTML object>"
      ]
     },
     "metadata": {},
     "output_type": "display_data"
    },
    {
     "data": {
      "text/html": [
       "\n",
       "    <div>\n",
       "      <progress value='68' class='' max='68' style='width:300px; height:20px; vertical-align: middle;'></progress>\n",
       "      100.00% [68/68 00:00&lt;00:00 logp = -5.397e+05]\n",
       "    </div>\n",
       "    "
      ],
      "text/plain": [
       "<IPython.core.display.HTML object>"
      ]
     },
     "metadata": {},
     "output_type": "display_data"
    },
    {
     "name": "stdout",
     "output_type": "stream",
     "text": [
      "\n"
     ]
    },
    {
     "name": "stderr",
     "output_type": "stream",
     "text": [
      "message: Desired error not necessarily achieved due to precision loss.\n",
      "logp: -551697.2039249521 -> -539678.2315184359\n",
      "optimizing logp for variables: [phase, amp, nu]\n"
     ]
    },
    {
     "data": {
      "text/html": [
       "\n",
       "<style>\n",
       "    /* Turns off some styling */\n",
       "    progress {\n",
       "        /* gets rid of default border in Firefox and Opera. */\n",
       "        border: none;\n",
       "        /* Needs to be in here for Safari polyfill so background images work as expected. */\n",
       "        background-size: auto;\n",
       "    }\n",
       "    progress:not([value]), progress:not([value])::-webkit-progress-bar {\n",
       "        background: repeating-linear-gradient(45deg, #7e7e7e, #7e7e7e 10px, #5c5c5c 10px, #5c5c5c 20px);\n",
       "    }\n",
       "    .progress-bar-interrupted, .progress-bar-interrupted::-webkit-progress-bar {\n",
       "        background: #F44336;\n",
       "    }\n",
       "</style>\n"
      ],
      "text/plain": [
       "<IPython.core.display.HTML object>"
      ]
     },
     "metadata": {},
     "output_type": "display_data"
    },
    {
     "data": {
      "text/html": [
       "\n",
       "    <div>\n",
       "      <progress value='140' class='' max='140' style='width:300px; height:20px; vertical-align: middle;'></progress>\n",
       "      100.00% [140/140 00:00&lt;00:00 logp = -5.397e+05]\n",
       "    </div>\n",
       "    "
      ],
      "text/plain": [
       "<IPython.core.display.HTML object>"
      ]
     },
     "metadata": {},
     "output_type": "display_data"
    },
    {
     "name": "stdout",
     "output_type": "stream",
     "text": [
      "\n"
     ]
    },
    {
     "name": "stderr",
     "output_type": "stream",
     "text": [
      "message: Desired error not necessarily achieved due to precision loss.\n",
      "logp: -539678.2315184359 -> -539667.7769316561\n",
      "optimizing logp for variables: [phase]\n"
     ]
    },
    {
     "data": {
      "text/html": [
       "\n",
       "<style>\n",
       "    /* Turns off some styling */\n",
       "    progress {\n",
       "        /* gets rid of default border in Firefox and Opera. */\n",
       "        border: none;\n",
       "        /* Needs to be in here for Safari polyfill so background images work as expected. */\n",
       "        background-size: auto;\n",
       "    }\n",
       "    progress:not([value]), progress:not([value])::-webkit-progress-bar {\n",
       "        background: repeating-linear-gradient(45deg, #7e7e7e, #7e7e7e 10px, #5c5c5c 10px, #5c5c5c 20px);\n",
       "    }\n",
       "    .progress-bar-interrupted, .progress-bar-interrupted::-webkit-progress-bar {\n",
       "        background: #F44336;\n",
       "    }\n",
       "</style>\n"
      ],
      "text/plain": [
       "<IPython.core.display.HTML object>"
      ]
     },
     "metadata": {},
     "output_type": "display_data"
    },
    {
     "data": {
      "text/html": [
       "\n",
       "    <div>\n",
       "      <progress value='7' class='' max='7' style='width:300px; height:20px; vertical-align: middle;'></progress>\n",
       "      100.00% [7/7 00:00&lt;00:00 logp = -5.352e+05]\n",
       "    </div>\n",
       "    "
      ],
      "text/plain": [
       "<IPython.core.display.HTML object>"
      ]
     },
     "metadata": {},
     "output_type": "display_data"
    },
    {
     "name": "stderr",
     "output_type": "stream",
     "text": [
      "message: Optimization terminated successfully.\n",
      "logp: -536157.6588214439 -> -535178.816316071\n"
     ]
    },
    {
     "name": "stdout",
     "output_type": "stream",
     "text": [
      "\n"
     ]
    },
    {
     "name": "stderr",
     "output_type": "stream",
     "text": [
      "optimizing logp for variables: [phase, amp, nu]\n"
     ]
    },
    {
     "data": {
      "text/html": [
       "\n",
       "<style>\n",
       "    /* Turns off some styling */\n",
       "    progress {\n",
       "        /* gets rid of default border in Firefox and Opera. */\n",
       "        border: none;\n",
       "        /* Needs to be in here for Safari polyfill so background images work as expected. */\n",
       "        background-size: auto;\n",
       "    }\n",
       "    progress:not([value]), progress:not([value])::-webkit-progress-bar {\n",
       "        background: repeating-linear-gradient(45deg, #7e7e7e, #7e7e7e 10px, #5c5c5c 10px, #5c5c5c 20px);\n",
       "    }\n",
       "    .progress-bar-interrupted, .progress-bar-interrupted::-webkit-progress-bar {\n",
       "        background: #F44336;\n",
       "    }\n",
       "</style>\n"
      ],
      "text/plain": [
       "<IPython.core.display.HTML object>"
      ]
     },
     "metadata": {},
     "output_type": "display_data"
    },
    {
     "data": {
      "text/html": [
       "\n",
       "    <div>\n",
       "      <progress value='13' class='' max='13' style='width:300px; height:20px; vertical-align: middle;'></progress>\n",
       "      100.00% [13/13 00:00&lt;00:00 logp = -5.352e+05]\n",
       "    </div>\n",
       "    "
      ],
      "text/plain": [
       "<IPython.core.display.HTML object>"
      ]
     },
     "metadata": {},
     "output_type": "display_data"
    },
    {
     "name": "stderr",
     "output_type": "stream",
     "text": [
      "message: Desired error not necessarily achieved due to precision loss.\n",
      "logp: -535178.816316071 -> -535176.3976091627\n"
     ]
    },
    {
     "name": "stdout",
     "output_type": "stream",
     "text": [
      "\n"
     ]
    },
    {
     "name": "stderr",
     "output_type": "stream",
     "text": [
      "optimizing logp for variables: [phase]\n"
     ]
    },
    {
     "data": {
      "text/html": [
       "\n",
       "<style>\n",
       "    /* Turns off some styling */\n",
       "    progress {\n",
       "        /* gets rid of default border in Firefox and Opera. */\n",
       "        border: none;\n",
       "        /* Needs to be in here for Safari polyfill so background images work as expected. */\n",
       "        background-size: auto;\n",
       "    }\n",
       "    progress:not([value]), progress:not([value])::-webkit-progress-bar {\n",
       "        background: repeating-linear-gradient(45deg, #7e7e7e, #7e7e7e 10px, #5c5c5c 10px, #5c5c5c 20px);\n",
       "    }\n",
       "    .progress-bar-interrupted, .progress-bar-interrupted::-webkit-progress-bar {\n",
       "        background: #F44336;\n",
       "    }\n",
       "</style>\n"
      ],
      "text/plain": [
       "<IPython.core.display.HTML object>"
      ]
     },
     "metadata": {},
     "output_type": "display_data"
    },
    {
     "data": {
      "text/html": [
       "\n",
       "    <div>\n",
       "      <progress value='62' class='' max='62' style='width:300px; height:20px; vertical-align: middle;'></progress>\n",
       "      100.00% [62/62 00:00&lt;00:00 logp = -5.320e+05]\n",
       "    </div>\n",
       "    "
      ],
      "text/plain": [
       "<IPython.core.display.HTML object>"
      ]
     },
     "metadata": {},
     "output_type": "display_data"
    },
    {
     "name": "stdout",
     "output_type": "stream",
     "text": [
      "\n"
     ]
    },
    {
     "name": "stderr",
     "output_type": "stream",
     "text": [
      "message: Desired error not necessarily achieved due to precision loss.\n",
      "logp: -531981.9290107794 -> -531950.8195021802\n",
      "optimizing logp for variables: [phase, amp, nu]\n"
     ]
    },
    {
     "data": {
      "text/html": [
       "\n",
       "<style>\n",
       "    /* Turns off some styling */\n",
       "    progress {\n",
       "        /* gets rid of default border in Firefox and Opera. */\n",
       "        border: none;\n",
       "        /* Needs to be in here for Safari polyfill so background images work as expected. */\n",
       "        background-size: auto;\n",
       "    }\n",
       "    progress:not([value]), progress:not([value])::-webkit-progress-bar {\n",
       "        background: repeating-linear-gradient(45deg, #7e7e7e, #7e7e7e 10px, #5c5c5c 10px, #5c5c5c 20px);\n",
       "    }\n",
       "    .progress-bar-interrupted, .progress-bar-interrupted::-webkit-progress-bar {\n",
       "        background: #F44336;\n",
       "    }\n",
       "</style>\n"
      ],
      "text/plain": [
       "<IPython.core.display.HTML object>"
      ]
     },
     "metadata": {},
     "output_type": "display_data"
    },
    {
     "data": {
      "text/html": [
       "\n",
       "    <div>\n",
       "      <progress value='67' class='' max='67' style='width:300px; height:20px; vertical-align: middle;'></progress>\n",
       "      100.00% [67/67 00:00&lt;00:00 logp = -5.319e+05]\n",
       "    </div>\n",
       "    "
      ],
      "text/plain": [
       "<IPython.core.display.HTML object>"
      ]
     },
     "metadata": {},
     "output_type": "display_data"
    },
    {
     "name": "stdout",
     "output_type": "stream",
     "text": [
      "\n"
     ]
    },
    {
     "name": "stderr",
     "output_type": "stream",
     "text": [
      "message: Desired error not necessarily achieved due to precision loss.\n",
      "logp: -531950.8195021802 -> -531948.6369258434\n",
      "optimizing logp for variables: [phase]\n"
     ]
    },
    {
     "data": {
      "text/html": [
       "\n",
       "<style>\n",
       "    /* Turns off some styling */\n",
       "    progress {\n",
       "        /* gets rid of default border in Firefox and Opera. */\n",
       "        border: none;\n",
       "        /* Needs to be in here for Safari polyfill so background images work as expected. */\n",
       "        background-size: auto;\n",
       "    }\n",
       "    progress:not([value]), progress:not([value])::-webkit-progress-bar {\n",
       "        background: repeating-linear-gradient(45deg, #7e7e7e, #7e7e7e 10px, #5c5c5c 10px, #5c5c5c 20px);\n",
       "    }\n",
       "    .progress-bar-interrupted, .progress-bar-interrupted::-webkit-progress-bar {\n",
       "        background: #F44336;\n",
       "    }\n",
       "</style>\n"
      ],
      "text/plain": [
       "<IPython.core.display.HTML object>"
      ]
     },
     "metadata": {},
     "output_type": "display_data"
    },
    {
     "data": {
      "text/html": [
       "\n",
       "    <div>\n",
       "      <progress value='40' class='' max='40' style='width:300px; height:20px; vertical-align: middle;'></progress>\n",
       "      100.00% [40/40 00:00&lt;00:00 logp = -5.304e+05]\n",
       "    </div>\n",
       "    "
      ],
      "text/plain": [
       "<IPython.core.display.HTML object>"
      ]
     },
     "metadata": {},
     "output_type": "display_data"
    },
    {
     "name": "stdout",
     "output_type": "stream",
     "text": [
      "\n"
     ]
    },
    {
     "name": "stderr",
     "output_type": "stream",
     "text": [
      "message: Desired error not necessarily achieved due to precision loss.\n",
      "logp: -535749.1678351221 -> -530443.8373405773\n",
      "optimizing logp for variables: [phase, amp, nu]\n"
     ]
    },
    {
     "data": {
      "text/html": [
       "\n",
       "<style>\n",
       "    /* Turns off some styling */\n",
       "    progress {\n",
       "        /* gets rid of default border in Firefox and Opera. */\n",
       "        border: none;\n",
       "        /* Needs to be in here for Safari polyfill so background images work as expected. */\n",
       "        background-size: auto;\n",
       "    }\n",
       "    progress:not([value]), progress:not([value])::-webkit-progress-bar {\n",
       "        background: repeating-linear-gradient(45deg, #7e7e7e, #7e7e7e 10px, #5c5c5c 10px, #5c5c5c 20px);\n",
       "    }\n",
       "    .progress-bar-interrupted, .progress-bar-interrupted::-webkit-progress-bar {\n",
       "        background: #F44336;\n",
       "    }\n",
       "</style>\n"
      ],
      "text/plain": [
       "<IPython.core.display.HTML object>"
      ]
     },
     "metadata": {},
     "output_type": "display_data"
    },
    {
     "data": {
      "text/html": [
       "\n",
       "    <div>\n",
       "      <progress value='55' class='' max='55' style='width:300px; height:20px; vertical-align: middle;'></progress>\n",
       "      100.00% [55/55 00:00&lt;00:00 logp = -5.304e+05]\n",
       "    </div>\n",
       "    "
      ],
      "text/plain": [
       "<IPython.core.display.HTML object>"
      ]
     },
     "metadata": {},
     "output_type": "display_data"
    },
    {
     "name": "stdout",
     "output_type": "stream",
     "text": [
      "\n"
     ]
    },
    {
     "name": "stderr",
     "output_type": "stream",
     "text": [
      "message: Desired error not necessarily achieved due to precision loss.\n",
      "logp: -530443.8373405773 -> -530439.3096556187\n",
      "optimizing logp for variables: [phase]\n"
     ]
    },
    {
     "data": {
      "text/html": [
       "\n",
       "<style>\n",
       "    /* Turns off some styling */\n",
       "    progress {\n",
       "        /* gets rid of default border in Firefox and Opera. */\n",
       "        border: none;\n",
       "        /* Needs to be in here for Safari polyfill so background images work as expected. */\n",
       "        background-size: auto;\n",
       "    }\n",
       "    progress:not([value]), progress:not([value])::-webkit-progress-bar {\n",
       "        background: repeating-linear-gradient(45deg, #7e7e7e, #7e7e7e 10px, #5c5c5c 10px, #5c5c5c 20px);\n",
       "    }\n",
       "    .progress-bar-interrupted, .progress-bar-interrupted::-webkit-progress-bar {\n",
       "        background: #F44336;\n",
       "    }\n",
       "</style>\n"
      ],
      "text/plain": [
       "<IPython.core.display.HTML object>"
      ]
     },
     "metadata": {},
     "output_type": "display_data"
    },
    {
     "data": {
      "text/html": [
       "\n",
       "    <div>\n",
       "      <progress value='63' class='' max='63' style='width:300px; height:20px; vertical-align: middle;'></progress>\n",
       "      100.00% [63/63 00:00&lt;00:00 logp = -5.273e+05]\n",
       "    </div>\n",
       "    "
      ],
      "text/plain": [
       "<IPython.core.display.HTML object>"
      ]
     },
     "metadata": {},
     "output_type": "display_data"
    },
    {
     "name": "stdout",
     "output_type": "stream",
     "text": [
      "\n"
     ]
    },
    {
     "name": "stderr",
     "output_type": "stream",
     "text": [
      "message: Desired error not necessarily achieved due to precision loss.\n",
      "logp: -539618.8533539425 -> -527343.1585583071\n",
      "optimizing logp for variables: [phase, amp, nu]\n"
     ]
    },
    {
     "data": {
      "text/html": [
       "\n",
       "<style>\n",
       "    /* Turns off some styling */\n",
       "    progress {\n",
       "        /* gets rid of default border in Firefox and Opera. */\n",
       "        border: none;\n",
       "        /* Needs to be in here for Safari polyfill so background images work as expected. */\n",
       "        background-size: auto;\n",
       "    }\n",
       "    progress:not([value]), progress:not([value])::-webkit-progress-bar {\n",
       "        background: repeating-linear-gradient(45deg, #7e7e7e, #7e7e7e 10px, #5c5c5c 10px, #5c5c5c 20px);\n",
       "    }\n",
       "    .progress-bar-interrupted, .progress-bar-interrupted::-webkit-progress-bar {\n",
       "        background: #F44336;\n",
       "    }\n",
       "</style>\n"
      ],
      "text/plain": [
       "<IPython.core.display.HTML object>"
      ]
     },
     "metadata": {},
     "output_type": "display_data"
    },
    {
     "data": {
      "text/html": [
       "\n",
       "    <div>\n",
       "      <progress value='16' class='' max='16' style='width:300px; height:20px; vertical-align: middle;'></progress>\n",
       "      100.00% [16/16 00:00&lt;00:00 logp = -5.273e+05]\n",
       "    </div>\n",
       "    "
      ],
      "text/plain": [
       "<IPython.core.display.HTML object>"
      ]
     },
     "metadata": {},
     "output_type": "display_data"
    },
    {
     "name": "stderr",
     "output_type": "stream",
     "text": [
      "message: Desired error not necessarily achieved due to precision loss.\n",
      "logp: -527343.1585583071 -> -527334.720826523\n"
     ]
    },
    {
     "name": "stdout",
     "output_type": "stream",
     "text": [
      "\n"
     ]
    },
    {
     "name": "stderr",
     "output_type": "stream",
     "text": [
      "optimizing logp for variables: [phase]\n"
     ]
    },
    {
     "data": {
      "text/html": [
       "\n",
       "<style>\n",
       "    /* Turns off some styling */\n",
       "    progress {\n",
       "        /* gets rid of default border in Firefox and Opera. */\n",
       "        border: none;\n",
       "        /* Needs to be in here for Safari polyfill so background images work as expected. */\n",
       "        background-size: auto;\n",
       "    }\n",
       "    progress:not([value]), progress:not([value])::-webkit-progress-bar {\n",
       "        background: repeating-linear-gradient(45deg, #7e7e7e, #7e7e7e 10px, #5c5c5c 10px, #5c5c5c 20px);\n",
       "    }\n",
       "    .progress-bar-interrupted, .progress-bar-interrupted::-webkit-progress-bar {\n",
       "        background: #F44336;\n",
       "    }\n",
       "</style>\n"
      ],
      "text/plain": [
       "<IPython.core.display.HTML object>"
      ]
     },
     "metadata": {},
     "output_type": "display_data"
    },
    {
     "data": {
      "text/html": [
       "\n",
       "    <div>\n",
       "      <progress value='67' class='' max='67' style='width:300px; height:20px; vertical-align: middle;'></progress>\n",
       "      100.00% [67/67 00:00&lt;00:00 logp = -5.248e+05]\n",
       "    </div>\n",
       "    "
      ],
      "text/plain": [
       "<IPython.core.display.HTML object>"
      ]
     },
     "metadata": {},
     "output_type": "display_data"
    },
    {
     "name": "stdout",
     "output_type": "stream",
     "text": [
      "\n"
     ]
    },
    {
     "name": "stderr",
     "output_type": "stream",
     "text": [
      "message: Desired error not necessarily achieved due to precision loss.\n",
      "logp: -524864.6590234798 -> -524831.1614565888\n",
      "optimizing logp for variables: [phase, amp, nu]\n"
     ]
    },
    {
     "data": {
      "text/html": [
       "\n",
       "<style>\n",
       "    /* Turns off some styling */\n",
       "    progress {\n",
       "        /* gets rid of default border in Firefox and Opera. */\n",
       "        border: none;\n",
       "        /* Needs to be in here for Safari polyfill so background images work as expected. */\n",
       "        background-size: auto;\n",
       "    }\n",
       "    progress:not([value]), progress:not([value])::-webkit-progress-bar {\n",
       "        background: repeating-linear-gradient(45deg, #7e7e7e, #7e7e7e 10px, #5c5c5c 10px, #5c5c5c 20px);\n",
       "    }\n",
       "    .progress-bar-interrupted, .progress-bar-interrupted::-webkit-progress-bar {\n",
       "        background: #F44336;\n",
       "    }\n",
       "</style>\n"
      ],
      "text/plain": [
       "<IPython.core.display.HTML object>"
      ]
     },
     "metadata": {},
     "output_type": "display_data"
    },
    {
     "data": {
      "text/html": [
       "\n",
       "    <div>\n",
       "      <progress value='53' class='' max='53' style='width:300px; height:20px; vertical-align: middle;'></progress>\n",
       "      100.00% [53/53 00:00&lt;00:00 logp = -5.248e+05]\n",
       "    </div>\n",
       "    "
      ],
      "text/plain": [
       "<IPython.core.display.HTML object>"
      ]
     },
     "metadata": {},
     "output_type": "display_data"
    },
    {
     "name": "stdout",
     "output_type": "stream",
     "text": [
      "\n"
     ]
    },
    {
     "name": "stderr",
     "output_type": "stream",
     "text": [
      "message: Desired error not necessarily achieved due to precision loss.\n",
      "logp: -524831.1614565888 -> -524824.910636929\n",
      "optimizing logp for variables: [phase]\n"
     ]
    },
    {
     "data": {
      "text/html": [
       "\n",
       "<style>\n",
       "    /* Turns off some styling */\n",
       "    progress {\n",
       "        /* gets rid of default border in Firefox and Opera. */\n",
       "        border: none;\n",
       "        /* Needs to be in here for Safari polyfill so background images work as expected. */\n",
       "        background-size: auto;\n",
       "    }\n",
       "    progress:not([value]), progress:not([value])::-webkit-progress-bar {\n",
       "        background: repeating-linear-gradient(45deg, #7e7e7e, #7e7e7e 10px, #5c5c5c 10px, #5c5c5c 20px);\n",
       "    }\n",
       "    .progress-bar-interrupted, .progress-bar-interrupted::-webkit-progress-bar {\n",
       "        background: #F44336;\n",
       "    }\n",
       "</style>\n"
      ],
      "text/plain": [
       "<IPython.core.display.HTML object>"
      ]
     },
     "metadata": {},
     "output_type": "display_data"
    },
    {
     "data": {
      "text/html": [
       "\n",
       "    <div>\n",
       "      <progress value='37' class='' max='37' style='width:300px; height:20px; vertical-align: middle;'></progress>\n",
       "      100.00% [37/37 00:00&lt;00:00 logp = -5.230e+05]\n",
       "    </div>\n",
       "    "
      ],
      "text/plain": [
       "<IPython.core.display.HTML object>"
      ]
     },
     "metadata": {},
     "output_type": "display_data"
    },
    {
     "name": "stdout",
     "output_type": "stream",
     "text": [
      "\n"
     ]
    },
    {
     "name": "stderr",
     "output_type": "stream",
     "text": [
      "message: Desired error not necessarily achieved due to precision loss.\n",
      "logp: -529912.9764688503 -> -522989.3774587142\n",
      "optimizing logp for variables: [phase, amp, nu]\n"
     ]
    },
    {
     "data": {
      "text/html": [
       "\n",
       "<style>\n",
       "    /* Turns off some styling */\n",
       "    progress {\n",
       "        /* gets rid of default border in Firefox and Opera. */\n",
       "        border: none;\n",
       "        /* Needs to be in here for Safari polyfill so background images work as expected. */\n",
       "        background-size: auto;\n",
       "    }\n",
       "    progress:not([value]), progress:not([value])::-webkit-progress-bar {\n",
       "        background: repeating-linear-gradient(45deg, #7e7e7e, #7e7e7e 10px, #5c5c5c 10px, #5c5c5c 20px);\n",
       "    }\n",
       "    .progress-bar-interrupted, .progress-bar-interrupted::-webkit-progress-bar {\n",
       "        background: #F44336;\n",
       "    }\n",
       "</style>\n"
      ],
      "text/plain": [
       "<IPython.core.display.HTML object>"
      ]
     },
     "metadata": {},
     "output_type": "display_data"
    },
    {
     "data": {
      "text/html": [
       "\n",
       "    <div>\n",
       "      <progress value='17' class='' max='17' style='width:300px; height:20px; vertical-align: middle;'></progress>\n",
       "      100.00% [17/17 00:00&lt;00:00 logp = -5.230e+05]\n",
       "    </div>\n",
       "    "
      ],
      "text/plain": [
       "<IPython.core.display.HTML object>"
      ]
     },
     "metadata": {},
     "output_type": "display_data"
    },
    {
     "name": "stderr",
     "output_type": "stream",
     "text": [
      "message: Desired error not necessarily achieved due to precision loss.\n",
      "logp: -522989.3774587142 -> -522989.37704301847\n"
     ]
    },
    {
     "name": "stdout",
     "output_type": "stream",
     "text": [
      "\n"
     ]
    },
    {
     "name": "stderr",
     "output_type": "stream",
     "text": [
      "optimizing logp for variables: [phase]\n"
     ]
    },
    {
     "data": {
      "text/html": [
       "\n",
       "<style>\n",
       "    /* Turns off some styling */\n",
       "    progress {\n",
       "        /* gets rid of default border in Firefox and Opera. */\n",
       "        border: none;\n",
       "        /* Needs to be in here for Safari polyfill so background images work as expected. */\n",
       "        background-size: auto;\n",
       "    }\n",
       "    progress:not([value]), progress:not([value])::-webkit-progress-bar {\n",
       "        background: repeating-linear-gradient(45deg, #7e7e7e, #7e7e7e 10px, #5c5c5c 10px, #5c5c5c 20px);\n",
       "    }\n",
       "    .progress-bar-interrupted, .progress-bar-interrupted::-webkit-progress-bar {\n",
       "        background: #F44336;\n",
       "    }\n",
       "</style>\n"
      ],
      "text/plain": [
       "<IPython.core.display.HTML object>"
      ]
     },
     "metadata": {},
     "output_type": "display_data"
    },
    {
     "data": {
      "text/html": [
       "\n",
       "    <div>\n",
       "      <progress value='9' class='' max='9' style='width:300px; height:20px; vertical-align: middle;'></progress>\n",
       "      100.00% [9/9 00:00&lt;00:00 logp = -5.213e+05]\n",
       "    </div>\n",
       "    "
      ],
      "text/plain": [
       "<IPython.core.display.HTML object>"
      ]
     },
     "metadata": {},
     "output_type": "display_data"
    },
    {
     "name": "stderr",
     "output_type": "stream",
     "text": [
      "message: Optimization terminated successfully.\n",
      "logp: -525572.1178072355 -> -521328.5319760245\n"
     ]
    },
    {
     "name": "stdout",
     "output_type": "stream",
     "text": [
      "\n"
     ]
    },
    {
     "name": "stderr",
     "output_type": "stream",
     "text": [
      "optimizing logp for variables: [phase, amp, nu]\n"
     ]
    },
    {
     "data": {
      "text/html": [
       "\n",
       "<style>\n",
       "    /* Turns off some styling */\n",
       "    progress {\n",
       "        /* gets rid of default border in Firefox and Opera. */\n",
       "        border: none;\n",
       "        /* Needs to be in here for Safari polyfill so background images work as expected. */\n",
       "        background-size: auto;\n",
       "    }\n",
       "    progress:not([value]), progress:not([value])::-webkit-progress-bar {\n",
       "        background: repeating-linear-gradient(45deg, #7e7e7e, #7e7e7e 10px, #5c5c5c 10px, #5c5c5c 20px);\n",
       "    }\n",
       "    .progress-bar-interrupted, .progress-bar-interrupted::-webkit-progress-bar {\n",
       "        background: #F44336;\n",
       "    }\n",
       "</style>\n"
      ],
      "text/plain": [
       "<IPython.core.display.HTML object>"
      ]
     },
     "metadata": {},
     "output_type": "display_data"
    },
    {
     "data": {
      "text/html": [
       "\n",
       "    <div>\n",
       "      <progress value='41' class='' max='41' style='width:300px; height:20px; vertical-align: middle;'></progress>\n",
       "      100.00% [41/41 00:00&lt;00:00 logp = -5.213e+05]\n",
       "    </div>\n",
       "    "
      ],
      "text/plain": [
       "<IPython.core.display.HTML object>"
      ]
     },
     "metadata": {},
     "output_type": "display_data"
    },
    {
     "name": "stdout",
     "output_type": "stream",
     "text": [
      "\n"
     ]
    },
    {
     "name": "stderr",
     "output_type": "stream",
     "text": [
      "message: Desired error not necessarily achieved due to precision loss.\n",
      "logp: -521328.5319760245 -> -521326.9703316791\n",
      "optimizing logp for variables: [phase]\n"
     ]
    },
    {
     "data": {
      "text/html": [
       "\n",
       "<style>\n",
       "    /* Turns off some styling */\n",
       "    progress {\n",
       "        /* gets rid of default border in Firefox and Opera. */\n",
       "        border: none;\n",
       "        /* Needs to be in here for Safari polyfill so background images work as expected. */\n",
       "        background-size: auto;\n",
       "    }\n",
       "    progress:not([value]), progress:not([value])::-webkit-progress-bar {\n",
       "        background: repeating-linear-gradient(45deg, #7e7e7e, #7e7e7e 10px, #5c5c5c 10px, #5c5c5c 20px);\n",
       "    }\n",
       "    .progress-bar-interrupted, .progress-bar-interrupted::-webkit-progress-bar {\n",
       "        background: #F44336;\n",
       "    }\n",
       "</style>\n"
      ],
      "text/plain": [
       "<IPython.core.display.HTML object>"
      ]
     },
     "metadata": {},
     "output_type": "display_data"
    },
    {
     "data": {
      "text/html": [
       "\n",
       "    <div>\n",
       "      <progress value='69' class='' max='69' style='width:300px; height:20px; vertical-align: middle;'></progress>\n",
       "      100.00% [69/69 00:00&lt;00:00 logp = -5.201e+05]\n",
       "    </div>\n",
       "    "
      ],
      "text/plain": [
       "<IPython.core.display.HTML object>"
      ]
     },
     "metadata": {},
     "output_type": "display_data"
    },
    {
     "name": "stdout",
     "output_type": "stream",
     "text": [
      "\n"
     ]
    },
    {
     "name": "stderr",
     "output_type": "stream",
     "text": [
      "message: Desired error not necessarily achieved due to precision loss.\n",
      "logp: -523361.03233033686 -> -520147.68883544963\n",
      "optimizing logp for variables: [phase, amp, nu]\n"
     ]
    },
    {
     "data": {
      "text/html": [
       "\n",
       "<style>\n",
       "    /* Turns off some styling */\n",
       "    progress {\n",
       "        /* gets rid of default border in Firefox and Opera. */\n",
       "        border: none;\n",
       "        /* Needs to be in here for Safari polyfill so background images work as expected. */\n",
       "        background-size: auto;\n",
       "    }\n",
       "    progress:not([value]), progress:not([value])::-webkit-progress-bar {\n",
       "        background: repeating-linear-gradient(45deg, #7e7e7e, #7e7e7e 10px, #5c5c5c 10px, #5c5c5c 20px);\n",
       "    }\n",
       "    .progress-bar-interrupted, .progress-bar-interrupted::-webkit-progress-bar {\n",
       "        background: #F44336;\n",
       "    }\n",
       "</style>\n"
      ],
      "text/plain": [
       "<IPython.core.display.HTML object>"
      ]
     },
     "metadata": {},
     "output_type": "display_data"
    },
    {
     "data": {
      "text/html": [
       "\n",
       "    <div>\n",
       "      <progress value='12' class='' max='12' style='width:300px; height:20px; vertical-align: middle;'></progress>\n",
       "      100.00% [12/12 00:00&lt;00:00 logp = -5.201e+05]\n",
       "    </div>\n",
       "    "
      ],
      "text/plain": [
       "<IPython.core.display.HTML object>"
      ]
     },
     "metadata": {},
     "output_type": "display_data"
    },
    {
     "name": "stderr",
     "output_type": "stream",
     "text": [
      "message: Desired error not necessarily achieved due to precision loss.\n",
      "logp: -520147.68883544963 -> -520147.03418733197\n"
     ]
    },
    {
     "name": "stdout",
     "output_type": "stream",
     "text": [
      "\n"
     ]
    },
    {
     "name": "stderr",
     "output_type": "stream",
     "text": [
      "optimizing logp for variables: [phase]\n"
     ]
    },
    {
     "data": {
      "text/html": [
       "\n",
       "<style>\n",
       "    /* Turns off some styling */\n",
       "    progress {\n",
       "        /* gets rid of default border in Firefox and Opera. */\n",
       "        border: none;\n",
       "        /* Needs to be in here for Safari polyfill so background images work as expected. */\n",
       "        background-size: auto;\n",
       "    }\n",
       "    progress:not([value]), progress:not([value])::-webkit-progress-bar {\n",
       "        background: repeating-linear-gradient(45deg, #7e7e7e, #7e7e7e 10px, #5c5c5c 10px, #5c5c5c 20px);\n",
       "    }\n",
       "    .progress-bar-interrupted, .progress-bar-interrupted::-webkit-progress-bar {\n",
       "        background: #F44336;\n",
       "    }\n",
       "</style>\n"
      ],
      "text/plain": [
       "<IPython.core.display.HTML object>"
      ]
     },
     "metadata": {},
     "output_type": "display_data"
    },
    {
     "data": {
      "text/html": [
       "\n",
       "    <div>\n",
       "      <progress value='11' class='' max='11' style='width:300px; height:20px; vertical-align: middle;'></progress>\n",
       "      100.00% [11/11 00:00&lt;00:00 logp = -5.197e+05]\n",
       "    </div>\n",
       "    "
      ],
      "text/plain": [
       "<IPython.core.display.HTML object>"
      ]
     },
     "metadata": {},
     "output_type": "display_data"
    },
    {
     "name": "stderr",
     "output_type": "stream",
     "text": [
      "message: Optimization terminated successfully.\n",
      "logp: -521422.6360401556 -> -519656.7720431299\n"
     ]
    },
    {
     "name": "stdout",
     "output_type": "stream",
     "text": [
      "\n"
     ]
    },
    {
     "name": "stderr",
     "output_type": "stream",
     "text": [
      "optimizing logp for variables: [phase, amp, nu]\n"
     ]
    },
    {
     "data": {
      "text/html": [
       "\n",
       "<style>\n",
       "    /* Turns off some styling */\n",
       "    progress {\n",
       "        /* gets rid of default border in Firefox and Opera. */\n",
       "        border: none;\n",
       "        /* Needs to be in here for Safari polyfill so background images work as expected. */\n",
       "        background-size: auto;\n",
       "    }\n",
       "    progress:not([value]), progress:not([value])::-webkit-progress-bar {\n",
       "        background: repeating-linear-gradient(45deg, #7e7e7e, #7e7e7e 10px, #5c5c5c 10px, #5c5c5c 20px);\n",
       "    }\n",
       "    .progress-bar-interrupted, .progress-bar-interrupted::-webkit-progress-bar {\n",
       "        background: #F44336;\n",
       "    }\n",
       "</style>\n"
      ],
      "text/plain": [
       "<IPython.core.display.HTML object>"
      ]
     },
     "metadata": {},
     "output_type": "display_data"
    },
    {
     "data": {
      "text/html": [
       "\n",
       "    <div>\n",
       "      <progress value='87' class='' max='87' style='width:300px; height:20px; vertical-align: middle;'></progress>\n",
       "      100.00% [87/87 00:00&lt;00:00 logp = -5.197e+05]\n",
       "    </div>\n",
       "    "
      ],
      "text/plain": [
       "<IPython.core.display.HTML object>"
      ]
     },
     "metadata": {},
     "output_type": "display_data"
    },
    {
     "name": "stdout",
     "output_type": "stream",
     "text": [
      "\n"
     ]
    },
    {
     "name": "stderr",
     "output_type": "stream",
     "text": [
      "message: Desired error not necessarily achieved due to precision loss.\n",
      "logp: -519656.7720431299 -> -519656.40367761656\n",
      "optimizing logp for variables: [phase]\n"
     ]
    },
    {
     "data": {
      "text/html": [
       "\n",
       "<style>\n",
       "    /* Turns off some styling */\n",
       "    progress {\n",
       "        /* gets rid of default border in Firefox and Opera. */\n",
       "        border: none;\n",
       "        /* Needs to be in here for Safari polyfill so background images work as expected. */\n",
       "        background-size: auto;\n",
       "    }\n",
       "    progress:not([value]), progress:not([value])::-webkit-progress-bar {\n",
       "        background: repeating-linear-gradient(45deg, #7e7e7e, #7e7e7e 10px, #5c5c5c 10px, #5c5c5c 20px);\n",
       "    }\n",
       "    .progress-bar-interrupted, .progress-bar-interrupted::-webkit-progress-bar {\n",
       "        background: #F44336;\n",
       "    }\n",
       "</style>\n"
      ],
      "text/plain": [
       "<IPython.core.display.HTML object>"
      ]
     },
     "metadata": {},
     "output_type": "display_data"
    },
    {
     "data": {
      "text/html": [
       "\n",
       "    <div>\n",
       "      <progress value='10' class='' max='10' style='width:300px; height:20px; vertical-align: middle;'></progress>\n",
       "      100.00% [10/10 00:00&lt;00:00 logp = -5.192e+05]\n",
       "    </div>\n",
       "    "
      ],
      "text/plain": [
       "<IPython.core.display.HTML object>"
      ]
     },
     "metadata": {},
     "output_type": "display_data"
    },
    {
     "name": "stderr",
     "output_type": "stream",
     "text": [
      "message: Optimization terminated successfully.\n",
      "logp: -520613.3820687486 -> -519175.70606816746\n"
     ]
    },
    {
     "name": "stdout",
     "output_type": "stream",
     "text": [
      "\n"
     ]
    },
    {
     "name": "stderr",
     "output_type": "stream",
     "text": [
      "optimizing logp for variables: [phase, amp, nu]\n"
     ]
    },
    {
     "data": {
      "text/html": [
       "\n",
       "<style>\n",
       "    /* Turns off some styling */\n",
       "    progress {\n",
       "        /* gets rid of default border in Firefox and Opera. */\n",
       "        border: none;\n",
       "        /* Needs to be in here for Safari polyfill so background images work as expected. */\n",
       "        background-size: auto;\n",
       "    }\n",
       "    progress:not([value]), progress:not([value])::-webkit-progress-bar {\n",
       "        background: repeating-linear-gradient(45deg, #7e7e7e, #7e7e7e 10px, #5c5c5c 10px, #5c5c5c 20px);\n",
       "    }\n",
       "    .progress-bar-interrupted, .progress-bar-interrupted::-webkit-progress-bar {\n",
       "        background: #F44336;\n",
       "    }\n",
       "</style>\n"
      ],
      "text/plain": [
       "<IPython.core.display.HTML object>"
      ]
     },
     "metadata": {},
     "output_type": "display_data"
    },
    {
     "data": {
      "text/html": [
       "\n",
       "    <div>\n",
       "      <progress value='51' class='' max='51' style='width:300px; height:20px; vertical-align: middle;'></progress>\n",
       "      100.00% [51/51 00:00&lt;00:00 logp = -5.192e+05]\n",
       "    </div>\n",
       "    "
      ],
      "text/plain": [
       "<IPython.core.display.HTML object>"
      ]
     },
     "metadata": {},
     "output_type": "display_data"
    },
    {
     "name": "stdout",
     "output_type": "stream",
     "text": [
      "\n"
     ]
    },
    {
     "name": "stderr",
     "output_type": "stream",
     "text": [
      "message: Desired error not necessarily achieved due to precision loss.\n",
      "logp: -519175.70606816746 -> -519175.3883600899\n",
      "optimizing logp for variables: [phase]\n"
     ]
    },
    {
     "data": {
      "text/html": [
       "\n",
       "<style>\n",
       "    /* Turns off some styling */\n",
       "    progress {\n",
       "        /* gets rid of default border in Firefox and Opera. */\n",
       "        border: none;\n",
       "        /* Needs to be in here for Safari polyfill so background images work as expected. */\n",
       "        background-size: auto;\n",
       "    }\n",
       "    progress:not([value]), progress:not([value])::-webkit-progress-bar {\n",
       "        background: repeating-linear-gradient(45deg, #7e7e7e, #7e7e7e 10px, #5c5c5c 10px, #5c5c5c 20px);\n",
       "    }\n",
       "    .progress-bar-interrupted, .progress-bar-interrupted::-webkit-progress-bar {\n",
       "        background: #F44336;\n",
       "    }\n",
       "</style>\n"
      ],
      "text/plain": [
       "<IPython.core.display.HTML object>"
      ]
     },
     "metadata": {},
     "output_type": "display_data"
    },
    {
     "data": {
      "text/html": [
       "\n",
       "    <div>\n",
       "      <progress value='108' class='' max='108' style='width:300px; height:20px; vertical-align: middle;'></progress>\n",
       "      100.00% [108/108 00:00&lt;00:00 logp = -5.192e+05]\n",
       "    </div>\n",
       "    "
      ],
      "text/plain": [
       "<IPython.core.display.HTML object>"
      ]
     },
     "metadata": {},
     "output_type": "display_data"
    },
    {
     "name": "stdout",
     "output_type": "stream",
     "text": [
      "\n"
     ]
    },
    {
     "name": "stderr",
     "output_type": "stream",
     "text": [
      "message: Desired error not necessarily achieved due to precision loss.\n",
      "logp: -519204.8353657633 -> -519168.0966461797\n",
      "optimizing logp for variables: [phase, amp, nu]\n"
     ]
    },
    {
     "data": {
      "text/html": [
       "\n",
       "<style>\n",
       "    /* Turns off some styling */\n",
       "    progress {\n",
       "        /* gets rid of default border in Firefox and Opera. */\n",
       "        border: none;\n",
       "        /* Needs to be in here for Safari polyfill so background images work as expected. */\n",
       "        background-size: auto;\n",
       "    }\n",
       "    progress:not([value]), progress:not([value])::-webkit-progress-bar {\n",
       "        background: repeating-linear-gradient(45deg, #7e7e7e, #7e7e7e 10px, #5c5c5c 10px, #5c5c5c 20px);\n",
       "    }\n",
       "    .progress-bar-interrupted, .progress-bar-interrupted::-webkit-progress-bar {\n",
       "        background: #F44336;\n",
       "    }\n",
       "</style>\n"
      ],
      "text/plain": [
       "<IPython.core.display.HTML object>"
      ]
     },
     "metadata": {},
     "output_type": "display_data"
    },
    {
     "data": {
      "text/html": [
       "\n",
       "    <div>\n",
       "      <progress value='43' class='' max='43' style='width:300px; height:20px; vertical-align: middle;'></progress>\n",
       "      100.00% [43/43 00:00&lt;00:00 logp = -5.192e+05]\n",
       "    </div>\n",
       "    "
      ],
      "text/plain": [
       "<IPython.core.display.HTML object>"
      ]
     },
     "metadata": {},
     "output_type": "display_data"
    },
    {
     "name": "stdout",
     "output_type": "stream",
     "text": [
      "\n"
     ]
    },
    {
     "name": "stderr",
     "output_type": "stream",
     "text": [
      "message: Desired error not necessarily achieved due to precision loss.\n",
      "logp: -519168.0966461797 -> -519168.08674573875\n",
      "optimizing logp for variables: [phase]\n"
     ]
    },
    {
     "data": {
      "text/html": [
       "\n",
       "<style>\n",
       "    /* Turns off some styling */\n",
       "    progress {\n",
       "        /* gets rid of default border in Firefox and Opera. */\n",
       "        border: none;\n",
       "        /* Needs to be in here for Safari polyfill so background images work as expected. */\n",
       "        background-size: auto;\n",
       "    }\n",
       "    progress:not([value]), progress:not([value])::-webkit-progress-bar {\n",
       "        background: repeating-linear-gradient(45deg, #7e7e7e, #7e7e7e 10px, #5c5c5c 10px, #5c5c5c 20px);\n",
       "    }\n",
       "    .progress-bar-interrupted, .progress-bar-interrupted::-webkit-progress-bar {\n",
       "        background: #F44336;\n",
       "    }\n",
       "</style>\n"
      ],
      "text/plain": [
       "<IPython.core.display.HTML object>"
      ]
     },
     "metadata": {},
     "output_type": "display_data"
    },
    {
     "data": {
      "text/html": [
       "\n",
       "    <div>\n",
       "      <progress value='7' class='' max='7' style='width:300px; height:20px; vertical-align: middle;'></progress>\n",
       "      100.00% [7/7 00:00&lt;00:00 logp = -5.179e+05]\n",
       "    </div>\n",
       "    "
      ],
      "text/plain": [
       "<IPython.core.display.HTML object>"
      ]
     },
     "metadata": {},
     "output_type": "display_data"
    },
    {
     "name": "stderr",
     "output_type": "stream",
     "text": [
      "message: Optimization terminated successfully.\n",
      "logp: -518118.3801198888 -> -517851.65730466094\n"
     ]
    },
    {
     "name": "stdout",
     "output_type": "stream",
     "text": [
      "\n"
     ]
    },
    {
     "name": "stderr",
     "output_type": "stream",
     "text": [
      "optimizing logp for variables: [phase, amp, nu]\n"
     ]
    },
    {
     "data": {
      "text/html": [
       "\n",
       "<style>\n",
       "    /* Turns off some styling */\n",
       "    progress {\n",
       "        /* gets rid of default border in Firefox and Opera. */\n",
       "        border: none;\n",
       "        /* Needs to be in here for Safari polyfill so background images work as expected. */\n",
       "        background-size: auto;\n",
       "    }\n",
       "    progress:not([value]), progress:not([value])::-webkit-progress-bar {\n",
       "        background: repeating-linear-gradient(45deg, #7e7e7e, #7e7e7e 10px, #5c5c5c 10px, #5c5c5c 20px);\n",
       "    }\n",
       "    .progress-bar-interrupted, .progress-bar-interrupted::-webkit-progress-bar {\n",
       "        background: #F44336;\n",
       "    }\n",
       "</style>\n"
      ],
      "text/plain": [
       "<IPython.core.display.HTML object>"
      ]
     },
     "metadata": {},
     "output_type": "display_data"
    },
    {
     "data": {
      "text/html": [
       "\n",
       "    <div>\n",
       "      <progress value='52' class='' max='52' style='width:300px; height:20px; vertical-align: middle;'></progress>\n",
       "      100.00% [52/52 00:00&lt;00:00 logp = -5.179e+05]\n",
       "    </div>\n",
       "    "
      ],
      "text/plain": [
       "<IPython.core.display.HTML object>"
      ]
     },
     "metadata": {},
     "output_type": "display_data"
    },
    {
     "name": "stdout",
     "output_type": "stream",
     "text": [
      "\n"
     ]
    },
    {
     "name": "stderr",
     "output_type": "stream",
     "text": [
      "message: Desired error not necessarily achieved due to precision loss.\n",
      "logp: -517851.65730466094 -> -517851.6339798285\n",
      "optimizing logp for variables: [phase]\n"
     ]
    },
    {
     "data": {
      "text/html": [
       "\n",
       "<style>\n",
       "    /* Turns off some styling */\n",
       "    progress {\n",
       "        /* gets rid of default border in Firefox and Opera. */\n",
       "        border: none;\n",
       "        /* Needs to be in here for Safari polyfill so background images work as expected. */\n",
       "        background-size: auto;\n",
       "    }\n",
       "    progress:not([value]), progress:not([value])::-webkit-progress-bar {\n",
       "        background: repeating-linear-gradient(45deg, #7e7e7e, #7e7e7e 10px, #5c5c5c 10px, #5c5c5c 20px);\n",
       "    }\n",
       "    .progress-bar-interrupted, .progress-bar-interrupted::-webkit-progress-bar {\n",
       "        background: #F44336;\n",
       "    }\n",
       "</style>\n"
      ],
      "text/plain": [
       "<IPython.core.display.HTML object>"
      ]
     },
     "metadata": {},
     "output_type": "display_data"
    },
    {
     "data": {
      "text/html": [
       "\n",
       "    <div>\n",
       "      <progress value='77' class='' max='77' style='width:300px; height:20px; vertical-align: middle;'></progress>\n",
       "      100.00% [77/77 00:00&lt;00:00 logp = -5.176e+05]\n",
       "    </div>\n",
       "    "
      ],
      "text/plain": [
       "<IPython.core.display.HTML object>"
      ]
     },
     "metadata": {},
     "output_type": "display_data"
    },
    {
     "name": "stdout",
     "output_type": "stream",
     "text": [
      "\n"
     ]
    },
    {
     "name": "stderr",
     "output_type": "stream",
     "text": [
      "message: Desired error not necessarily achieved due to precision loss.\n",
      "logp: -518484.61235120887 -> -517631.8212742009\n",
      "optimizing logp for variables: [phase, amp, nu]\n"
     ]
    },
    {
     "data": {
      "text/html": [
       "\n",
       "<style>\n",
       "    /* Turns off some styling */\n",
       "    progress {\n",
       "        /* gets rid of default border in Firefox and Opera. */\n",
       "        border: none;\n",
       "        /* Needs to be in here for Safari polyfill so background images work as expected. */\n",
       "        background-size: auto;\n",
       "    }\n",
       "    progress:not([value]), progress:not([value])::-webkit-progress-bar {\n",
       "        background: repeating-linear-gradient(45deg, #7e7e7e, #7e7e7e 10px, #5c5c5c 10px, #5c5c5c 20px);\n",
       "    }\n",
       "    .progress-bar-interrupted, .progress-bar-interrupted::-webkit-progress-bar {\n",
       "        background: #F44336;\n",
       "    }\n",
       "</style>\n"
      ],
      "text/plain": [
       "<IPython.core.display.HTML object>"
      ]
     },
     "metadata": {},
     "output_type": "display_data"
    },
    {
     "data": {
      "text/html": [
       "\n",
       "    <div>\n",
       "      <progress value='212' class='' max='212' style='width:300px; height:20px; vertical-align: middle;'></progress>\n",
       "      100.00% [212/212 00:00&lt;00:00 logp = -5.176e+05]\n",
       "    </div>\n",
       "    "
      ],
      "text/plain": [
       "<IPython.core.display.HTML object>"
      ]
     },
     "metadata": {},
     "output_type": "display_data"
    },
    {
     "name": "stdout",
     "output_type": "stream",
     "text": [
      "\n"
     ]
    },
    {
     "name": "stderr",
     "output_type": "stream",
     "text": [
      "message: Desired error not necessarily achieved due to precision loss.\n",
      "logp: -517631.8212742009 -> -517631.59872658044\n",
      "optimizing logp for variables: [phase]\n"
     ]
    },
    {
     "data": {
      "text/html": [
       "\n",
       "<style>\n",
       "    /* Turns off some styling */\n",
       "    progress {\n",
       "        /* gets rid of default border in Firefox and Opera. */\n",
       "        border: none;\n",
       "        /* Needs to be in here for Safari polyfill so background images work as expected. */\n",
       "        background-size: auto;\n",
       "    }\n",
       "    progress:not([value]), progress:not([value])::-webkit-progress-bar {\n",
       "        background: repeating-linear-gradient(45deg, #7e7e7e, #7e7e7e 10px, #5c5c5c 10px, #5c5c5c 20px);\n",
       "    }\n",
       "    .progress-bar-interrupted, .progress-bar-interrupted::-webkit-progress-bar {\n",
       "        background: #F44336;\n",
       "    }\n",
       "</style>\n"
      ],
      "text/plain": [
       "<IPython.core.display.HTML object>"
      ]
     },
     "metadata": {},
     "output_type": "display_data"
    },
    {
     "data": {
      "text/html": [
       "\n",
       "    <div>\n",
       "      <progress value='7' class='' max='7' style='width:300px; height:20px; vertical-align: middle;'></progress>\n",
       "      100.00% [7/7 00:00&lt;00:00 logp = -5.172e+05]\n",
       "    </div>\n",
       "    "
      ],
      "text/plain": [
       "<IPython.core.display.HTML object>"
      ]
     },
     "metadata": {},
     "output_type": "display_data"
    },
    {
     "name": "stderr",
     "output_type": "stream",
     "text": [
      "message: Optimization terminated successfully.\n",
      "logp: -517273.40419324674 -> -517192.11390627845\n"
     ]
    },
    {
     "name": "stdout",
     "output_type": "stream",
     "text": [
      "\n"
     ]
    },
    {
     "name": "stderr",
     "output_type": "stream",
     "text": [
      "optimizing logp for variables: [phase, amp, nu]\n"
     ]
    },
    {
     "data": {
      "text/html": [
       "\n",
       "<style>\n",
       "    /* Turns off some styling */\n",
       "    progress {\n",
       "        /* gets rid of default border in Firefox and Opera. */\n",
       "        border: none;\n",
       "        /* Needs to be in here for Safari polyfill so background images work as expected. */\n",
       "        background-size: auto;\n",
       "    }\n",
       "    progress:not([value]), progress:not([value])::-webkit-progress-bar {\n",
       "        background: repeating-linear-gradient(45deg, #7e7e7e, #7e7e7e 10px, #5c5c5c 10px, #5c5c5c 20px);\n",
       "    }\n",
       "    .progress-bar-interrupted, .progress-bar-interrupted::-webkit-progress-bar {\n",
       "        background: #F44336;\n",
       "    }\n",
       "</style>\n"
      ],
      "text/plain": [
       "<IPython.core.display.HTML object>"
      ]
     },
     "metadata": {},
     "output_type": "display_data"
    },
    {
     "data": {
      "text/html": [
       "\n",
       "    <div>\n",
       "      <progress value='29' class='' max='29' style='width:300px; height:20px; vertical-align: middle;'></progress>\n",
       "      100.00% [29/29 00:00&lt;00:00 logp = -5.172e+05]\n",
       "    </div>\n",
       "    "
      ],
      "text/plain": [
       "<IPython.core.display.HTML object>"
      ]
     },
     "metadata": {},
     "output_type": "display_data"
    },
    {
     "name": "stderr",
     "output_type": "stream",
     "text": [
      "message: Desired error not necessarily achieved due to precision loss.\n",
      "logp: -517192.11390627845 -> -517191.06140850164\n"
     ]
    },
    {
     "name": "stdout",
     "output_type": "stream",
     "text": [
      "\n"
     ]
    },
    {
     "name": "stderr",
     "output_type": "stream",
     "text": [
      "optimizing logp for variables: [phase]\n"
     ]
    },
    {
     "data": {
      "text/html": [
       "\n",
       "<style>\n",
       "    /* Turns off some styling */\n",
       "    progress {\n",
       "        /* gets rid of default border in Firefox and Opera. */\n",
       "        border: none;\n",
       "        /* Needs to be in here for Safari polyfill so background images work as expected. */\n",
       "        background-size: auto;\n",
       "    }\n",
       "    progress:not([value]), progress:not([value])::-webkit-progress-bar {\n",
       "        background: repeating-linear-gradient(45deg, #7e7e7e, #7e7e7e 10px, #5c5c5c 10px, #5c5c5c 20px);\n",
       "    }\n",
       "    .progress-bar-interrupted, .progress-bar-interrupted::-webkit-progress-bar {\n",
       "        background: #F44336;\n",
       "    }\n",
       "</style>\n"
      ],
      "text/plain": [
       "<IPython.core.display.HTML object>"
      ]
     },
     "metadata": {},
     "output_type": "display_data"
    },
    {
     "data": {
      "text/html": [
       "\n",
       "    <div>\n",
       "      <progress value='81' class='' max='81' style='width:300px; height:20px; vertical-align: middle;'></progress>\n",
       "      100.00% [81/81 00:00&lt;00:00 logp = -5.166e+05]\n",
       "    </div>\n",
       "    "
      ],
      "text/plain": [
       "<IPython.core.display.HTML object>"
      ]
     },
     "metadata": {},
     "output_type": "display_data"
    },
    {
     "name": "stdout",
     "output_type": "stream",
     "text": [
      "\n"
     ]
    },
    {
     "name": "stderr",
     "output_type": "stream",
     "text": [
      "message: Desired error not necessarily achieved due to precision loss.\n",
      "logp: -517035.6355021807 -> -516586.81567514804\n",
      "optimizing logp for variables: [phase, amp, nu]\n"
     ]
    },
    {
     "data": {
      "text/html": [
       "\n",
       "<style>\n",
       "    /* Turns off some styling */\n",
       "    progress {\n",
       "        /* gets rid of default border in Firefox and Opera. */\n",
       "        border: none;\n",
       "        /* Needs to be in here for Safari polyfill so background images work as expected. */\n",
       "        background-size: auto;\n",
       "    }\n",
       "    progress:not([value]), progress:not([value])::-webkit-progress-bar {\n",
       "        background: repeating-linear-gradient(45deg, #7e7e7e, #7e7e7e 10px, #5c5c5c 10px, #5c5c5c 20px);\n",
       "    }\n",
       "    .progress-bar-interrupted, .progress-bar-interrupted::-webkit-progress-bar {\n",
       "        background: #F44336;\n",
       "    }\n",
       "</style>\n"
      ],
      "text/plain": [
       "<IPython.core.display.HTML object>"
      ]
     },
     "metadata": {},
     "output_type": "display_data"
    },
    {
     "data": {
      "text/html": [
       "\n",
       "    <div>\n",
       "      <progress value='62' class='' max='62' style='width:300px; height:20px; vertical-align: middle;'></progress>\n",
       "      100.00% [62/62 00:00&lt;00:00 logp = -5.166e+05]\n",
       "    </div>\n",
       "    "
      ],
      "text/plain": [
       "<IPython.core.display.HTML object>"
      ]
     },
     "metadata": {},
     "output_type": "display_data"
    },
    {
     "name": "stdout",
     "output_type": "stream",
     "text": [
      "\n"
     ]
    },
    {
     "name": "stderr",
     "output_type": "stream",
     "text": [
      "message: Desired error not necessarily achieved due to precision loss.\n",
      "logp: -516586.81567514804 -> -516586.45960462035\n",
      "optimizing logp for variables: [phase]\n"
     ]
    },
    {
     "data": {
      "text/html": [
       "\n",
       "<style>\n",
       "    /* Turns off some styling */\n",
       "    progress {\n",
       "        /* gets rid of default border in Firefox and Opera. */\n",
       "        border: none;\n",
       "        /* Needs to be in here for Safari polyfill so background images work as expected. */\n",
       "        background-size: auto;\n",
       "    }\n",
       "    progress:not([value]), progress:not([value])::-webkit-progress-bar {\n",
       "        background: repeating-linear-gradient(45deg, #7e7e7e, #7e7e7e 10px, #5c5c5c 10px, #5c5c5c 20px);\n",
       "    }\n",
       "    .progress-bar-interrupted, .progress-bar-interrupted::-webkit-progress-bar {\n",
       "        background: #F44336;\n",
       "    }\n",
       "</style>\n"
      ],
      "text/plain": [
       "<IPython.core.display.HTML object>"
      ]
     },
     "metadata": {},
     "output_type": "display_data"
    },
    {
     "data": {
      "text/html": [
       "\n",
       "    <div>\n",
       "      <progress value='51' class='' max='51' style='width:300px; height:20px; vertical-align: middle;'></progress>\n",
       "      100.00% [51/51 00:00&lt;00:00 logp = -5.164e+05]\n",
       "    </div>\n",
       "    "
      ],
      "text/plain": [
       "<IPython.core.display.HTML object>"
      ]
     },
     "metadata": {},
     "output_type": "display_data"
    },
    {
     "name": "stdout",
     "output_type": "stream",
     "text": [
      "\n"
     ]
    },
    {
     "name": "stderr",
     "output_type": "stream",
     "text": [
      "message: Desired error not necessarily achieved due to precision loss.\n",
      "logp: -516424.5252441514 -> -516361.393409179\n",
      "optimizing logp for variables: [phase, amp, nu]\n"
     ]
    },
    {
     "data": {
      "text/html": [
       "\n",
       "<style>\n",
       "    /* Turns off some styling */\n",
       "    progress {\n",
       "        /* gets rid of default border in Firefox and Opera. */\n",
       "        border: none;\n",
       "        /* Needs to be in here for Safari polyfill so background images work as expected. */\n",
       "        background-size: auto;\n",
       "    }\n",
       "    progress:not([value]), progress:not([value])::-webkit-progress-bar {\n",
       "        background: repeating-linear-gradient(45deg, #7e7e7e, #7e7e7e 10px, #5c5c5c 10px, #5c5c5c 20px);\n",
       "    }\n",
       "    .progress-bar-interrupted, .progress-bar-interrupted::-webkit-progress-bar {\n",
       "        background: #F44336;\n",
       "    }\n",
       "</style>\n"
      ],
      "text/plain": [
       "<IPython.core.display.HTML object>"
      ]
     },
     "metadata": {},
     "output_type": "display_data"
    },
    {
     "data": {
      "text/html": [
       "\n",
       "    <div>\n",
       "      <progress value='16' class='' max='16' style='width:300px; height:20px; vertical-align: middle;'></progress>\n",
       "      100.00% [16/16 00:00&lt;00:00 logp = -5.164e+05]\n",
       "    </div>\n",
       "    "
      ],
      "text/plain": [
       "<IPython.core.display.HTML object>"
      ]
     },
     "metadata": {},
     "output_type": "display_data"
    },
    {
     "name": "stderr",
     "output_type": "stream",
     "text": [
      "message: Desired error not necessarily achieved due to precision loss.\n",
      "logp: -516361.393409179 -> -516361.3930323308\n"
     ]
    },
    {
     "name": "stdout",
     "output_type": "stream",
     "text": [
      "\n"
     ]
    },
    {
     "name": "stderr",
     "output_type": "stream",
     "text": [
      "optimizing logp for variables: [phase]\n"
     ]
    },
    {
     "data": {
      "text/html": [
       "\n",
       "<style>\n",
       "    /* Turns off some styling */\n",
       "    progress {\n",
       "        /* gets rid of default border in Firefox and Opera. */\n",
       "        border: none;\n",
       "        /* Needs to be in here for Safari polyfill so background images work as expected. */\n",
       "        background-size: auto;\n",
       "    }\n",
       "    progress:not([value]), progress:not([value])::-webkit-progress-bar {\n",
       "        background: repeating-linear-gradient(45deg, #7e7e7e, #7e7e7e 10px, #5c5c5c 10px, #5c5c5c 20px);\n",
       "    }\n",
       "    .progress-bar-interrupted, .progress-bar-interrupted::-webkit-progress-bar {\n",
       "        background: #F44336;\n",
       "    }\n",
       "</style>\n"
      ],
      "text/plain": [
       "<IPython.core.display.HTML object>"
      ]
     },
     "metadata": {},
     "output_type": "display_data"
    },
    {
     "data": {
      "text/html": [
       "\n",
       "    <div>\n",
       "      <progress value='91' class='' max='91' style='width:300px; height:20px; vertical-align: middle;'></progress>\n",
       "      100.00% [91/91 00:00&lt;00:00 logp = -5.153e+05]\n",
       "    </div>\n",
       "    "
      ],
      "text/plain": [
       "<IPython.core.display.HTML object>"
      ]
     },
     "metadata": {},
     "output_type": "display_data"
    },
    {
     "name": "stdout",
     "output_type": "stream",
     "text": [
      "\n"
     ]
    },
    {
     "name": "stderr",
     "output_type": "stream",
     "text": [
      "message: Desired error not necessarily achieved due to precision loss.\n",
      "logp: -515776.8866790071 -> -515343.7037343121\n",
      "optimizing logp for variables: [phase, amp, nu]\n"
     ]
    },
    {
     "data": {
      "text/html": [
       "\n",
       "<style>\n",
       "    /* Turns off some styling */\n",
       "    progress {\n",
       "        /* gets rid of default border in Firefox and Opera. */\n",
       "        border: none;\n",
       "        /* Needs to be in here for Safari polyfill so background images work as expected. */\n",
       "        background-size: auto;\n",
       "    }\n",
       "    progress:not([value]), progress:not([value])::-webkit-progress-bar {\n",
       "        background: repeating-linear-gradient(45deg, #7e7e7e, #7e7e7e 10px, #5c5c5c 10px, #5c5c5c 20px);\n",
       "    }\n",
       "    .progress-bar-interrupted, .progress-bar-interrupted::-webkit-progress-bar {\n",
       "        background: #F44336;\n",
       "    }\n",
       "</style>\n"
      ],
      "text/plain": [
       "<IPython.core.display.HTML object>"
      ]
     },
     "metadata": {},
     "output_type": "display_data"
    },
    {
     "data": {
      "text/html": [
       "\n",
       "    <div>\n",
       "      <progress value='47' class='' max='47' style='width:300px; height:20px; vertical-align: middle;'></progress>\n",
       "      100.00% [47/47 00:00&lt;00:00 logp = -5.153e+05]\n",
       "    </div>\n",
       "    "
      ],
      "text/plain": [
       "<IPython.core.display.HTML object>"
      ]
     },
     "metadata": {},
     "output_type": "display_data"
    },
    {
     "name": "stdout",
     "output_type": "stream",
     "text": [
      "\n"
     ]
    },
    {
     "name": "stderr",
     "output_type": "stream",
     "text": [
      "message: Desired error not necessarily achieved due to precision loss.\n",
      "logp: -515343.7037343121 -> -515343.6560935002\n",
      "optimizing logp for variables: [phase]\n"
     ]
    },
    {
     "data": {
      "text/html": [
       "\n",
       "<style>\n",
       "    /* Turns off some styling */\n",
       "    progress {\n",
       "        /* gets rid of default border in Firefox and Opera. */\n",
       "        border: none;\n",
       "        /* Needs to be in here for Safari polyfill so background images work as expected. */\n",
       "        background-size: auto;\n",
       "    }\n",
       "    progress:not([value]), progress:not([value])::-webkit-progress-bar {\n",
       "        background: repeating-linear-gradient(45deg, #7e7e7e, #7e7e7e 10px, #5c5c5c 10px, #5c5c5c 20px);\n",
       "    }\n",
       "    .progress-bar-interrupted, .progress-bar-interrupted::-webkit-progress-bar {\n",
       "        background: #F44336;\n",
       "    }\n",
       "</style>\n"
      ],
      "text/plain": [
       "<IPython.core.display.HTML object>"
      ]
     },
     "metadata": {},
     "output_type": "display_data"
    },
    {
     "data": {
      "text/html": [
       "\n",
       "    <div>\n",
       "      <progress value='93' class='' max='93' style='width:300px; height:20px; vertical-align: middle;'></progress>\n",
       "      100.00% [93/93 00:00&lt;00:00 logp = -5.148e+05]\n",
       "    </div>\n",
       "    "
      ],
      "text/plain": [
       "<IPython.core.display.HTML object>"
      ]
     },
     "metadata": {},
     "output_type": "display_data"
    },
    {
     "name": "stdout",
     "output_type": "stream",
     "text": [
      "\n"
     ]
    },
    {
     "name": "stderr",
     "output_type": "stream",
     "text": [
      "message: Desired error not necessarily achieved due to precision loss.\n",
      "logp: -517044.391617473 -> -514759.98684579146\n",
      "optimizing logp for variables: [phase, amp, nu]\n"
     ]
    },
    {
     "data": {
      "text/html": [
       "\n",
       "<style>\n",
       "    /* Turns off some styling */\n",
       "    progress {\n",
       "        /* gets rid of default border in Firefox and Opera. */\n",
       "        border: none;\n",
       "        /* Needs to be in here for Safari polyfill so background images work as expected. */\n",
       "        background-size: auto;\n",
       "    }\n",
       "    progress:not([value]), progress:not([value])::-webkit-progress-bar {\n",
       "        background: repeating-linear-gradient(45deg, #7e7e7e, #7e7e7e 10px, #5c5c5c 10px, #5c5c5c 20px);\n",
       "    }\n",
       "    .progress-bar-interrupted, .progress-bar-interrupted::-webkit-progress-bar {\n",
       "        background: #F44336;\n",
       "    }\n",
       "</style>\n"
      ],
      "text/plain": [
       "<IPython.core.display.HTML object>"
      ]
     },
     "metadata": {},
     "output_type": "display_data"
    },
    {
     "data": {
      "text/html": [
       "\n",
       "    <div>\n",
       "      <progress value='58' class='' max='58' style='width:300px; height:20px; vertical-align: middle;'></progress>\n",
       "      100.00% [58/58 00:00&lt;00:00 logp = -5.148e+05]\n",
       "    </div>\n",
       "    "
      ],
      "text/plain": [
       "<IPython.core.display.HTML object>"
      ]
     },
     "metadata": {},
     "output_type": "display_data"
    },
    {
     "name": "stdout",
     "output_type": "stream",
     "text": [
      "\n"
     ]
    },
    {
     "name": "stderr",
     "output_type": "stream",
     "text": [
      "message: Desired error not necessarily achieved due to precision loss.\n",
      "logp: -514759.98684579146 -> -514759.54104600195\n",
      "optimizing logp for variables: [phase]\n"
     ]
    },
    {
     "data": {
      "text/html": [
       "\n",
       "<style>\n",
       "    /* Turns off some styling */\n",
       "    progress {\n",
       "        /* gets rid of default border in Firefox and Opera. */\n",
       "        border: none;\n",
       "        /* Needs to be in here for Safari polyfill so background images work as expected. */\n",
       "        background-size: auto;\n",
       "    }\n",
       "    progress:not([value]), progress:not([value])::-webkit-progress-bar {\n",
       "        background: repeating-linear-gradient(45deg, #7e7e7e, #7e7e7e 10px, #5c5c5c 10px, #5c5c5c 20px);\n",
       "    }\n",
       "    .progress-bar-interrupted, .progress-bar-interrupted::-webkit-progress-bar {\n",
       "        background: #F44336;\n",
       "    }\n",
       "</style>\n"
      ],
      "text/plain": [
       "<IPython.core.display.HTML object>"
      ]
     },
     "metadata": {},
     "output_type": "display_data"
    },
    {
     "data": {
      "text/html": [
       "\n",
       "    <div>\n",
       "      <progress value='123' class='' max='123' style='width:300px; height:20px; vertical-align: middle;'></progress>\n",
       "      100.00% [123/123 00:00&lt;00:00 logp = -5.140e+05]\n",
       "    </div>\n",
       "    "
      ],
      "text/plain": [
       "<IPython.core.display.HTML object>"
      ]
     },
     "metadata": {},
     "output_type": "display_data"
    },
    {
     "name": "stdout",
     "output_type": "stream",
     "text": [
      "\n"
     ]
    },
    {
     "name": "stderr",
     "output_type": "stream",
     "text": [
      "message: Desired error not necessarily achieved due to precision loss.\n",
      "logp: -514434.37233195256 -> -514044.7458895987\n",
      "optimizing logp for variables: [phase, amp, nu]\n"
     ]
    },
    {
     "data": {
      "text/html": [
       "\n",
       "<style>\n",
       "    /* Turns off some styling */\n",
       "    progress {\n",
       "        /* gets rid of default border in Firefox and Opera. */\n",
       "        border: none;\n",
       "        /* Needs to be in here for Safari polyfill so background images work as expected. */\n",
       "        background-size: auto;\n",
       "    }\n",
       "    progress:not([value]), progress:not([value])::-webkit-progress-bar {\n",
       "        background: repeating-linear-gradient(45deg, #7e7e7e, #7e7e7e 10px, #5c5c5c 10px, #5c5c5c 20px);\n",
       "    }\n",
       "    .progress-bar-interrupted, .progress-bar-interrupted::-webkit-progress-bar {\n",
       "        background: #F44336;\n",
       "    }\n",
       "</style>\n"
      ],
      "text/plain": [
       "<IPython.core.display.HTML object>"
      ]
     },
     "metadata": {},
     "output_type": "display_data"
    },
    {
     "data": {
      "text/html": [
       "\n",
       "    <div>\n",
       "      <progress value='97' class='' max='97' style='width:300px; height:20px; vertical-align: middle;'></progress>\n",
       "      100.00% [97/97 00:00&lt;00:00 logp = -5.140e+05]\n",
       "    </div>\n",
       "    "
      ],
      "text/plain": [
       "<IPython.core.display.HTML object>"
      ]
     },
     "metadata": {},
     "output_type": "display_data"
    },
    {
     "name": "stdout",
     "output_type": "stream",
     "text": [
      "\n"
     ]
    },
    {
     "name": "stderr",
     "output_type": "stream",
     "text": [
      "message: Desired error not necessarily achieved due to precision loss.\n",
      "logp: -514044.7458895987 -> -514044.32740441075\n",
      "optimizing logp for variables: [phase]\n"
     ]
    },
    {
     "data": {
      "text/html": [
       "\n",
       "<style>\n",
       "    /* Turns off some styling */\n",
       "    progress {\n",
       "        /* gets rid of default border in Firefox and Opera. */\n",
       "        border: none;\n",
       "        /* Needs to be in here for Safari polyfill so background images work as expected. */\n",
       "        background-size: auto;\n",
       "    }\n",
       "    progress:not([value]), progress:not([value])::-webkit-progress-bar {\n",
       "        background: repeating-linear-gradient(45deg, #7e7e7e, #7e7e7e 10px, #5c5c5c 10px, #5c5c5c 20px);\n",
       "    }\n",
       "    .progress-bar-interrupted, .progress-bar-interrupted::-webkit-progress-bar {\n",
       "        background: #F44336;\n",
       "    }\n",
       "</style>\n"
      ],
      "text/plain": [
       "<IPython.core.display.HTML object>"
      ]
     },
     "metadata": {},
     "output_type": "display_data"
    },
    {
     "data": {
      "text/html": [
       "\n",
       "    <div>\n",
       "      <progress value='57' class='' max='57' style='width:300px; height:20px; vertical-align: middle;'></progress>\n",
       "      100.00% [57/57 00:00&lt;00:00 logp = -5.140e+05]\n",
       "    </div>\n",
       "    "
      ],
      "text/plain": [
       "<IPython.core.display.HTML object>"
      ]
     },
     "metadata": {},
     "output_type": "display_data"
    },
    {
     "name": "stdout",
     "output_type": "stream",
     "text": [
      "\n"
     ]
    },
    {
     "name": "stderr",
     "output_type": "stream",
     "text": [
      "message: Desired error not necessarily achieved due to precision loss.\n",
      "logp: -514043.44810267317 -> -514042.8704358363\n",
      "optimizing logp for variables: [phase, amp, nu]\n"
     ]
    },
    {
     "data": {
      "text/html": [
       "\n",
       "<style>\n",
       "    /* Turns off some styling */\n",
       "    progress {\n",
       "        /* gets rid of default border in Firefox and Opera. */\n",
       "        border: none;\n",
       "        /* Needs to be in here for Safari polyfill so background images work as expected. */\n",
       "        background-size: auto;\n",
       "    }\n",
       "    progress:not([value]), progress:not([value])::-webkit-progress-bar {\n",
       "        background: repeating-linear-gradient(45deg, #7e7e7e, #7e7e7e 10px, #5c5c5c 10px, #5c5c5c 20px);\n",
       "    }\n",
       "    .progress-bar-interrupted, .progress-bar-interrupted::-webkit-progress-bar {\n",
       "        background: #F44336;\n",
       "    }\n",
       "</style>\n"
      ],
      "text/plain": [
       "<IPython.core.display.HTML object>"
      ]
     },
     "metadata": {},
     "output_type": "display_data"
    },
    {
     "data": {
      "text/html": [
       "\n",
       "    <div>\n",
       "      <progress value='64' class='' max='64' style='width:300px; height:20px; vertical-align: middle;'></progress>\n",
       "      100.00% [64/64 00:00&lt;00:00 logp = -5.140e+05]\n",
       "    </div>\n",
       "    "
      ],
      "text/plain": [
       "<IPython.core.display.HTML object>"
      ]
     },
     "metadata": {},
     "output_type": "display_data"
    },
    {
     "name": "stdout",
     "output_type": "stream",
     "text": [
      "\n"
     ]
    },
    {
     "name": "stderr",
     "output_type": "stream",
     "text": [
      "message: Desired error not necessarily achieved due to precision loss.\n",
      "logp: -514042.8704358363 -> -514042.83583737793\n",
      "optimizing logp for variables: [phase]\n"
     ]
    },
    {
     "data": {
      "text/html": [
       "\n",
       "<style>\n",
       "    /* Turns off some styling */\n",
       "    progress {\n",
       "        /* gets rid of default border in Firefox and Opera. */\n",
       "        border: none;\n",
       "        /* Needs to be in here for Safari polyfill so background images work as expected. */\n",
       "        background-size: auto;\n",
       "    }\n",
       "    progress:not([value]), progress:not([value])::-webkit-progress-bar {\n",
       "        background: repeating-linear-gradient(45deg, #7e7e7e, #7e7e7e 10px, #5c5c5c 10px, #5c5c5c 20px);\n",
       "    }\n",
       "    .progress-bar-interrupted, .progress-bar-interrupted::-webkit-progress-bar {\n",
       "        background: #F44336;\n",
       "    }\n",
       "</style>\n"
      ],
      "text/plain": [
       "<IPython.core.display.HTML object>"
      ]
     },
     "metadata": {},
     "output_type": "display_data"
    },
    {
     "data": {
      "text/html": [
       "\n",
       "    <div>\n",
       "      <progress value='7' class='' max='7' style='width:300px; height:20px; vertical-align: middle;'></progress>\n",
       "      100.00% [7/7 00:00&lt;00:00 logp = -5.137e+05]\n",
       "    </div>\n",
       "    "
      ],
      "text/plain": [
       "<IPython.core.display.HTML object>"
      ]
     },
     "metadata": {},
     "output_type": "display_data"
    },
    {
     "name": "stderr",
     "output_type": "stream",
     "text": [
      "message: Optimization terminated successfully.\n",
      "logp: -513749.8119974324 -> -513651.8968973149\n"
     ]
    },
    {
     "name": "stdout",
     "output_type": "stream",
     "text": [
      "\n"
     ]
    },
    {
     "name": "stderr",
     "output_type": "stream",
     "text": [
      "optimizing logp for variables: [phase, amp, nu]\n"
     ]
    },
    {
     "data": {
      "text/html": [
       "\n",
       "<style>\n",
       "    /* Turns off some styling */\n",
       "    progress {\n",
       "        /* gets rid of default border in Firefox and Opera. */\n",
       "        border: none;\n",
       "        /* Needs to be in here for Safari polyfill so background images work as expected. */\n",
       "        background-size: auto;\n",
       "    }\n",
       "    progress:not([value]), progress:not([value])::-webkit-progress-bar {\n",
       "        background: repeating-linear-gradient(45deg, #7e7e7e, #7e7e7e 10px, #5c5c5c 10px, #5c5c5c 20px);\n",
       "    }\n",
       "    .progress-bar-interrupted, .progress-bar-interrupted::-webkit-progress-bar {\n",
       "        background: #F44336;\n",
       "    }\n",
       "</style>\n"
      ],
      "text/plain": [
       "<IPython.core.display.HTML object>"
      ]
     },
     "metadata": {},
     "output_type": "display_data"
    },
    {
     "data": {
      "text/html": [
       "\n",
       "    <div>\n",
       "      <progress value='84' class='' max='84' style='width:300px; height:20px; vertical-align: middle;'></progress>\n",
       "      100.00% [84/84 00:00&lt;00:00 logp = -5.137e+05]\n",
       "    </div>\n",
       "    "
      ],
      "text/plain": [
       "<IPython.core.display.HTML object>"
      ]
     },
     "metadata": {},
     "output_type": "display_data"
    },
    {
     "name": "stdout",
     "output_type": "stream",
     "text": [
      "\n"
     ]
    },
    {
     "name": "stderr",
     "output_type": "stream",
     "text": [
      "message: Desired error not necessarily achieved due to precision loss.\n",
      "logp: -513651.8968973149 -> -513651.2743893275\n",
      "optimizing logp for variables: [phase]\n"
     ]
    },
    {
     "data": {
      "text/html": [
       "\n",
       "<style>\n",
       "    /* Turns off some styling */\n",
       "    progress {\n",
       "        /* gets rid of default border in Firefox and Opera. */\n",
       "        border: none;\n",
       "        /* Needs to be in here for Safari polyfill so background images work as expected. */\n",
       "        background-size: auto;\n",
       "    }\n",
       "    progress:not([value]), progress:not([value])::-webkit-progress-bar {\n",
       "        background: repeating-linear-gradient(45deg, #7e7e7e, #7e7e7e 10px, #5c5c5c 10px, #5c5c5c 20px);\n",
       "    }\n",
       "    .progress-bar-interrupted, .progress-bar-interrupted::-webkit-progress-bar {\n",
       "        background: #F44336;\n",
       "    }\n",
       "</style>\n"
      ],
      "text/plain": [
       "<IPython.core.display.HTML object>"
      ]
     },
     "metadata": {},
     "output_type": "display_data"
    },
    {
     "data": {
      "text/html": [
       "\n",
       "    <div>\n",
       "      <progress value='60' class='' max='60' style='width:300px; height:20px; vertical-align: middle;'></progress>\n",
       "      100.00% [60/60 00:00&lt;00:00 logp = -5.133e+05]\n",
       "    </div>\n",
       "    "
      ],
      "text/plain": [
       "<IPython.core.display.HTML object>"
      ]
     },
     "metadata": {},
     "output_type": "display_data"
    },
    {
     "name": "stdout",
     "output_type": "stream",
     "text": [
      "\n"
     ]
    },
    {
     "name": "stderr",
     "output_type": "stream",
     "text": [
      "message: Desired error not necessarily achieved due to precision loss.\n",
      "logp: -514047.72386729263 -> -513288.3009250919\n",
      "optimizing logp for variables: [phase, amp, nu]\n"
     ]
    },
    {
     "data": {
      "text/html": [
       "\n",
       "<style>\n",
       "    /* Turns off some styling */\n",
       "    progress {\n",
       "        /* gets rid of default border in Firefox and Opera. */\n",
       "        border: none;\n",
       "        /* Needs to be in here for Safari polyfill so background images work as expected. */\n",
       "        background-size: auto;\n",
       "    }\n",
       "    progress:not([value]), progress:not([value])::-webkit-progress-bar {\n",
       "        background: repeating-linear-gradient(45deg, #7e7e7e, #7e7e7e 10px, #5c5c5c 10px, #5c5c5c 20px);\n",
       "    }\n",
       "    .progress-bar-interrupted, .progress-bar-interrupted::-webkit-progress-bar {\n",
       "        background: #F44336;\n",
       "    }\n",
       "</style>\n"
      ],
      "text/plain": [
       "<IPython.core.display.HTML object>"
      ]
     },
     "metadata": {},
     "output_type": "display_data"
    },
    {
     "data": {
      "text/html": [
       "\n",
       "    <div>\n",
       "      <progress value='52' class='' max='52' style='width:300px; height:20px; vertical-align: middle;'></progress>\n",
       "      100.00% [52/52 00:00&lt;00:00 logp = -5.133e+05]\n",
       "    </div>\n",
       "    "
      ],
      "text/plain": [
       "<IPython.core.display.HTML object>"
      ]
     },
     "metadata": {},
     "output_type": "display_data"
    },
    {
     "name": "stdout",
     "output_type": "stream",
     "text": [
      "\n"
     ]
    },
    {
     "name": "stderr",
     "output_type": "stream",
     "text": [
      "message: Desired error not necessarily achieved due to precision loss.\n",
      "logp: -513288.3009250919 -> -513287.7228334766\n",
      "optimizing logp for variables: [phase]\n"
     ]
    },
    {
     "data": {
      "text/html": [
       "\n",
       "<style>\n",
       "    /* Turns off some styling */\n",
       "    progress {\n",
       "        /* gets rid of default border in Firefox and Opera. */\n",
       "        border: none;\n",
       "        /* Needs to be in here for Safari polyfill so background images work as expected. */\n",
       "        background-size: auto;\n",
       "    }\n",
       "    progress:not([value]), progress:not([value])::-webkit-progress-bar {\n",
       "        background: repeating-linear-gradient(45deg, #7e7e7e, #7e7e7e 10px, #5c5c5c 10px, #5c5c5c 20px);\n",
       "    }\n",
       "    .progress-bar-interrupted, .progress-bar-interrupted::-webkit-progress-bar {\n",
       "        background: #F44336;\n",
       "    }\n",
       "</style>\n"
      ],
      "text/plain": [
       "<IPython.core.display.HTML object>"
      ]
     },
     "metadata": {},
     "output_type": "display_data"
    },
    {
     "data": {
      "text/html": [
       "\n",
       "    <div>\n",
       "      <progress value='54' class='' max='54' style='width:300px; height:20px; vertical-align: middle;'></progress>\n",
       "      100.00% [54/54 00:00&lt;00:00 logp = -5.129e+05]\n",
       "    </div>\n",
       "    "
      ],
      "text/plain": [
       "<IPython.core.display.HTML object>"
      ]
     },
     "metadata": {},
     "output_type": "display_data"
    },
    {
     "name": "stdout",
     "output_type": "stream",
     "text": [
      "\n"
     ]
    },
    {
     "name": "stderr",
     "output_type": "stream",
     "text": [
      "message: Desired error not necessarily achieved due to precision loss.\n",
      "logp: -513988.9844317713 -> -512928.28090607986\n",
      "optimizing logp for variables: [phase, amp, nu]\n"
     ]
    },
    {
     "data": {
      "text/html": [
       "\n",
       "<style>\n",
       "    /* Turns off some styling */\n",
       "    progress {\n",
       "        /* gets rid of default border in Firefox and Opera. */\n",
       "        border: none;\n",
       "        /* Needs to be in here for Safari polyfill so background images work as expected. */\n",
       "        background-size: auto;\n",
       "    }\n",
       "    progress:not([value]), progress:not([value])::-webkit-progress-bar {\n",
       "        background: repeating-linear-gradient(45deg, #7e7e7e, #7e7e7e 10px, #5c5c5c 10px, #5c5c5c 20px);\n",
       "    }\n",
       "    .progress-bar-interrupted, .progress-bar-interrupted::-webkit-progress-bar {\n",
       "        background: #F44336;\n",
       "    }\n",
       "</style>\n"
      ],
      "text/plain": [
       "<IPython.core.display.HTML object>"
      ]
     },
     "metadata": {},
     "output_type": "display_data"
    },
    {
     "data": {
      "text/html": [
       "\n",
       "    <div>\n",
       "      <progress value='12' class='' max='12' style='width:300px; height:20px; vertical-align: middle;'></progress>\n",
       "      100.00% [12/12 00:00&lt;00:00 logp = -5.129e+05]\n",
       "    </div>\n",
       "    "
      ],
      "text/plain": [
       "<IPython.core.display.HTML object>"
      ]
     },
     "metadata": {},
     "output_type": "display_data"
    },
    {
     "name": "stderr",
     "output_type": "stream",
     "text": [
      "message: Desired error not necessarily achieved due to precision loss.\n",
      "logp: -512928.28090607986 -> -512928.2722676203\n"
     ]
    },
    {
     "name": "stdout",
     "output_type": "stream",
     "text": [
      "\n"
     ]
    },
    {
     "name": "stderr",
     "output_type": "stream",
     "text": [
      "optimizing logp for variables: [phase]\n"
     ]
    },
    {
     "data": {
      "text/html": [
       "\n",
       "<style>\n",
       "    /* Turns off some styling */\n",
       "    progress {\n",
       "        /* gets rid of default border in Firefox and Opera. */\n",
       "        border: none;\n",
       "        /* Needs to be in here for Safari polyfill so background images work as expected. */\n",
       "        background-size: auto;\n",
       "    }\n",
       "    progress:not([value]), progress:not([value])::-webkit-progress-bar {\n",
       "        background: repeating-linear-gradient(45deg, #7e7e7e, #7e7e7e 10px, #5c5c5c 10px, #5c5c5c 20px);\n",
       "    }\n",
       "    .progress-bar-interrupted, .progress-bar-interrupted::-webkit-progress-bar {\n",
       "        background: #F44336;\n",
       "    }\n",
       "</style>\n"
      ],
      "text/plain": [
       "<IPython.core.display.HTML object>"
      ]
     },
     "metadata": {},
     "output_type": "display_data"
    },
    {
     "data": {
      "text/html": [
       "\n",
       "    <div>\n",
       "      <progress value='56' class='' max='56' style='width:300px; height:20px; vertical-align: middle;'></progress>\n",
       "      100.00% [56/56 00:00&lt;00:00 logp = -5.126e+05]\n",
       "    </div>\n",
       "    "
      ],
      "text/plain": [
       "<IPython.core.display.HTML object>"
      ]
     },
     "metadata": {},
     "output_type": "display_data"
    },
    {
     "name": "stdout",
     "output_type": "stream",
     "text": [
      "\n"
     ]
    },
    {
     "name": "stderr",
     "output_type": "stream",
     "text": [
      "message: Desired error not necessarily achieved due to precision loss.\n",
      "logp: -513785.8272544636 -> -512579.8532949145\n",
      "optimizing logp for variables: [phase, amp, nu]\n"
     ]
    },
    {
     "data": {
      "text/html": [
       "\n",
       "<style>\n",
       "    /* Turns off some styling */\n",
       "    progress {\n",
       "        /* gets rid of default border in Firefox and Opera. */\n",
       "        border: none;\n",
       "        /* Needs to be in here for Safari polyfill so background images work as expected. */\n",
       "        background-size: auto;\n",
       "    }\n",
       "    progress:not([value]), progress:not([value])::-webkit-progress-bar {\n",
       "        background: repeating-linear-gradient(45deg, #7e7e7e, #7e7e7e 10px, #5c5c5c 10px, #5c5c5c 20px);\n",
       "    }\n",
       "    .progress-bar-interrupted, .progress-bar-interrupted::-webkit-progress-bar {\n",
       "        background: #F44336;\n",
       "    }\n",
       "</style>\n"
      ],
      "text/plain": [
       "<IPython.core.display.HTML object>"
      ]
     },
     "metadata": {},
     "output_type": "display_data"
    },
    {
     "data": {
      "text/html": [
       "\n",
       "    <div>\n",
       "      <progress value='63' class='' max='63' style='width:300px; height:20px; vertical-align: middle;'></progress>\n",
       "      100.00% [63/63 00:00&lt;00:00 logp = -5.126e+05]\n",
       "    </div>\n",
       "    "
      ],
      "text/plain": [
       "<IPython.core.display.HTML object>"
      ]
     },
     "metadata": {},
     "output_type": "display_data"
    },
    {
     "name": "stdout",
     "output_type": "stream",
     "text": [
      "\n"
     ]
    },
    {
     "name": "stderr",
     "output_type": "stream",
     "text": [
      "message: Desired error not necessarily achieved due to precision loss.\n",
      "logp: -512579.8532949145 -> -512579.8119443576\n",
      "optimizing logp for variables: [phase]\n"
     ]
    },
    {
     "data": {
      "text/html": [
       "\n",
       "<style>\n",
       "    /* Turns off some styling */\n",
       "    progress {\n",
       "        /* gets rid of default border in Firefox and Opera. */\n",
       "        border: none;\n",
       "        /* Needs to be in here for Safari polyfill so background images work as expected. */\n",
       "        background-size: auto;\n",
       "    }\n",
       "    progress:not([value]), progress:not([value])::-webkit-progress-bar {\n",
       "        background: repeating-linear-gradient(45deg, #7e7e7e, #7e7e7e 10px, #5c5c5c 10px, #5c5c5c 20px);\n",
       "    }\n",
       "    .progress-bar-interrupted, .progress-bar-interrupted::-webkit-progress-bar {\n",
       "        background: #F44336;\n",
       "    }\n",
       "</style>\n"
      ],
      "text/plain": [
       "<IPython.core.display.HTML object>"
      ]
     },
     "metadata": {},
     "output_type": "display_data"
    },
    {
     "data": {
      "text/html": [
       "\n",
       "    <div>\n",
       "      <progress value='7' class='' max='7' style='width:300px; height:20px; vertical-align: middle;'></progress>\n",
       "      100.00% [7/7 00:00&lt;00:00 logp = -5.122e+05]\n",
       "    </div>\n",
       "    "
      ],
      "text/plain": [
       "<IPython.core.display.HTML object>"
      ]
     },
     "metadata": {},
     "output_type": "display_data"
    },
    {
     "name": "stderr",
     "output_type": "stream",
     "text": [
      "message: Optimization terminated successfully.\n",
      "logp: -512428.3079829406 -> -512215.5121609659\n"
     ]
    },
    {
     "name": "stdout",
     "output_type": "stream",
     "text": [
      "\n"
     ]
    },
    {
     "name": "stderr",
     "output_type": "stream",
     "text": [
      "optimizing logp for variables: [phase, amp, nu]\n"
     ]
    },
    {
     "data": {
      "text/html": [
       "\n",
       "<style>\n",
       "    /* Turns off some styling */\n",
       "    progress {\n",
       "        /* gets rid of default border in Firefox and Opera. */\n",
       "        border: none;\n",
       "        /* Needs to be in here for Safari polyfill so background images work as expected. */\n",
       "        background-size: auto;\n",
       "    }\n",
       "    progress:not([value]), progress:not([value])::-webkit-progress-bar {\n",
       "        background: repeating-linear-gradient(45deg, #7e7e7e, #7e7e7e 10px, #5c5c5c 10px, #5c5c5c 20px);\n",
       "    }\n",
       "    .progress-bar-interrupted, .progress-bar-interrupted::-webkit-progress-bar {\n",
       "        background: #F44336;\n",
       "    }\n",
       "</style>\n"
      ],
      "text/plain": [
       "<IPython.core.display.HTML object>"
      ]
     },
     "metadata": {},
     "output_type": "display_data"
    },
    {
     "data": {
      "text/html": [
       "\n",
       "    <div>\n",
       "      <progress value='69' class='' max='69' style='width:300px; height:20px; vertical-align: middle;'></progress>\n",
       "      100.00% [69/69 00:00&lt;00:00 logp = -5.122e+05]\n",
       "    </div>\n",
       "    "
      ],
      "text/plain": [
       "<IPython.core.display.HTML object>"
      ]
     },
     "metadata": {},
     "output_type": "display_data"
    },
    {
     "name": "stdout",
     "output_type": "stream",
     "text": [
      "\n"
     ]
    },
    {
     "name": "stderr",
     "output_type": "stream",
     "text": [
      "message: Desired error not necessarily achieved due to precision loss.\n",
      "logp: -512215.5121609659 -> -512215.4952955969\n",
      "optimizing logp for variables: [phase]\n"
     ]
    },
    {
     "data": {
      "text/html": [
       "\n",
       "<style>\n",
       "    /* Turns off some styling */\n",
       "    progress {\n",
       "        /* gets rid of default border in Firefox and Opera. */\n",
       "        border: none;\n",
       "        /* Needs to be in here for Safari polyfill so background images work as expected. */\n",
       "        background-size: auto;\n",
       "    }\n",
       "    progress:not([value]), progress:not([value])::-webkit-progress-bar {\n",
       "        background: repeating-linear-gradient(45deg, #7e7e7e, #7e7e7e 10px, #5c5c5c 10px, #5c5c5c 20px);\n",
       "    }\n",
       "    .progress-bar-interrupted, .progress-bar-interrupted::-webkit-progress-bar {\n",
       "        background: #F44336;\n",
       "    }\n",
       "</style>\n"
      ],
      "text/plain": [
       "<IPython.core.display.HTML object>"
      ]
     },
     "metadata": {},
     "output_type": "display_data"
    },
    {
     "data": {
      "text/html": [
       "\n",
       "    <div>\n",
       "      <progress value='38' class='' max='38' style='width:300px; height:20px; vertical-align: middle;'></progress>\n",
       "      100.00% [38/38 00:00&lt;00:00 logp = -5.119e+05]\n",
       "    </div>\n",
       "    "
      ],
      "text/plain": [
       "<IPython.core.display.HTML object>"
      ]
     },
     "metadata": {},
     "output_type": "display_data"
    },
    {
     "name": "stdout",
     "output_type": "stream",
     "text": [
      "\n"
     ]
    },
    {
     "name": "stderr",
     "output_type": "stream",
     "text": [
      "message: Desired error not necessarily achieved due to precision loss.\n",
      "logp: -512207.16637691273 -> -511889.05531623296\n",
      "optimizing logp for variables: [phase, amp, nu]\n"
     ]
    },
    {
     "data": {
      "text/html": [
       "\n",
       "<style>\n",
       "    /* Turns off some styling */\n",
       "    progress {\n",
       "        /* gets rid of default border in Firefox and Opera. */\n",
       "        border: none;\n",
       "        /* Needs to be in here for Safari polyfill so background images work as expected. */\n",
       "        background-size: auto;\n",
       "    }\n",
       "    progress:not([value]), progress:not([value])::-webkit-progress-bar {\n",
       "        background: repeating-linear-gradient(45deg, #7e7e7e, #7e7e7e 10px, #5c5c5c 10px, #5c5c5c 20px);\n",
       "    }\n",
       "    .progress-bar-interrupted, .progress-bar-interrupted::-webkit-progress-bar {\n",
       "        background: #F44336;\n",
       "    }\n",
       "</style>\n"
      ],
      "text/plain": [
       "<IPython.core.display.HTML object>"
      ]
     },
     "metadata": {},
     "output_type": "display_data"
    },
    {
     "data": {
      "text/html": [
       "\n",
       "    <div>\n",
       "      <progress value='92' class='' max='92' style='width:300px; height:20px; vertical-align: middle;'></progress>\n",
       "      100.00% [92/92 00:00&lt;00:00 logp = -5.119e+05]\n",
       "    </div>\n",
       "    "
      ],
      "text/plain": [
       "<IPython.core.display.HTML object>"
      ]
     },
     "metadata": {},
     "output_type": "display_data"
    },
    {
     "name": "stdout",
     "output_type": "stream",
     "text": [
      "\n"
     ]
    },
    {
     "name": "stderr",
     "output_type": "stream",
     "text": [
      "message: Desired error not necessarily achieved due to precision loss.\n",
      "logp: -511889.05531623296 -> -511888.48904892907\n",
      "optimizing logp for variables: [phase]\n"
     ]
    },
    {
     "data": {
      "text/html": [
       "\n",
       "<style>\n",
       "    /* Turns off some styling */\n",
       "    progress {\n",
       "        /* gets rid of default border in Firefox and Opera. */\n",
       "        border: none;\n",
       "        /* Needs to be in here for Safari polyfill so background images work as expected. */\n",
       "        background-size: auto;\n",
       "    }\n",
       "    progress:not([value]), progress:not([value])::-webkit-progress-bar {\n",
       "        background: repeating-linear-gradient(45deg, #7e7e7e, #7e7e7e 10px, #5c5c5c 10px, #5c5c5c 20px);\n",
       "    }\n",
       "    .progress-bar-interrupted, .progress-bar-interrupted::-webkit-progress-bar {\n",
       "        background: #F44336;\n",
       "    }\n",
       "</style>\n"
      ],
      "text/plain": [
       "<IPython.core.display.HTML object>"
      ]
     },
     "metadata": {},
     "output_type": "display_data"
    },
    {
     "data": {
      "text/html": [
       "\n",
       "    <div>\n",
       "      <progress value='41' class='' max='41' style='width:300px; height:20px; vertical-align: middle;'></progress>\n",
       "      100.00% [41/41 00:00&lt;00:00 logp = -5.116e+05]\n",
       "    </div>\n",
       "    "
      ],
      "text/plain": [
       "<IPython.core.display.HTML object>"
      ]
     },
     "metadata": {},
     "output_type": "display_data"
    },
    {
     "name": "stdout",
     "output_type": "stream",
     "text": [
      "\n"
     ]
    },
    {
     "name": "stderr",
     "output_type": "stream",
     "text": [
      "message: Desired error not necessarily achieved due to precision loss.\n",
      "logp: -512112.3546857303 -> -511568.66496960697\n",
      "optimizing logp for variables: [phase, amp, nu]\n"
     ]
    },
    {
     "data": {
      "text/html": [
       "\n",
       "<style>\n",
       "    /* Turns off some styling */\n",
       "    progress {\n",
       "        /* gets rid of default border in Firefox and Opera. */\n",
       "        border: none;\n",
       "        /* Needs to be in here for Safari polyfill so background images work as expected. */\n",
       "        background-size: auto;\n",
       "    }\n",
       "    progress:not([value]), progress:not([value])::-webkit-progress-bar {\n",
       "        background: repeating-linear-gradient(45deg, #7e7e7e, #7e7e7e 10px, #5c5c5c 10px, #5c5c5c 20px);\n",
       "    }\n",
       "    .progress-bar-interrupted, .progress-bar-interrupted::-webkit-progress-bar {\n",
       "        background: #F44336;\n",
       "    }\n",
       "</style>\n"
      ],
      "text/plain": [
       "<IPython.core.display.HTML object>"
      ]
     },
     "metadata": {},
     "output_type": "display_data"
    },
    {
     "data": {
      "text/html": [
       "\n",
       "    <div>\n",
       "      <progress value='42' class='' max='42' style='width:300px; height:20px; vertical-align: middle;'></progress>\n",
       "      100.00% [42/42 00:00&lt;00:00 logp = -5.116e+05]\n",
       "    </div>\n",
       "    "
      ],
      "text/plain": [
       "<IPython.core.display.HTML object>"
      ]
     },
     "metadata": {},
     "output_type": "display_data"
    },
    {
     "name": "stdout",
     "output_type": "stream",
     "text": [
      "\n"
     ]
    },
    {
     "name": "stderr",
     "output_type": "stream",
     "text": [
      "message: Desired error not necessarily achieved due to precision loss.\n",
      "logp: -511568.66496960697 -> -511567.73620783\n",
      "optimizing logp for variables: [phase]\n"
     ]
    },
    {
     "data": {
      "text/html": [
       "\n",
       "<style>\n",
       "    /* Turns off some styling */\n",
       "    progress {\n",
       "        /* gets rid of default border in Firefox and Opera. */\n",
       "        border: none;\n",
       "        /* Needs to be in here for Safari polyfill so background images work as expected. */\n",
       "        background-size: auto;\n",
       "    }\n",
       "    progress:not([value]), progress:not([value])::-webkit-progress-bar {\n",
       "        background: repeating-linear-gradient(45deg, #7e7e7e, #7e7e7e 10px, #5c5c5c 10px, #5c5c5c 20px);\n",
       "    }\n",
       "    .progress-bar-interrupted, .progress-bar-interrupted::-webkit-progress-bar {\n",
       "        background: #F44336;\n",
       "    }\n",
       "</style>\n"
      ],
      "text/plain": [
       "<IPython.core.display.HTML object>"
      ]
     },
     "metadata": {},
     "output_type": "display_data"
    },
    {
     "data": {
      "text/html": [
       "\n",
       "    <div>\n",
       "      <progress value='7' class='' max='7' style='width:300px; height:20px; vertical-align: middle;'></progress>\n",
       "      100.00% [7/7 00:00&lt;00:00 logp = -5.114e+05]\n",
       "    </div>\n",
       "    "
      ],
      "text/plain": [
       "<IPython.core.display.HTML object>"
      ]
     },
     "metadata": {},
     "output_type": "display_data"
    },
    {
     "name": "stderr",
     "output_type": "stream",
     "text": [
      "message: Optimization terminated successfully.\n",
      "logp: -511457.49260985904 -> -511445.25952037104\n"
     ]
    },
    {
     "name": "stdout",
     "output_type": "stream",
     "text": [
      "\n"
     ]
    },
    {
     "name": "stderr",
     "output_type": "stream",
     "text": [
      "optimizing logp for variables: [phase, amp, nu]\n"
     ]
    },
    {
     "data": {
      "text/html": [
       "\n",
       "<style>\n",
       "    /* Turns off some styling */\n",
       "    progress {\n",
       "        /* gets rid of default border in Firefox and Opera. */\n",
       "        border: none;\n",
       "        /* Needs to be in here for Safari polyfill so background images work as expected. */\n",
       "        background-size: auto;\n",
       "    }\n",
       "    progress:not([value]), progress:not([value])::-webkit-progress-bar {\n",
       "        background: repeating-linear-gradient(45deg, #7e7e7e, #7e7e7e 10px, #5c5c5c 10px, #5c5c5c 20px);\n",
       "    }\n",
       "    .progress-bar-interrupted, .progress-bar-interrupted::-webkit-progress-bar {\n",
       "        background: #F44336;\n",
       "    }\n",
       "</style>\n"
      ],
      "text/plain": [
       "<IPython.core.display.HTML object>"
      ]
     },
     "metadata": {},
     "output_type": "display_data"
    },
    {
     "data": {
      "text/html": [
       "\n",
       "    <div>\n",
       "      <progress value='15' class='' max='15' style='width:300px; height:20px; vertical-align: middle;'></progress>\n",
       "      100.00% [15/15 00:00&lt;00:00 logp = -5.114e+05]\n",
       "    </div>\n",
       "    "
      ],
      "text/plain": [
       "<IPython.core.display.HTML object>"
      ]
     },
     "metadata": {},
     "output_type": "display_data"
    },
    {
     "name": "stderr",
     "output_type": "stream",
     "text": [
      "message: Desired error not necessarily achieved due to precision loss.\n",
      "logp: -511445.25952037104 -> -511445.2585780439\n"
     ]
    },
    {
     "name": "stdout",
     "output_type": "stream",
     "text": [
      "\n"
     ]
    },
    {
     "name": "stderr",
     "output_type": "stream",
     "text": [
      "optimizing logp for variables: [phase]\n"
     ]
    },
    {
     "data": {
      "text/html": [
       "\n",
       "<style>\n",
       "    /* Turns off some styling */\n",
       "    progress {\n",
       "        /* gets rid of default border in Firefox and Opera. */\n",
       "        border: none;\n",
       "        /* Needs to be in here for Safari polyfill so background images work as expected. */\n",
       "        background-size: auto;\n",
       "    }\n",
       "    progress:not([value]), progress:not([value])::-webkit-progress-bar {\n",
       "        background: repeating-linear-gradient(45deg, #7e7e7e, #7e7e7e 10px, #5c5c5c 10px, #5c5c5c 20px);\n",
       "    }\n",
       "    .progress-bar-interrupted, .progress-bar-interrupted::-webkit-progress-bar {\n",
       "        background: #F44336;\n",
       "    }\n",
       "</style>\n"
      ],
      "text/plain": [
       "<IPython.core.display.HTML object>"
      ]
     },
     "metadata": {},
     "output_type": "display_data"
    },
    {
     "data": {
      "text/html": [
       "\n",
       "    <div>\n",
       "      <progress value='89' class='' max='89' style='width:300px; height:20px; vertical-align: middle;'></progress>\n",
       "      100.00% [89/89 00:00&lt;00:00 logp = -5.111e+05]\n",
       "    </div>\n",
       "    "
      ],
      "text/plain": [
       "<IPython.core.display.HTML object>"
      ]
     },
     "metadata": {},
     "output_type": "display_data"
    },
    {
     "name": "stdout",
     "output_type": "stream",
     "text": [
      "\n"
     ]
    },
    {
     "name": "stderr",
     "output_type": "stream",
     "text": [
      "message: Desired error not necessarily achieved due to precision loss.\n",
      "logp: -512250.380387578 -> -511141.9884818103\n",
      "optimizing logp for variables: [phase, amp, nu]\n"
     ]
    },
    {
     "data": {
      "text/html": [
       "\n",
       "<style>\n",
       "    /* Turns off some styling */\n",
       "    progress {\n",
       "        /* gets rid of default border in Firefox and Opera. */\n",
       "        border: none;\n",
       "        /* Needs to be in here for Safari polyfill so background images work as expected. */\n",
       "        background-size: auto;\n",
       "    }\n",
       "    progress:not([value]), progress:not([value])::-webkit-progress-bar {\n",
       "        background: repeating-linear-gradient(45deg, #7e7e7e, #7e7e7e 10px, #5c5c5c 10px, #5c5c5c 20px);\n",
       "    }\n",
       "    .progress-bar-interrupted, .progress-bar-interrupted::-webkit-progress-bar {\n",
       "        background: #F44336;\n",
       "    }\n",
       "</style>\n"
      ],
      "text/plain": [
       "<IPython.core.display.HTML object>"
      ]
     },
     "metadata": {},
     "output_type": "display_data"
    },
    {
     "data": {
      "text/html": [
       "\n",
       "    <div>\n",
       "      <progress value='67' class='' max='67' style='width:300px; height:20px; vertical-align: middle;'></progress>\n",
       "      100.00% [67/67 00:00&lt;00:00 logp = -5.111e+05]\n",
       "    </div>\n",
       "    "
      ],
      "text/plain": [
       "<IPython.core.display.HTML object>"
      ]
     },
     "metadata": {},
     "output_type": "display_data"
    },
    {
     "name": "stdout",
     "output_type": "stream",
     "text": [
      "\n"
     ]
    },
    {
     "name": "stderr",
     "output_type": "stream",
     "text": [
      "message: Desired error not necessarily achieved due to precision loss.\n",
      "logp: -511141.9884818103 -> -511141.7164506072\n",
      "optimizing logp for variables: [phase]\n"
     ]
    },
    {
     "data": {
      "text/html": [
       "\n",
       "<style>\n",
       "    /* Turns off some styling */\n",
       "    progress {\n",
       "        /* gets rid of default border in Firefox and Opera. */\n",
       "        border: none;\n",
       "        /* Needs to be in here for Safari polyfill so background images work as expected. */\n",
       "        background-size: auto;\n",
       "    }\n",
       "    progress:not([value]), progress:not([value])::-webkit-progress-bar {\n",
       "        background: repeating-linear-gradient(45deg, #7e7e7e, #7e7e7e 10px, #5c5c5c 10px, #5c5c5c 20px);\n",
       "    }\n",
       "    .progress-bar-interrupted, .progress-bar-interrupted::-webkit-progress-bar {\n",
       "        background: #F44336;\n",
       "    }\n",
       "</style>\n"
      ],
      "text/plain": [
       "<IPython.core.display.HTML object>"
      ]
     },
     "metadata": {},
     "output_type": "display_data"
    },
    {
     "data": {
      "text/html": [
       "\n",
       "    <div>\n",
       "      <progress value='63' class='' max='63' style='width:300px; height:20px; vertical-align: middle;'></progress>\n",
       "      100.00% [63/63 00:00&lt;00:00 logp = -5.111e+05]\n",
       "    </div>\n",
       "    "
      ],
      "text/plain": [
       "<IPython.core.display.HTML object>"
      ]
     },
     "metadata": {},
     "output_type": "display_data"
    },
    {
     "name": "stdout",
     "output_type": "stream",
     "text": [
      "\n"
     ]
    },
    {
     "name": "stderr",
     "output_type": "stream",
     "text": [
      "message: Desired error not necessarily achieved due to precision loss.\n",
      "logp: -511374.3262521018 -> -511063.90358172654\n",
      "optimizing logp for variables: [phase, amp, nu]\n"
     ]
    },
    {
     "data": {
      "text/html": [
       "\n",
       "<style>\n",
       "    /* Turns off some styling */\n",
       "    progress {\n",
       "        /* gets rid of default border in Firefox and Opera. */\n",
       "        border: none;\n",
       "        /* Needs to be in here for Safari polyfill so background images work as expected. */\n",
       "        background-size: auto;\n",
       "    }\n",
       "    progress:not([value]), progress:not([value])::-webkit-progress-bar {\n",
       "        background: repeating-linear-gradient(45deg, #7e7e7e, #7e7e7e 10px, #5c5c5c 10px, #5c5c5c 20px);\n",
       "    }\n",
       "    .progress-bar-interrupted, .progress-bar-interrupted::-webkit-progress-bar {\n",
       "        background: #F44336;\n",
       "    }\n",
       "</style>\n"
      ],
      "text/plain": [
       "<IPython.core.display.HTML object>"
      ]
     },
     "metadata": {},
     "output_type": "display_data"
    },
    {
     "data": {
      "text/html": [
       "\n",
       "    <div>\n",
       "      <progress value='91' class='' max='91' style='width:300px; height:20px; vertical-align: middle;'></progress>\n",
       "      100.00% [91/91 00:00&lt;00:00 logp = -5.111e+05]\n",
       "    </div>\n",
       "    "
      ],
      "text/plain": [
       "<IPython.core.display.HTML object>"
      ]
     },
     "metadata": {},
     "output_type": "display_data"
    },
    {
     "name": "stdout",
     "output_type": "stream",
     "text": [
      "\n"
     ]
    },
    {
     "name": "stderr",
     "output_type": "stream",
     "text": [
      "message: Desired error not necessarily achieved due to precision loss.\n",
      "logp: -511063.90358172654 -> -511063.8822380181\n",
      "optimizing logp for variables: [phase]\n"
     ]
    },
    {
     "data": {
      "text/html": [
       "\n",
       "<style>\n",
       "    /* Turns off some styling */\n",
       "    progress {\n",
       "        /* gets rid of default border in Firefox and Opera. */\n",
       "        border: none;\n",
       "        /* Needs to be in here for Safari polyfill so background images work as expected. */\n",
       "        background-size: auto;\n",
       "    }\n",
       "    progress:not([value]), progress:not([value])::-webkit-progress-bar {\n",
       "        background: repeating-linear-gradient(45deg, #7e7e7e, #7e7e7e 10px, #5c5c5c 10px, #5c5c5c 20px);\n",
       "    }\n",
       "    .progress-bar-interrupted, .progress-bar-interrupted::-webkit-progress-bar {\n",
       "        background: #F44336;\n",
       "    }\n",
       "</style>\n"
      ],
      "text/plain": [
       "<IPython.core.display.HTML object>"
      ]
     },
     "metadata": {},
     "output_type": "display_data"
    },
    {
     "data": {
      "text/html": [
       "\n",
       "    <div>\n",
       "      <progress value='7' class='' max='7' style='width:300px; height:20px; vertical-align: middle;'></progress>\n",
       "      100.00% [7/7 00:00&lt;00:00 logp = -5.111e+05]\n",
       "    </div>\n",
       "    "
      ],
      "text/plain": [
       "<IPython.core.display.HTML object>"
      ]
     },
     "metadata": {},
     "output_type": "display_data"
    },
    {
     "name": "stderr",
     "output_type": "stream",
     "text": [
      "message: Optimization terminated successfully.\n",
      "logp: -511064.1177674954 -> -511063.81056835456\n"
     ]
    },
    {
     "name": "stdout",
     "output_type": "stream",
     "text": [
      "\n"
     ]
    },
    {
     "name": "stderr",
     "output_type": "stream",
     "text": [
      "optimizing logp for variables: [phase, amp, nu]\n"
     ]
    },
    {
     "data": {
      "text/html": [
       "\n",
       "<style>\n",
       "    /* Turns off some styling */\n",
       "    progress {\n",
       "        /* gets rid of default border in Firefox and Opera. */\n",
       "        border: none;\n",
       "        /* Needs to be in here for Safari polyfill so background images work as expected. */\n",
       "        background-size: auto;\n",
       "    }\n",
       "    progress:not([value]), progress:not([value])::-webkit-progress-bar {\n",
       "        background: repeating-linear-gradient(45deg, #7e7e7e, #7e7e7e 10px, #5c5c5c 10px, #5c5c5c 20px);\n",
       "    }\n",
       "    .progress-bar-interrupted, .progress-bar-interrupted::-webkit-progress-bar {\n",
       "        background: #F44336;\n",
       "    }\n",
       "</style>\n"
      ],
      "text/plain": [
       "<IPython.core.display.HTML object>"
      ]
     },
     "metadata": {},
     "output_type": "display_data"
    },
    {
     "data": {
      "text/html": [
       "\n",
       "    <div>\n",
       "      <progress value='133' class='' max='133' style='width:300px; height:20px; vertical-align: middle;'></progress>\n",
       "      100.00% [133/133 00:00&lt;00:00 logp = -5.111e+05]\n",
       "    </div>\n",
       "    "
      ],
      "text/plain": [
       "<IPython.core.display.HTML object>"
      ]
     },
     "metadata": {},
     "output_type": "display_data"
    },
    {
     "name": "stdout",
     "output_type": "stream",
     "text": [
      "\n"
     ]
    },
    {
     "name": "stderr",
     "output_type": "stream",
     "text": [
      "message: Desired error not necessarily achieved due to precision loss.\n",
      "logp: -511063.81056835456 -> -511063.78682142793\n",
      "optimizing logp for variables: [phase]\n"
     ]
    },
    {
     "data": {
      "text/html": [
       "\n",
       "<style>\n",
       "    /* Turns off some styling */\n",
       "    progress {\n",
       "        /* gets rid of default border in Firefox and Opera. */\n",
       "        border: none;\n",
       "        /* Needs to be in here for Safari polyfill so background images work as expected. */\n",
       "        background-size: auto;\n",
       "    }\n",
       "    progress:not([value]), progress:not([value])::-webkit-progress-bar {\n",
       "        background: repeating-linear-gradient(45deg, #7e7e7e, #7e7e7e 10px, #5c5c5c 10px, #5c5c5c 20px);\n",
       "    }\n",
       "    .progress-bar-interrupted, .progress-bar-interrupted::-webkit-progress-bar {\n",
       "        background: #F44336;\n",
       "    }\n",
       "</style>\n"
      ],
      "text/plain": [
       "<IPython.core.display.HTML object>"
      ]
     },
     "metadata": {},
     "output_type": "display_data"
    },
    {
     "data": {
      "text/html": [
       "\n",
       "    <div>\n",
       "      <progress value='73' class='' max='73' style='width:300px; height:20px; vertical-align: middle;'></progress>\n",
       "      100.00% [73/73 00:00&lt;00:00 logp = -5.108e+05]\n",
       "    </div>\n",
       "    "
      ],
      "text/plain": [
       "<IPython.core.display.HTML object>"
      ]
     },
     "metadata": {},
     "output_type": "display_data"
    },
    {
     "name": "stdout",
     "output_type": "stream",
     "text": [
      "\n"
     ]
    },
    {
     "name": "stderr",
     "output_type": "stream",
     "text": [
      "message: Desired error not necessarily achieved due to precision loss.\n",
      "logp: -511882.6488191165 -> -510782.32669151307\n",
      "optimizing logp for variables: [phase, amp, nu]\n"
     ]
    },
    {
     "data": {
      "text/html": [
       "\n",
       "<style>\n",
       "    /* Turns off some styling */\n",
       "    progress {\n",
       "        /* gets rid of default border in Firefox and Opera. */\n",
       "        border: none;\n",
       "        /* Needs to be in here for Safari polyfill so background images work as expected. */\n",
       "        background-size: auto;\n",
       "    }\n",
       "    progress:not([value]), progress:not([value])::-webkit-progress-bar {\n",
       "        background: repeating-linear-gradient(45deg, #7e7e7e, #7e7e7e 10px, #5c5c5c 10px, #5c5c5c 20px);\n",
       "    }\n",
       "    .progress-bar-interrupted, .progress-bar-interrupted::-webkit-progress-bar {\n",
       "        background: #F44336;\n",
       "    }\n",
       "</style>\n"
      ],
      "text/plain": [
       "<IPython.core.display.HTML object>"
      ]
     },
     "metadata": {},
     "output_type": "display_data"
    },
    {
     "data": {
      "text/html": [
       "\n",
       "    <div>\n",
       "      <progress value='32' class='' max='32' style='width:300px; height:20px; vertical-align: middle;'></progress>\n",
       "      100.00% [32/32 00:00&lt;00:00 logp = -5.108e+05]\n",
       "    </div>\n",
       "    "
      ],
      "text/plain": [
       "<IPython.core.display.HTML object>"
      ]
     },
     "metadata": {},
     "output_type": "display_data"
    },
    {
     "name": "stdout",
     "output_type": "stream",
     "text": [
      "\n"
     ]
    },
    {
     "name": "stderr",
     "output_type": "stream",
     "text": [
      "message: Desired error not necessarily achieved due to precision loss.\n",
      "logp: -510782.32669151307 -> -510782.2792442193\n",
      "optimizing logp for variables: [phase]\n"
     ]
    },
    {
     "data": {
      "text/html": [
       "\n",
       "<style>\n",
       "    /* Turns off some styling */\n",
       "    progress {\n",
       "        /* gets rid of default border in Firefox and Opera. */\n",
       "        border: none;\n",
       "        /* Needs to be in here for Safari polyfill so background images work as expected. */\n",
       "        background-size: auto;\n",
       "    }\n",
       "    progress:not([value]), progress:not([value])::-webkit-progress-bar {\n",
       "        background: repeating-linear-gradient(45deg, #7e7e7e, #7e7e7e 10px, #5c5c5c 10px, #5c5c5c 20px);\n",
       "    }\n",
       "    .progress-bar-interrupted, .progress-bar-interrupted::-webkit-progress-bar {\n",
       "        background: #F44336;\n",
       "    }\n",
       "</style>\n"
      ],
      "text/plain": [
       "<IPython.core.display.HTML object>"
      ]
     },
     "metadata": {},
     "output_type": "display_data"
    },
    {
     "data": {
      "text/html": [
       "\n",
       "    <div>\n",
       "      <progress value='61' class='' max='61' style='width:300px; height:20px; vertical-align: middle;'></progress>\n",
       "      100.00% [61/61 00:00&lt;00:00 logp = -5.108e+05]\n",
       "    </div>\n",
       "    "
      ],
      "text/plain": [
       "<IPython.core.display.HTML object>"
      ]
     },
     "metadata": {},
     "output_type": "display_data"
    },
    {
     "name": "stdout",
     "output_type": "stream",
     "text": [
      "\n"
     ]
    },
    {
     "name": "stderr",
     "output_type": "stream",
     "text": [
      "message: Desired error not necessarily achieved due to precision loss.\n",
      "logp: -510782.83140882984 -> -510782.7372546079\n",
      "optimizing logp for variables: [phase, amp, nu]\n"
     ]
    },
    {
     "data": {
      "text/html": [
       "\n",
       "<style>\n",
       "    /* Turns off some styling */\n",
       "    progress {\n",
       "        /* gets rid of default border in Firefox and Opera. */\n",
       "        border: none;\n",
       "        /* Needs to be in here for Safari polyfill so background images work as expected. */\n",
       "        background-size: auto;\n",
       "    }\n",
       "    progress:not([value]), progress:not([value])::-webkit-progress-bar {\n",
       "        background: repeating-linear-gradient(45deg, #7e7e7e, #7e7e7e 10px, #5c5c5c 10px, #5c5c5c 20px);\n",
       "    }\n",
       "    .progress-bar-interrupted, .progress-bar-interrupted::-webkit-progress-bar {\n",
       "        background: #F44336;\n",
       "    }\n",
       "</style>\n"
      ],
      "text/plain": [
       "<IPython.core.display.HTML object>"
      ]
     },
     "metadata": {},
     "output_type": "display_data"
    },
    {
     "data": {
      "text/html": [
       "\n",
       "    <div>\n",
       "      <progress value='55' class='' max='55' style='width:300px; height:20px; vertical-align: middle;'></progress>\n",
       "      100.00% [55/55 00:00&lt;00:00 logp = -5.108e+05]\n",
       "    </div>\n",
       "    "
      ],
      "text/plain": [
       "<IPython.core.display.HTML object>"
      ]
     },
     "metadata": {},
     "output_type": "display_data"
    },
    {
     "name": "stdout",
     "output_type": "stream",
     "text": [
      "\n"
     ]
    },
    {
     "name": "stderr",
     "output_type": "stream",
     "text": [
      "message: Desired error not necessarily achieved due to precision loss.\n",
      "logp: -510782.7372546079 -> -510782.7117870476\n",
      "optimizing logp for variables: [phase]\n"
     ]
    },
    {
     "data": {
      "text/html": [
       "\n",
       "<style>\n",
       "    /* Turns off some styling */\n",
       "    progress {\n",
       "        /* gets rid of default border in Firefox and Opera. */\n",
       "        border: none;\n",
       "        /* Needs to be in here for Safari polyfill so background images work as expected. */\n",
       "        background-size: auto;\n",
       "    }\n",
       "    progress:not([value]), progress:not([value])::-webkit-progress-bar {\n",
       "        background: repeating-linear-gradient(45deg, #7e7e7e, #7e7e7e 10px, #5c5c5c 10px, #5c5c5c 20px);\n",
       "    }\n",
       "    .progress-bar-interrupted, .progress-bar-interrupted::-webkit-progress-bar {\n",
       "        background: #F44336;\n",
       "    }\n",
       "</style>\n"
      ],
      "text/plain": [
       "<IPython.core.display.HTML object>"
      ]
     },
     "metadata": {},
     "output_type": "display_data"
    },
    {
     "data": {
      "text/html": [
       "\n",
       "    <div>\n",
       "      <progress value='42' class='' max='42' style='width:300px; height:20px; vertical-align: middle;'></progress>\n",
       "      100.00% [42/42 00:00&lt;00:00 logp = -5.107e+05]\n",
       "    </div>\n",
       "    "
      ],
      "text/plain": [
       "<IPython.core.display.HTML object>"
      ]
     },
     "metadata": {},
     "output_type": "display_data"
    },
    {
     "name": "stdout",
     "output_type": "stream",
     "text": [
      "\n"
     ]
    },
    {
     "name": "stderr",
     "output_type": "stream",
     "text": [
      "message: Desired error not necessarily achieved due to precision loss.\n",
      "logp: -511122.05034001736 -> -510659.8563464732\n",
      "optimizing logp for variables: [phase, amp, nu]\n"
     ]
    },
    {
     "data": {
      "text/html": [
       "\n",
       "<style>\n",
       "    /* Turns off some styling */\n",
       "    progress {\n",
       "        /* gets rid of default border in Firefox and Opera. */\n",
       "        border: none;\n",
       "        /* Needs to be in here for Safari polyfill so background images work as expected. */\n",
       "        background-size: auto;\n",
       "    }\n",
       "    progress:not([value]), progress:not([value])::-webkit-progress-bar {\n",
       "        background: repeating-linear-gradient(45deg, #7e7e7e, #7e7e7e 10px, #5c5c5c 10px, #5c5c5c 20px);\n",
       "    }\n",
       "    .progress-bar-interrupted, .progress-bar-interrupted::-webkit-progress-bar {\n",
       "        background: #F44336;\n",
       "    }\n",
       "</style>\n"
      ],
      "text/plain": [
       "<IPython.core.display.HTML object>"
      ]
     },
     "metadata": {},
     "output_type": "display_data"
    },
    {
     "data": {
      "text/html": [
       "\n",
       "    <div>\n",
       "      <progress value='54' class='' max='54' style='width:300px; height:20px; vertical-align: middle;'></progress>\n",
       "      100.00% [54/54 00:00&lt;00:00 logp = -5.107e+05]\n",
       "    </div>\n",
       "    "
      ],
      "text/plain": [
       "<IPython.core.display.HTML object>"
      ]
     },
     "metadata": {},
     "output_type": "display_data"
    },
    {
     "name": "stdout",
     "output_type": "stream",
     "text": [
      "\n"
     ]
    },
    {
     "name": "stderr",
     "output_type": "stream",
     "text": [
      "message: Desired error not necessarily achieved due to precision loss.\n",
      "logp: -510659.8563464732 -> -510659.70424241974\n",
      "optimizing logp for variables: [phase]\n"
     ]
    },
    {
     "data": {
      "text/html": [
       "\n",
       "<style>\n",
       "    /* Turns off some styling */\n",
       "    progress {\n",
       "        /* gets rid of default border in Firefox and Opera. */\n",
       "        border: none;\n",
       "        /* Needs to be in here for Safari polyfill so background images work as expected. */\n",
       "        background-size: auto;\n",
       "    }\n",
       "    progress:not([value]), progress:not([value])::-webkit-progress-bar {\n",
       "        background: repeating-linear-gradient(45deg, #7e7e7e, #7e7e7e 10px, #5c5c5c 10px, #5c5c5c 20px);\n",
       "    }\n",
       "    .progress-bar-interrupted, .progress-bar-interrupted::-webkit-progress-bar {\n",
       "        background: #F44336;\n",
       "    }\n",
       "</style>\n"
      ],
      "text/plain": [
       "<IPython.core.display.HTML object>"
      ]
     },
     "metadata": {},
     "output_type": "display_data"
    },
    {
     "data": {
      "text/html": [
       "\n",
       "    <div>\n",
       "      <progress value='10' class='' max='10' style='width:300px; height:20px; vertical-align: middle;'></progress>\n",
       "      100.00% [10/10 00:00&lt;00:00 logp = -5.106e+05]\n",
       "    </div>\n",
       "    "
      ],
      "text/plain": [
       "<IPython.core.display.HTML object>"
      ]
     },
     "metadata": {},
     "output_type": "display_data"
    },
    {
     "name": "stderr",
     "output_type": "stream",
     "text": [
      "message: Optimization terminated successfully.\n",
      "logp: -510735.2233298169 -> -510634.8084649076\n"
     ]
    },
    {
     "name": "stdout",
     "output_type": "stream",
     "text": [
      "\n"
     ]
    },
    {
     "name": "stderr",
     "output_type": "stream",
     "text": [
      "optimizing logp for variables: [phase, amp, nu]\n"
     ]
    },
    {
     "data": {
      "text/html": [
       "\n",
       "<style>\n",
       "    /* Turns off some styling */\n",
       "    progress {\n",
       "        /* gets rid of default border in Firefox and Opera. */\n",
       "        border: none;\n",
       "        /* Needs to be in here for Safari polyfill so background images work as expected. */\n",
       "        background-size: auto;\n",
       "    }\n",
       "    progress:not([value]), progress:not([value])::-webkit-progress-bar {\n",
       "        background: repeating-linear-gradient(45deg, #7e7e7e, #7e7e7e 10px, #5c5c5c 10px, #5c5c5c 20px);\n",
       "    }\n",
       "    .progress-bar-interrupted, .progress-bar-interrupted::-webkit-progress-bar {\n",
       "        background: #F44336;\n",
       "    }\n",
       "</style>\n"
      ],
      "text/plain": [
       "<IPython.core.display.HTML object>"
      ]
     },
     "metadata": {},
     "output_type": "display_data"
    },
    {
     "data": {
      "text/html": [
       "\n",
       "    <div>\n",
       "      <progress value='36' class='' max='36' style='width:300px; height:20px; vertical-align: middle;'></progress>\n",
       "      100.00% [36/36 00:00&lt;00:00 logp = -5.106e+05]\n",
       "    </div>\n",
       "    "
      ],
      "text/plain": [
       "<IPython.core.display.HTML object>"
      ]
     },
     "metadata": {},
     "output_type": "display_data"
    },
    {
     "name": "stdout",
     "output_type": "stream",
     "text": [
      "\n"
     ]
    },
    {
     "name": "stderr",
     "output_type": "stream",
     "text": [
      "message: Desired error not necessarily achieved due to precision loss.\n",
      "logp: -510634.8084649076 -> -510634.805995267\n",
      "optimizing logp for variables: [phase]\n"
     ]
    },
    {
     "data": {
      "text/html": [
       "\n",
       "<style>\n",
       "    /* Turns off some styling */\n",
       "    progress {\n",
       "        /* gets rid of default border in Firefox and Opera. */\n",
       "        border: none;\n",
       "        /* Needs to be in here for Safari polyfill so background images work as expected. */\n",
       "        background-size: auto;\n",
       "    }\n",
       "    progress:not([value]), progress:not([value])::-webkit-progress-bar {\n",
       "        background: repeating-linear-gradient(45deg, #7e7e7e, #7e7e7e 10px, #5c5c5c 10px, #5c5c5c 20px);\n",
       "    }\n",
       "    .progress-bar-interrupted, .progress-bar-interrupted::-webkit-progress-bar {\n",
       "        background: #F44336;\n",
       "    }\n",
       "</style>\n"
      ],
      "text/plain": [
       "<IPython.core.display.HTML object>"
      ]
     },
     "metadata": {},
     "output_type": "display_data"
    },
    {
     "data": {
      "text/html": [
       "\n",
       "    <div>\n",
       "      <progress value='92' class='' max='92' style='width:300px; height:20px; vertical-align: middle;'></progress>\n",
       "      100.00% [92/92 00:00&lt;00:00 logp = -5.104e+05]\n",
       "    </div>\n",
       "    "
      ],
      "text/plain": [
       "<IPython.core.display.HTML object>"
      ]
     },
     "metadata": {},
     "output_type": "display_data"
    },
    {
     "name": "stdout",
     "output_type": "stream",
     "text": [
      "\n"
     ]
    },
    {
     "name": "stderr",
     "output_type": "stream",
     "text": [
      "message: Desired error not necessarily achieved due to precision loss.\n",
      "logp: -511313.5410064599 -> -510392.06613647455\n",
      "optimizing logp for variables: [phase, amp, nu]\n"
     ]
    },
    {
     "data": {
      "text/html": [
       "\n",
       "<style>\n",
       "    /* Turns off some styling */\n",
       "    progress {\n",
       "        /* gets rid of default border in Firefox and Opera. */\n",
       "        border: none;\n",
       "        /* Needs to be in here for Safari polyfill so background images work as expected. */\n",
       "        background-size: auto;\n",
       "    }\n",
       "    progress:not([value]), progress:not([value])::-webkit-progress-bar {\n",
       "        background: repeating-linear-gradient(45deg, #7e7e7e, #7e7e7e 10px, #5c5c5c 10px, #5c5c5c 20px);\n",
       "    }\n",
       "    .progress-bar-interrupted, .progress-bar-interrupted::-webkit-progress-bar {\n",
       "        background: #F44336;\n",
       "    }\n",
       "</style>\n"
      ],
      "text/plain": [
       "<IPython.core.display.HTML object>"
      ]
     },
     "metadata": {},
     "output_type": "display_data"
    },
    {
     "data": {
      "text/html": [
       "\n",
       "    <div>\n",
       "      <progress value='67' class='' max='67' style='width:300px; height:20px; vertical-align: middle;'></progress>\n",
       "      100.00% [67/67 00:00&lt;00:00 logp = -5.104e+05]\n",
       "    </div>\n",
       "    "
      ],
      "text/plain": [
       "<IPython.core.display.HTML object>"
      ]
     },
     "metadata": {},
     "output_type": "display_data"
    },
    {
     "name": "stdout",
     "output_type": "stream",
     "text": [
      "\n"
     ]
    },
    {
     "name": "stderr",
     "output_type": "stream",
     "text": [
      "message: Desired error not necessarily achieved due to precision loss.\n",
      "logp: -510392.06613647455 -> -510391.9428184697\n",
      "optimizing logp for variables: [phase]\n"
     ]
    },
    {
     "data": {
      "text/html": [
       "\n",
       "<style>\n",
       "    /* Turns off some styling */\n",
       "    progress {\n",
       "        /* gets rid of default border in Firefox and Opera. */\n",
       "        border: none;\n",
       "        /* Needs to be in here for Safari polyfill so background images work as expected. */\n",
       "        background-size: auto;\n",
       "    }\n",
       "    progress:not([value]), progress:not([value])::-webkit-progress-bar {\n",
       "        background: repeating-linear-gradient(45deg, #7e7e7e, #7e7e7e 10px, #5c5c5c 10px, #5c5c5c 20px);\n",
       "    }\n",
       "    .progress-bar-interrupted, .progress-bar-interrupted::-webkit-progress-bar {\n",
       "        background: #F44336;\n",
       "    }\n",
       "</style>\n"
      ],
      "text/plain": [
       "<IPython.core.display.HTML object>"
      ]
     },
     "metadata": {},
     "output_type": "display_data"
    },
    {
     "data": {
      "text/html": [
       "\n",
       "    <div>\n",
       "      <progress value='170' class='' max='170' style='width:300px; height:20px; vertical-align: middle;'></progress>\n",
       "      100.00% [170/170 00:00&lt;00:00 logp = -5.103e+05]\n",
       "    </div>\n",
       "    "
      ],
      "text/plain": [
       "<IPython.core.display.HTML object>"
      ]
     },
     "metadata": {},
     "output_type": "display_data"
    },
    {
     "name": "stdout",
     "output_type": "stream",
     "text": [
      "\n"
     ]
    },
    {
     "name": "stderr",
     "output_type": "stream",
     "text": [
      "message: Desired error not necessarily achieved due to precision loss.\n",
      "logp: -510571.7359856426 -> -510331.2674107338\n",
      "optimizing logp for variables: [phase, amp, nu]\n"
     ]
    },
    {
     "data": {
      "text/html": [
       "\n",
       "<style>\n",
       "    /* Turns off some styling */\n",
       "    progress {\n",
       "        /* gets rid of default border in Firefox and Opera. */\n",
       "        border: none;\n",
       "        /* Needs to be in here for Safari polyfill so background images work as expected. */\n",
       "        background-size: auto;\n",
       "    }\n",
       "    progress:not([value]), progress:not([value])::-webkit-progress-bar {\n",
       "        background: repeating-linear-gradient(45deg, #7e7e7e, #7e7e7e 10px, #5c5c5c 10px, #5c5c5c 20px);\n",
       "    }\n",
       "    .progress-bar-interrupted, .progress-bar-interrupted::-webkit-progress-bar {\n",
       "        background: #F44336;\n",
       "    }\n",
       "</style>\n"
      ],
      "text/plain": [
       "<IPython.core.display.HTML object>"
      ]
     },
     "metadata": {},
     "output_type": "display_data"
    },
    {
     "data": {
      "text/html": [
       "\n",
       "    <div>\n",
       "      <progress value='76' class='' max='76' style='width:300px; height:20px; vertical-align: middle;'></progress>\n",
       "      100.00% [76/76 00:00&lt;00:00 logp = -5.103e+05]\n",
       "    </div>\n",
       "    "
      ],
      "text/plain": [
       "<IPython.core.display.HTML object>"
      ]
     },
     "metadata": {},
     "output_type": "display_data"
    },
    {
     "name": "stdout",
     "output_type": "stream",
     "text": [
      "\n"
     ]
    },
    {
     "name": "stderr",
     "output_type": "stream",
     "text": [
      "message: Desired error not necessarily achieved due to precision loss.\n",
      "logp: -510331.2674107338 -> -510331.2310220168\n",
      "optimizing logp for variables: [phase]\n"
     ]
    },
    {
     "data": {
      "text/html": [
       "\n",
       "<style>\n",
       "    /* Turns off some styling */\n",
       "    progress {\n",
       "        /* gets rid of default border in Firefox and Opera. */\n",
       "        border: none;\n",
       "        /* Needs to be in here for Safari polyfill so background images work as expected. */\n",
       "        background-size: auto;\n",
       "    }\n",
       "    progress:not([value]), progress:not([value])::-webkit-progress-bar {\n",
       "        background: repeating-linear-gradient(45deg, #7e7e7e, #7e7e7e 10px, #5c5c5c 10px, #5c5c5c 20px);\n",
       "    }\n",
       "    .progress-bar-interrupted, .progress-bar-interrupted::-webkit-progress-bar {\n",
       "        background: #F44336;\n",
       "    }\n",
       "</style>\n"
      ],
      "text/plain": [
       "<IPython.core.display.HTML object>"
      ]
     },
     "metadata": {},
     "output_type": "display_data"
    },
    {
     "data": {
      "text/html": [
       "\n",
       "    <div>\n",
       "      <progress value='9' class='' max='9' style='width:300px; height:20px; vertical-align: middle;'></progress>\n",
       "      100.00% [9/9 00:00&lt;00:00 logp = -5.102e+05]\n",
       "    </div>\n",
       "    "
      ],
      "text/plain": [
       "<IPython.core.display.HTML object>"
      ]
     },
     "metadata": {},
     "output_type": "display_data"
    },
    {
     "name": "stderr",
     "output_type": "stream",
     "text": [
      "message: Optimization terminated successfully.\n",
      "logp: -510450.11569274456 -> -510249.0526062218\n"
     ]
    },
    {
     "name": "stdout",
     "output_type": "stream",
     "text": [
      "\n"
     ]
    },
    {
     "name": "stderr",
     "output_type": "stream",
     "text": [
      "optimizing logp for variables: [phase, amp, nu]\n"
     ]
    },
    {
     "data": {
      "text/html": [
       "\n",
       "<style>\n",
       "    /* Turns off some styling */\n",
       "    progress {\n",
       "        /* gets rid of default border in Firefox and Opera. */\n",
       "        border: none;\n",
       "        /* Needs to be in here for Safari polyfill so background images work as expected. */\n",
       "        background-size: auto;\n",
       "    }\n",
       "    progress:not([value]), progress:not([value])::-webkit-progress-bar {\n",
       "        background: repeating-linear-gradient(45deg, #7e7e7e, #7e7e7e 10px, #5c5c5c 10px, #5c5c5c 20px);\n",
       "    }\n",
       "    .progress-bar-interrupted, .progress-bar-interrupted::-webkit-progress-bar {\n",
       "        background: #F44336;\n",
       "    }\n",
       "</style>\n"
      ],
      "text/plain": [
       "<IPython.core.display.HTML object>"
      ]
     },
     "metadata": {},
     "output_type": "display_data"
    },
    {
     "data": {
      "text/html": [
       "\n",
       "    <div>\n",
       "      <progress value='70' class='' max='70' style='width:300px; height:20px; vertical-align: middle;'></progress>\n",
       "      100.00% [70/70 00:00&lt;00:00 logp = -5.102e+05]\n",
       "    </div>\n",
       "    "
      ],
      "text/plain": [
       "<IPython.core.display.HTML object>"
      ]
     },
     "metadata": {},
     "output_type": "display_data"
    },
    {
     "name": "stdout",
     "output_type": "stream",
     "text": [
      "\n"
     ]
    },
    {
     "name": "stderr",
     "output_type": "stream",
     "text": [
      "message: Desired error not necessarily achieved due to precision loss.\n",
      "logp: -510249.0526062218 -> -510249.0137723321\n",
      "optimizing logp for variables: [phase]\n"
     ]
    },
    {
     "data": {
      "text/html": [
       "\n",
       "<style>\n",
       "    /* Turns off some styling */\n",
       "    progress {\n",
       "        /* gets rid of default border in Firefox and Opera. */\n",
       "        border: none;\n",
       "        /* Needs to be in here for Safari polyfill so background images work as expected. */\n",
       "        background-size: auto;\n",
       "    }\n",
       "    progress:not([value]), progress:not([value])::-webkit-progress-bar {\n",
       "        background: repeating-linear-gradient(45deg, #7e7e7e, #7e7e7e 10px, #5c5c5c 10px, #5c5c5c 20px);\n",
       "    }\n",
       "    .progress-bar-interrupted, .progress-bar-interrupted::-webkit-progress-bar {\n",
       "        background: #F44336;\n",
       "    }\n",
       "</style>\n"
      ],
      "text/plain": [
       "<IPython.core.display.HTML object>"
      ]
     },
     "metadata": {},
     "output_type": "display_data"
    },
    {
     "data": {
      "text/html": [
       "\n",
       "    <div>\n",
       "      <progress value='9' class='' max='9' style='width:300px; height:20px; vertical-align: middle;'></progress>\n",
       "      100.00% [9/9 00:00&lt;00:00 logp = -5.100e+05]\n",
       "    </div>\n",
       "    "
      ],
      "text/plain": [
       "<IPython.core.display.HTML object>"
      ]
     },
     "metadata": {},
     "output_type": "display_data"
    },
    {
     "name": "stderr",
     "output_type": "stream",
     "text": [
      "message: Optimization terminated successfully.\n",
      "logp: -510592.10278456827 -> -510046.60649154\n"
     ]
    },
    {
     "name": "stdout",
     "output_type": "stream",
     "text": [
      "\n"
     ]
    },
    {
     "name": "stderr",
     "output_type": "stream",
     "text": [
      "optimizing logp for variables: [phase, amp, nu]\n"
     ]
    },
    {
     "data": {
      "text/html": [
       "\n",
       "<style>\n",
       "    /* Turns off some styling */\n",
       "    progress {\n",
       "        /* gets rid of default border in Firefox and Opera. */\n",
       "        border: none;\n",
       "        /* Needs to be in here for Safari polyfill so background images work as expected. */\n",
       "        background-size: auto;\n",
       "    }\n",
       "    progress:not([value]), progress:not([value])::-webkit-progress-bar {\n",
       "        background: repeating-linear-gradient(45deg, #7e7e7e, #7e7e7e 10px, #5c5c5c 10px, #5c5c5c 20px);\n",
       "    }\n",
       "    .progress-bar-interrupted, .progress-bar-interrupted::-webkit-progress-bar {\n",
       "        background: #F44336;\n",
       "    }\n",
       "</style>\n"
      ],
      "text/plain": [
       "<IPython.core.display.HTML object>"
      ]
     },
     "metadata": {},
     "output_type": "display_data"
    },
    {
     "data": {
      "text/html": [
       "\n",
       "    <div>\n",
       "      <progress value='99' class='' max='99' style='width:300px; height:20px; vertical-align: middle;'></progress>\n",
       "      100.00% [99/99 00:00&lt;00:00 logp = -5.100e+05]\n",
       "    </div>\n",
       "    "
      ],
      "text/plain": [
       "<IPython.core.display.HTML object>"
      ]
     },
     "metadata": {},
     "output_type": "display_data"
    },
    {
     "name": "stdout",
     "output_type": "stream",
     "text": [
      "\n"
     ]
    },
    {
     "name": "stderr",
     "output_type": "stream",
     "text": [
      "message: Desired error not necessarily achieved due to precision loss.\n",
      "logp: -510046.60649154 -> -510046.5864177699\n",
      "optimizing logp for variables: [phase]\n"
     ]
    },
    {
     "data": {
      "text/html": [
       "\n",
       "<style>\n",
       "    /* Turns off some styling */\n",
       "    progress {\n",
       "        /* gets rid of default border in Firefox and Opera. */\n",
       "        border: none;\n",
       "        /* Needs to be in here for Safari polyfill so background images work as expected. */\n",
       "        background-size: auto;\n",
       "    }\n",
       "    progress:not([value]), progress:not([value])::-webkit-progress-bar {\n",
       "        background: repeating-linear-gradient(45deg, #7e7e7e, #7e7e7e 10px, #5c5c5c 10px, #5c5c5c 20px);\n",
       "    }\n",
       "    .progress-bar-interrupted, .progress-bar-interrupted::-webkit-progress-bar {\n",
       "        background: #F44336;\n",
       "    }\n",
       "</style>\n"
      ],
      "text/plain": [
       "<IPython.core.display.HTML object>"
      ]
     },
     "metadata": {},
     "output_type": "display_data"
    },
    {
     "data": {
      "text/html": [
       "\n",
       "    <div>\n",
       "      <progress value='40' class='' max='40' style='width:300px; height:20px; vertical-align: middle;'></progress>\n",
       "      100.00% [40/40 00:00&lt;00:00 logp = -5.100e+05]\n",
       "    </div>\n",
       "    "
      ],
      "text/plain": [
       "<IPython.core.display.HTML object>"
      ]
     },
     "metadata": {},
     "output_type": "display_data"
    },
    {
     "name": "stdout",
     "output_type": "stream",
     "text": [
      "\n"
     ]
    },
    {
     "name": "stderr",
     "output_type": "stream",
     "text": [
      "message: Desired error not necessarily achieved due to precision loss.\n",
      "logp: -510050.29543516156 -> -510048.93405236007\n",
      "optimizing logp for variables: [phase, amp, nu]\n"
     ]
    },
    {
     "data": {
      "text/html": [
       "\n",
       "<style>\n",
       "    /* Turns off some styling */\n",
       "    progress {\n",
       "        /* gets rid of default border in Firefox and Opera. */\n",
       "        border: none;\n",
       "        /* Needs to be in here for Safari polyfill so background images work as expected. */\n",
       "        background-size: auto;\n",
       "    }\n",
       "    progress:not([value]), progress:not([value])::-webkit-progress-bar {\n",
       "        background: repeating-linear-gradient(45deg, #7e7e7e, #7e7e7e 10px, #5c5c5c 10px, #5c5c5c 20px);\n",
       "    }\n",
       "    .progress-bar-interrupted, .progress-bar-interrupted::-webkit-progress-bar {\n",
       "        background: #F44336;\n",
       "    }\n",
       "</style>\n"
      ],
      "text/plain": [
       "<IPython.core.display.HTML object>"
      ]
     },
     "metadata": {},
     "output_type": "display_data"
    },
    {
     "data": {
      "text/html": [
       "\n",
       "    <div>\n",
       "      <progress value='63' class='' max='63' style='width:300px; height:20px; vertical-align: middle;'></progress>\n",
       "      100.00% [63/63 00:00&lt;00:00 logp = -5.100e+05]\n",
       "    </div>\n",
       "    "
      ],
      "text/plain": [
       "<IPython.core.display.HTML object>"
      ]
     },
     "metadata": {},
     "output_type": "display_data"
    },
    {
     "name": "stdout",
     "output_type": "stream",
     "text": [
      "\n"
     ]
    },
    {
     "name": "stderr",
     "output_type": "stream",
     "text": [
      "message: Desired error not necessarily achieved due to precision loss.\n",
      "logp: -510048.93405236007 -> -510048.8790001046\n"
     ]
    },
    {
     "name": "stdout",
     "output_type": "stream",
     "text": [
      "Individually optimised sinusoids: \n",
      "Sinusoid 0: Frequency: 0.8628822725042647 Amplitude: 9818.381377096632 Phase: -1.0716513814775581\n",
      "Sinusoid 1: Frequency: 0.8385268021180636 Amplitude: 5022.410009270108 Phase: 2.437522746730275\n",
      "Sinusoid 2: Frequency: 0.8948468890159779 Amplitude: 3399.1617631600175 Phase: 0.702795258261359\n",
      "Sinusoid 3: Frequency: 0.8143155075048418 Amplitude: 1762.4912040537752 Phase: -2.661475965230078\n",
      "Sinusoid 4: Frequency: 0.992192866002341 Amplitude: 1393.1909258560406 Phase: 0.07077037027691974\n",
      "Sinusoid 5: Frequency: 0.9133823678006227 Amplitude: 933.6402412096301 Phase: 0.26653910195770125\n",
      "Sinusoid 6: Frequency: 1.8083245974924762 Amplitude: 462.20694904554705 Phase: 3.033488919786429\n",
      "Sinusoid 7: Frequency: 0.931822457967053 Amplitude: 615.1443506142805 Phase: -2.235408297781298\n",
      "Sinusoid 8: Frequency: 0.9678532595198092 Amplitude: 540.5181517578595 Phase: -2.9236724987271296\n",
      "Sinusoid 9: Frequency: 0.7942523941279644 Amplitude: 469.36190182038274 Phase: -0.9980526184890653\n",
      "Sinusoid 10: Frequency: 0.8622397133163665 Amplitude: 417.4739718949169 Phase: 0.16191618500475677\n",
      "Sinusoid 11: Frequency: 0.7457590731211842 Amplitude: 354.1218263255444 Phase: 0.5346609553342329\n",
      "Sinusoid 12: Frequency: 1.725730069965856 Amplitude: 241.97661517430362 Phase: 3.067640006796455\n",
      "Sinusoid 13: Frequency: 0.8379802687116008 Amplitude: 346.9334537734843 Phase: -2.3336172331567804\n",
      "Sinusoid 14: Frequency: 0.8635939638558101 Amplitude: 311.93295738279045 Phase: 0.7492376708535696\n",
      "Sinusoid 15: Frequency: 0.850616849764597 Amplitude: 266.8900919652184 Phase: -2.9867013335064887\n",
      "Sinusoid 16: Frequency: 0.8263313277238173 Amplitude: 254.1181535013056 Phase: 2.478010395072566\n",
      "Sinusoid 17: Frequency: 1.0186537694822904 Amplitude: 214.03403132330828 Phase: -1.3147851491760356\n",
      "Sinusoid 18: Frequency: 1.7762502926004855 Amplitude: 138.08003458184564 Phase: -1.8730172267872514\n",
      "Sinusoid 19: Frequency: 1.7577406547039616 Amplitude: 136.71255210608535 Phase: -1.4616427942692682\n",
      "Sinusoid 20: Frequency: 3.678165487692879 Amplitude: 20.222608315792822 Phase: 3.1341482258190103\n",
      "Sinusoid 21: Frequency: 0.8772061689020307 Amplitude: 225.8405229485119 Phase: 0.1728041765271597\n",
      "Sinusoid 22: Frequency: 1.8550559016814976 Amplitude: 92.70415911112673 Phase: -2.139674692050392\n",
      "Sinusoid 23: Frequency: 1.7014269404572864 Amplitude: 130.69147806221233 Phase: 0.19536267202077587\n",
      "Sinusoid 24: Frequency: 0.969700361870023 Amplitude: 153.229315529401 Phase: 1.5175001957854657\n",
      "Sinusoid 25: Frequency: 1.7400648481829808 Amplitude: 93.59431791945627 Phase: 1.1642566181201417\n",
      "Sinusoid 26: Frequency: 0.02441525716631654 Amplitude: 198.68161353168858 Phase: 1.2972916570666286\n",
      "Sinusoid 27: Frequency: 0.8162000610445259 Amplitude: 150.25836358714727 Phase: -2.2613887887597754\n",
      "Sinusoid 28: Frequency: 0.031967672116955975 Amplitude: 167.07707456503036 Phase: -0.13509019821162888\n",
      "Sinusoid 29: Frequency: 5.367976538315179 Amplitude: 9.223231866617587 Phase: 0.07122493821474495\n",
      "Sinusoid 30: Frequency: 0.7531724171259668 Amplitude: 122.8043529884058 Phase: 0.11832169864687556\n",
      "Sinusoid 31: Frequency: 0.8149061435487177 Amplitude: 118.71136769386536 Phase: -0.9857292786924358\n",
      "Sinusoid 32: Frequency: 0.8617008823486654 Amplitude: 118.14259994646699 Phase: 2.6977162781133144\n",
      "Sinusoid 33: Frequency: 0.8029469042111956 Amplitude: 116.38879803258764 Phase: 3.0192454375529687\n",
      "Sinusoid 34: Frequency: 0.8046461820746298 Amplitude: 118.99709229142259 Phase: -0.1564250810012957\n",
      "Sinusoid 35: Frequency: 0.7091568860418029 Amplitude: 112.75573205180095 Phase: 1.6621812453262388\n",
      "Sinusoid 36: Frequency: 0.8511512470035688 Amplitude: 111.47407032591241 Phase: 2.043865073670563\n",
      "Sinusoid 37: Frequency: 1.7137463610371253 Amplitude: 68.95007056784613 Phase: 0.31068107299286724\n",
      "Sinusoid 38: Frequency: 0.8308898209241259 Amplitude: 108.53361394286358 Phase: -3.1055547258771274\n",
      "Sinusoid 39: Frequency: 1.809156008968551 Amplitude: 55.163676630802065 Phase: -2.67537813790751\n",
      "Sinusoid 40: Frequency: 3.496920968657891 Amplitude: 10.740028440424101 Phase: 0.9696999358259779\n",
      "Sinusoid 41: Frequency: 0.8394616826956487 Amplitude: 104.01701588414271 Phase: -2.3022377793655266\n",
      "Sinusoid 42: Frequency: 3.5019674532502876 Amplitude: 10.641777476952539 Phase: 0.4399887130559474\n",
      "Sinusoid 43: Frequency: 1.6658088972553589 Amplitude: 68.3220637455479 Phase: -2.1308927797582826\n",
      "Sinusoid 44: Frequency: 2.004403016525896 Amplitude: 31.973884099913818 Phase: -2.9074730035183847\n",
      "Sinusoid 45: Frequency: 0.7335829031328708 Amplitude: 96.90620591646112 Phase: -2.0827027348500073\n",
      "Sinusoid 46: Frequency: 1.8077264711156718 Amplitude: 48.78106713237115 Phase: -2.753340378283999\n",
      "Sinusoid 47: Frequency: 1.6772237643916803 Amplitude: 56.53475754852111 Phase: 2.4312237609999543\n",
      "Sinusoid 48: Frequency: 0.8275610667545857 Amplitude: 88.69741393538165 Phase: 2.5554034034362823\n",
      "Sinusoid 49: Frequency: 7.303685936973226 Amplitude: 6.481145194852294 Phase: 1.9716888588402963\n"
     ]
    },
    {
     "name": "stderr",
     "output_type": "stream",
     "text": [
      "optimizing logp for variables: [phase]\n"
     ]
    },
    {
     "data": {
      "text/html": [
       "\n",
       "<style>\n",
       "    /* Turns off some styling */\n",
       "    progress {\n",
       "        /* gets rid of default border in Firefox and Opera. */\n",
       "        border: none;\n",
       "        /* Needs to be in here for Safari polyfill so background images work as expected. */\n",
       "        background-size: auto;\n",
       "    }\n",
       "    progress:not([value]), progress:not([value])::-webkit-progress-bar {\n",
       "        background: repeating-linear-gradient(45deg, #7e7e7e, #7e7e7e 10px, #5c5c5c 10px, #5c5c5c 20px);\n",
       "    }\n",
       "    .progress-bar-interrupted, .progress-bar-interrupted::-webkit-progress-bar {\n",
       "        background: #F44336;\n",
       "    }\n",
       "</style>\n"
      ],
      "text/plain": [
       "<IPython.core.display.HTML object>"
      ]
     },
     "metadata": {},
     "output_type": "display_data"
    },
    {
     "data": {
      "text/html": [
       "\n",
       "    <div>\n",
       "      <progress value='234' class='' max='234' style='width:300px; height:20px; vertical-align: middle;'></progress>\n",
       "      100.00% [234/234 00:43&lt;00:00 logp = -5.096e+05]\n",
       "    </div>\n",
       "    "
      ],
      "text/plain": [
       "<IPython.core.display.HTML object>"
      ]
     },
     "metadata": {},
     "output_type": "display_data"
    },
    {
     "name": "stdout",
     "output_type": "stream",
     "text": [
      "\n"
     ]
    },
    {
     "name": "stderr",
     "output_type": "stream",
     "text": [
      "message: Desired error not necessarily achieved due to precision loss.\n",
      "logp: -8190401.1520855 -> -509644.6017178355\n",
      "optimizing logp for variables: [offset, phase, amp, nu]\n"
     ]
    },
    {
     "data": {
      "text/html": [
       "\n",
       "<style>\n",
       "    /* Turns off some styling */\n",
       "    progress {\n",
       "        /* gets rid of default border in Firefox and Opera. */\n",
       "        border: none;\n",
       "        /* Needs to be in here for Safari polyfill so background images work as expected. */\n",
       "        background-size: auto;\n",
       "    }\n",
       "    progress:not([value]), progress:not([value])::-webkit-progress-bar {\n",
       "        background: repeating-linear-gradient(45deg, #7e7e7e, #7e7e7e 10px, #5c5c5c 10px, #5c5c5c 20px);\n",
       "    }\n",
       "    .progress-bar-interrupted, .progress-bar-interrupted::-webkit-progress-bar {\n",
       "        background: #F44336;\n",
       "    }\n",
       "</style>\n"
      ],
      "text/plain": [
       "<IPython.core.display.HTML object>"
      ]
     },
     "metadata": {},
     "output_type": "display_data"
    },
    {
     "data": {
      "text/html": [
       "\n",
       "    <div>\n",
       "      <progress value='16' class='' max='16' style='width:300px; height:20px; vertical-align: middle;'></progress>\n",
       "      100.00% [16/16 00:04&lt;00:00 logp = -inf]\n",
       "    </div>\n",
       "    "
      ],
      "text/plain": [
       "<IPython.core.display.HTML object>"
      ]
     },
     "metadata": {},
     "output_type": "display_data"
    },
    {
     "name": "stdout",
     "output_type": "stream",
     "text": [
      "\n"
     ]
    },
    {
     "name": "stderr",
     "output_type": "stream",
     "text": [
      "message: Desired error not necessarily achieved due to precision loss.\n",
      "logp: -509644.6017178355 -> -509644.6017178355\n"
     ]
    },
    {
     "name": "stdout",
     "output_type": "stream",
     "text": [
      "The IPW analysis has found 50 significant frequencies\n"
     ]
    }
   ],
   "source": [
    "yerr = 800* np.ones_like(times)\n",
    "residuals, model, offsets, \\\n",
    "frequencies, amplitudes, \\\n",
    "phases, stop_criteria, noise_level = run_ipw(times,flux-np.mean(flux), yerr, snr_stop_criteria=5.6, \n",
    "                                             order_by_snr=True, use_snr_window=True, snr_window=2.,maxiter=50)\n",
    "\n",
    "\n",
    "print('The IPW analysis has found {:d} significant frequencies'.format(len(frequencies)))"
   ]
  },
  {
   "cell_type": "markdown",
   "id": "e8299942",
   "metadata": {},
   "source": [
    "Now that it's run, let's take a look at the model, the residual signal, and the frequencies that we found."
   ]
  },
  {
   "cell_type": "code",
   "execution_count": 7,
   "id": "e30e4ad0",
   "metadata": {},
   "outputs": [
    {
     "name": "stdout",
     "output_type": "stream",
     "text": [
      " C + A*sin( 2*pi*f*(t-t0)+phi )\n",
      "0 -- C: 0.000000 -- A: 9818.381377 -- f: 0.862882 -- phi: -1.074124 -- SNR: 1313.796806\n",
      "1 -- C: 0.000000 -- A: 5022.410009 -- f: 0.838527 -- phi: 2.430142 -- SNR: 669.808423\n",
      "2 -- C: 0.000000 -- A: 3399.161763 -- f: 0.894847 -- phi: 0.696152 -- SNR: 459.455561\n",
      "3 -- C: 0.000000 -- A: 1762.491204 -- f: 0.814316 -- phi: -2.681430 -- SNR: 234.659175\n",
      "4 -- C: 0.000000 -- A: 1393.190926 -- f: 0.992193 -- phi: 0.074652 -- SNR: 205.458102\n",
      "5 -- C: 0.000000 -- A: 933.640241 -- f: 0.913382 -- phi: 0.266015 -- SNR: 127.216304\n",
      "6 -- C: 0.000000 -- A: 462.206949 -- f: 1.808325 -- phi: 3.036235 -- SNR: 123.145543\n",
      "7 -- C: 0.000000 -- A: 615.144351 -- f: 0.931822 -- phi: -2.246794 -- SNR: 84.625707\n",
      "8 -- C: 0.000000 -- A: 540.518152 -- f: 0.967853 -- phi: -2.903948 -- SNR: 76.972106\n",
      "9 -- C: 0.000000 -- A: 469.361902 -- f: 0.794252 -- phi: -1.005886 -- SNR: 62.634519\n",
      "10 -- C: 0.000000 -- A: 417.473972 -- f: 0.862240 -- phi: 0.125703 -- SNR: 55.857550\n",
      "11 -- C: 0.000000 -- A: 354.121826 -- f: 0.745759 -- phi: 0.532800 -- SNR: 47.575619\n",
      "12 -- C: 0.000000 -- A: 241.976615 -- f: 1.725730 -- phi: 3.062677 -- SNR: 55.195902\n",
      "13 -- C: 0.000000 -- A: 346.933454 -- f: 0.837980 -- phi: -2.315636 -- SNR: 46.261714\n",
      "14 -- C: 0.000000 -- A: 311.932957 -- f: 0.863594 -- phi: 0.730855 -- SNR: 41.760297\n",
      "15 -- C: 0.000000 -- A: 266.890092 -- f: 0.850617 -- phi: -2.873276 -- SNR: 35.640238\n",
      "16 -- C: 0.000000 -- A: 254.118154 -- f: 0.826331 -- phi: 2.439961 -- SNR: 33.905724\n",
      "17 -- C: 0.000000 -- A: 214.034031 -- f: 1.018654 -- phi: -1.330464 -- SNR: 33.173889\n",
      "18 -- C: 0.000000 -- A: 138.080035 -- f: 1.776250 -- phi: -1.862742 -- SNR: 34.308758\n",
      "19 -- C: 0.000000 -- A: 136.712552 -- f: 1.757741 -- phi: -1.467219 -- SNR: 32.852438\n",
      "20 -- C: 0.000000 -- A: 20.222608 -- f: 3.678165 -- phi: 3.136143 -- SNR: 29.299277\n",
      "21 -- C: 0.000000 -- A: 225.840523 -- f: 0.877206 -- phi: 0.143662 -- SNR: 30.413774\n",
      "22 -- C: 0.000000 -- A: 92.704159 -- f: 1.855056 -- phi: -2.135234 -- SNR: 27.627892\n",
      "23 -- C: 0.000000 -- A: 130.691478 -- f: 1.701427 -- phi: 0.212348 -- SNR: 28.593183\n",
      "24 -- C: 0.000000 -- A: 153.229316 -- f: 0.969700 -- phi: 1.504617 -- SNR: 21.842180\n",
      "25 -- C: 0.000000 -- A: 93.594318 -- f: 1.740065 -- phi: 1.182955 -- SNR: 21.813291\n",
      "26 -- C: 0.000000 -- A: 198.681614 -- f: 0.024415 -- phi: 1.287943 -- SNR: 20.989746\n",
      "27 -- C: 0.000000 -- A: 150.258364 -- f: 0.816200 -- phi: -2.214910 -- SNR: 20.009290\n",
      "28 -- C: 0.000000 -- A: 167.077075 -- f: 0.031968 -- phi: -0.136978 -- SNR: 17.685148\n",
      "29 -- C: 0.000000 -- A: 9.223232 -- f: 5.367977 -- phi: 0.060888 -- SNR: 16.921000\n",
      "30 -- C: 0.000000 -- A: 122.804353 -- f: 0.753172 -- phi: 0.143181 -- SNR: 16.460136\n",
      "31 -- C: 0.000000 -- A: 118.711368 -- f: 0.814906 -- phi: -1.030131 -- SNR: 15.805908\n",
      "32 -- C: 0.000000 -- A: 118.142600 -- f: 0.861701 -- phi: 2.690495 -- SNR: 15.805083\n",
      "33 -- C: 0.000000 -- A: 116.388798 -- f: 0.802947 -- phi: 3.023619 -- SNR: 15.545192\n",
      "34 -- C: 0.000000 -- A: 118.997092 -- f: 0.804646 -- phi: -0.134794 -- SNR: 15.893617\n",
      "35 -- C: 0.000000 -- A: 112.755732 -- f: 0.709157 -- phi: 1.675721 -- SNR: 15.321677\n",
      "36 -- C: 0.000000 -- A: 111.474070 -- f: 0.851151 -- phi: 2.030923 -- SNR: 14.890005\n",
      "37 -- C: 0.000000 -- A: 68.950071 -- f: 1.713746 -- phi: 0.301864 -- SNR: 15.293047\n",
      "38 -- C: 0.000000 -- A: 108.533614 -- f: 0.830890 -- phi: -3.085466 -- SNR: 14.468322\n",
      "39 -- C: 0.000000 -- A: 55.163677 -- f: 1.809156 -- phi: -2.658483 -- SNR: 14.713767\n",
      "40 -- C: 0.000000 -- A: 10.740028 -- f: 3.496921 -- phi: 0.978751 -- SNR: 14.710102\n",
      "41 -- C: 0.000000 -- A: 104.017016 -- f: 0.839462 -- phi: -2.304934 -- SNR: 13.874032\n",
      "42 -- C: 0.000000 -- A: 10.641777 -- f: 3.501967 -- phi: 0.436386 -- SNR: 14.516502\n",
      "43 -- C: 0.000000 -- A: 68.322064 -- f: 1.665809 -- phi: -2.104511 -- SNR: 14.154711\n",
      "44 -- C: 0.000000 -- A: 31.973884 -- f: 2.004403 -- phi: -2.901599 -- SNR: 13.446819\n",
      "45 -- C: 0.000000 -- A: 96.906206 -- f: 0.733583 -- phi: -2.076956 -- SNR: 13.078465\n",
      "46 -- C: 0.000000 -- A: 48.781067 -- f: 1.807726 -- phi: -2.758805 -- SNR: 12.983547\n",
      "47 -- C: 0.000000 -- A: 56.534758 -- f: 1.677224 -- phi: 2.432337 -- SNR: 11.971833\n",
      "48 -- C: 0.000000 -- A: 88.697414 -- f: 0.827561 -- phi: 2.540206 -- SNR: 11.832163\n",
      "49 -- C: 0.000000 -- A: 6.481145 -- f: 7.303686 -- phi: 1.971543 -- SNR: 13.208504\n"
     ]
    }
   ],
   "source": [
    "print(' C + A*sin( 2*pi*f*(t-t0)+phi )')\n",
    "\n",
    "outstr = '{} -- C: {:.6f} -- A: {:.6f} -- f: {:.6f} -- phi: {:.6f} -- SNR: {:.6f}'\n",
    "for ii,freq in enumerate(frequencies):\n",
    "    print(outstr.format(ii, offsets[ii], amplitudes[ii], freq, phases[ii],stop_criteria[ii]))\n"
   ]
  },
  {
   "cell_type": "code",
   "execution_count": 8,
   "id": "2fb82b3d",
   "metadata": {},
   "outputs": [
    {
     "data": {
      "application/javascript": [
       "/* Put everything inside the global mpl namespace */\n",
       "/* global mpl */\n",
       "window.mpl = {};\n",
       "\n",
       "mpl.get_websocket_type = function () {\n",
       "    if (typeof WebSocket !== 'undefined') {\n",
       "        return WebSocket;\n",
       "    } else if (typeof MozWebSocket !== 'undefined') {\n",
       "        return MozWebSocket;\n",
       "    } else {\n",
       "        alert(\n",
       "            'Your browser does not have WebSocket support. ' +\n",
       "                'Please try Chrome, Safari or Firefox ≥ 6. ' +\n",
       "                'Firefox 4 and 5 are also supported but you ' +\n",
       "                'have to enable WebSockets in about:config.'\n",
       "        );\n",
       "    }\n",
       "};\n",
       "\n",
       "mpl.figure = function (figure_id, websocket, ondownload, parent_element) {\n",
       "    this.id = figure_id;\n",
       "\n",
       "    this.ws = websocket;\n",
       "\n",
       "    this.supports_binary = this.ws.binaryType !== undefined;\n",
       "\n",
       "    if (!this.supports_binary) {\n",
       "        var warnings = document.getElementById('mpl-warnings');\n",
       "        if (warnings) {\n",
       "            warnings.style.display = 'block';\n",
       "            warnings.textContent =\n",
       "                'This browser does not support binary websocket messages. ' +\n",
       "                'Performance may be slow.';\n",
       "        }\n",
       "    }\n",
       "\n",
       "    this.imageObj = new Image();\n",
       "\n",
       "    this.context = undefined;\n",
       "    this.message = undefined;\n",
       "    this.canvas = undefined;\n",
       "    this.rubberband_canvas = undefined;\n",
       "    this.rubberband_context = undefined;\n",
       "    this.format_dropdown = undefined;\n",
       "\n",
       "    this.image_mode = 'full';\n",
       "\n",
       "    this.root = document.createElement('div');\n",
       "    this.root.setAttribute('style', 'display: inline-block');\n",
       "    this._root_extra_style(this.root);\n",
       "\n",
       "    parent_element.appendChild(this.root);\n",
       "\n",
       "    this._init_header(this);\n",
       "    this._init_canvas(this);\n",
       "    this._init_toolbar(this);\n",
       "\n",
       "    var fig = this;\n",
       "\n",
       "    this.waiting = false;\n",
       "\n",
       "    this.ws.onopen = function () {\n",
       "        fig.send_message('supports_binary', { value: fig.supports_binary });\n",
       "        fig.send_message('send_image_mode', {});\n",
       "        if (fig.ratio !== 1) {\n",
       "            fig.send_message('set_device_pixel_ratio', {\n",
       "                device_pixel_ratio: fig.ratio,\n",
       "            });\n",
       "        }\n",
       "        fig.send_message('refresh', {});\n",
       "    };\n",
       "\n",
       "    this.imageObj.onload = function () {\n",
       "        if (fig.image_mode === 'full') {\n",
       "            // Full images could contain transparency (where diff images\n",
       "            // almost always do), so we need to clear the canvas so that\n",
       "            // there is no ghosting.\n",
       "            fig.context.clearRect(0, 0, fig.canvas.width, fig.canvas.height);\n",
       "        }\n",
       "        fig.context.drawImage(fig.imageObj, 0, 0);\n",
       "    };\n",
       "\n",
       "    this.imageObj.onunload = function () {\n",
       "        fig.ws.close();\n",
       "    };\n",
       "\n",
       "    this.ws.onmessage = this._make_on_message_function(this);\n",
       "\n",
       "    this.ondownload = ondownload;\n",
       "};\n",
       "\n",
       "mpl.figure.prototype._init_header = function () {\n",
       "    var titlebar = document.createElement('div');\n",
       "    titlebar.classList =\n",
       "        'ui-dialog-titlebar ui-widget-header ui-corner-all ui-helper-clearfix';\n",
       "    var titletext = document.createElement('div');\n",
       "    titletext.classList = 'ui-dialog-title';\n",
       "    titletext.setAttribute(\n",
       "        'style',\n",
       "        'width: 100%; text-align: center; padding: 3px;'\n",
       "    );\n",
       "    titlebar.appendChild(titletext);\n",
       "    this.root.appendChild(titlebar);\n",
       "    this.header = titletext;\n",
       "};\n",
       "\n",
       "mpl.figure.prototype._canvas_extra_style = function (_canvas_div) {};\n",
       "\n",
       "mpl.figure.prototype._root_extra_style = function (_canvas_div) {};\n",
       "\n",
       "mpl.figure.prototype._init_canvas = function () {\n",
       "    var fig = this;\n",
       "\n",
       "    var canvas_div = (this.canvas_div = document.createElement('div'));\n",
       "    canvas_div.setAttribute(\n",
       "        'style',\n",
       "        'border: 1px solid #ddd;' +\n",
       "            'box-sizing: content-box;' +\n",
       "            'clear: both;' +\n",
       "            'min-height: 1px;' +\n",
       "            'min-width: 1px;' +\n",
       "            'outline: 0;' +\n",
       "            'overflow: hidden;' +\n",
       "            'position: relative;' +\n",
       "            'resize: both;'\n",
       "    );\n",
       "\n",
       "    function on_keyboard_event_closure(name) {\n",
       "        return function (event) {\n",
       "            return fig.key_event(event, name);\n",
       "        };\n",
       "    }\n",
       "\n",
       "    canvas_div.addEventListener(\n",
       "        'keydown',\n",
       "        on_keyboard_event_closure('key_press')\n",
       "    );\n",
       "    canvas_div.addEventListener(\n",
       "        'keyup',\n",
       "        on_keyboard_event_closure('key_release')\n",
       "    );\n",
       "\n",
       "    this._canvas_extra_style(canvas_div);\n",
       "    this.root.appendChild(canvas_div);\n",
       "\n",
       "    var canvas = (this.canvas = document.createElement('canvas'));\n",
       "    canvas.classList.add('mpl-canvas');\n",
       "    canvas.setAttribute('style', 'box-sizing: content-box;');\n",
       "\n",
       "    this.context = canvas.getContext('2d');\n",
       "\n",
       "    var backingStore =\n",
       "        this.context.backingStorePixelRatio ||\n",
       "        this.context.webkitBackingStorePixelRatio ||\n",
       "        this.context.mozBackingStorePixelRatio ||\n",
       "        this.context.msBackingStorePixelRatio ||\n",
       "        this.context.oBackingStorePixelRatio ||\n",
       "        this.context.backingStorePixelRatio ||\n",
       "        1;\n",
       "\n",
       "    this.ratio = (window.devicePixelRatio || 1) / backingStore;\n",
       "\n",
       "    var rubberband_canvas = (this.rubberband_canvas = document.createElement(\n",
       "        'canvas'\n",
       "    ));\n",
       "    rubberband_canvas.setAttribute(\n",
       "        'style',\n",
       "        'box-sizing: content-box; position: absolute; left: 0; top: 0; z-index: 1;'\n",
       "    );\n",
       "\n",
       "    // Apply a ponyfill if ResizeObserver is not implemented by browser.\n",
       "    if (this.ResizeObserver === undefined) {\n",
       "        if (window.ResizeObserver !== undefined) {\n",
       "            this.ResizeObserver = window.ResizeObserver;\n",
       "        } else {\n",
       "            var obs = _JSXTOOLS_RESIZE_OBSERVER({});\n",
       "            this.ResizeObserver = obs.ResizeObserver;\n",
       "        }\n",
       "    }\n",
       "\n",
       "    this.resizeObserverInstance = new this.ResizeObserver(function (entries) {\n",
       "        var nentries = entries.length;\n",
       "        for (var i = 0; i < nentries; i++) {\n",
       "            var entry = entries[i];\n",
       "            var width, height;\n",
       "            if (entry.contentBoxSize) {\n",
       "                if (entry.contentBoxSize instanceof Array) {\n",
       "                    // Chrome 84 implements new version of spec.\n",
       "                    width = entry.contentBoxSize[0].inlineSize;\n",
       "                    height = entry.contentBoxSize[0].blockSize;\n",
       "                } else {\n",
       "                    // Firefox implements old version of spec.\n",
       "                    width = entry.contentBoxSize.inlineSize;\n",
       "                    height = entry.contentBoxSize.blockSize;\n",
       "                }\n",
       "            } else {\n",
       "                // Chrome <84 implements even older version of spec.\n",
       "                width = entry.contentRect.width;\n",
       "                height = entry.contentRect.height;\n",
       "            }\n",
       "\n",
       "            // Keep the size of the canvas and rubber band canvas in sync with\n",
       "            // the canvas container.\n",
       "            if (entry.devicePixelContentBoxSize) {\n",
       "                // Chrome 84 implements new version of spec.\n",
       "                canvas.setAttribute(\n",
       "                    'width',\n",
       "                    entry.devicePixelContentBoxSize[0].inlineSize\n",
       "                );\n",
       "                canvas.setAttribute(\n",
       "                    'height',\n",
       "                    entry.devicePixelContentBoxSize[0].blockSize\n",
       "                );\n",
       "            } else {\n",
       "                canvas.setAttribute('width', width * fig.ratio);\n",
       "                canvas.setAttribute('height', height * fig.ratio);\n",
       "            }\n",
       "            canvas.setAttribute(\n",
       "                'style',\n",
       "                'width: ' + width + 'px; height: ' + height + 'px;'\n",
       "            );\n",
       "\n",
       "            rubberband_canvas.setAttribute('width', width);\n",
       "            rubberband_canvas.setAttribute('height', height);\n",
       "\n",
       "            // And update the size in Python. We ignore the initial 0/0 size\n",
       "            // that occurs as the element is placed into the DOM, which should\n",
       "            // otherwise not happen due to the minimum size styling.\n",
       "            if (fig.ws.readyState == 1 && width != 0 && height != 0) {\n",
       "                fig.request_resize(width, height);\n",
       "            }\n",
       "        }\n",
       "    });\n",
       "    this.resizeObserverInstance.observe(canvas_div);\n",
       "\n",
       "    function on_mouse_event_closure(name) {\n",
       "        return function (event) {\n",
       "            return fig.mouse_event(event, name);\n",
       "        };\n",
       "    }\n",
       "\n",
       "    rubberband_canvas.addEventListener(\n",
       "        'mousedown',\n",
       "        on_mouse_event_closure('button_press')\n",
       "    );\n",
       "    rubberband_canvas.addEventListener(\n",
       "        'mouseup',\n",
       "        on_mouse_event_closure('button_release')\n",
       "    );\n",
       "    rubberband_canvas.addEventListener(\n",
       "        'dblclick',\n",
       "        on_mouse_event_closure('dblclick')\n",
       "    );\n",
       "    // Throttle sequential mouse events to 1 every 20ms.\n",
       "    rubberband_canvas.addEventListener(\n",
       "        'mousemove',\n",
       "        on_mouse_event_closure('motion_notify')\n",
       "    );\n",
       "\n",
       "    rubberband_canvas.addEventListener(\n",
       "        'mouseenter',\n",
       "        on_mouse_event_closure('figure_enter')\n",
       "    );\n",
       "    rubberband_canvas.addEventListener(\n",
       "        'mouseleave',\n",
       "        on_mouse_event_closure('figure_leave')\n",
       "    );\n",
       "\n",
       "    canvas_div.addEventListener('wheel', function (event) {\n",
       "        if (event.deltaY < 0) {\n",
       "            event.step = 1;\n",
       "        } else {\n",
       "            event.step = -1;\n",
       "        }\n",
       "        on_mouse_event_closure('scroll')(event);\n",
       "    });\n",
       "\n",
       "    canvas_div.appendChild(canvas);\n",
       "    canvas_div.appendChild(rubberband_canvas);\n",
       "\n",
       "    this.rubberband_context = rubberband_canvas.getContext('2d');\n",
       "    this.rubberband_context.strokeStyle = '#000000';\n",
       "\n",
       "    this._resize_canvas = function (width, height, forward) {\n",
       "        if (forward) {\n",
       "            canvas_div.style.width = width + 'px';\n",
       "            canvas_div.style.height = height + 'px';\n",
       "        }\n",
       "    };\n",
       "\n",
       "    // Disable right mouse context menu.\n",
       "    this.rubberband_canvas.addEventListener('contextmenu', function (_e) {\n",
       "        event.preventDefault();\n",
       "        return false;\n",
       "    });\n",
       "\n",
       "    function set_focus() {\n",
       "        canvas.focus();\n",
       "        canvas_div.focus();\n",
       "    }\n",
       "\n",
       "    window.setTimeout(set_focus, 100);\n",
       "};\n",
       "\n",
       "mpl.figure.prototype._init_toolbar = function () {\n",
       "    var fig = this;\n",
       "\n",
       "    var toolbar = document.createElement('div');\n",
       "    toolbar.classList = 'mpl-toolbar';\n",
       "    this.root.appendChild(toolbar);\n",
       "\n",
       "    function on_click_closure(name) {\n",
       "        return function (_event) {\n",
       "            return fig.toolbar_button_onclick(name);\n",
       "        };\n",
       "    }\n",
       "\n",
       "    function on_mouseover_closure(tooltip) {\n",
       "        return function (event) {\n",
       "            if (!event.currentTarget.disabled) {\n",
       "                return fig.toolbar_button_onmouseover(tooltip);\n",
       "            }\n",
       "        };\n",
       "    }\n",
       "\n",
       "    fig.buttons = {};\n",
       "    var buttonGroup = document.createElement('div');\n",
       "    buttonGroup.classList = 'mpl-button-group';\n",
       "    for (var toolbar_ind in mpl.toolbar_items) {\n",
       "        var name = mpl.toolbar_items[toolbar_ind][0];\n",
       "        var tooltip = mpl.toolbar_items[toolbar_ind][1];\n",
       "        var image = mpl.toolbar_items[toolbar_ind][2];\n",
       "        var method_name = mpl.toolbar_items[toolbar_ind][3];\n",
       "\n",
       "        if (!name) {\n",
       "            /* Instead of a spacer, we start a new button group. */\n",
       "            if (buttonGroup.hasChildNodes()) {\n",
       "                toolbar.appendChild(buttonGroup);\n",
       "            }\n",
       "            buttonGroup = document.createElement('div');\n",
       "            buttonGroup.classList = 'mpl-button-group';\n",
       "            continue;\n",
       "        }\n",
       "\n",
       "        var button = (fig.buttons[name] = document.createElement('button'));\n",
       "        button.classList = 'mpl-widget';\n",
       "        button.setAttribute('role', 'button');\n",
       "        button.setAttribute('aria-disabled', 'false');\n",
       "        button.addEventListener('click', on_click_closure(method_name));\n",
       "        button.addEventListener('mouseover', on_mouseover_closure(tooltip));\n",
       "\n",
       "        var icon_img = document.createElement('img');\n",
       "        icon_img.src = '_images/' + image + '.png';\n",
       "        icon_img.srcset = '_images/' + image + '_large.png 2x';\n",
       "        icon_img.alt = tooltip;\n",
       "        button.appendChild(icon_img);\n",
       "\n",
       "        buttonGroup.appendChild(button);\n",
       "    }\n",
       "\n",
       "    if (buttonGroup.hasChildNodes()) {\n",
       "        toolbar.appendChild(buttonGroup);\n",
       "    }\n",
       "\n",
       "    var fmt_picker = document.createElement('select');\n",
       "    fmt_picker.classList = 'mpl-widget';\n",
       "    toolbar.appendChild(fmt_picker);\n",
       "    this.format_dropdown = fmt_picker;\n",
       "\n",
       "    for (var ind in mpl.extensions) {\n",
       "        var fmt = mpl.extensions[ind];\n",
       "        var option = document.createElement('option');\n",
       "        option.selected = fmt === mpl.default_extension;\n",
       "        option.innerHTML = fmt;\n",
       "        fmt_picker.appendChild(option);\n",
       "    }\n",
       "\n",
       "    var status_bar = document.createElement('span');\n",
       "    status_bar.classList = 'mpl-message';\n",
       "    toolbar.appendChild(status_bar);\n",
       "    this.message = status_bar;\n",
       "};\n",
       "\n",
       "mpl.figure.prototype.request_resize = function (x_pixels, y_pixels) {\n",
       "    // Request matplotlib to resize the figure. Matplotlib will then trigger a resize in the client,\n",
       "    // which will in turn request a refresh of the image.\n",
       "    this.send_message('resize', { width: x_pixels, height: y_pixels });\n",
       "};\n",
       "\n",
       "mpl.figure.prototype.send_message = function (type, properties) {\n",
       "    properties['type'] = type;\n",
       "    properties['figure_id'] = this.id;\n",
       "    this.ws.send(JSON.stringify(properties));\n",
       "};\n",
       "\n",
       "mpl.figure.prototype.send_draw_message = function () {\n",
       "    if (!this.waiting) {\n",
       "        this.waiting = true;\n",
       "        this.ws.send(JSON.stringify({ type: 'draw', figure_id: this.id }));\n",
       "    }\n",
       "};\n",
       "\n",
       "mpl.figure.prototype.handle_save = function (fig, _msg) {\n",
       "    var format_dropdown = fig.format_dropdown;\n",
       "    var format = format_dropdown.options[format_dropdown.selectedIndex].value;\n",
       "    fig.ondownload(fig, format);\n",
       "};\n",
       "\n",
       "mpl.figure.prototype.handle_resize = function (fig, msg) {\n",
       "    var size = msg['size'];\n",
       "    if (size[0] !== fig.canvas.width || size[1] !== fig.canvas.height) {\n",
       "        fig._resize_canvas(size[0], size[1], msg['forward']);\n",
       "        fig.send_message('refresh', {});\n",
       "    }\n",
       "};\n",
       "\n",
       "mpl.figure.prototype.handle_rubberband = function (fig, msg) {\n",
       "    var x0 = msg['x0'] / fig.ratio;\n",
       "    var y0 = (fig.canvas.height - msg['y0']) / fig.ratio;\n",
       "    var x1 = msg['x1'] / fig.ratio;\n",
       "    var y1 = (fig.canvas.height - msg['y1']) / fig.ratio;\n",
       "    x0 = Math.floor(x0) + 0.5;\n",
       "    y0 = Math.floor(y0) + 0.5;\n",
       "    x1 = Math.floor(x1) + 0.5;\n",
       "    y1 = Math.floor(y1) + 0.5;\n",
       "    var min_x = Math.min(x0, x1);\n",
       "    var min_y = Math.min(y0, y1);\n",
       "    var width = Math.abs(x1 - x0);\n",
       "    var height = Math.abs(y1 - y0);\n",
       "\n",
       "    fig.rubberband_context.clearRect(\n",
       "        0,\n",
       "        0,\n",
       "        fig.canvas.width / fig.ratio,\n",
       "        fig.canvas.height / fig.ratio\n",
       "    );\n",
       "\n",
       "    fig.rubberband_context.strokeRect(min_x, min_y, width, height);\n",
       "};\n",
       "\n",
       "mpl.figure.prototype.handle_figure_label = function (fig, msg) {\n",
       "    // Updates the figure title.\n",
       "    fig.header.textContent = msg['label'];\n",
       "};\n",
       "\n",
       "mpl.figure.prototype.handle_cursor = function (fig, msg) {\n",
       "    fig.rubberband_canvas.style.cursor = msg['cursor'];\n",
       "};\n",
       "\n",
       "mpl.figure.prototype.handle_message = function (fig, msg) {\n",
       "    fig.message.textContent = msg['message'];\n",
       "};\n",
       "\n",
       "mpl.figure.prototype.handle_draw = function (fig, _msg) {\n",
       "    // Request the server to send over a new figure.\n",
       "    fig.send_draw_message();\n",
       "};\n",
       "\n",
       "mpl.figure.prototype.handle_image_mode = function (fig, msg) {\n",
       "    fig.image_mode = msg['mode'];\n",
       "};\n",
       "\n",
       "mpl.figure.prototype.handle_history_buttons = function (fig, msg) {\n",
       "    for (var key in msg) {\n",
       "        if (!(key in fig.buttons)) {\n",
       "            continue;\n",
       "        }\n",
       "        fig.buttons[key].disabled = !msg[key];\n",
       "        fig.buttons[key].setAttribute('aria-disabled', !msg[key]);\n",
       "    }\n",
       "};\n",
       "\n",
       "mpl.figure.prototype.handle_navigate_mode = function (fig, msg) {\n",
       "    if (msg['mode'] === 'PAN') {\n",
       "        fig.buttons['Pan'].classList.add('active');\n",
       "        fig.buttons['Zoom'].classList.remove('active');\n",
       "    } else if (msg['mode'] === 'ZOOM') {\n",
       "        fig.buttons['Pan'].classList.remove('active');\n",
       "        fig.buttons['Zoom'].classList.add('active');\n",
       "    } else {\n",
       "        fig.buttons['Pan'].classList.remove('active');\n",
       "        fig.buttons['Zoom'].classList.remove('active');\n",
       "    }\n",
       "};\n",
       "\n",
       "mpl.figure.prototype.updated_canvas_event = function () {\n",
       "    // Called whenever the canvas gets updated.\n",
       "    this.send_message('ack', {});\n",
       "};\n",
       "\n",
       "// A function to construct a web socket function for onmessage handling.\n",
       "// Called in the figure constructor.\n",
       "mpl.figure.prototype._make_on_message_function = function (fig) {\n",
       "    return function socket_on_message(evt) {\n",
       "        if (evt.data instanceof Blob) {\n",
       "            var img = evt.data;\n",
       "            if (img.type !== 'image/png') {\n",
       "                /* FIXME: We get \"Resource interpreted as Image but\n",
       "                 * transferred with MIME type text/plain:\" errors on\n",
       "                 * Chrome.  But how to set the MIME type?  It doesn't seem\n",
       "                 * to be part of the websocket stream */\n",
       "                img.type = 'image/png';\n",
       "            }\n",
       "\n",
       "            /* Free the memory for the previous frames */\n",
       "            if (fig.imageObj.src) {\n",
       "                (window.URL || window.webkitURL).revokeObjectURL(\n",
       "                    fig.imageObj.src\n",
       "                );\n",
       "            }\n",
       "\n",
       "            fig.imageObj.src = (window.URL || window.webkitURL).createObjectURL(\n",
       "                img\n",
       "            );\n",
       "            fig.updated_canvas_event();\n",
       "            fig.waiting = false;\n",
       "            return;\n",
       "        } else if (\n",
       "            typeof evt.data === 'string' &&\n",
       "            evt.data.slice(0, 21) === 'data:image/png;base64'\n",
       "        ) {\n",
       "            fig.imageObj.src = evt.data;\n",
       "            fig.updated_canvas_event();\n",
       "            fig.waiting = false;\n",
       "            return;\n",
       "        }\n",
       "\n",
       "        var msg = JSON.parse(evt.data);\n",
       "        var msg_type = msg['type'];\n",
       "\n",
       "        // Call the  \"handle_{type}\" callback, which takes\n",
       "        // the figure and JSON message as its only arguments.\n",
       "        try {\n",
       "            var callback = fig['handle_' + msg_type];\n",
       "        } catch (e) {\n",
       "            console.log(\n",
       "                \"No handler for the '\" + msg_type + \"' message type: \",\n",
       "                msg\n",
       "            );\n",
       "            return;\n",
       "        }\n",
       "\n",
       "        if (callback) {\n",
       "            try {\n",
       "                // console.log(\"Handling '\" + msg_type + \"' message: \", msg);\n",
       "                callback(fig, msg);\n",
       "            } catch (e) {\n",
       "                console.log(\n",
       "                    \"Exception inside the 'handler_\" + msg_type + \"' callback:\",\n",
       "                    e,\n",
       "                    e.stack,\n",
       "                    msg\n",
       "                );\n",
       "            }\n",
       "        }\n",
       "    };\n",
       "};\n",
       "\n",
       "// from https://stackoverflow.com/questions/1114465/getting-mouse-location-in-canvas\n",
       "mpl.findpos = function (e) {\n",
       "    //this section is from http://www.quirksmode.org/js/events_properties.html\n",
       "    var targ;\n",
       "    if (!e) {\n",
       "        e = window.event;\n",
       "    }\n",
       "    if (e.target) {\n",
       "        targ = e.target;\n",
       "    } else if (e.srcElement) {\n",
       "        targ = e.srcElement;\n",
       "    }\n",
       "    if (targ.nodeType === 3) {\n",
       "        // defeat Safari bug\n",
       "        targ = targ.parentNode;\n",
       "    }\n",
       "\n",
       "    // pageX,Y are the mouse positions relative to the document\n",
       "    var boundingRect = targ.getBoundingClientRect();\n",
       "    var x = e.pageX - (boundingRect.left + document.body.scrollLeft);\n",
       "    var y = e.pageY - (boundingRect.top + document.body.scrollTop);\n",
       "\n",
       "    return { x: x, y: y };\n",
       "};\n",
       "\n",
       "/*\n",
       " * return a copy of an object with only non-object keys\n",
       " * we need this to avoid circular references\n",
       " * https://stackoverflow.com/a/24161582/3208463\n",
       " */\n",
       "function simpleKeys(original) {\n",
       "    return Object.keys(original).reduce(function (obj, key) {\n",
       "        if (typeof original[key] !== 'object') {\n",
       "            obj[key] = original[key];\n",
       "        }\n",
       "        return obj;\n",
       "    }, {});\n",
       "}\n",
       "\n",
       "mpl.figure.prototype.mouse_event = function (event, name) {\n",
       "    var canvas_pos = mpl.findpos(event);\n",
       "\n",
       "    if (name === 'button_press') {\n",
       "        this.canvas.focus();\n",
       "        this.canvas_div.focus();\n",
       "    }\n",
       "\n",
       "    var x = canvas_pos.x * this.ratio;\n",
       "    var y = canvas_pos.y * this.ratio;\n",
       "\n",
       "    this.send_message(name, {\n",
       "        x: x,\n",
       "        y: y,\n",
       "        button: event.button,\n",
       "        step: event.step,\n",
       "        guiEvent: simpleKeys(event),\n",
       "    });\n",
       "\n",
       "    /* This prevents the web browser from automatically changing to\n",
       "     * the text insertion cursor when the button is pressed.  We want\n",
       "     * to control all of the cursor setting manually through the\n",
       "     * 'cursor' event from matplotlib */\n",
       "    event.preventDefault();\n",
       "    return false;\n",
       "};\n",
       "\n",
       "mpl.figure.prototype._key_event_extra = function (_event, _name) {\n",
       "    // Handle any extra behaviour associated with a key event\n",
       "};\n",
       "\n",
       "mpl.figure.prototype.key_event = function (event, name) {\n",
       "    // Prevent repeat events\n",
       "    if (name === 'key_press') {\n",
       "        if (event.key === this._key) {\n",
       "            return;\n",
       "        } else {\n",
       "            this._key = event.key;\n",
       "        }\n",
       "    }\n",
       "    if (name === 'key_release') {\n",
       "        this._key = null;\n",
       "    }\n",
       "\n",
       "    var value = '';\n",
       "    if (event.ctrlKey && event.key !== 'Control') {\n",
       "        value += 'ctrl+';\n",
       "    }\n",
       "    else if (event.altKey && event.key !== 'Alt') {\n",
       "        value += 'alt+';\n",
       "    }\n",
       "    else if (event.shiftKey && event.key !== 'Shift') {\n",
       "        value += 'shift+';\n",
       "    }\n",
       "\n",
       "    value += 'k' + event.key;\n",
       "\n",
       "    this._key_event_extra(event, name);\n",
       "\n",
       "    this.send_message(name, { key: value, guiEvent: simpleKeys(event) });\n",
       "    return false;\n",
       "};\n",
       "\n",
       "mpl.figure.prototype.toolbar_button_onclick = function (name) {\n",
       "    if (name === 'download') {\n",
       "        this.handle_save(this, null);\n",
       "    } else {\n",
       "        this.send_message('toolbar_button', { name: name });\n",
       "    }\n",
       "};\n",
       "\n",
       "mpl.figure.prototype.toolbar_button_onmouseover = function (tooltip) {\n",
       "    this.message.textContent = tooltip;\n",
       "};\n",
       "\n",
       "///////////////// REMAINING CONTENT GENERATED BY embed_js.py /////////////////\n",
       "// prettier-ignore\n",
       "var _JSXTOOLS_RESIZE_OBSERVER=function(A){var t,i=new WeakMap,n=new WeakMap,a=new WeakMap,r=new WeakMap,o=new Set;function s(e){if(!(this instanceof s))throw new TypeError(\"Constructor requires 'new' operator\");i.set(this,e)}function h(){throw new TypeError(\"Function is not a constructor\")}function c(e,t,i,n){e=0 in arguments?Number(arguments[0]):0,t=1 in arguments?Number(arguments[1]):0,i=2 in arguments?Number(arguments[2]):0,n=3 in arguments?Number(arguments[3]):0,this.right=(this.x=this.left=e)+(this.width=i),this.bottom=(this.y=this.top=t)+(this.height=n),Object.freeze(this)}function d(){t=requestAnimationFrame(d);var s=new WeakMap,p=new Set;o.forEach((function(t){r.get(t).forEach((function(i){var r=t instanceof window.SVGElement,o=a.get(t),d=r?0:parseFloat(o.paddingTop),f=r?0:parseFloat(o.paddingRight),l=r?0:parseFloat(o.paddingBottom),u=r?0:parseFloat(o.paddingLeft),g=r?0:parseFloat(o.borderTopWidth),m=r?0:parseFloat(o.borderRightWidth),w=r?0:parseFloat(o.borderBottomWidth),b=u+f,F=d+l,v=(r?0:parseFloat(o.borderLeftWidth))+m,W=g+w,y=r?0:t.offsetHeight-W-t.clientHeight,E=r?0:t.offsetWidth-v-t.clientWidth,R=b+v,z=F+W,M=r?t.width:parseFloat(o.width)-R-E,O=r?t.height:parseFloat(o.height)-z-y;if(n.has(t)){var k=n.get(t);if(k[0]===M&&k[1]===O)return}n.set(t,[M,O]);var S=Object.create(h.prototype);S.target=t,S.contentRect=new c(u,d,M,O),s.has(i)||(s.set(i,[]),p.add(i)),s.get(i).push(S)}))})),p.forEach((function(e){i.get(e).call(e,s.get(e),e)}))}return s.prototype.observe=function(i){if(i instanceof window.Element){r.has(i)||(r.set(i,new Set),o.add(i),a.set(i,window.getComputedStyle(i)));var n=r.get(i);n.has(this)||n.add(this),cancelAnimationFrame(t),t=requestAnimationFrame(d)}},s.prototype.unobserve=function(i){if(i instanceof window.Element&&r.has(i)){var n=r.get(i);n.has(this)&&(n.delete(this),n.size||(r.delete(i),o.delete(i))),n.size||r.delete(i),o.size||cancelAnimationFrame(t)}},A.DOMRectReadOnly=c,A.ResizeObserver=s,A.ResizeObserverEntry=h,A}; // eslint-disable-line\n",
       "mpl.toolbar_items = [[\"Home\", \"Reset original view\", \"fa fa-home\", \"home\"], [\"Back\", \"Back to previous view\", \"fa fa-arrow-left\", \"back\"], [\"Forward\", \"Forward to next view\", \"fa fa-arrow-right\", \"forward\"], [\"\", \"\", \"\", \"\"], [\"Pan\", \"Left button pans, Right button zooms\\nx/y fixes axis, CTRL fixes aspect\", \"fa fa-arrows\", \"pan\"], [\"Zoom\", \"Zoom to rectangle\\nx/y fixes axis\", \"fa fa-square-o\", \"zoom\"], [\"\", \"\", \"\", \"\"], [\"Download\", \"Download plot\", \"fa fa-floppy-o\", \"download\"]];\n",
       "\n",
       "mpl.extensions = [\"eps\", \"jpeg\", \"pgf\", \"pdf\", \"png\", \"ps\", \"raw\", \"svg\", \"tif\", \"webp\"];\n",
       "\n",
       "mpl.default_extension = \"png\";/* global mpl */\n",
       "\n",
       "var comm_websocket_adapter = function (comm) {\n",
       "    // Create a \"websocket\"-like object which calls the given IPython comm\n",
       "    // object with the appropriate methods. Currently this is a non binary\n",
       "    // socket, so there is still some room for performance tuning.\n",
       "    var ws = {};\n",
       "\n",
       "    ws.binaryType = comm.kernel.ws.binaryType;\n",
       "    ws.readyState = comm.kernel.ws.readyState;\n",
       "    function updateReadyState(_event) {\n",
       "        if (comm.kernel.ws) {\n",
       "            ws.readyState = comm.kernel.ws.readyState;\n",
       "        } else {\n",
       "            ws.readyState = 3; // Closed state.\n",
       "        }\n",
       "    }\n",
       "    comm.kernel.ws.addEventListener('open', updateReadyState);\n",
       "    comm.kernel.ws.addEventListener('close', updateReadyState);\n",
       "    comm.kernel.ws.addEventListener('error', updateReadyState);\n",
       "\n",
       "    ws.close = function () {\n",
       "        comm.close();\n",
       "    };\n",
       "    ws.send = function (m) {\n",
       "        //console.log('sending', m);\n",
       "        comm.send(m);\n",
       "    };\n",
       "    // Register the callback with on_msg.\n",
       "    comm.on_msg(function (msg) {\n",
       "        //console.log('receiving', msg['content']['data'], msg);\n",
       "        var data = msg['content']['data'];\n",
       "        if (data['blob'] !== undefined) {\n",
       "            data = {\n",
       "                data: new Blob(msg['buffers'], { type: data['blob'] }),\n",
       "            };\n",
       "        }\n",
       "        // Pass the mpl event to the overridden (by mpl) onmessage function.\n",
       "        ws.onmessage(data);\n",
       "    });\n",
       "    return ws;\n",
       "};\n",
       "\n",
       "mpl.mpl_figure_comm = function (comm, msg) {\n",
       "    // This is the function which gets called when the mpl process\n",
       "    // starts-up an IPython Comm through the \"matplotlib\" channel.\n",
       "\n",
       "    var id = msg.content.data.id;\n",
       "    // Get hold of the div created by the display call when the Comm\n",
       "    // socket was opened in Python.\n",
       "    var element = document.getElementById(id);\n",
       "    var ws_proxy = comm_websocket_adapter(comm);\n",
       "\n",
       "    function ondownload(figure, _format) {\n",
       "        window.open(figure.canvas.toDataURL());\n",
       "    }\n",
       "\n",
       "    var fig = new mpl.figure(id, ws_proxy, ondownload, element);\n",
       "\n",
       "    // Call onopen now - mpl needs it, as it is assuming we've passed it a real\n",
       "    // web socket which is closed, not our websocket->open comm proxy.\n",
       "    ws_proxy.onopen();\n",
       "\n",
       "    fig.parent_element = element;\n",
       "    fig.cell_info = mpl.find_output_cell(\"<div id='\" + id + \"'></div>\");\n",
       "    if (!fig.cell_info) {\n",
       "        console.error('Failed to find cell for figure', id, fig);\n",
       "        return;\n",
       "    }\n",
       "    fig.cell_info[0].output_area.element.on(\n",
       "        'cleared',\n",
       "        { fig: fig },\n",
       "        fig._remove_fig_handler\n",
       "    );\n",
       "};\n",
       "\n",
       "mpl.figure.prototype.handle_close = function (fig, msg) {\n",
       "    var width = fig.canvas.width / fig.ratio;\n",
       "    fig.cell_info[0].output_area.element.off(\n",
       "        'cleared',\n",
       "        fig._remove_fig_handler\n",
       "    );\n",
       "    fig.resizeObserverInstance.unobserve(fig.canvas_div);\n",
       "\n",
       "    // Update the output cell to use the data from the current canvas.\n",
       "    fig.push_to_output();\n",
       "    var dataURL = fig.canvas.toDataURL();\n",
       "    // Re-enable the keyboard manager in IPython - without this line, in FF,\n",
       "    // the notebook keyboard shortcuts fail.\n",
       "    IPython.keyboard_manager.enable();\n",
       "    fig.parent_element.innerHTML =\n",
       "        '<img src=\"' + dataURL + '\" width=\"' + width + '\">';\n",
       "    fig.close_ws(fig, msg);\n",
       "};\n",
       "\n",
       "mpl.figure.prototype.close_ws = function (fig, msg) {\n",
       "    fig.send_message('closing', msg);\n",
       "    // fig.ws.close()\n",
       "};\n",
       "\n",
       "mpl.figure.prototype.push_to_output = function (_remove_interactive) {\n",
       "    // Turn the data on the canvas into data in the output cell.\n",
       "    var width = this.canvas.width / this.ratio;\n",
       "    var dataURL = this.canvas.toDataURL();\n",
       "    this.cell_info[1]['text/html'] =\n",
       "        '<img src=\"' + dataURL + '\" width=\"' + width + '\">';\n",
       "};\n",
       "\n",
       "mpl.figure.prototype.updated_canvas_event = function () {\n",
       "    // Tell IPython that the notebook contents must change.\n",
       "    IPython.notebook.set_dirty(true);\n",
       "    this.send_message('ack', {});\n",
       "    var fig = this;\n",
       "    // Wait a second, then push the new image to the DOM so\n",
       "    // that it is saved nicely (might be nice to debounce this).\n",
       "    setTimeout(function () {\n",
       "        fig.push_to_output();\n",
       "    }, 1000);\n",
       "};\n",
       "\n",
       "mpl.figure.prototype._init_toolbar = function () {\n",
       "    var fig = this;\n",
       "\n",
       "    var toolbar = document.createElement('div');\n",
       "    toolbar.classList = 'btn-toolbar';\n",
       "    this.root.appendChild(toolbar);\n",
       "\n",
       "    function on_click_closure(name) {\n",
       "        return function (_event) {\n",
       "            return fig.toolbar_button_onclick(name);\n",
       "        };\n",
       "    }\n",
       "\n",
       "    function on_mouseover_closure(tooltip) {\n",
       "        return function (event) {\n",
       "            if (!event.currentTarget.disabled) {\n",
       "                return fig.toolbar_button_onmouseover(tooltip);\n",
       "            }\n",
       "        };\n",
       "    }\n",
       "\n",
       "    fig.buttons = {};\n",
       "    var buttonGroup = document.createElement('div');\n",
       "    buttonGroup.classList = 'btn-group';\n",
       "    var button;\n",
       "    for (var toolbar_ind in mpl.toolbar_items) {\n",
       "        var name = mpl.toolbar_items[toolbar_ind][0];\n",
       "        var tooltip = mpl.toolbar_items[toolbar_ind][1];\n",
       "        var image = mpl.toolbar_items[toolbar_ind][2];\n",
       "        var method_name = mpl.toolbar_items[toolbar_ind][3];\n",
       "\n",
       "        if (!name) {\n",
       "            /* Instead of a spacer, we start a new button group. */\n",
       "            if (buttonGroup.hasChildNodes()) {\n",
       "                toolbar.appendChild(buttonGroup);\n",
       "            }\n",
       "            buttonGroup = document.createElement('div');\n",
       "            buttonGroup.classList = 'btn-group';\n",
       "            continue;\n",
       "        }\n",
       "\n",
       "        button = fig.buttons[name] = document.createElement('button');\n",
       "        button.classList = 'btn btn-default';\n",
       "        button.href = '#';\n",
       "        button.title = name;\n",
       "        button.innerHTML = '<i class=\"fa ' + image + ' fa-lg\"></i>';\n",
       "        button.addEventListener('click', on_click_closure(method_name));\n",
       "        button.addEventListener('mouseover', on_mouseover_closure(tooltip));\n",
       "        buttonGroup.appendChild(button);\n",
       "    }\n",
       "\n",
       "    if (buttonGroup.hasChildNodes()) {\n",
       "        toolbar.appendChild(buttonGroup);\n",
       "    }\n",
       "\n",
       "    // Add the status bar.\n",
       "    var status_bar = document.createElement('span');\n",
       "    status_bar.classList = 'mpl-message pull-right';\n",
       "    toolbar.appendChild(status_bar);\n",
       "    this.message = status_bar;\n",
       "\n",
       "    // Add the close button to the window.\n",
       "    var buttongrp = document.createElement('div');\n",
       "    buttongrp.classList = 'btn-group inline pull-right';\n",
       "    button = document.createElement('button');\n",
       "    button.classList = 'btn btn-mini btn-primary';\n",
       "    button.href = '#';\n",
       "    button.title = 'Stop Interaction';\n",
       "    button.innerHTML = '<i class=\"fa fa-power-off icon-remove icon-large\"></i>';\n",
       "    button.addEventListener('click', function (_evt) {\n",
       "        fig.handle_close(fig, {});\n",
       "    });\n",
       "    button.addEventListener(\n",
       "        'mouseover',\n",
       "        on_mouseover_closure('Stop Interaction')\n",
       "    );\n",
       "    buttongrp.appendChild(button);\n",
       "    var titlebar = this.root.querySelector('.ui-dialog-titlebar');\n",
       "    titlebar.insertBefore(buttongrp, titlebar.firstChild);\n",
       "};\n",
       "\n",
       "mpl.figure.prototype._remove_fig_handler = function (event) {\n",
       "    var fig = event.data.fig;\n",
       "    if (event.target !== this) {\n",
       "        // Ignore bubbled events from children.\n",
       "        return;\n",
       "    }\n",
       "    fig.close_ws(fig, {});\n",
       "};\n",
       "\n",
       "mpl.figure.prototype._root_extra_style = function (el) {\n",
       "    el.style.boxSizing = 'content-box'; // override notebook setting of border-box.\n",
       "};\n",
       "\n",
       "mpl.figure.prototype._canvas_extra_style = function (el) {\n",
       "    // this is important to make the div 'focusable\n",
       "    el.setAttribute('tabindex', 0);\n",
       "    // reach out to IPython and tell the keyboard manager to turn it's self\n",
       "    // off when our div gets focus\n",
       "\n",
       "    // location in version 3\n",
       "    if (IPython.notebook.keyboard_manager) {\n",
       "        IPython.notebook.keyboard_manager.register_events(el);\n",
       "    } else {\n",
       "        // location in version 2\n",
       "        IPython.keyboard_manager.register_events(el);\n",
       "    }\n",
       "};\n",
       "\n",
       "mpl.figure.prototype._key_event_extra = function (event, _name) {\n",
       "    // Check for shift+enter\n",
       "    if (event.shiftKey && event.which === 13) {\n",
       "        this.canvas_div.blur();\n",
       "        // select the cell after this one\n",
       "        var index = IPython.notebook.find_cell_index(this.cell_info[0]);\n",
       "        IPython.notebook.select(index + 1);\n",
       "    }\n",
       "};\n",
       "\n",
       "mpl.figure.prototype.handle_save = function (fig, _msg) {\n",
       "    fig.ondownload(fig, null);\n",
       "};\n",
       "\n",
       "mpl.find_output_cell = function (html_output) {\n",
       "    // Return the cell and output element which can be found *uniquely* in the notebook.\n",
       "    // Note - this is a bit hacky, but it is done because the \"notebook_saving.Notebook\"\n",
       "    // IPython event is triggered only after the cells have been serialised, which for\n",
       "    // our purposes (turning an active figure into a static one), is too late.\n",
       "    var cells = IPython.notebook.get_cells();\n",
       "    var ncells = cells.length;\n",
       "    for (var i = 0; i < ncells; i++) {\n",
       "        var cell = cells[i];\n",
       "        if (cell.cell_type === 'code') {\n",
       "            for (var j = 0; j < cell.output_area.outputs.length; j++) {\n",
       "                var data = cell.output_area.outputs[j];\n",
       "                if (data.data) {\n",
       "                    // IPython >= 3 moved mimebundle to data attribute of output\n",
       "                    data = data.data;\n",
       "                }\n",
       "                if (data['text/html'] === html_output) {\n",
       "                    return [cell, data, j];\n",
       "                }\n",
       "            }\n",
       "        }\n",
       "    }\n",
       "};\n",
       "\n",
       "// Register the function which deals with the matplotlib target/channel.\n",
       "// The kernel may be null if the page has been refreshed.\n",
       "if (IPython.notebook.kernel !== null) {\n",
       "    IPython.notebook.kernel.comm_manager.register_target(\n",
       "        'matplotlib',\n",
       "        mpl.mpl_figure_comm\n",
       "    );\n",
       "}\n"
      ],
      "text/plain": [
       "<IPython.core.display.Javascript object>"
      ]
     },
     "metadata": {},
     "output_type": "display_data"
    },
    {
     "data": {
      "text/html": [
       "<img src=\"data:image/png;base64,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\" width=\"670\">"
      ],
      "text/plain": [
       "<IPython.core.display.HTML object>"
      ]
     },
     "metadata": {},
     "output_type": "display_data"
    }
   ],
   "source": [
    "# np.savetxt('test.out',np.array([offsets,frequencies,amplitudes,phases]).T)\n",
    "\n",
    "nu_, amp_ = LS_periodogram(times, residuals)\n",
    "fig,ax = plt.subplots(1,1,figsize=(6.6957,6.6957), num=3)\n",
    "\n",
    "#     ax.axvline(freq, linestyle='--',color='red',alpha=0.4)\n",
    "#     ax.axhline(amplitudes[ii], linestyle='--',color='red',alpha=0.4)\n",
    "\n",
    "ax.plot(nu, amp,'-',color='grey')\n",
    "ax.plot(nu_,amp_,'k-')\n",
    "ax.set_xlabel(r'$\\nu\\,\\,{\\rm [d^{-1}]}$',fontsize=18)\n",
    "ax.set_ylabel(r'${\\rm Amplitude\\,\\,[ppm]}$',fontsize=18)\n",
    "ax.set_xlim(0., 4)\n",
    "ax.set_ylim(0., 3400)\n",
    "fig.tight_layout()"
   ]
  },
  {
   "cell_type": "markdown",
   "id": "19856359",
   "metadata": {},
   "source": [
    "You might notice that we extracted 50significant frequenices, but that we were still at an SNR~10.\n",
    "We certainly could have continued, but for the sake of the example, let's stop here. \n",
    "\n",
    "Clearly, there's a lot of sifnificant signal left, but let's see what we can do with what we've found."
   ]
  },
  {
   "cell_type": "code",
   "execution_count": 9,
   "id": "e9fb74d1",
   "metadata": {},
   "outputs": [
    {
     "data": {
      "application/javascript": [
       "/* Put everything inside the global mpl namespace */\n",
       "/* global mpl */\n",
       "window.mpl = {};\n",
       "\n",
       "mpl.get_websocket_type = function () {\n",
       "    if (typeof WebSocket !== 'undefined') {\n",
       "        return WebSocket;\n",
       "    } else if (typeof MozWebSocket !== 'undefined') {\n",
       "        return MozWebSocket;\n",
       "    } else {\n",
       "        alert(\n",
       "            'Your browser does not have WebSocket support. ' +\n",
       "                'Please try Chrome, Safari or Firefox ≥ 6. ' +\n",
       "                'Firefox 4 and 5 are also supported but you ' +\n",
       "                'have to enable WebSockets in about:config.'\n",
       "        );\n",
       "    }\n",
       "};\n",
       "\n",
       "mpl.figure = function (figure_id, websocket, ondownload, parent_element) {\n",
       "    this.id = figure_id;\n",
       "\n",
       "    this.ws = websocket;\n",
       "\n",
       "    this.supports_binary = this.ws.binaryType !== undefined;\n",
       "\n",
       "    if (!this.supports_binary) {\n",
       "        var warnings = document.getElementById('mpl-warnings');\n",
       "        if (warnings) {\n",
       "            warnings.style.display = 'block';\n",
       "            warnings.textContent =\n",
       "                'This browser does not support binary websocket messages. ' +\n",
       "                'Performance may be slow.';\n",
       "        }\n",
       "    }\n",
       "\n",
       "    this.imageObj = new Image();\n",
       "\n",
       "    this.context = undefined;\n",
       "    this.message = undefined;\n",
       "    this.canvas = undefined;\n",
       "    this.rubberband_canvas = undefined;\n",
       "    this.rubberband_context = undefined;\n",
       "    this.format_dropdown = undefined;\n",
       "\n",
       "    this.image_mode = 'full';\n",
       "\n",
       "    this.root = document.createElement('div');\n",
       "    this.root.setAttribute('style', 'display: inline-block');\n",
       "    this._root_extra_style(this.root);\n",
       "\n",
       "    parent_element.appendChild(this.root);\n",
       "\n",
       "    this._init_header(this);\n",
       "    this._init_canvas(this);\n",
       "    this._init_toolbar(this);\n",
       "\n",
       "    var fig = this;\n",
       "\n",
       "    this.waiting = false;\n",
       "\n",
       "    this.ws.onopen = function () {\n",
       "        fig.send_message('supports_binary', { value: fig.supports_binary });\n",
       "        fig.send_message('send_image_mode', {});\n",
       "        if (fig.ratio !== 1) {\n",
       "            fig.send_message('set_device_pixel_ratio', {\n",
       "                device_pixel_ratio: fig.ratio,\n",
       "            });\n",
       "        }\n",
       "        fig.send_message('refresh', {});\n",
       "    };\n",
       "\n",
       "    this.imageObj.onload = function () {\n",
       "        if (fig.image_mode === 'full') {\n",
       "            // Full images could contain transparency (where diff images\n",
       "            // almost always do), so we need to clear the canvas so that\n",
       "            // there is no ghosting.\n",
       "            fig.context.clearRect(0, 0, fig.canvas.width, fig.canvas.height);\n",
       "        }\n",
       "        fig.context.drawImage(fig.imageObj, 0, 0);\n",
       "    };\n",
       "\n",
       "    this.imageObj.onunload = function () {\n",
       "        fig.ws.close();\n",
       "    };\n",
       "\n",
       "    this.ws.onmessage = this._make_on_message_function(this);\n",
       "\n",
       "    this.ondownload = ondownload;\n",
       "};\n",
       "\n",
       "mpl.figure.prototype._init_header = function () {\n",
       "    var titlebar = document.createElement('div');\n",
       "    titlebar.classList =\n",
       "        'ui-dialog-titlebar ui-widget-header ui-corner-all ui-helper-clearfix';\n",
       "    var titletext = document.createElement('div');\n",
       "    titletext.classList = 'ui-dialog-title';\n",
       "    titletext.setAttribute(\n",
       "        'style',\n",
       "        'width: 100%; text-align: center; padding: 3px;'\n",
       "    );\n",
       "    titlebar.appendChild(titletext);\n",
       "    this.root.appendChild(titlebar);\n",
       "    this.header = titletext;\n",
       "};\n",
       "\n",
       "mpl.figure.prototype._canvas_extra_style = function (_canvas_div) {};\n",
       "\n",
       "mpl.figure.prototype._root_extra_style = function (_canvas_div) {};\n",
       "\n",
       "mpl.figure.prototype._init_canvas = function () {\n",
       "    var fig = this;\n",
       "\n",
       "    var canvas_div = (this.canvas_div = document.createElement('div'));\n",
       "    canvas_div.setAttribute(\n",
       "        'style',\n",
       "        'border: 1px solid #ddd;' +\n",
       "            'box-sizing: content-box;' +\n",
       "            'clear: both;' +\n",
       "            'min-height: 1px;' +\n",
       "            'min-width: 1px;' +\n",
       "            'outline: 0;' +\n",
       "            'overflow: hidden;' +\n",
       "            'position: relative;' +\n",
       "            'resize: both;'\n",
       "    );\n",
       "\n",
       "    function on_keyboard_event_closure(name) {\n",
       "        return function (event) {\n",
       "            return fig.key_event(event, name);\n",
       "        };\n",
       "    }\n",
       "\n",
       "    canvas_div.addEventListener(\n",
       "        'keydown',\n",
       "        on_keyboard_event_closure('key_press')\n",
       "    );\n",
       "    canvas_div.addEventListener(\n",
       "        'keyup',\n",
       "        on_keyboard_event_closure('key_release')\n",
       "    );\n",
       "\n",
       "    this._canvas_extra_style(canvas_div);\n",
       "    this.root.appendChild(canvas_div);\n",
       "\n",
       "    var canvas = (this.canvas = document.createElement('canvas'));\n",
       "    canvas.classList.add('mpl-canvas');\n",
       "    canvas.setAttribute('style', 'box-sizing: content-box;');\n",
       "\n",
       "    this.context = canvas.getContext('2d');\n",
       "\n",
       "    var backingStore =\n",
       "        this.context.backingStorePixelRatio ||\n",
       "        this.context.webkitBackingStorePixelRatio ||\n",
       "        this.context.mozBackingStorePixelRatio ||\n",
       "        this.context.msBackingStorePixelRatio ||\n",
       "        this.context.oBackingStorePixelRatio ||\n",
       "        this.context.backingStorePixelRatio ||\n",
       "        1;\n",
       "\n",
       "    this.ratio = (window.devicePixelRatio || 1) / backingStore;\n",
       "\n",
       "    var rubberband_canvas = (this.rubberband_canvas = document.createElement(\n",
       "        'canvas'\n",
       "    ));\n",
       "    rubberband_canvas.setAttribute(\n",
       "        'style',\n",
       "        'box-sizing: content-box; position: absolute; left: 0; top: 0; z-index: 1;'\n",
       "    );\n",
       "\n",
       "    // Apply a ponyfill if ResizeObserver is not implemented by browser.\n",
       "    if (this.ResizeObserver === undefined) {\n",
       "        if (window.ResizeObserver !== undefined) {\n",
       "            this.ResizeObserver = window.ResizeObserver;\n",
       "        } else {\n",
       "            var obs = _JSXTOOLS_RESIZE_OBSERVER({});\n",
       "            this.ResizeObserver = obs.ResizeObserver;\n",
       "        }\n",
       "    }\n",
       "\n",
       "    this.resizeObserverInstance = new this.ResizeObserver(function (entries) {\n",
       "        var nentries = entries.length;\n",
       "        for (var i = 0; i < nentries; i++) {\n",
       "            var entry = entries[i];\n",
       "            var width, height;\n",
       "            if (entry.contentBoxSize) {\n",
       "                if (entry.contentBoxSize instanceof Array) {\n",
       "                    // Chrome 84 implements new version of spec.\n",
       "                    width = entry.contentBoxSize[0].inlineSize;\n",
       "                    height = entry.contentBoxSize[0].blockSize;\n",
       "                } else {\n",
       "                    // Firefox implements old version of spec.\n",
       "                    width = entry.contentBoxSize.inlineSize;\n",
       "                    height = entry.contentBoxSize.blockSize;\n",
       "                }\n",
       "            } else {\n",
       "                // Chrome <84 implements even older version of spec.\n",
       "                width = entry.contentRect.width;\n",
       "                height = entry.contentRect.height;\n",
       "            }\n",
       "\n",
       "            // Keep the size of the canvas and rubber band canvas in sync with\n",
       "            // the canvas container.\n",
       "            if (entry.devicePixelContentBoxSize) {\n",
       "                // Chrome 84 implements new version of spec.\n",
       "                canvas.setAttribute(\n",
       "                    'width',\n",
       "                    entry.devicePixelContentBoxSize[0].inlineSize\n",
       "                );\n",
       "                canvas.setAttribute(\n",
       "                    'height',\n",
       "                    entry.devicePixelContentBoxSize[0].blockSize\n",
       "                );\n",
       "            } else {\n",
       "                canvas.setAttribute('width', width * fig.ratio);\n",
       "                canvas.setAttribute('height', height * fig.ratio);\n",
       "            }\n",
       "            canvas.setAttribute(\n",
       "                'style',\n",
       "                'width: ' + width + 'px; height: ' + height + 'px;'\n",
       "            );\n",
       "\n",
       "            rubberband_canvas.setAttribute('width', width);\n",
       "            rubberband_canvas.setAttribute('height', height);\n",
       "\n",
       "            // And update the size in Python. We ignore the initial 0/0 size\n",
       "            // that occurs as the element is placed into the DOM, which should\n",
       "            // otherwise not happen due to the minimum size styling.\n",
       "            if (fig.ws.readyState == 1 && width != 0 && height != 0) {\n",
       "                fig.request_resize(width, height);\n",
       "            }\n",
       "        }\n",
       "    });\n",
       "    this.resizeObserverInstance.observe(canvas_div);\n",
       "\n",
       "    function on_mouse_event_closure(name) {\n",
       "        return function (event) {\n",
       "            return fig.mouse_event(event, name);\n",
       "        };\n",
       "    }\n",
       "\n",
       "    rubberband_canvas.addEventListener(\n",
       "        'mousedown',\n",
       "        on_mouse_event_closure('button_press')\n",
       "    );\n",
       "    rubberband_canvas.addEventListener(\n",
       "        'mouseup',\n",
       "        on_mouse_event_closure('button_release')\n",
       "    );\n",
       "    rubberband_canvas.addEventListener(\n",
       "        'dblclick',\n",
       "        on_mouse_event_closure('dblclick')\n",
       "    );\n",
       "    // Throttle sequential mouse events to 1 every 20ms.\n",
       "    rubberband_canvas.addEventListener(\n",
       "        'mousemove',\n",
       "        on_mouse_event_closure('motion_notify')\n",
       "    );\n",
       "\n",
       "    rubberband_canvas.addEventListener(\n",
       "        'mouseenter',\n",
       "        on_mouse_event_closure('figure_enter')\n",
       "    );\n",
       "    rubberband_canvas.addEventListener(\n",
       "        'mouseleave',\n",
       "        on_mouse_event_closure('figure_leave')\n",
       "    );\n",
       "\n",
       "    canvas_div.addEventListener('wheel', function (event) {\n",
       "        if (event.deltaY < 0) {\n",
       "            event.step = 1;\n",
       "        } else {\n",
       "            event.step = -1;\n",
       "        }\n",
       "        on_mouse_event_closure('scroll')(event);\n",
       "    });\n",
       "\n",
       "    canvas_div.appendChild(canvas);\n",
       "    canvas_div.appendChild(rubberband_canvas);\n",
       "\n",
       "    this.rubberband_context = rubberband_canvas.getContext('2d');\n",
       "    this.rubberband_context.strokeStyle = '#000000';\n",
       "\n",
       "    this._resize_canvas = function (width, height, forward) {\n",
       "        if (forward) {\n",
       "            canvas_div.style.width = width + 'px';\n",
       "            canvas_div.style.height = height + 'px';\n",
       "        }\n",
       "    };\n",
       "\n",
       "    // Disable right mouse context menu.\n",
       "    this.rubberband_canvas.addEventListener('contextmenu', function (_e) {\n",
       "        event.preventDefault();\n",
       "        return false;\n",
       "    });\n",
       "\n",
       "    function set_focus() {\n",
       "        canvas.focus();\n",
       "        canvas_div.focus();\n",
       "    }\n",
       "\n",
       "    window.setTimeout(set_focus, 100);\n",
       "};\n",
       "\n",
       "mpl.figure.prototype._init_toolbar = function () {\n",
       "    var fig = this;\n",
       "\n",
       "    var toolbar = document.createElement('div');\n",
       "    toolbar.classList = 'mpl-toolbar';\n",
       "    this.root.appendChild(toolbar);\n",
       "\n",
       "    function on_click_closure(name) {\n",
       "        return function (_event) {\n",
       "            return fig.toolbar_button_onclick(name);\n",
       "        };\n",
       "    }\n",
       "\n",
       "    function on_mouseover_closure(tooltip) {\n",
       "        return function (event) {\n",
       "            if (!event.currentTarget.disabled) {\n",
       "                return fig.toolbar_button_onmouseover(tooltip);\n",
       "            }\n",
       "        };\n",
       "    }\n",
       "\n",
       "    fig.buttons = {};\n",
       "    var buttonGroup = document.createElement('div');\n",
       "    buttonGroup.classList = 'mpl-button-group';\n",
       "    for (var toolbar_ind in mpl.toolbar_items) {\n",
       "        var name = mpl.toolbar_items[toolbar_ind][0];\n",
       "        var tooltip = mpl.toolbar_items[toolbar_ind][1];\n",
       "        var image = mpl.toolbar_items[toolbar_ind][2];\n",
       "        var method_name = mpl.toolbar_items[toolbar_ind][3];\n",
       "\n",
       "        if (!name) {\n",
       "            /* Instead of a spacer, we start a new button group. */\n",
       "            if (buttonGroup.hasChildNodes()) {\n",
       "                toolbar.appendChild(buttonGroup);\n",
       "            }\n",
       "            buttonGroup = document.createElement('div');\n",
       "            buttonGroup.classList = 'mpl-button-group';\n",
       "            continue;\n",
       "        }\n",
       "\n",
       "        var button = (fig.buttons[name] = document.createElement('button'));\n",
       "        button.classList = 'mpl-widget';\n",
       "        button.setAttribute('role', 'button');\n",
       "        button.setAttribute('aria-disabled', 'false');\n",
       "        button.addEventListener('click', on_click_closure(method_name));\n",
       "        button.addEventListener('mouseover', on_mouseover_closure(tooltip));\n",
       "\n",
       "        var icon_img = document.createElement('img');\n",
       "        icon_img.src = '_images/' + image + '.png';\n",
       "        icon_img.srcset = '_images/' + image + '_large.png 2x';\n",
       "        icon_img.alt = tooltip;\n",
       "        button.appendChild(icon_img);\n",
       "\n",
       "        buttonGroup.appendChild(button);\n",
       "    }\n",
       "\n",
       "    if (buttonGroup.hasChildNodes()) {\n",
       "        toolbar.appendChild(buttonGroup);\n",
       "    }\n",
       "\n",
       "    var fmt_picker = document.createElement('select');\n",
       "    fmt_picker.classList = 'mpl-widget';\n",
       "    toolbar.appendChild(fmt_picker);\n",
       "    this.format_dropdown = fmt_picker;\n",
       "\n",
       "    for (var ind in mpl.extensions) {\n",
       "        var fmt = mpl.extensions[ind];\n",
       "        var option = document.createElement('option');\n",
       "        option.selected = fmt === mpl.default_extension;\n",
       "        option.innerHTML = fmt;\n",
       "        fmt_picker.appendChild(option);\n",
       "    }\n",
       "\n",
       "    var status_bar = document.createElement('span');\n",
       "    status_bar.classList = 'mpl-message';\n",
       "    toolbar.appendChild(status_bar);\n",
       "    this.message = status_bar;\n",
       "};\n",
       "\n",
       "mpl.figure.prototype.request_resize = function (x_pixels, y_pixels) {\n",
       "    // Request matplotlib to resize the figure. Matplotlib will then trigger a resize in the client,\n",
       "    // which will in turn request a refresh of the image.\n",
       "    this.send_message('resize', { width: x_pixels, height: y_pixels });\n",
       "};\n",
       "\n",
       "mpl.figure.prototype.send_message = function (type, properties) {\n",
       "    properties['type'] = type;\n",
       "    properties['figure_id'] = this.id;\n",
       "    this.ws.send(JSON.stringify(properties));\n",
       "};\n",
       "\n",
       "mpl.figure.prototype.send_draw_message = function () {\n",
       "    if (!this.waiting) {\n",
       "        this.waiting = true;\n",
       "        this.ws.send(JSON.stringify({ type: 'draw', figure_id: this.id }));\n",
       "    }\n",
       "};\n",
       "\n",
       "mpl.figure.prototype.handle_save = function (fig, _msg) {\n",
       "    var format_dropdown = fig.format_dropdown;\n",
       "    var format = format_dropdown.options[format_dropdown.selectedIndex].value;\n",
       "    fig.ondownload(fig, format);\n",
       "};\n",
       "\n",
       "mpl.figure.prototype.handle_resize = function (fig, msg) {\n",
       "    var size = msg['size'];\n",
       "    if (size[0] !== fig.canvas.width || size[1] !== fig.canvas.height) {\n",
       "        fig._resize_canvas(size[0], size[1], msg['forward']);\n",
       "        fig.send_message('refresh', {});\n",
       "    }\n",
       "};\n",
       "\n",
       "mpl.figure.prototype.handle_rubberband = function (fig, msg) {\n",
       "    var x0 = msg['x0'] / fig.ratio;\n",
       "    var y0 = (fig.canvas.height - msg['y0']) / fig.ratio;\n",
       "    var x1 = msg['x1'] / fig.ratio;\n",
       "    var y1 = (fig.canvas.height - msg['y1']) / fig.ratio;\n",
       "    x0 = Math.floor(x0) + 0.5;\n",
       "    y0 = Math.floor(y0) + 0.5;\n",
       "    x1 = Math.floor(x1) + 0.5;\n",
       "    y1 = Math.floor(y1) + 0.5;\n",
       "    var min_x = Math.min(x0, x1);\n",
       "    var min_y = Math.min(y0, y1);\n",
       "    var width = Math.abs(x1 - x0);\n",
       "    var height = Math.abs(y1 - y0);\n",
       "\n",
       "    fig.rubberband_context.clearRect(\n",
       "        0,\n",
       "        0,\n",
       "        fig.canvas.width / fig.ratio,\n",
       "        fig.canvas.height / fig.ratio\n",
       "    );\n",
       "\n",
       "    fig.rubberband_context.strokeRect(min_x, min_y, width, height);\n",
       "};\n",
       "\n",
       "mpl.figure.prototype.handle_figure_label = function (fig, msg) {\n",
       "    // Updates the figure title.\n",
       "    fig.header.textContent = msg['label'];\n",
       "};\n",
       "\n",
       "mpl.figure.prototype.handle_cursor = function (fig, msg) {\n",
       "    fig.rubberband_canvas.style.cursor = msg['cursor'];\n",
       "};\n",
       "\n",
       "mpl.figure.prototype.handle_message = function (fig, msg) {\n",
       "    fig.message.textContent = msg['message'];\n",
       "};\n",
       "\n",
       "mpl.figure.prototype.handle_draw = function (fig, _msg) {\n",
       "    // Request the server to send over a new figure.\n",
       "    fig.send_draw_message();\n",
       "};\n",
       "\n",
       "mpl.figure.prototype.handle_image_mode = function (fig, msg) {\n",
       "    fig.image_mode = msg['mode'];\n",
       "};\n",
       "\n",
       "mpl.figure.prototype.handle_history_buttons = function (fig, msg) {\n",
       "    for (var key in msg) {\n",
       "        if (!(key in fig.buttons)) {\n",
       "            continue;\n",
       "        }\n",
       "        fig.buttons[key].disabled = !msg[key];\n",
       "        fig.buttons[key].setAttribute('aria-disabled', !msg[key]);\n",
       "    }\n",
       "};\n",
       "\n",
       "mpl.figure.prototype.handle_navigate_mode = function (fig, msg) {\n",
       "    if (msg['mode'] === 'PAN') {\n",
       "        fig.buttons['Pan'].classList.add('active');\n",
       "        fig.buttons['Zoom'].classList.remove('active');\n",
       "    } else if (msg['mode'] === 'ZOOM') {\n",
       "        fig.buttons['Pan'].classList.remove('active');\n",
       "        fig.buttons['Zoom'].classList.add('active');\n",
       "    } else {\n",
       "        fig.buttons['Pan'].classList.remove('active');\n",
       "        fig.buttons['Zoom'].classList.remove('active');\n",
       "    }\n",
       "};\n",
       "\n",
       "mpl.figure.prototype.updated_canvas_event = function () {\n",
       "    // Called whenever the canvas gets updated.\n",
       "    this.send_message('ack', {});\n",
       "};\n",
       "\n",
       "// A function to construct a web socket function for onmessage handling.\n",
       "// Called in the figure constructor.\n",
       "mpl.figure.prototype._make_on_message_function = function (fig) {\n",
       "    return function socket_on_message(evt) {\n",
       "        if (evt.data instanceof Blob) {\n",
       "            var img = evt.data;\n",
       "            if (img.type !== 'image/png') {\n",
       "                /* FIXME: We get \"Resource interpreted as Image but\n",
       "                 * transferred with MIME type text/plain:\" errors on\n",
       "                 * Chrome.  But how to set the MIME type?  It doesn't seem\n",
       "                 * to be part of the websocket stream */\n",
       "                img.type = 'image/png';\n",
       "            }\n",
       "\n",
       "            /* Free the memory for the previous frames */\n",
       "            if (fig.imageObj.src) {\n",
       "                (window.URL || window.webkitURL).revokeObjectURL(\n",
       "                    fig.imageObj.src\n",
       "                );\n",
       "            }\n",
       "\n",
       "            fig.imageObj.src = (window.URL || window.webkitURL).createObjectURL(\n",
       "                img\n",
       "            );\n",
       "            fig.updated_canvas_event();\n",
       "            fig.waiting = false;\n",
       "            return;\n",
       "        } else if (\n",
       "            typeof evt.data === 'string' &&\n",
       "            evt.data.slice(0, 21) === 'data:image/png;base64'\n",
       "        ) {\n",
       "            fig.imageObj.src = evt.data;\n",
       "            fig.updated_canvas_event();\n",
       "            fig.waiting = false;\n",
       "            return;\n",
       "        }\n",
       "\n",
       "        var msg = JSON.parse(evt.data);\n",
       "        var msg_type = msg['type'];\n",
       "\n",
       "        // Call the  \"handle_{type}\" callback, which takes\n",
       "        // the figure and JSON message as its only arguments.\n",
       "        try {\n",
       "            var callback = fig['handle_' + msg_type];\n",
       "        } catch (e) {\n",
       "            console.log(\n",
       "                \"No handler for the '\" + msg_type + \"' message type: \",\n",
       "                msg\n",
       "            );\n",
       "            return;\n",
       "        }\n",
       "\n",
       "        if (callback) {\n",
       "            try {\n",
       "                // console.log(\"Handling '\" + msg_type + \"' message: \", msg);\n",
       "                callback(fig, msg);\n",
       "            } catch (e) {\n",
       "                console.log(\n",
       "                    \"Exception inside the 'handler_\" + msg_type + \"' callback:\",\n",
       "                    e,\n",
       "                    e.stack,\n",
       "                    msg\n",
       "                );\n",
       "            }\n",
       "        }\n",
       "    };\n",
       "};\n",
       "\n",
       "// from https://stackoverflow.com/questions/1114465/getting-mouse-location-in-canvas\n",
       "mpl.findpos = function (e) {\n",
       "    //this section is from http://www.quirksmode.org/js/events_properties.html\n",
       "    var targ;\n",
       "    if (!e) {\n",
       "        e = window.event;\n",
       "    }\n",
       "    if (e.target) {\n",
       "        targ = e.target;\n",
       "    } else if (e.srcElement) {\n",
       "        targ = e.srcElement;\n",
       "    }\n",
       "    if (targ.nodeType === 3) {\n",
       "        // defeat Safari bug\n",
       "        targ = targ.parentNode;\n",
       "    }\n",
       "\n",
       "    // pageX,Y are the mouse positions relative to the document\n",
       "    var boundingRect = targ.getBoundingClientRect();\n",
       "    var x = e.pageX - (boundingRect.left + document.body.scrollLeft);\n",
       "    var y = e.pageY - (boundingRect.top + document.body.scrollTop);\n",
       "\n",
       "    return { x: x, y: y };\n",
       "};\n",
       "\n",
       "/*\n",
       " * return a copy of an object with only non-object keys\n",
       " * we need this to avoid circular references\n",
       " * https://stackoverflow.com/a/24161582/3208463\n",
       " */\n",
       "function simpleKeys(original) {\n",
       "    return Object.keys(original).reduce(function (obj, key) {\n",
       "        if (typeof original[key] !== 'object') {\n",
       "            obj[key] = original[key];\n",
       "        }\n",
       "        return obj;\n",
       "    }, {});\n",
       "}\n",
       "\n",
       "mpl.figure.prototype.mouse_event = function (event, name) {\n",
       "    var canvas_pos = mpl.findpos(event);\n",
       "\n",
       "    if (name === 'button_press') {\n",
       "        this.canvas.focus();\n",
       "        this.canvas_div.focus();\n",
       "    }\n",
       "\n",
       "    var x = canvas_pos.x * this.ratio;\n",
       "    var y = canvas_pos.y * this.ratio;\n",
       "\n",
       "    this.send_message(name, {\n",
       "        x: x,\n",
       "        y: y,\n",
       "        button: event.button,\n",
       "        step: event.step,\n",
       "        guiEvent: simpleKeys(event),\n",
       "    });\n",
       "\n",
       "    /* This prevents the web browser from automatically changing to\n",
       "     * the text insertion cursor when the button is pressed.  We want\n",
       "     * to control all of the cursor setting manually through the\n",
       "     * 'cursor' event from matplotlib */\n",
       "    event.preventDefault();\n",
       "    return false;\n",
       "};\n",
       "\n",
       "mpl.figure.prototype._key_event_extra = function (_event, _name) {\n",
       "    // Handle any extra behaviour associated with a key event\n",
       "};\n",
       "\n",
       "mpl.figure.prototype.key_event = function (event, name) {\n",
       "    // Prevent repeat events\n",
       "    if (name === 'key_press') {\n",
       "        if (event.key === this._key) {\n",
       "            return;\n",
       "        } else {\n",
       "            this._key = event.key;\n",
       "        }\n",
       "    }\n",
       "    if (name === 'key_release') {\n",
       "        this._key = null;\n",
       "    }\n",
       "\n",
       "    var value = '';\n",
       "    if (event.ctrlKey && event.key !== 'Control') {\n",
       "        value += 'ctrl+';\n",
       "    }\n",
       "    else if (event.altKey && event.key !== 'Alt') {\n",
       "        value += 'alt+';\n",
       "    }\n",
       "    else if (event.shiftKey && event.key !== 'Shift') {\n",
       "        value += 'shift+';\n",
       "    }\n",
       "\n",
       "    value += 'k' + event.key;\n",
       "\n",
       "    this._key_event_extra(event, name);\n",
       "\n",
       "    this.send_message(name, { key: value, guiEvent: simpleKeys(event) });\n",
       "    return false;\n",
       "};\n",
       "\n",
       "mpl.figure.prototype.toolbar_button_onclick = function (name) {\n",
       "    if (name === 'download') {\n",
       "        this.handle_save(this, null);\n",
       "    } else {\n",
       "        this.send_message('toolbar_button', { name: name });\n",
       "    }\n",
       "};\n",
       "\n",
       "mpl.figure.prototype.toolbar_button_onmouseover = function (tooltip) {\n",
       "    this.message.textContent = tooltip;\n",
       "};\n",
       "\n",
       "///////////////// REMAINING CONTENT GENERATED BY embed_js.py /////////////////\n",
       "// prettier-ignore\n",
       "var _JSXTOOLS_RESIZE_OBSERVER=function(A){var t,i=new WeakMap,n=new WeakMap,a=new WeakMap,r=new WeakMap,o=new Set;function s(e){if(!(this instanceof s))throw new TypeError(\"Constructor requires 'new' operator\");i.set(this,e)}function h(){throw new TypeError(\"Function is not a constructor\")}function c(e,t,i,n){e=0 in arguments?Number(arguments[0]):0,t=1 in arguments?Number(arguments[1]):0,i=2 in arguments?Number(arguments[2]):0,n=3 in arguments?Number(arguments[3]):0,this.right=(this.x=this.left=e)+(this.width=i),this.bottom=(this.y=this.top=t)+(this.height=n),Object.freeze(this)}function d(){t=requestAnimationFrame(d);var s=new WeakMap,p=new Set;o.forEach((function(t){r.get(t).forEach((function(i){var r=t instanceof window.SVGElement,o=a.get(t),d=r?0:parseFloat(o.paddingTop),f=r?0:parseFloat(o.paddingRight),l=r?0:parseFloat(o.paddingBottom),u=r?0:parseFloat(o.paddingLeft),g=r?0:parseFloat(o.borderTopWidth),m=r?0:parseFloat(o.borderRightWidth),w=r?0:parseFloat(o.borderBottomWidth),b=u+f,F=d+l,v=(r?0:parseFloat(o.borderLeftWidth))+m,W=g+w,y=r?0:t.offsetHeight-W-t.clientHeight,E=r?0:t.offsetWidth-v-t.clientWidth,R=b+v,z=F+W,M=r?t.width:parseFloat(o.width)-R-E,O=r?t.height:parseFloat(o.height)-z-y;if(n.has(t)){var k=n.get(t);if(k[0]===M&&k[1]===O)return}n.set(t,[M,O]);var S=Object.create(h.prototype);S.target=t,S.contentRect=new c(u,d,M,O),s.has(i)||(s.set(i,[]),p.add(i)),s.get(i).push(S)}))})),p.forEach((function(e){i.get(e).call(e,s.get(e),e)}))}return s.prototype.observe=function(i){if(i instanceof window.Element){r.has(i)||(r.set(i,new Set),o.add(i),a.set(i,window.getComputedStyle(i)));var n=r.get(i);n.has(this)||n.add(this),cancelAnimationFrame(t),t=requestAnimationFrame(d)}},s.prototype.unobserve=function(i){if(i instanceof window.Element&&r.has(i)){var n=r.get(i);n.has(this)&&(n.delete(this),n.size||(r.delete(i),o.delete(i))),n.size||r.delete(i),o.size||cancelAnimationFrame(t)}},A.DOMRectReadOnly=c,A.ResizeObserver=s,A.ResizeObserverEntry=h,A}; // eslint-disable-line\n",
       "mpl.toolbar_items = [[\"Home\", \"Reset original view\", \"fa fa-home\", \"home\"], [\"Back\", \"Back to previous view\", \"fa fa-arrow-left\", \"back\"], [\"Forward\", \"Forward to next view\", \"fa fa-arrow-right\", \"forward\"], [\"\", \"\", \"\", \"\"], [\"Pan\", \"Left button pans, Right button zooms\\nx/y fixes axis, CTRL fixes aspect\", \"fa fa-arrows\", \"pan\"], [\"Zoom\", \"Zoom to rectangle\\nx/y fixes axis\", \"fa fa-square-o\", \"zoom\"], [\"\", \"\", \"\", \"\"], [\"Download\", \"Download plot\", \"fa fa-floppy-o\", \"download\"]];\n",
       "\n",
       "mpl.extensions = [\"eps\", \"jpeg\", \"pgf\", \"pdf\", \"png\", \"ps\", \"raw\", \"svg\", \"tif\", \"webp\"];\n",
       "\n",
       "mpl.default_extension = \"png\";/* global mpl */\n",
       "\n",
       "var comm_websocket_adapter = function (comm) {\n",
       "    // Create a \"websocket\"-like object which calls the given IPython comm\n",
       "    // object with the appropriate methods. Currently this is a non binary\n",
       "    // socket, so there is still some room for performance tuning.\n",
       "    var ws = {};\n",
       "\n",
       "    ws.binaryType = comm.kernel.ws.binaryType;\n",
       "    ws.readyState = comm.kernel.ws.readyState;\n",
       "    function updateReadyState(_event) {\n",
       "        if (comm.kernel.ws) {\n",
       "            ws.readyState = comm.kernel.ws.readyState;\n",
       "        } else {\n",
       "            ws.readyState = 3; // Closed state.\n",
       "        }\n",
       "    }\n",
       "    comm.kernel.ws.addEventListener('open', updateReadyState);\n",
       "    comm.kernel.ws.addEventListener('close', updateReadyState);\n",
       "    comm.kernel.ws.addEventListener('error', updateReadyState);\n",
       "\n",
       "    ws.close = function () {\n",
       "        comm.close();\n",
       "    };\n",
       "    ws.send = function (m) {\n",
       "        //console.log('sending', m);\n",
       "        comm.send(m);\n",
       "    };\n",
       "    // Register the callback with on_msg.\n",
       "    comm.on_msg(function (msg) {\n",
       "        //console.log('receiving', msg['content']['data'], msg);\n",
       "        var data = msg['content']['data'];\n",
       "        if (data['blob'] !== undefined) {\n",
       "            data = {\n",
       "                data: new Blob(msg['buffers'], { type: data['blob'] }),\n",
       "            };\n",
       "        }\n",
       "        // Pass the mpl event to the overridden (by mpl) onmessage function.\n",
       "        ws.onmessage(data);\n",
       "    });\n",
       "    return ws;\n",
       "};\n",
       "\n",
       "mpl.mpl_figure_comm = function (comm, msg) {\n",
       "    // This is the function which gets called when the mpl process\n",
       "    // starts-up an IPython Comm through the \"matplotlib\" channel.\n",
       "\n",
       "    var id = msg.content.data.id;\n",
       "    // Get hold of the div created by the display call when the Comm\n",
       "    // socket was opened in Python.\n",
       "    var element = document.getElementById(id);\n",
       "    var ws_proxy = comm_websocket_adapter(comm);\n",
       "\n",
       "    function ondownload(figure, _format) {\n",
       "        window.open(figure.canvas.toDataURL());\n",
       "    }\n",
       "\n",
       "    var fig = new mpl.figure(id, ws_proxy, ondownload, element);\n",
       "\n",
       "    // Call onopen now - mpl needs it, as it is assuming we've passed it a real\n",
       "    // web socket which is closed, not our websocket->open comm proxy.\n",
       "    ws_proxy.onopen();\n",
       "\n",
       "    fig.parent_element = element;\n",
       "    fig.cell_info = mpl.find_output_cell(\"<div id='\" + id + \"'></div>\");\n",
       "    if (!fig.cell_info) {\n",
       "        console.error('Failed to find cell for figure', id, fig);\n",
       "        return;\n",
       "    }\n",
       "    fig.cell_info[0].output_area.element.on(\n",
       "        'cleared',\n",
       "        { fig: fig },\n",
       "        fig._remove_fig_handler\n",
       "    );\n",
       "};\n",
       "\n",
       "mpl.figure.prototype.handle_close = function (fig, msg) {\n",
       "    var width = fig.canvas.width / fig.ratio;\n",
       "    fig.cell_info[0].output_area.element.off(\n",
       "        'cleared',\n",
       "        fig._remove_fig_handler\n",
       "    );\n",
       "    fig.resizeObserverInstance.unobserve(fig.canvas_div);\n",
       "\n",
       "    // Update the output cell to use the data from the current canvas.\n",
       "    fig.push_to_output();\n",
       "    var dataURL = fig.canvas.toDataURL();\n",
       "    // Re-enable the keyboard manager in IPython - without this line, in FF,\n",
       "    // the notebook keyboard shortcuts fail.\n",
       "    IPython.keyboard_manager.enable();\n",
       "    fig.parent_element.innerHTML =\n",
       "        '<img src=\"' + dataURL + '\" width=\"' + width + '\">';\n",
       "    fig.close_ws(fig, msg);\n",
       "};\n",
       "\n",
       "mpl.figure.prototype.close_ws = function (fig, msg) {\n",
       "    fig.send_message('closing', msg);\n",
       "    // fig.ws.close()\n",
       "};\n",
       "\n",
       "mpl.figure.prototype.push_to_output = function (_remove_interactive) {\n",
       "    // Turn the data on the canvas into data in the output cell.\n",
       "    var width = this.canvas.width / this.ratio;\n",
       "    var dataURL = this.canvas.toDataURL();\n",
       "    this.cell_info[1]['text/html'] =\n",
       "        '<img src=\"' + dataURL + '\" width=\"' + width + '\">';\n",
       "};\n",
       "\n",
       "mpl.figure.prototype.updated_canvas_event = function () {\n",
       "    // Tell IPython that the notebook contents must change.\n",
       "    IPython.notebook.set_dirty(true);\n",
       "    this.send_message('ack', {});\n",
       "    var fig = this;\n",
       "    // Wait a second, then push the new image to the DOM so\n",
       "    // that it is saved nicely (might be nice to debounce this).\n",
       "    setTimeout(function () {\n",
       "        fig.push_to_output();\n",
       "    }, 1000);\n",
       "};\n",
       "\n",
       "mpl.figure.prototype._init_toolbar = function () {\n",
       "    var fig = this;\n",
       "\n",
       "    var toolbar = document.createElement('div');\n",
       "    toolbar.classList = 'btn-toolbar';\n",
       "    this.root.appendChild(toolbar);\n",
       "\n",
       "    function on_click_closure(name) {\n",
       "        return function (_event) {\n",
       "            return fig.toolbar_button_onclick(name);\n",
       "        };\n",
       "    }\n",
       "\n",
       "    function on_mouseover_closure(tooltip) {\n",
       "        return function (event) {\n",
       "            if (!event.currentTarget.disabled) {\n",
       "                return fig.toolbar_button_onmouseover(tooltip);\n",
       "            }\n",
       "        };\n",
       "    }\n",
       "\n",
       "    fig.buttons = {};\n",
       "    var buttonGroup = document.createElement('div');\n",
       "    buttonGroup.classList = 'btn-group';\n",
       "    var button;\n",
       "    for (var toolbar_ind in mpl.toolbar_items) {\n",
       "        var name = mpl.toolbar_items[toolbar_ind][0];\n",
       "        var tooltip = mpl.toolbar_items[toolbar_ind][1];\n",
       "        var image = mpl.toolbar_items[toolbar_ind][2];\n",
       "        var method_name = mpl.toolbar_items[toolbar_ind][3];\n",
       "\n",
       "        if (!name) {\n",
       "            /* Instead of a spacer, we start a new button group. */\n",
       "            if (buttonGroup.hasChildNodes()) {\n",
       "                toolbar.appendChild(buttonGroup);\n",
       "            }\n",
       "            buttonGroup = document.createElement('div');\n",
       "            buttonGroup.classList = 'btn-group';\n",
       "            continue;\n",
       "        }\n",
       "\n",
       "        button = fig.buttons[name] = document.createElement('button');\n",
       "        button.classList = 'btn btn-default';\n",
       "        button.href = '#';\n",
       "        button.title = name;\n",
       "        button.innerHTML = '<i class=\"fa ' + image + ' fa-lg\"></i>';\n",
       "        button.addEventListener('click', on_click_closure(method_name));\n",
       "        button.addEventListener('mouseover', on_mouseover_closure(tooltip));\n",
       "        buttonGroup.appendChild(button);\n",
       "    }\n",
       "\n",
       "    if (buttonGroup.hasChildNodes()) {\n",
       "        toolbar.appendChild(buttonGroup);\n",
       "    }\n",
       "\n",
       "    // Add the status bar.\n",
       "    var status_bar = document.createElement('span');\n",
       "    status_bar.classList = 'mpl-message pull-right';\n",
       "    toolbar.appendChild(status_bar);\n",
       "    this.message = status_bar;\n",
       "\n",
       "    // Add the close button to the window.\n",
       "    var buttongrp = document.createElement('div');\n",
       "    buttongrp.classList = 'btn-group inline pull-right';\n",
       "    button = document.createElement('button');\n",
       "    button.classList = 'btn btn-mini btn-primary';\n",
       "    button.href = '#';\n",
       "    button.title = 'Stop Interaction';\n",
       "    button.innerHTML = '<i class=\"fa fa-power-off icon-remove icon-large\"></i>';\n",
       "    button.addEventListener('click', function (_evt) {\n",
       "        fig.handle_close(fig, {});\n",
       "    });\n",
       "    button.addEventListener(\n",
       "        'mouseover',\n",
       "        on_mouseover_closure('Stop Interaction')\n",
       "    );\n",
       "    buttongrp.appendChild(button);\n",
       "    var titlebar = this.root.querySelector('.ui-dialog-titlebar');\n",
       "    titlebar.insertBefore(buttongrp, titlebar.firstChild);\n",
       "};\n",
       "\n",
       "mpl.figure.prototype._remove_fig_handler = function (event) {\n",
       "    var fig = event.data.fig;\n",
       "    if (event.target !== this) {\n",
       "        // Ignore bubbled events from children.\n",
       "        return;\n",
       "    }\n",
       "    fig.close_ws(fig, {});\n",
       "};\n",
       "\n",
       "mpl.figure.prototype._root_extra_style = function (el) {\n",
       "    el.style.boxSizing = 'content-box'; // override notebook setting of border-box.\n",
       "};\n",
       "\n",
       "mpl.figure.prototype._canvas_extra_style = function (el) {\n",
       "    // this is important to make the div 'focusable\n",
       "    el.setAttribute('tabindex', 0);\n",
       "    // reach out to IPython and tell the keyboard manager to turn it's self\n",
       "    // off when our div gets focus\n",
       "\n",
       "    // location in version 3\n",
       "    if (IPython.notebook.keyboard_manager) {\n",
       "        IPython.notebook.keyboard_manager.register_events(el);\n",
       "    } else {\n",
       "        // location in version 2\n",
       "        IPython.keyboard_manager.register_events(el);\n",
       "    }\n",
       "};\n",
       "\n",
       "mpl.figure.prototype._key_event_extra = function (event, _name) {\n",
       "    // Check for shift+enter\n",
       "    if (event.shiftKey && event.which === 13) {\n",
       "        this.canvas_div.blur();\n",
       "        // select the cell after this one\n",
       "        var index = IPython.notebook.find_cell_index(this.cell_info[0]);\n",
       "        IPython.notebook.select(index + 1);\n",
       "    }\n",
       "};\n",
       "\n",
       "mpl.figure.prototype.handle_save = function (fig, _msg) {\n",
       "    fig.ondownload(fig, null);\n",
       "};\n",
       "\n",
       "mpl.find_output_cell = function (html_output) {\n",
       "    // Return the cell and output element which can be found *uniquely* in the notebook.\n",
       "    // Note - this is a bit hacky, but it is done because the \"notebook_saving.Notebook\"\n",
       "    // IPython event is triggered only after the cells have been serialised, which for\n",
       "    // our purposes (turning an active figure into a static one), is too late.\n",
       "    var cells = IPython.notebook.get_cells();\n",
       "    var ncells = cells.length;\n",
       "    for (var i = 0; i < ncells; i++) {\n",
       "        var cell = cells[i];\n",
       "        if (cell.cell_type === 'code') {\n",
       "            for (var j = 0; j < cell.output_area.outputs.length; j++) {\n",
       "                var data = cell.output_area.outputs[j];\n",
       "                if (data.data) {\n",
       "                    // IPython >= 3 moved mimebundle to data attribute of output\n",
       "                    data = data.data;\n",
       "                }\n",
       "                if (data['text/html'] === html_output) {\n",
       "                    return [cell, data, j];\n",
       "                }\n",
       "            }\n",
       "        }\n",
       "    }\n",
       "};\n",
       "\n",
       "// Register the function which deals with the matplotlib target/channel.\n",
       "// The kernel may be null if the page has been refreshed.\n",
       "if (IPython.notebook.kernel !== null) {\n",
       "    IPython.notebook.kernel.comm_manager.register_target(\n",
       "        'matplotlib',\n",
       "        mpl.mpl_figure_comm\n",
       "    );\n",
       "}\n"
      ],
      "text/plain": [
       "<IPython.core.display.Javascript object>"
      ]
     },
     "metadata": {},
     "output_type": "display_data"
    },
    {
     "data": {
      "text/html": [
       "<img src=\"data:image/png;base64,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\" width=\"670\">"
      ],
      "text/plain": [
       "<IPython.core.display.HTML object>"
      ]
     },
     "metadata": {},
     "output_type": "display_data"
    },
    {
     "data": {
      "text/plain": [
       "Text(0.5, 0, '${\\\\rm Period~[d]}$')"
      ]
     },
     "execution_count": 9,
     "metadata": {},
     "output_type": "execute_result"
    }
   ],
   "source": [
    "fig,ax = plt.subplots(1,1,figsize=(6.6957,6.6957), num=4)\n",
    "for ii, freq_ in enumerate(frequencies):\n",
    "    ax.plot([1./freq_,1./freq_], [1, amplitudes[ii]], color='black')\n",
    "\n",
    "ax.set_yscale('log')\n",
    "ax.set_xlim(0.8,1.6)\n",
    "ax.set_ylabel(r'${\\rm Amplitude~[ppm]}$',fontsize=14)\n",
    "ax.set_xlabel(r'${\\rm Period~[d]}$',fontsize=14)\n"
   ]
  },
  {
   "cell_type": "markdown",
   "id": "fa9cb122",
   "metadata": {},
   "source": [
    "According to asymptotic theory, we know that g-mode pulsations of constant ${(\\ell, m)}$ and successive $n$ are expected to have an equidistant spacing in __period__.\n",
    "\n",
    "However, effects like rotation and the presence of a chemical gradient can perturb g modes from having a constant period spacing."
   ]
  },
  {
   "cell_type": "code",
   "execution_count": 10,
   "id": "aba18f4c",
   "metadata": {},
   "outputs": [
    {
     "data": {
      "application/javascript": [
       "/* Put everything inside the global mpl namespace */\n",
       "/* global mpl */\n",
       "window.mpl = {};\n",
       "\n",
       "mpl.get_websocket_type = function () {\n",
       "    if (typeof WebSocket !== 'undefined') {\n",
       "        return WebSocket;\n",
       "    } else if (typeof MozWebSocket !== 'undefined') {\n",
       "        return MozWebSocket;\n",
       "    } else {\n",
       "        alert(\n",
       "            'Your browser does not have WebSocket support. ' +\n",
       "                'Please try Chrome, Safari or Firefox ≥ 6. ' +\n",
       "                'Firefox 4 and 5 are also supported but you ' +\n",
       "                'have to enable WebSockets in about:config.'\n",
       "        );\n",
       "    }\n",
       "};\n",
       "\n",
       "mpl.figure = function (figure_id, websocket, ondownload, parent_element) {\n",
       "    this.id = figure_id;\n",
       "\n",
       "    this.ws = websocket;\n",
       "\n",
       "    this.supports_binary = this.ws.binaryType !== undefined;\n",
       "\n",
       "    if (!this.supports_binary) {\n",
       "        var warnings = document.getElementById('mpl-warnings');\n",
       "        if (warnings) {\n",
       "            warnings.style.display = 'block';\n",
       "            warnings.textContent =\n",
       "                'This browser does not support binary websocket messages. ' +\n",
       "                'Performance may be slow.';\n",
       "        }\n",
       "    }\n",
       "\n",
       "    this.imageObj = new Image();\n",
       "\n",
       "    this.context = undefined;\n",
       "    this.message = undefined;\n",
       "    this.canvas = undefined;\n",
       "    this.rubberband_canvas = undefined;\n",
       "    this.rubberband_context = undefined;\n",
       "    this.format_dropdown = undefined;\n",
       "\n",
       "    this.image_mode = 'full';\n",
       "\n",
       "    this.root = document.createElement('div');\n",
       "    this.root.setAttribute('style', 'display: inline-block');\n",
       "    this._root_extra_style(this.root);\n",
       "\n",
       "    parent_element.appendChild(this.root);\n",
       "\n",
       "    this._init_header(this);\n",
       "    this._init_canvas(this);\n",
       "    this._init_toolbar(this);\n",
       "\n",
       "    var fig = this;\n",
       "\n",
       "    this.waiting = false;\n",
       "\n",
       "    this.ws.onopen = function () {\n",
       "        fig.send_message('supports_binary', { value: fig.supports_binary });\n",
       "        fig.send_message('send_image_mode', {});\n",
       "        if (fig.ratio !== 1) {\n",
       "            fig.send_message('set_device_pixel_ratio', {\n",
       "                device_pixel_ratio: fig.ratio,\n",
       "            });\n",
       "        }\n",
       "        fig.send_message('refresh', {});\n",
       "    };\n",
       "\n",
       "    this.imageObj.onload = function () {\n",
       "        if (fig.image_mode === 'full') {\n",
       "            // Full images could contain transparency (where diff images\n",
       "            // almost always do), so we need to clear the canvas so that\n",
       "            // there is no ghosting.\n",
       "            fig.context.clearRect(0, 0, fig.canvas.width, fig.canvas.height);\n",
       "        }\n",
       "        fig.context.drawImage(fig.imageObj, 0, 0);\n",
       "    };\n",
       "\n",
       "    this.imageObj.onunload = function () {\n",
       "        fig.ws.close();\n",
       "    };\n",
       "\n",
       "    this.ws.onmessage = this._make_on_message_function(this);\n",
       "\n",
       "    this.ondownload = ondownload;\n",
       "};\n",
       "\n",
       "mpl.figure.prototype._init_header = function () {\n",
       "    var titlebar = document.createElement('div');\n",
       "    titlebar.classList =\n",
       "        'ui-dialog-titlebar ui-widget-header ui-corner-all ui-helper-clearfix';\n",
       "    var titletext = document.createElement('div');\n",
       "    titletext.classList = 'ui-dialog-title';\n",
       "    titletext.setAttribute(\n",
       "        'style',\n",
       "        'width: 100%; text-align: center; padding: 3px;'\n",
       "    );\n",
       "    titlebar.appendChild(titletext);\n",
       "    this.root.appendChild(titlebar);\n",
       "    this.header = titletext;\n",
       "};\n",
       "\n",
       "mpl.figure.prototype._canvas_extra_style = function (_canvas_div) {};\n",
       "\n",
       "mpl.figure.prototype._root_extra_style = function (_canvas_div) {};\n",
       "\n",
       "mpl.figure.prototype._init_canvas = function () {\n",
       "    var fig = this;\n",
       "\n",
       "    var canvas_div = (this.canvas_div = document.createElement('div'));\n",
       "    canvas_div.setAttribute(\n",
       "        'style',\n",
       "        'border: 1px solid #ddd;' +\n",
       "            'box-sizing: content-box;' +\n",
       "            'clear: both;' +\n",
       "            'min-height: 1px;' +\n",
       "            'min-width: 1px;' +\n",
       "            'outline: 0;' +\n",
       "            'overflow: hidden;' +\n",
       "            'position: relative;' +\n",
       "            'resize: both;'\n",
       "    );\n",
       "\n",
       "    function on_keyboard_event_closure(name) {\n",
       "        return function (event) {\n",
       "            return fig.key_event(event, name);\n",
       "        };\n",
       "    }\n",
       "\n",
       "    canvas_div.addEventListener(\n",
       "        'keydown',\n",
       "        on_keyboard_event_closure('key_press')\n",
       "    );\n",
       "    canvas_div.addEventListener(\n",
       "        'keyup',\n",
       "        on_keyboard_event_closure('key_release')\n",
       "    );\n",
       "\n",
       "    this._canvas_extra_style(canvas_div);\n",
       "    this.root.appendChild(canvas_div);\n",
       "\n",
       "    var canvas = (this.canvas = document.createElement('canvas'));\n",
       "    canvas.classList.add('mpl-canvas');\n",
       "    canvas.setAttribute('style', 'box-sizing: content-box;');\n",
       "\n",
       "    this.context = canvas.getContext('2d');\n",
       "\n",
       "    var backingStore =\n",
       "        this.context.backingStorePixelRatio ||\n",
       "        this.context.webkitBackingStorePixelRatio ||\n",
       "        this.context.mozBackingStorePixelRatio ||\n",
       "        this.context.msBackingStorePixelRatio ||\n",
       "        this.context.oBackingStorePixelRatio ||\n",
       "        this.context.backingStorePixelRatio ||\n",
       "        1;\n",
       "\n",
       "    this.ratio = (window.devicePixelRatio || 1) / backingStore;\n",
       "\n",
       "    var rubberband_canvas = (this.rubberband_canvas = document.createElement(\n",
       "        'canvas'\n",
       "    ));\n",
       "    rubberband_canvas.setAttribute(\n",
       "        'style',\n",
       "        'box-sizing: content-box; position: absolute; left: 0; top: 0; z-index: 1;'\n",
       "    );\n",
       "\n",
       "    // Apply a ponyfill if ResizeObserver is not implemented by browser.\n",
       "    if (this.ResizeObserver === undefined) {\n",
       "        if (window.ResizeObserver !== undefined) {\n",
       "            this.ResizeObserver = window.ResizeObserver;\n",
       "        } else {\n",
       "            var obs = _JSXTOOLS_RESIZE_OBSERVER({});\n",
       "            this.ResizeObserver = obs.ResizeObserver;\n",
       "        }\n",
       "    }\n",
       "\n",
       "    this.resizeObserverInstance = new this.ResizeObserver(function (entries) {\n",
       "        var nentries = entries.length;\n",
       "        for (var i = 0; i < nentries; i++) {\n",
       "            var entry = entries[i];\n",
       "            var width, height;\n",
       "            if (entry.contentBoxSize) {\n",
       "                if (entry.contentBoxSize instanceof Array) {\n",
       "                    // Chrome 84 implements new version of spec.\n",
       "                    width = entry.contentBoxSize[0].inlineSize;\n",
       "                    height = entry.contentBoxSize[0].blockSize;\n",
       "                } else {\n",
       "                    // Firefox implements old version of spec.\n",
       "                    width = entry.contentBoxSize.inlineSize;\n",
       "                    height = entry.contentBoxSize.blockSize;\n",
       "                }\n",
       "            } else {\n",
       "                // Chrome <84 implements even older version of spec.\n",
       "                width = entry.contentRect.width;\n",
       "                height = entry.contentRect.height;\n",
       "            }\n",
       "\n",
       "            // Keep the size of the canvas and rubber band canvas in sync with\n",
       "            // the canvas container.\n",
       "            if (entry.devicePixelContentBoxSize) {\n",
       "                // Chrome 84 implements new version of spec.\n",
       "                canvas.setAttribute(\n",
       "                    'width',\n",
       "                    entry.devicePixelContentBoxSize[0].inlineSize\n",
       "                );\n",
       "                canvas.setAttribute(\n",
       "                    'height',\n",
       "                    entry.devicePixelContentBoxSize[0].blockSize\n",
       "                );\n",
       "            } else {\n",
       "                canvas.setAttribute('width', width * fig.ratio);\n",
       "                canvas.setAttribute('height', height * fig.ratio);\n",
       "            }\n",
       "            canvas.setAttribute(\n",
       "                'style',\n",
       "                'width: ' + width + 'px; height: ' + height + 'px;'\n",
       "            );\n",
       "\n",
       "            rubberband_canvas.setAttribute('width', width);\n",
       "            rubberband_canvas.setAttribute('height', height);\n",
       "\n",
       "            // And update the size in Python. We ignore the initial 0/0 size\n",
       "            // that occurs as the element is placed into the DOM, which should\n",
       "            // otherwise not happen due to the minimum size styling.\n",
       "            if (fig.ws.readyState == 1 && width != 0 && height != 0) {\n",
       "                fig.request_resize(width, height);\n",
       "            }\n",
       "        }\n",
       "    });\n",
       "    this.resizeObserverInstance.observe(canvas_div);\n",
       "\n",
       "    function on_mouse_event_closure(name) {\n",
       "        return function (event) {\n",
       "            return fig.mouse_event(event, name);\n",
       "        };\n",
       "    }\n",
       "\n",
       "    rubberband_canvas.addEventListener(\n",
       "        'mousedown',\n",
       "        on_mouse_event_closure('button_press')\n",
       "    );\n",
       "    rubberband_canvas.addEventListener(\n",
       "        'mouseup',\n",
       "        on_mouse_event_closure('button_release')\n",
       "    );\n",
       "    rubberband_canvas.addEventListener(\n",
       "        'dblclick',\n",
       "        on_mouse_event_closure('dblclick')\n",
       "    );\n",
       "    // Throttle sequential mouse events to 1 every 20ms.\n",
       "    rubberband_canvas.addEventListener(\n",
       "        'mousemove',\n",
       "        on_mouse_event_closure('motion_notify')\n",
       "    );\n",
       "\n",
       "    rubberband_canvas.addEventListener(\n",
       "        'mouseenter',\n",
       "        on_mouse_event_closure('figure_enter')\n",
       "    );\n",
       "    rubberband_canvas.addEventListener(\n",
       "        'mouseleave',\n",
       "        on_mouse_event_closure('figure_leave')\n",
       "    );\n",
       "\n",
       "    canvas_div.addEventListener('wheel', function (event) {\n",
       "        if (event.deltaY < 0) {\n",
       "            event.step = 1;\n",
       "        } else {\n",
       "            event.step = -1;\n",
       "        }\n",
       "        on_mouse_event_closure('scroll')(event);\n",
       "    });\n",
       "\n",
       "    canvas_div.appendChild(canvas);\n",
       "    canvas_div.appendChild(rubberband_canvas);\n",
       "\n",
       "    this.rubberband_context = rubberband_canvas.getContext('2d');\n",
       "    this.rubberband_context.strokeStyle = '#000000';\n",
       "\n",
       "    this._resize_canvas = function (width, height, forward) {\n",
       "        if (forward) {\n",
       "            canvas_div.style.width = width + 'px';\n",
       "            canvas_div.style.height = height + 'px';\n",
       "        }\n",
       "    };\n",
       "\n",
       "    // Disable right mouse context menu.\n",
       "    this.rubberband_canvas.addEventListener('contextmenu', function (_e) {\n",
       "        event.preventDefault();\n",
       "        return false;\n",
       "    });\n",
       "\n",
       "    function set_focus() {\n",
       "        canvas.focus();\n",
       "        canvas_div.focus();\n",
       "    }\n",
       "\n",
       "    window.setTimeout(set_focus, 100);\n",
       "};\n",
       "\n",
       "mpl.figure.prototype._init_toolbar = function () {\n",
       "    var fig = this;\n",
       "\n",
       "    var toolbar = document.createElement('div');\n",
       "    toolbar.classList = 'mpl-toolbar';\n",
       "    this.root.appendChild(toolbar);\n",
       "\n",
       "    function on_click_closure(name) {\n",
       "        return function (_event) {\n",
       "            return fig.toolbar_button_onclick(name);\n",
       "        };\n",
       "    }\n",
       "\n",
       "    function on_mouseover_closure(tooltip) {\n",
       "        return function (event) {\n",
       "            if (!event.currentTarget.disabled) {\n",
       "                return fig.toolbar_button_onmouseover(tooltip);\n",
       "            }\n",
       "        };\n",
       "    }\n",
       "\n",
       "    fig.buttons = {};\n",
       "    var buttonGroup = document.createElement('div');\n",
       "    buttonGroup.classList = 'mpl-button-group';\n",
       "    for (var toolbar_ind in mpl.toolbar_items) {\n",
       "        var name = mpl.toolbar_items[toolbar_ind][0];\n",
       "        var tooltip = mpl.toolbar_items[toolbar_ind][1];\n",
       "        var image = mpl.toolbar_items[toolbar_ind][2];\n",
       "        var method_name = mpl.toolbar_items[toolbar_ind][3];\n",
       "\n",
       "        if (!name) {\n",
       "            /* Instead of a spacer, we start a new button group. */\n",
       "            if (buttonGroup.hasChildNodes()) {\n",
       "                toolbar.appendChild(buttonGroup);\n",
       "            }\n",
       "            buttonGroup = document.createElement('div');\n",
       "            buttonGroup.classList = 'mpl-button-group';\n",
       "            continue;\n",
       "        }\n",
       "\n",
       "        var button = (fig.buttons[name] = document.createElement('button'));\n",
       "        button.classList = 'mpl-widget';\n",
       "        button.setAttribute('role', 'button');\n",
       "        button.setAttribute('aria-disabled', 'false');\n",
       "        button.addEventListener('click', on_click_closure(method_name));\n",
       "        button.addEventListener('mouseover', on_mouseover_closure(tooltip));\n",
       "\n",
       "        var icon_img = document.createElement('img');\n",
       "        icon_img.src = '_images/' + image + '.png';\n",
       "        icon_img.srcset = '_images/' + image + '_large.png 2x';\n",
       "        icon_img.alt = tooltip;\n",
       "        button.appendChild(icon_img);\n",
       "\n",
       "        buttonGroup.appendChild(button);\n",
       "    }\n",
       "\n",
       "    if (buttonGroup.hasChildNodes()) {\n",
       "        toolbar.appendChild(buttonGroup);\n",
       "    }\n",
       "\n",
       "    var fmt_picker = document.createElement('select');\n",
       "    fmt_picker.classList = 'mpl-widget';\n",
       "    toolbar.appendChild(fmt_picker);\n",
       "    this.format_dropdown = fmt_picker;\n",
       "\n",
       "    for (var ind in mpl.extensions) {\n",
       "        var fmt = mpl.extensions[ind];\n",
       "        var option = document.createElement('option');\n",
       "        option.selected = fmt === mpl.default_extension;\n",
       "        option.innerHTML = fmt;\n",
       "        fmt_picker.appendChild(option);\n",
       "    }\n",
       "\n",
       "    var status_bar = document.createElement('span');\n",
       "    status_bar.classList = 'mpl-message';\n",
       "    toolbar.appendChild(status_bar);\n",
       "    this.message = status_bar;\n",
       "};\n",
       "\n",
       "mpl.figure.prototype.request_resize = function (x_pixels, y_pixels) {\n",
       "    // Request matplotlib to resize the figure. Matplotlib will then trigger a resize in the client,\n",
       "    // which will in turn request a refresh of the image.\n",
       "    this.send_message('resize', { width: x_pixels, height: y_pixels });\n",
       "};\n",
       "\n",
       "mpl.figure.prototype.send_message = function (type, properties) {\n",
       "    properties['type'] = type;\n",
       "    properties['figure_id'] = this.id;\n",
       "    this.ws.send(JSON.stringify(properties));\n",
       "};\n",
       "\n",
       "mpl.figure.prototype.send_draw_message = function () {\n",
       "    if (!this.waiting) {\n",
       "        this.waiting = true;\n",
       "        this.ws.send(JSON.stringify({ type: 'draw', figure_id: this.id }));\n",
       "    }\n",
       "};\n",
       "\n",
       "mpl.figure.prototype.handle_save = function (fig, _msg) {\n",
       "    var format_dropdown = fig.format_dropdown;\n",
       "    var format = format_dropdown.options[format_dropdown.selectedIndex].value;\n",
       "    fig.ondownload(fig, format);\n",
       "};\n",
       "\n",
       "mpl.figure.prototype.handle_resize = function (fig, msg) {\n",
       "    var size = msg['size'];\n",
       "    if (size[0] !== fig.canvas.width || size[1] !== fig.canvas.height) {\n",
       "        fig._resize_canvas(size[0], size[1], msg['forward']);\n",
       "        fig.send_message('refresh', {});\n",
       "    }\n",
       "};\n",
       "\n",
       "mpl.figure.prototype.handle_rubberband = function (fig, msg) {\n",
       "    var x0 = msg['x0'] / fig.ratio;\n",
       "    var y0 = (fig.canvas.height - msg['y0']) / fig.ratio;\n",
       "    var x1 = msg['x1'] / fig.ratio;\n",
       "    var y1 = (fig.canvas.height - msg['y1']) / fig.ratio;\n",
       "    x0 = Math.floor(x0) + 0.5;\n",
       "    y0 = Math.floor(y0) + 0.5;\n",
       "    x1 = Math.floor(x1) + 0.5;\n",
       "    y1 = Math.floor(y1) + 0.5;\n",
       "    var min_x = Math.min(x0, x1);\n",
       "    var min_y = Math.min(y0, y1);\n",
       "    var width = Math.abs(x1 - x0);\n",
       "    var height = Math.abs(y1 - y0);\n",
       "\n",
       "    fig.rubberband_context.clearRect(\n",
       "        0,\n",
       "        0,\n",
       "        fig.canvas.width / fig.ratio,\n",
       "        fig.canvas.height / fig.ratio\n",
       "    );\n",
       "\n",
       "    fig.rubberband_context.strokeRect(min_x, min_y, width, height);\n",
       "};\n",
       "\n",
       "mpl.figure.prototype.handle_figure_label = function (fig, msg) {\n",
       "    // Updates the figure title.\n",
       "    fig.header.textContent = msg['label'];\n",
       "};\n",
       "\n",
       "mpl.figure.prototype.handle_cursor = function (fig, msg) {\n",
       "    fig.rubberband_canvas.style.cursor = msg['cursor'];\n",
       "};\n",
       "\n",
       "mpl.figure.prototype.handle_message = function (fig, msg) {\n",
       "    fig.message.textContent = msg['message'];\n",
       "};\n",
       "\n",
       "mpl.figure.prototype.handle_draw = function (fig, _msg) {\n",
       "    // Request the server to send over a new figure.\n",
       "    fig.send_draw_message();\n",
       "};\n",
       "\n",
       "mpl.figure.prototype.handle_image_mode = function (fig, msg) {\n",
       "    fig.image_mode = msg['mode'];\n",
       "};\n",
       "\n",
       "mpl.figure.prototype.handle_history_buttons = function (fig, msg) {\n",
       "    for (var key in msg) {\n",
       "        if (!(key in fig.buttons)) {\n",
       "            continue;\n",
       "        }\n",
       "        fig.buttons[key].disabled = !msg[key];\n",
       "        fig.buttons[key].setAttribute('aria-disabled', !msg[key]);\n",
       "    }\n",
       "};\n",
       "\n",
       "mpl.figure.prototype.handle_navigate_mode = function (fig, msg) {\n",
       "    if (msg['mode'] === 'PAN') {\n",
       "        fig.buttons['Pan'].classList.add('active');\n",
       "        fig.buttons['Zoom'].classList.remove('active');\n",
       "    } else if (msg['mode'] === 'ZOOM') {\n",
       "        fig.buttons['Pan'].classList.remove('active');\n",
       "        fig.buttons['Zoom'].classList.add('active');\n",
       "    } else {\n",
       "        fig.buttons['Pan'].classList.remove('active');\n",
       "        fig.buttons['Zoom'].classList.remove('active');\n",
       "    }\n",
       "};\n",
       "\n",
       "mpl.figure.prototype.updated_canvas_event = function () {\n",
       "    // Called whenever the canvas gets updated.\n",
       "    this.send_message('ack', {});\n",
       "};\n",
       "\n",
       "// A function to construct a web socket function for onmessage handling.\n",
       "// Called in the figure constructor.\n",
       "mpl.figure.prototype._make_on_message_function = function (fig) {\n",
       "    return function socket_on_message(evt) {\n",
       "        if (evt.data instanceof Blob) {\n",
       "            var img = evt.data;\n",
       "            if (img.type !== 'image/png') {\n",
       "                /* FIXME: We get \"Resource interpreted as Image but\n",
       "                 * transferred with MIME type text/plain:\" errors on\n",
       "                 * Chrome.  But how to set the MIME type?  It doesn't seem\n",
       "                 * to be part of the websocket stream */\n",
       "                img.type = 'image/png';\n",
       "            }\n",
       "\n",
       "            /* Free the memory for the previous frames */\n",
       "            if (fig.imageObj.src) {\n",
       "                (window.URL || window.webkitURL).revokeObjectURL(\n",
       "                    fig.imageObj.src\n",
       "                );\n",
       "            }\n",
       "\n",
       "            fig.imageObj.src = (window.URL || window.webkitURL).createObjectURL(\n",
       "                img\n",
       "            );\n",
       "            fig.updated_canvas_event();\n",
       "            fig.waiting = false;\n",
       "            return;\n",
       "        } else if (\n",
       "            typeof evt.data === 'string' &&\n",
       "            evt.data.slice(0, 21) === 'data:image/png;base64'\n",
       "        ) {\n",
       "            fig.imageObj.src = evt.data;\n",
       "            fig.updated_canvas_event();\n",
       "            fig.waiting = false;\n",
       "            return;\n",
       "        }\n",
       "\n",
       "        var msg = JSON.parse(evt.data);\n",
       "        var msg_type = msg['type'];\n",
       "\n",
       "        // Call the  \"handle_{type}\" callback, which takes\n",
       "        // the figure and JSON message as its only arguments.\n",
       "        try {\n",
       "            var callback = fig['handle_' + msg_type];\n",
       "        } catch (e) {\n",
       "            console.log(\n",
       "                \"No handler for the '\" + msg_type + \"' message type: \",\n",
       "                msg\n",
       "            );\n",
       "            return;\n",
       "        }\n",
       "\n",
       "        if (callback) {\n",
       "            try {\n",
       "                // console.log(\"Handling '\" + msg_type + \"' message: \", msg);\n",
       "                callback(fig, msg);\n",
       "            } catch (e) {\n",
       "                console.log(\n",
       "                    \"Exception inside the 'handler_\" + msg_type + \"' callback:\",\n",
       "                    e,\n",
       "                    e.stack,\n",
       "                    msg\n",
       "                );\n",
       "            }\n",
       "        }\n",
       "    };\n",
       "};\n",
       "\n",
       "// from https://stackoverflow.com/questions/1114465/getting-mouse-location-in-canvas\n",
       "mpl.findpos = function (e) {\n",
       "    //this section is from http://www.quirksmode.org/js/events_properties.html\n",
       "    var targ;\n",
       "    if (!e) {\n",
       "        e = window.event;\n",
       "    }\n",
       "    if (e.target) {\n",
       "        targ = e.target;\n",
       "    } else if (e.srcElement) {\n",
       "        targ = e.srcElement;\n",
       "    }\n",
       "    if (targ.nodeType === 3) {\n",
       "        // defeat Safari bug\n",
       "        targ = targ.parentNode;\n",
       "    }\n",
       "\n",
       "    // pageX,Y are the mouse positions relative to the document\n",
       "    var boundingRect = targ.getBoundingClientRect();\n",
       "    var x = e.pageX - (boundingRect.left + document.body.scrollLeft);\n",
       "    var y = e.pageY - (boundingRect.top + document.body.scrollTop);\n",
       "\n",
       "    return { x: x, y: y };\n",
       "};\n",
       "\n",
       "/*\n",
       " * return a copy of an object with only non-object keys\n",
       " * we need this to avoid circular references\n",
       " * https://stackoverflow.com/a/24161582/3208463\n",
       " */\n",
       "function simpleKeys(original) {\n",
       "    return Object.keys(original).reduce(function (obj, key) {\n",
       "        if (typeof original[key] !== 'object') {\n",
       "            obj[key] = original[key];\n",
       "        }\n",
       "        return obj;\n",
       "    }, {});\n",
       "}\n",
       "\n",
       "mpl.figure.prototype.mouse_event = function (event, name) {\n",
       "    var canvas_pos = mpl.findpos(event);\n",
       "\n",
       "    if (name === 'button_press') {\n",
       "        this.canvas.focus();\n",
       "        this.canvas_div.focus();\n",
       "    }\n",
       "\n",
       "    var x = canvas_pos.x * this.ratio;\n",
       "    var y = canvas_pos.y * this.ratio;\n",
       "\n",
       "    this.send_message(name, {\n",
       "        x: x,\n",
       "        y: y,\n",
       "        button: event.button,\n",
       "        step: event.step,\n",
       "        guiEvent: simpleKeys(event),\n",
       "    });\n",
       "\n",
       "    /* This prevents the web browser from automatically changing to\n",
       "     * the text insertion cursor when the button is pressed.  We want\n",
       "     * to control all of the cursor setting manually through the\n",
       "     * 'cursor' event from matplotlib */\n",
       "    event.preventDefault();\n",
       "    return false;\n",
       "};\n",
       "\n",
       "mpl.figure.prototype._key_event_extra = function (_event, _name) {\n",
       "    // Handle any extra behaviour associated with a key event\n",
       "};\n",
       "\n",
       "mpl.figure.prototype.key_event = function (event, name) {\n",
       "    // Prevent repeat events\n",
       "    if (name === 'key_press') {\n",
       "        if (event.key === this._key) {\n",
       "            return;\n",
       "        } else {\n",
       "            this._key = event.key;\n",
       "        }\n",
       "    }\n",
       "    if (name === 'key_release') {\n",
       "        this._key = null;\n",
       "    }\n",
       "\n",
       "    var value = '';\n",
       "    if (event.ctrlKey && event.key !== 'Control') {\n",
       "        value += 'ctrl+';\n",
       "    }\n",
       "    else if (event.altKey && event.key !== 'Alt') {\n",
       "        value += 'alt+';\n",
       "    }\n",
       "    else if (event.shiftKey && event.key !== 'Shift') {\n",
       "        value += 'shift+';\n",
       "    }\n",
       "\n",
       "    value += 'k' + event.key;\n",
       "\n",
       "    this._key_event_extra(event, name);\n",
       "\n",
       "    this.send_message(name, { key: value, guiEvent: simpleKeys(event) });\n",
       "    return false;\n",
       "};\n",
       "\n",
       "mpl.figure.prototype.toolbar_button_onclick = function (name) {\n",
       "    if (name === 'download') {\n",
       "        this.handle_save(this, null);\n",
       "    } else {\n",
       "        this.send_message('toolbar_button', { name: name });\n",
       "    }\n",
       "};\n",
       "\n",
       "mpl.figure.prototype.toolbar_button_onmouseover = function (tooltip) {\n",
       "    this.message.textContent = tooltip;\n",
       "};\n",
       "\n",
       "///////////////// REMAINING CONTENT GENERATED BY embed_js.py /////////////////\n",
       "// prettier-ignore\n",
       "var _JSXTOOLS_RESIZE_OBSERVER=function(A){var t,i=new WeakMap,n=new WeakMap,a=new WeakMap,r=new WeakMap,o=new Set;function s(e){if(!(this instanceof s))throw new TypeError(\"Constructor requires 'new' operator\");i.set(this,e)}function h(){throw new TypeError(\"Function is not a constructor\")}function c(e,t,i,n){e=0 in arguments?Number(arguments[0]):0,t=1 in arguments?Number(arguments[1]):0,i=2 in arguments?Number(arguments[2]):0,n=3 in arguments?Number(arguments[3]):0,this.right=(this.x=this.left=e)+(this.width=i),this.bottom=(this.y=this.top=t)+(this.height=n),Object.freeze(this)}function d(){t=requestAnimationFrame(d);var s=new WeakMap,p=new Set;o.forEach((function(t){r.get(t).forEach((function(i){var r=t instanceof window.SVGElement,o=a.get(t),d=r?0:parseFloat(o.paddingTop),f=r?0:parseFloat(o.paddingRight),l=r?0:parseFloat(o.paddingBottom),u=r?0:parseFloat(o.paddingLeft),g=r?0:parseFloat(o.borderTopWidth),m=r?0:parseFloat(o.borderRightWidth),w=r?0:parseFloat(o.borderBottomWidth),b=u+f,F=d+l,v=(r?0:parseFloat(o.borderLeftWidth))+m,W=g+w,y=r?0:t.offsetHeight-W-t.clientHeight,E=r?0:t.offsetWidth-v-t.clientWidth,R=b+v,z=F+W,M=r?t.width:parseFloat(o.width)-R-E,O=r?t.height:parseFloat(o.height)-z-y;if(n.has(t)){var k=n.get(t);if(k[0]===M&&k[1]===O)return}n.set(t,[M,O]);var S=Object.create(h.prototype);S.target=t,S.contentRect=new c(u,d,M,O),s.has(i)||(s.set(i,[]),p.add(i)),s.get(i).push(S)}))})),p.forEach((function(e){i.get(e).call(e,s.get(e),e)}))}return s.prototype.observe=function(i){if(i instanceof window.Element){r.has(i)||(r.set(i,new Set),o.add(i),a.set(i,window.getComputedStyle(i)));var n=r.get(i);n.has(this)||n.add(this),cancelAnimationFrame(t),t=requestAnimationFrame(d)}},s.prototype.unobserve=function(i){if(i instanceof window.Element&&r.has(i)){var n=r.get(i);n.has(this)&&(n.delete(this),n.size||(r.delete(i),o.delete(i))),n.size||r.delete(i),o.size||cancelAnimationFrame(t)}},A.DOMRectReadOnly=c,A.ResizeObserver=s,A.ResizeObserverEntry=h,A}; // eslint-disable-line\n",
       "mpl.toolbar_items = [[\"Home\", \"Reset original view\", \"fa fa-home\", \"home\"], [\"Back\", \"Back to previous view\", \"fa fa-arrow-left\", \"back\"], [\"Forward\", \"Forward to next view\", \"fa fa-arrow-right\", \"forward\"], [\"\", \"\", \"\", \"\"], [\"Pan\", \"Left button pans, Right button zooms\\nx/y fixes axis, CTRL fixes aspect\", \"fa fa-arrows\", \"pan\"], [\"Zoom\", \"Zoom to rectangle\\nx/y fixes axis\", \"fa fa-square-o\", \"zoom\"], [\"\", \"\", \"\", \"\"], [\"Download\", \"Download plot\", \"fa fa-floppy-o\", \"download\"]];\n",
       "\n",
       "mpl.extensions = [\"eps\", \"jpeg\", \"pgf\", \"pdf\", \"png\", \"ps\", \"raw\", \"svg\", \"tif\", \"webp\"];\n",
       "\n",
       "mpl.default_extension = \"png\";/* global mpl */\n",
       "\n",
       "var comm_websocket_adapter = function (comm) {\n",
       "    // Create a \"websocket\"-like object which calls the given IPython comm\n",
       "    // object with the appropriate methods. Currently this is a non binary\n",
       "    // socket, so there is still some room for performance tuning.\n",
       "    var ws = {};\n",
       "\n",
       "    ws.binaryType = comm.kernel.ws.binaryType;\n",
       "    ws.readyState = comm.kernel.ws.readyState;\n",
       "    function updateReadyState(_event) {\n",
       "        if (comm.kernel.ws) {\n",
       "            ws.readyState = comm.kernel.ws.readyState;\n",
       "        } else {\n",
       "            ws.readyState = 3; // Closed state.\n",
       "        }\n",
       "    }\n",
       "    comm.kernel.ws.addEventListener('open', updateReadyState);\n",
       "    comm.kernel.ws.addEventListener('close', updateReadyState);\n",
       "    comm.kernel.ws.addEventListener('error', updateReadyState);\n",
       "\n",
       "    ws.close = function () {\n",
       "        comm.close();\n",
       "    };\n",
       "    ws.send = function (m) {\n",
       "        //console.log('sending', m);\n",
       "        comm.send(m);\n",
       "    };\n",
       "    // Register the callback with on_msg.\n",
       "    comm.on_msg(function (msg) {\n",
       "        //console.log('receiving', msg['content']['data'], msg);\n",
       "        var data = msg['content']['data'];\n",
       "        if (data['blob'] !== undefined) {\n",
       "            data = {\n",
       "                data: new Blob(msg['buffers'], { type: data['blob'] }),\n",
       "            };\n",
       "        }\n",
       "        // Pass the mpl event to the overridden (by mpl) onmessage function.\n",
       "        ws.onmessage(data);\n",
       "    });\n",
       "    return ws;\n",
       "};\n",
       "\n",
       "mpl.mpl_figure_comm = function (comm, msg) {\n",
       "    // This is the function which gets called when the mpl process\n",
       "    // starts-up an IPython Comm through the \"matplotlib\" channel.\n",
       "\n",
       "    var id = msg.content.data.id;\n",
       "    // Get hold of the div created by the display call when the Comm\n",
       "    // socket was opened in Python.\n",
       "    var element = document.getElementById(id);\n",
       "    var ws_proxy = comm_websocket_adapter(comm);\n",
       "\n",
       "    function ondownload(figure, _format) {\n",
       "        window.open(figure.canvas.toDataURL());\n",
       "    }\n",
       "\n",
       "    var fig = new mpl.figure(id, ws_proxy, ondownload, element);\n",
       "\n",
       "    // Call onopen now - mpl needs it, as it is assuming we've passed it a real\n",
       "    // web socket which is closed, not our websocket->open comm proxy.\n",
       "    ws_proxy.onopen();\n",
       "\n",
       "    fig.parent_element = element;\n",
       "    fig.cell_info = mpl.find_output_cell(\"<div id='\" + id + \"'></div>\");\n",
       "    if (!fig.cell_info) {\n",
       "        console.error('Failed to find cell for figure', id, fig);\n",
       "        return;\n",
       "    }\n",
       "    fig.cell_info[0].output_area.element.on(\n",
       "        'cleared',\n",
       "        { fig: fig },\n",
       "        fig._remove_fig_handler\n",
       "    );\n",
       "};\n",
       "\n",
       "mpl.figure.prototype.handle_close = function (fig, msg) {\n",
       "    var width = fig.canvas.width / fig.ratio;\n",
       "    fig.cell_info[0].output_area.element.off(\n",
       "        'cleared',\n",
       "        fig._remove_fig_handler\n",
       "    );\n",
       "    fig.resizeObserverInstance.unobserve(fig.canvas_div);\n",
       "\n",
       "    // Update the output cell to use the data from the current canvas.\n",
       "    fig.push_to_output();\n",
       "    var dataURL = fig.canvas.toDataURL();\n",
       "    // Re-enable the keyboard manager in IPython - without this line, in FF,\n",
       "    // the notebook keyboard shortcuts fail.\n",
       "    IPython.keyboard_manager.enable();\n",
       "    fig.parent_element.innerHTML =\n",
       "        '<img src=\"' + dataURL + '\" width=\"' + width + '\">';\n",
       "    fig.close_ws(fig, msg);\n",
       "};\n",
       "\n",
       "mpl.figure.prototype.close_ws = function (fig, msg) {\n",
       "    fig.send_message('closing', msg);\n",
       "    // fig.ws.close()\n",
       "};\n",
       "\n",
       "mpl.figure.prototype.push_to_output = function (_remove_interactive) {\n",
       "    // Turn the data on the canvas into data in the output cell.\n",
       "    var width = this.canvas.width / this.ratio;\n",
       "    var dataURL = this.canvas.toDataURL();\n",
       "    this.cell_info[1]['text/html'] =\n",
       "        '<img src=\"' + dataURL + '\" width=\"' + width + '\">';\n",
       "};\n",
       "\n",
       "mpl.figure.prototype.updated_canvas_event = function () {\n",
       "    // Tell IPython that the notebook contents must change.\n",
       "    IPython.notebook.set_dirty(true);\n",
       "    this.send_message('ack', {});\n",
       "    var fig = this;\n",
       "    // Wait a second, then push the new image to the DOM so\n",
       "    // that it is saved nicely (might be nice to debounce this).\n",
       "    setTimeout(function () {\n",
       "        fig.push_to_output();\n",
       "    }, 1000);\n",
       "};\n",
       "\n",
       "mpl.figure.prototype._init_toolbar = function () {\n",
       "    var fig = this;\n",
       "\n",
       "    var toolbar = document.createElement('div');\n",
       "    toolbar.classList = 'btn-toolbar';\n",
       "    this.root.appendChild(toolbar);\n",
       "\n",
       "    function on_click_closure(name) {\n",
       "        return function (_event) {\n",
       "            return fig.toolbar_button_onclick(name);\n",
       "        };\n",
       "    }\n",
       "\n",
       "    function on_mouseover_closure(tooltip) {\n",
       "        return function (event) {\n",
       "            if (!event.currentTarget.disabled) {\n",
       "                return fig.toolbar_button_onmouseover(tooltip);\n",
       "            }\n",
       "        };\n",
       "    }\n",
       "\n",
       "    fig.buttons = {};\n",
       "    var buttonGroup = document.createElement('div');\n",
       "    buttonGroup.classList = 'btn-group';\n",
       "    var button;\n",
       "    for (var toolbar_ind in mpl.toolbar_items) {\n",
       "        var name = mpl.toolbar_items[toolbar_ind][0];\n",
       "        var tooltip = mpl.toolbar_items[toolbar_ind][1];\n",
       "        var image = mpl.toolbar_items[toolbar_ind][2];\n",
       "        var method_name = mpl.toolbar_items[toolbar_ind][3];\n",
       "\n",
       "        if (!name) {\n",
       "            /* Instead of a spacer, we start a new button group. */\n",
       "            if (buttonGroup.hasChildNodes()) {\n",
       "                toolbar.appendChild(buttonGroup);\n",
       "            }\n",
       "            buttonGroup = document.createElement('div');\n",
       "            buttonGroup.classList = 'btn-group';\n",
       "            continue;\n",
       "        }\n",
       "\n",
       "        button = fig.buttons[name] = document.createElement('button');\n",
       "        button.classList = 'btn btn-default';\n",
       "        button.href = '#';\n",
       "        button.title = name;\n",
       "        button.innerHTML = '<i class=\"fa ' + image + ' fa-lg\"></i>';\n",
       "        button.addEventListener('click', on_click_closure(method_name));\n",
       "        button.addEventListener('mouseover', on_mouseover_closure(tooltip));\n",
       "        buttonGroup.appendChild(button);\n",
       "    }\n",
       "\n",
       "    if (buttonGroup.hasChildNodes()) {\n",
       "        toolbar.appendChild(buttonGroup);\n",
       "    }\n",
       "\n",
       "    // Add the status bar.\n",
       "    var status_bar = document.createElement('span');\n",
       "    status_bar.classList = 'mpl-message pull-right';\n",
       "    toolbar.appendChild(status_bar);\n",
       "    this.message = status_bar;\n",
       "\n",
       "    // Add the close button to the window.\n",
       "    var buttongrp = document.createElement('div');\n",
       "    buttongrp.classList = 'btn-group inline pull-right';\n",
       "    button = document.createElement('button');\n",
       "    button.classList = 'btn btn-mini btn-primary';\n",
       "    button.href = '#';\n",
       "    button.title = 'Stop Interaction';\n",
       "    button.innerHTML = '<i class=\"fa fa-power-off icon-remove icon-large\"></i>';\n",
       "    button.addEventListener('click', function (_evt) {\n",
       "        fig.handle_close(fig, {});\n",
       "    });\n",
       "    button.addEventListener(\n",
       "        'mouseover',\n",
       "        on_mouseover_closure('Stop Interaction')\n",
       "    );\n",
       "    buttongrp.appendChild(button);\n",
       "    var titlebar = this.root.querySelector('.ui-dialog-titlebar');\n",
       "    titlebar.insertBefore(buttongrp, titlebar.firstChild);\n",
       "};\n",
       "\n",
       "mpl.figure.prototype._remove_fig_handler = function (event) {\n",
       "    var fig = event.data.fig;\n",
       "    if (event.target !== this) {\n",
       "        // Ignore bubbled events from children.\n",
       "        return;\n",
       "    }\n",
       "    fig.close_ws(fig, {});\n",
       "};\n",
       "\n",
       "mpl.figure.prototype._root_extra_style = function (el) {\n",
       "    el.style.boxSizing = 'content-box'; // override notebook setting of border-box.\n",
       "};\n",
       "\n",
       "mpl.figure.prototype._canvas_extra_style = function (el) {\n",
       "    // this is important to make the div 'focusable\n",
       "    el.setAttribute('tabindex', 0);\n",
       "    // reach out to IPython and tell the keyboard manager to turn it's self\n",
       "    // off when our div gets focus\n",
       "\n",
       "    // location in version 3\n",
       "    if (IPython.notebook.keyboard_manager) {\n",
       "        IPython.notebook.keyboard_manager.register_events(el);\n",
       "    } else {\n",
       "        // location in version 2\n",
       "        IPython.keyboard_manager.register_events(el);\n",
       "    }\n",
       "};\n",
       "\n",
       "mpl.figure.prototype._key_event_extra = function (event, _name) {\n",
       "    // Check for shift+enter\n",
       "    if (event.shiftKey && event.which === 13) {\n",
       "        this.canvas_div.blur();\n",
       "        // select the cell after this one\n",
       "        var index = IPython.notebook.find_cell_index(this.cell_info[0]);\n",
       "        IPython.notebook.select(index + 1);\n",
       "    }\n",
       "};\n",
       "\n",
       "mpl.figure.prototype.handle_save = function (fig, _msg) {\n",
       "    fig.ondownload(fig, null);\n",
       "};\n",
       "\n",
       "mpl.find_output_cell = function (html_output) {\n",
       "    // Return the cell and output element which can be found *uniquely* in the notebook.\n",
       "    // Note - this is a bit hacky, but it is done because the \"notebook_saving.Notebook\"\n",
       "    // IPython event is triggered only after the cells have been serialised, which for\n",
       "    // our purposes (turning an active figure into a static one), is too late.\n",
       "    var cells = IPython.notebook.get_cells();\n",
       "    var ncells = cells.length;\n",
       "    for (var i = 0; i < ncells; i++) {\n",
       "        var cell = cells[i];\n",
       "        if (cell.cell_type === 'code') {\n",
       "            for (var j = 0; j < cell.output_area.outputs.length; j++) {\n",
       "                var data = cell.output_area.outputs[j];\n",
       "                if (data.data) {\n",
       "                    // IPython >= 3 moved mimebundle to data attribute of output\n",
       "                    data = data.data;\n",
       "                }\n",
       "                if (data['text/html'] === html_output) {\n",
       "                    return [cell, data, j];\n",
       "                }\n",
       "            }\n",
       "        }\n",
       "    }\n",
       "};\n",
       "\n",
       "// Register the function which deals with the matplotlib target/channel.\n",
       "// The kernel may be null if the page has been refreshed.\n",
       "if (IPython.notebook.kernel !== null) {\n",
       "    IPython.notebook.kernel.comm_manager.register_target(\n",
       "        'matplotlib',\n",
       "        mpl.mpl_figure_comm\n",
       "    );\n",
       "}\n"
      ],
      "text/plain": [
       "<IPython.core.display.Javascript object>"
      ]
     },
     "metadata": {},
     "output_type": "display_data"
    },
    {
     "data": {
      "text/html": [
       "<img src=\"data:image/png;base64,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\" width=\"937\">"
      ],
      "text/plain": [
       "<IPython.core.display.HTML object>"
      ]
     },
     "metadata": {},
     "output_type": "display_data"
    }
   ],
   "source": [
    "%matplotlib notebook\n",
    "from ipywidgets import interact\n",
    "\n",
    "\n",
    "def sort_on_x(x,y):\n",
    "    zipped = list(zip(x,y))\n",
    "    zipped.sort(key=lambda x:x[0])\n",
    "    x,y = list(zip(*zipped))\n",
    "    return np.array(x), np.array(y)\n",
    "\n",
    "\n",
    "# plt.rcParams['backend'] = 'TkAgg'\n",
    "\n",
    "periods = 1./frequencies\n",
    "amplitudes_ = amplitudes[ ((periods>0.9) & (periods<1.7))]\n",
    "periods_ = periods[ ((periods>0.9) & (periods<1.7))]\n",
    "\n",
    "periods_, amplitudes_ = sort_on_x(periods_, amplitudes_)\n",
    "\n",
    "\n",
    "fig,axes = plt.subplots(2,1,figsize=(6.6957*1.4,6.6957*0.7), num=5)\n",
    "\n",
    "for ii, per in enumerate(periods_):\n",
    "    axes[0].plot([per, per], [1., amplitudes_[ii]], color='black')\n",
    "\n",
    "axes[0].set_yscale('log')\n",
    "axes[0].set_xlim(0.9,1.6)\n",
    "axes[0].set_ylabel(r'${\\rm Amplitude~[ppm]}$',fontsize=14)\n",
    "axes[0].set_xlabel(r'${\\rm Period~[d]}$',fontsize=14)\n",
    "\n",
    "axes[1].set_xlabel(r'${\\rm Period~[d]}$',fontsize=15)\n",
    "axes[1].set_ylabel(r'${\\rm \\Delta P~[s]}$',fontsize=15)\n",
    "\n",
    "fig.tight_layout()\n",
    "\n",
    "selected_periods, selected_amplitudes, delta_p, p_ = [], [], [], []\n",
    "\n",
    "def onclick(event):\n",
    "\n",
    "    global selected_periods \n",
    "    global selected_amplitudes\n",
    "    if (event.button == 1):\n",
    "        x_ = event.xdata\n",
    "        y_ = event.ydata \n",
    "        dists = np.sqrt( (x_ - periods_)**2 )\n",
    "        idf = np.argmin( dists )\n",
    "        selected_periods.append(periods_[idf])\n",
    "        selected_amplitudes.append(amplitudes_[idf])\n",
    "     \n",
    "    if (event.button != 1):\n",
    "        xd = event.xdata\n",
    "        yd = event.ydata \n",
    "        dists = np.sqrt( (xd - selected_periods)**2 )\n",
    "        idr = np.argmin( dists )\n",
    "        del selected_periods[idr]\n",
    "        del selected_amplitudes[idr]\n",
    "    \n",
    "    for ii, per in enumerate(periods_):\n",
    "        axes[0].plot([per, per], [1., amplitudes_[ii]], color='black')\n",
    "    \n",
    "    for ii, sp in enumerate(selected_periods):\n",
    "        axes[0].plot([sp, sp], [1, selected_amplitudes[ii]], 'r-')\n",
    "\n",
    "    if len(selected_periods)>1:\n",
    "        global delta_p\n",
    "        delta_p = []\n",
    "        axes[1].clear()\n",
    "        for ii, pi in enumerate(sorted(selected_periods[1:])):\n",
    "            delta_p.append( 86400. * (pi - sorted(selected_periods)[ii] ) )\n",
    "        axes[1].plot( sorted(selected_periods)[:-1], delta_p, 'r-o')\n",
    "        axes[1].set_xlim(0.9, 1.6)\n",
    "    \n",
    "    fig.canvas.draw_idle()\n",
    "    \n",
    "# Create an hard reference to the callback not to be cleared by the garbage collector\n",
    "ka = fig.canvas.mpl_connect('button_press_event', onclick)"
   ]
  },
  {
   "cell_type": "code",
   "execution_count": 133,
   "id": "16851df8",
   "metadata": {},
   "outputs": [
    {
     "data": {
      "text/plain": [
       "[0.9816878216709778,\n",
       " 1.007868564938503,\n",
       " 1.0332144776741674,\n",
       " 1.054176531583098,\n",
       " 1.0731658069088497,\n",
       " 1.094831732309381,\n",
       " 1.1175096122864707,\n",
       " 1.1399828631525313,\n",
       " 1.158906645628251,\n",
       " 1.175617436072121,\n",
       " 1.1933455205783132]"
      ]
     },
     "execution_count": 133,
     "metadata": {},
     "output_type": "execute_result"
    }
   ],
   "source": [
    "selected_periods"
   ]
  },
  {
   "cell_type": "code",
   "execution_count": null,
   "id": "bf9550ed",
   "metadata": {},
   "outputs": [],
   "source": []
  },
  {
   "cell_type": "code",
   "execution_count": null,
   "id": "18fdf53b",
   "metadata": {},
   "outputs": [],
   "source": []
  }
 ],
 "metadata": {
  "kernelspec": {
   "display_name": "Python 3 (ipykernel)",
   "language": "python",
   "name": "python3"
  },
  "language_info": {
   "codemirror_mode": {
    "name": "ipython",
    "version": 3
   },
   "file_extension": ".py",
   "mimetype": "text/x-python",
   "name": "python",
   "nbconvert_exporter": "python",
   "pygments_lexer": "ipython3",
   "version": "3.9.9"
  }
 },
 "nbformat": 4,
 "nbformat_minor": 5
}
