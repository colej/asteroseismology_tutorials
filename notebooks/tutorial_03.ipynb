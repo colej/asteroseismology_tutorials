{
 "cells": [
  {
   "cell_type": "markdown",
   "id": "18312695",
   "metadata": {},
   "source": [
    "## Iterative pre-whitening examples\n",
    "### KIC 7760680\n",
    "\n",
    "In this notebook, we'll run the full Iterative pre-whitening (IPW) analysis of the Slowly Puslating B-type stars KIC 7760680 and then do some asteroseismolog with the results.\n",
    "\n",
    "We'll just load up the data, and start the IPW, using a running window of $2~{\\rm d^{-1}}$, and we'll extract the frequencies in order of highest SNR.\n",
    "\n",
    "For this notebook, you'll need to download: [kic7760680_lc.dat](https://iacerasmus.github.io/ERASMUS2022/data/kic7760680_lc.dat)"
   ]
  },
  {
   "cell_type": "code",
   "execution_count": null,
   "id": "f98ba9c8",
   "metadata": {},
   "outputs": [],
   "source": [
    "%matplotlib notebook\n",
    "\n",
    "import numpy as np\n",
    "import matplotlib.pyplot as plt\n",
    "\n",
    "from pythia.utils.resampling import run_mean_smooth\n",
    "from pythia.timeseries.lombscargle import LS_periodogram\n",
    "from pythia.timeseries.iterative_prewhitening import run_ipw\n",
    "\n",
    "import matplotlib\n",
    "matplotlib.use('nbagg')\n",
    "\n",
    "plt.rcParams.update({\n",
    "    \"text.usetex\": True,\n",
    "        \"font.family\": \"sans-serif\",\n",
    "    \"font.sans-serif\": [\"Helvetica\"]})\n",
    "plt.rcParams.update({\n",
    "    \"pgf.rcfonts\": False,\n",
    "    \"pgf.texsystem\": \"pdflatex\",\n",
    "    \"pgf.preamble\": \"\\n\".join([\n",
    "         r\"\\usepackage{amsmath}\",\n",
    "         r\"\\usepackage[utf8x]{inputenc}\",\n",
    "         r\"\\usepackage[T1]{fontenc}\",\n",
    "         r\"\\usepackage{cmbright}\",\n",
    "    ]),\n",
    "})\n",
    "\n",
    "plt.rcParams['xtick.labelsize']=18\n",
    "plt.rcParams['ytick.labelsize']=18"
   ]
  },
  {
   "cell_type": "code",
   "execution_count": null,
   "id": "f0c2ad1e",
   "metadata": {},
   "outputs": [],
   "source": [
    "times, flux = np.loadtxt('../data/kic7760680_lc.dat').T\n",
    "\n",
    "fig, ax = plt.subplots(1,1,figsize=(6.69,6.69),num=1)\n",
    "ax.plot(times, flux, 'k,')\n",
    "ax.set_xlabel(r'${\\rm BJD-2454800}$',fontsize=18)\n",
    "ax.set_ylabel(r'${\\rm Flux~[ppm]}$',fontsize=18)\n",
    "fig.tight_layout()\n"
   ]
  },
  {
   "cell_type": "code",
   "execution_count": null,
   "id": "c5333c69",
   "metadata": {},
   "outputs": [],
   "source": [
    "nu, amp = LS_periodogram(times,flux-np.mean(flux))"
   ]
  },
  {
   "cell_type": "code",
   "execution_count": null,
   "id": "d594ca3b",
   "metadata": {},
   "outputs": [],
   "source": [
    "fig,ax = plt.subplots(1,1,figsize=(6.6957,6.6957),num=2)\n",
    "ax.plot(nu,amp,'k-')\n",
    "ax.set_xlabel(r'$\\nu\\,\\,{\\rm [d^{-1}]}$',fontsize=14)\n",
    "ax.set_ylabel(r'${\\rm Amplitude\\,\\,[ppm]}$',fontsize=14)\n",
    "ax.set_xlim(0.,2)\n",
    "fig.tight_layout()"
   ]
  },
  {
   "cell_type": "markdown",
   "id": "6d36848d",
   "metadata": {},
   "source": [
    "As we can see from the light curve, there's a lot of beating going on. Seeing this, we know to expect at least a few closely separated frequencies!"
   ]
  },
  {
   "cell_type": "markdown",
   "id": "bb7128b6",
   "metadata": {},
   "source": [
    "## If you want to run this yourself, please uncomment this and have a fun time waiting (~10-15 minutes)"
   ]
  },
  {
   "cell_type": "code",
   "execution_count": null,
   "id": "6a785013",
   "metadata": {
    "scrolled": true
   },
   "outputs": [],
   "source": [
    "# yerr = 800* np.ones_like(times)\n",
    "# residuals, model, offsets, \\\n",
    "# frequencies, amplitudes, \\\n",
    "# phases, stop_criteria, noise_level = run_ipw(times,flux-np.mean(flux), yerr, snr_stop_criteria=5.6, max=2.,\n",
    "#                                              order_by_snr=True, use_snr_window=True, snr_window=1.,maxiter=50)\n",
    "\n",
    "\n",
    "# print('The IPW analysis has found {:d} significant frequencies'.format(len(frequencies)))\n",
    "# np.savetxt('../data/kic7760680_ipw.dat', np.array([offsets, amplitudes, frequencies, phases, stop_criteria]).T)"
   ]
  },
  {
   "cell_type": "markdown",
   "id": "30a1e7e7",
   "metadata": {},
   "source": [
    "Otherwise, please feel free to simply load the frequencies from below and continue on!"
   ]
  },
  {
   "cell_type": "markdown",
   "id": "e8299942",
   "metadata": {},
   "source": [
    "Now that it's run, let's take a look at the model, the residual signal, and the frequencies that we found."
   ]
  },
  {
   "cell_type": "code",
   "execution_count": null,
   "id": "93dc40b3",
   "metadata": {},
   "outputs": [],
   "source": [
    "offsets, amplitudes, frequencies, phases, stop_criteria = np.loadtxt('../data/kic7760680_ipw.dat').T"
   ]
  },
  {
   "cell_type": "code",
   "execution_count": null,
   "id": "e30e4ad0",
   "metadata": {},
   "outputs": [],
   "source": [
    "print(' C + A*sin( 2*pi*f*(t-t0)+phi )')\n",
    "t0 = np.mean(times)\n",
    "sine_ = np.zeros_like(times)\n",
    "outstr = '{} -- C: {:.6f} -- A: {:.6f} -- f: {:.6f} -- phi: {:.6f} -- SNR: {:.6f}'\n",
    "for ii,freq in enumerate(frequencies):\n",
    "    print(outstr.format(ii, offsets[ii], amplitudes[ii], freq, phases[ii],stop_criteria[ii]))\n",
    "    sine = offsets[ii] + amplitudes[ii] * np.sin(2.*np.pi*freq*(times-t0)+phases[ii])\n",
    "    sine_ += sine\n",
    "residuals = flux-sine_"
   ]
  },
  {
   "cell_type": "code",
   "execution_count": null,
   "id": "2fb82b3d",
   "metadata": {},
   "outputs": [],
   "source": [
    "nu_, amp_ = LS_periodogram(times, residuals)\n",
    "fig,ax = plt.subplots(1,1,figsize=(6.6957,6.6957), num=3)\n",
    "\n",
    "#     ax.axvline(freq, linestyle='--',color='red',alpha=0.4)\n",
    "#     ax.axhline(amplitudes[ii], linestyle='--',color='red',alpha=0.4)\n",
    "\n",
    "ax.plot(nu, amp,'-',color='grey')\n",
    "ax.plot(nu_,amp_,'k-')\n",
    "ax.set_xlabel(r'$\\nu\\,\\,{\\rm [d^{-1}]}$',fontsize=18)\n",
    "ax.set_ylabel(r'${\\rm Amplitude\\,\\,[ppm]}$',fontsize=18)\n",
    "ax.set_xlim(0., 4)\n",
    "ax.set_ylim(0., 3400)\n",
    "fig.tight_layout()"
   ]
  },
  {
   "cell_type": "markdown",
   "id": "19856359",
   "metadata": {},
   "source": [
    "You might notice that we extracted 50 significant frequenices, but that we were still at an SNR~10.\n",
    "We certainly could have continued, but for the sake of the example, let's stop here. \n",
    "\n",
    "Clearly, there's a lot of sifnificant signal left, but let's see what we can do with what we've found."
   ]
  },
  {
   "cell_type": "code",
   "execution_count": null,
   "id": "e9fb74d1",
   "metadata": {},
   "outputs": [],
   "source": [
    "fig,ax = plt.subplots(1,1,figsize=(6.6957,6.6957), num=4)\n",
    "for ii, freq_ in enumerate(frequencies):\n",
    "    ax.plot([1./freq_,1./freq_], [1, amplitudes[ii]], color='black')\n",
    "\n",
    "ax.set_yscale('log')\n",
    "ax.set_xlim(0.8,1.6)\n",
    "ax.set_ylabel(r'${\\rm Amplitude~[ppm]}$',fontsize=14)\n",
    "ax.set_xlabel(r'${\\rm Period~[d]}$',fontsize=14)\n"
   ]
  },
  {
   "cell_type": "markdown",
   "id": "fa9cb122",
   "metadata": {},
   "source": [
    "According to asymptotic theory, we know that g-mode pulsations of constant ${(\\ell, m)}$ and successive $n$ are expected to have an equidistant spacing in __period__.\n",
    "\n",
    "However, effects like rotation and the presence of a chemical gradient can perturb g modes from having a constant period spacing."
   ]
  },
  {
   "cell_type": "code",
   "execution_count": null,
   "id": "aba18f4c",
   "metadata": {},
   "outputs": [],
   "source": [
    "%matplotlib notebook\n",
    "from ipywidgets import interact\n",
    "\n",
    "\n",
    "def sort_on_x(x,y):\n",
    "    zipped = list(zip(x,y))\n",
    "    zipped.sort(key=lambda x:x[0])\n",
    "    x,y = list(zip(*zipped))\n",
    "    return np.array(x), np.array(y)\n",
    "\n",
    "\n",
    "# plt.rcParams['backend'] = 'TkAgg'\n",
    "\n",
    "periods = 1./frequencies\n",
    "amplitudes_ = amplitudes[ ((periods>0.9) & (periods<1.7))]\n",
    "periods_ = periods[ ((periods>0.9) & (periods<1.7))]\n",
    "\n",
    "periods_, amplitudes_ = sort_on_x(periods_, amplitudes_)\n",
    "\n",
    "\n",
    "fig,axes = plt.subplots(2,1,figsize=(6.6957*1.4,6.6957*0.7), num=5)\n",
    "\n",
    "for ii, per in enumerate(periods_):\n",
    "    axes[0].plot([per, per], [1., amplitudes_[ii]], color='black')\n",
    "\n",
    "axes[0].set_yscale('log')\n",
    "axes[0].set_xlim(0.9,1.6)\n",
    "axes[0].set_ylabel(r'${\\rm Amplitude~[ppm]}$',fontsize=14)\n",
    "axes[0].set_xlabel(r'${\\rm Period~[d]}$',fontsize=14)\n",
    "\n",
    "axes[1].set_xlabel(r'${\\rm Period~[d]}$',fontsize=15)\n",
    "axes[1].set_ylabel(r'${\\rm \\Delta P~[s]}$',fontsize=15)\n",
    "\n",
    "fig.tight_layout()\n",
    "\n",
    "selected_periods, selected_amplitudes, delta_p, p_ = [], [], [], []\n",
    "\n",
    "def onclick(event):\n",
    "\n",
    "    global selected_periods \n",
    "    global selected_amplitudes\n",
    "    if (event.button == 1):\n",
    "        x_ = event.xdata\n",
    "        y_ = event.ydata \n",
    "        dists = np.sqrt( (x_ - periods_)**2 )\n",
    "        idf = np.argmin( dists )\n",
    "        selected_periods.append(periods_[idf])\n",
    "        selected_amplitudes.append(amplitudes_[idf])\n",
    "     \n",
    "    if (event.button != 1):\n",
    "        xd = event.xdata\n",
    "        yd = event.ydata \n",
    "        dists = np.sqrt( (xd - selected_periods)**2 )\n",
    "        idr = np.argmin( dists )\n",
    "        del selected_periods[idr]\n",
    "        del selected_amplitudes[idr]\n",
    "    \n",
    "    for ii, per in enumerate(periods_):\n",
    "        axes[0].plot([per, per], [1., amplitudes_[ii]], color='black')\n",
    "    \n",
    "    for ii, sp in enumerate(selected_periods):\n",
    "        axes[0].plot([sp, sp], [1, selected_amplitudes[ii]], 'r-')\n",
    "\n",
    "    if len(selected_periods)>1:\n",
    "        global delta_p\n",
    "        delta_p = []\n",
    "        axes[1].clear()\n",
    "        for ii, pi in enumerate(sorted(selected_periods[1:])):\n",
    "            delta_p.append( 86400. * (pi - sorted(selected_periods)[ii] ) )\n",
    "        axes[1].plot( sorted(selected_periods)[:-1], delta_p, 'r-o')\n",
    "        axes[1].set_xlim(0.9, 1.6)\n",
    "    \n",
    "    fig.canvas.draw_idle()\n",
    "    \n",
    "# Create an hard reference to the callback not to be cleared by the garbage collector\n",
    "ka = fig.canvas.mpl_connect('button_press_event', onclick)"
   ]
  },
  {
   "cell_type": "code",
   "execution_count": null,
   "id": "16851df8",
   "metadata": {},
   "outputs": [],
   "source": []
  },
  {
   "cell_type": "code",
   "execution_count": null,
   "id": "bf9550ed",
   "metadata": {},
   "outputs": [],
   "source": []
  },
  {
   "cell_type": "code",
   "execution_count": null,
   "id": "18fdf53b",
   "metadata": {},
   "outputs": [],
   "source": []
  }
 ],
 "metadata": {
  "kernelspec": {
   "display_name": "Python 3 (ipykernel)",
   "language": "python",
   "name": "python3"
  },
  "language_info": {
   "codemirror_mode": {
    "name": "ipython",
    "version": 3
   },
   "file_extension": ".py",
   "mimetype": "text/x-python",
   "name": "python",
   "nbconvert_exporter": "python",
   "pygments_lexer": "ipython3",
   "version": "3.11.0"
  }
 },
 "nbformat": 4,
 "nbformat_minor": 5
}
